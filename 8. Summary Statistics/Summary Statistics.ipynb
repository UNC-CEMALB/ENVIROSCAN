{
 "cells": [
  {
   "cell_type": "code",
   "execution_count": 1,
   "id": "3e9fca02",
   "metadata": {},
   "outputs": [
    {
     "name": "stderr",
     "output_type": "stream",
     "text": [
      "── \u001b[1mAttaching packages\u001b[22m ─────────────────────────────────────── tidyverse 1.3.2 ──\n",
      "\u001b[32m✔\u001b[39m \u001b[34mggplot2\u001b[39m 3.4.0      \u001b[32m✔\u001b[39m \u001b[34mpurrr  \u001b[39m 0.3.4 \n",
      "\u001b[32m✔\u001b[39m \u001b[34mtibble \u001b[39m 3.1.8      \u001b[32m✔\u001b[39m \u001b[34mdplyr  \u001b[39m 1.0.10\n",
      "\u001b[32m✔\u001b[39m \u001b[34mtidyr  \u001b[39m 1.2.1      \u001b[32m✔\u001b[39m \u001b[34mstringr\u001b[39m 1.4.1 \n",
      "\u001b[32m✔\u001b[39m \u001b[34mreadr  \u001b[39m 2.1.2      \u001b[32m✔\u001b[39m \u001b[34mforcats\u001b[39m 0.5.2 \n",
      "── \u001b[1mConflicts\u001b[22m ────────────────────────────────────────── tidyverse_conflicts() ──\n",
      "\u001b[31m✖\u001b[39m \u001b[34mdplyr\u001b[39m::\u001b[32mfilter()\u001b[39m masks \u001b[34mstats\u001b[39m::filter()\n",
      "\u001b[31m✖\u001b[39m \u001b[34mdplyr\u001b[39m::\u001b[32mlag()\u001b[39m    masks \u001b[34mstats\u001b[39m::lag()\n",
      "\n",
      "Attaching package: ‘reshape2’\n",
      "\n",
      "\n",
      "The following object is masked from ‘package:tidyr’:\n",
      "\n",
      "    smiths\n",
      "\n",
      "\n",
      "Welcome! Want to learn more? See two factoextra-related books at https://goo.gl/ve3WBa\n",
      "\n"
     ]
    }
   ],
   "source": [
    "setwd('/Users/alexis/Library/CloudStorage/OneDrive-UniversityofNorthCarolinaatChapelHill/CEMALB_DataAnalysisPM/Projects/P1009. NC ENVRIOSCAN/P1009.3. Analyses/P1009.3.9. Summary Statistics')\n",
    "Output = ('/Users/alexis/Library/CloudStorage/OneDrive-UniversityofNorthCarolinaatChapelHill/CEMALB_DataAnalysisPM/Projects/P1009. NC ENVRIOSCAN/P1009.3. Analyses/P1009.3.9. Summary Statistics/Output')\n",
    "cur_date = \"051223\"\n",
    "\n",
    "library(readxl)\n",
    "library(openxlsx)\n",
    "library(tidyverse)\n",
    "library(reshape2)\n",
    "library(factoextra)\n",
    "\n",
    "# reading in files\n",
    "acs_df = data.frame(read_excel(\"Input/Imputed_ACS_Data_030923.xlsx\"))\n",
    "housing_df = data.frame(read_excel(\"Input/Imputed_Housing_Data_030923.xlsx\"))"
   ]
  },
  {
   "cell_type": "code",
   "execution_count": 2,
   "id": "111202ee",
   "metadata": {},
   "outputs": [
    {
     "data": {
      "text/html": [
       "<table class=\"dataframe\">\n",
       "<caption>A data.frame: 6 × 45</caption>\n",
       "<thead>\n",
       "\t<tr><th></th><th scope=col>GEO_ID</th><th scope=col>Census_Tract</th><th scope=col>County</th><th scope=col>Sex_Ratio</th><th scope=col>Median_Age</th><th scope=col>Population_Under_5</th><th scope=col>Population_Under_18</th><th scope=col>Population_Over_18</th><th scope=col>Population_Over_65</th><th scope=col>Race_White</th><th scope=col>⋯</th><th scope=col>Some_College</th><th scope=col>College_Education</th><th scope=col>Employed</th><th scope=col>Unemployed</th><th scope=col>Employed_Male</th><th scope=col>Employed_Female</th><th scope=col>Full_Time_Work</th><th scope=col>Part_Time_Work</th><th scope=col>No_Work</th><th scope=col>Average_Income_Deficit</th></tr>\n",
       "\t<tr><th></th><th scope=col>&lt;chr&gt;</th><th scope=col>&lt;dbl&gt;</th><th scope=col>&lt;chr&gt;</th><th scope=col>&lt;dbl&gt;</th><th scope=col>&lt;dbl&gt;</th><th scope=col>&lt;dbl&gt;</th><th scope=col>&lt;dbl&gt;</th><th scope=col>&lt;dbl&gt;</th><th scope=col>&lt;dbl&gt;</th><th scope=col>&lt;dbl&gt;</th><th scope=col>⋯</th><th scope=col>&lt;dbl&gt;</th><th scope=col>&lt;dbl&gt;</th><th scope=col>&lt;dbl&gt;</th><th scope=col>&lt;dbl&gt;</th><th scope=col>&lt;dbl&gt;</th><th scope=col>&lt;dbl&gt;</th><th scope=col>&lt;dbl&gt;</th><th scope=col>&lt;dbl&gt;</th><th scope=col>&lt;dbl&gt;</th><th scope=col>&lt;dbl&gt;</th></tr>\n",
       "</thead>\n",
       "<tbody>\n",
       "\t<tr><th scope=row>1</th><td>14000US37001020100</td><td>201.00</td><td>Alamance</td><td>87.2</td><td>37.3</td><td>9.5</td><td>21.9</td><td>78.1</td><td>15.1</td><td>61.0</td><td>⋯</td><td>21.1</td><td> 0.9</td><td>91.61621</td><td> 8.383791</td><td>94.24951</td><td>89.20607</td><td>43.04307</td><td>21.93988</td><td>35.01704</td><td>5016</td></tr>\n",
       "\t<tr><th scope=row>2</th><td>14000US37001020200</td><td>202.00</td><td>Alamance</td><td>78.3</td><td>31.0</td><td>7.1</td><td>29.1</td><td>70.9</td><td>11.2</td><td>51.9</td><td>⋯</td><td>18.9</td><td>12.4</td><td>89.54774</td><td>10.452261</td><td>86.97436</td><td>92.01970</td><td>39.42970</td><td>23.56604</td><td>37.00426</td><td>4007</td></tr>\n",
       "\t<tr><th scope=row>3</th><td>14000US37001020300</td><td>203.00</td><td>Alamance</td><td>77.8</td><td>40.7</td><td>7.3</td><td>27.1</td><td>72.9</td><td>18.9</td><td>45.2</td><td>⋯</td><td>22.6</td><td> 4.6</td><td>93.78094</td><td> 6.219059</td><td>92.69841</td><td>94.80990</td><td>41.09615</td><td>18.98616</td><td>39.91770</td><td>5370</td></tr>\n",
       "\t<tr><th scope=row>4</th><td>14000US37001020400</td><td>204.00</td><td>Alamance</td><td>78.1</td><td>30.5</td><td>8.9</td><td>31.4</td><td>68.6</td><td>10.1</td><td>19.6</td><td>⋯</td><td>16.3</td><td> 5.4</td><td>91.69985</td><td> 8.300153</td><td>93.36493</td><td>90.64532</td><td>37.55153</td><td>28.40066</td><td>34.04782</td><td>7148</td></tr>\n",
       "\t<tr><th scope=row>5</th><td>14000US37001020501</td><td>205.01</td><td>Alamance</td><td>92.7</td><td>35.1</td><td>5.5</td><td>23.3</td><td>76.7</td><td>15.6</td><td>76.1</td><td>⋯</td><td> 3.5</td><td> 1.5</td><td>91.14707</td><td> 8.852927</td><td>96.10136</td><td>86.41860</td><td>45.86115</td><td>25.56742</td><td>28.57143</td><td>7403</td></tr>\n",
       "\t<tr><th scope=row>6</th><td>14000US37001020502</td><td>205.02</td><td>Alamance</td><td>99.0</td><td>32.1</td><td>9.8</td><td>30.0</td><td>70.0</td><td> 8.9</td><td>40.7</td><td>⋯</td><td>10.8</td><td> 5.2</td><td>89.44282</td><td>10.557185</td><td>89.64942</td><td>89.15094</td><td>43.57167</td><td>22.82645</td><td>33.60188</td><td>5412</td></tr>\n",
       "</tbody>\n",
       "</table>\n"
      ],
      "text/latex": [
       "A data.frame: 6 × 45\n",
       "\\begin{tabular}{r|lllllllllllllllllllll}\n",
       "  & GEO\\_ID & Census\\_Tract & County & Sex\\_Ratio & Median\\_Age & Population\\_Under\\_5 & Population\\_Under\\_18 & Population\\_Over\\_18 & Population\\_Over\\_65 & Race\\_White & ⋯ & Some\\_College & College\\_Education & Employed & Unemployed & Employed\\_Male & Employed\\_Female & Full\\_Time\\_Work & Part\\_Time\\_Work & No\\_Work & Average\\_Income\\_Deficit\\\\\n",
       "  & <chr> & <dbl> & <chr> & <dbl> & <dbl> & <dbl> & <dbl> & <dbl> & <dbl> & <dbl> & ⋯ & <dbl> & <dbl> & <dbl> & <dbl> & <dbl> & <dbl> & <dbl> & <dbl> & <dbl> & <dbl>\\\\\n",
       "\\hline\n",
       "\t1 & 14000US37001020100 & 201.00 & Alamance & 87.2 & 37.3 & 9.5 & 21.9 & 78.1 & 15.1 & 61.0 & ⋯ & 21.1 &  0.9 & 91.61621 &  8.383791 & 94.24951 & 89.20607 & 43.04307 & 21.93988 & 35.01704 & 5016\\\\\n",
       "\t2 & 14000US37001020200 & 202.00 & Alamance & 78.3 & 31.0 & 7.1 & 29.1 & 70.9 & 11.2 & 51.9 & ⋯ & 18.9 & 12.4 & 89.54774 & 10.452261 & 86.97436 & 92.01970 & 39.42970 & 23.56604 & 37.00426 & 4007\\\\\n",
       "\t3 & 14000US37001020300 & 203.00 & Alamance & 77.8 & 40.7 & 7.3 & 27.1 & 72.9 & 18.9 & 45.2 & ⋯ & 22.6 &  4.6 & 93.78094 &  6.219059 & 92.69841 & 94.80990 & 41.09615 & 18.98616 & 39.91770 & 5370\\\\\n",
       "\t4 & 14000US37001020400 & 204.00 & Alamance & 78.1 & 30.5 & 8.9 & 31.4 & 68.6 & 10.1 & 19.6 & ⋯ & 16.3 &  5.4 & 91.69985 &  8.300153 & 93.36493 & 90.64532 & 37.55153 & 28.40066 & 34.04782 & 7148\\\\\n",
       "\t5 & 14000US37001020501 & 205.01 & Alamance & 92.7 & 35.1 & 5.5 & 23.3 & 76.7 & 15.6 & 76.1 & ⋯ &  3.5 &  1.5 & 91.14707 &  8.852927 & 96.10136 & 86.41860 & 45.86115 & 25.56742 & 28.57143 & 7403\\\\\n",
       "\t6 & 14000US37001020502 & 205.02 & Alamance & 99.0 & 32.1 & 9.8 & 30.0 & 70.0 &  8.9 & 40.7 & ⋯ & 10.8 &  5.2 & 89.44282 & 10.557185 & 89.64942 & 89.15094 & 43.57167 & 22.82645 & 33.60188 & 5412\\\\\n",
       "\\end{tabular}\n"
      ],
      "text/markdown": [
       "\n",
       "A data.frame: 6 × 45\n",
       "\n",
       "| <!--/--> | GEO_ID &lt;chr&gt; | Census_Tract &lt;dbl&gt; | County &lt;chr&gt; | Sex_Ratio &lt;dbl&gt; | Median_Age &lt;dbl&gt; | Population_Under_5 &lt;dbl&gt; | Population_Under_18 &lt;dbl&gt; | Population_Over_18 &lt;dbl&gt; | Population_Over_65 &lt;dbl&gt; | Race_White &lt;dbl&gt; | ⋯ ⋯ | Some_College &lt;dbl&gt; | College_Education &lt;dbl&gt; | Employed &lt;dbl&gt; | Unemployed &lt;dbl&gt; | Employed_Male &lt;dbl&gt; | Employed_Female &lt;dbl&gt; | Full_Time_Work &lt;dbl&gt; | Part_Time_Work &lt;dbl&gt; | No_Work &lt;dbl&gt; | Average_Income_Deficit &lt;dbl&gt; |\n",
       "|---|---|---|---|---|---|---|---|---|---|---|---|---|---|---|---|---|---|---|---|---|---|\n",
       "| 1 | 14000US37001020100 | 201.00 | Alamance | 87.2 | 37.3 | 9.5 | 21.9 | 78.1 | 15.1 | 61.0 | ⋯ | 21.1 |  0.9 | 91.61621 |  8.383791 | 94.24951 | 89.20607 | 43.04307 | 21.93988 | 35.01704 | 5016 |\n",
       "| 2 | 14000US37001020200 | 202.00 | Alamance | 78.3 | 31.0 | 7.1 | 29.1 | 70.9 | 11.2 | 51.9 | ⋯ | 18.9 | 12.4 | 89.54774 | 10.452261 | 86.97436 | 92.01970 | 39.42970 | 23.56604 | 37.00426 | 4007 |\n",
       "| 3 | 14000US37001020300 | 203.00 | Alamance | 77.8 | 40.7 | 7.3 | 27.1 | 72.9 | 18.9 | 45.2 | ⋯ | 22.6 |  4.6 | 93.78094 |  6.219059 | 92.69841 | 94.80990 | 41.09615 | 18.98616 | 39.91770 | 5370 |\n",
       "| 4 | 14000US37001020400 | 204.00 | Alamance | 78.1 | 30.5 | 8.9 | 31.4 | 68.6 | 10.1 | 19.6 | ⋯ | 16.3 |  5.4 | 91.69985 |  8.300153 | 93.36493 | 90.64532 | 37.55153 | 28.40066 | 34.04782 | 7148 |\n",
       "| 5 | 14000US37001020501 | 205.01 | Alamance | 92.7 | 35.1 | 5.5 | 23.3 | 76.7 | 15.6 | 76.1 | ⋯ |  3.5 |  1.5 | 91.14707 |  8.852927 | 96.10136 | 86.41860 | 45.86115 | 25.56742 | 28.57143 | 7403 |\n",
       "| 6 | 14000US37001020502 | 205.02 | Alamance | 99.0 | 32.1 | 9.8 | 30.0 | 70.0 |  8.9 | 40.7 | ⋯ | 10.8 |  5.2 | 89.44282 | 10.557185 | 89.64942 | 89.15094 | 43.57167 | 22.82645 | 33.60188 | 5412 |\n",
       "\n"
      ],
      "text/plain": [
       "  GEO_ID             Census_Tract County   Sex_Ratio Median_Age\n",
       "1 14000US37001020100 201.00       Alamance 87.2      37.3      \n",
       "2 14000US37001020200 202.00       Alamance 78.3      31.0      \n",
       "3 14000US37001020300 203.00       Alamance 77.8      40.7      \n",
       "4 14000US37001020400 204.00       Alamance 78.1      30.5      \n",
       "5 14000US37001020501 205.01       Alamance 92.7      35.1      \n",
       "6 14000US37001020502 205.02       Alamance 99.0      32.1      \n",
       "  Population_Under_5 Population_Under_18 Population_Over_18 Population_Over_65\n",
       "1 9.5                21.9                78.1               15.1              \n",
       "2 7.1                29.1                70.9               11.2              \n",
       "3 7.3                27.1                72.9               18.9              \n",
       "4 8.9                31.4                68.6               10.1              \n",
       "5 5.5                23.3                76.7               15.6              \n",
       "6 9.8                30.0                70.0                8.9              \n",
       "  Race_White ⋯ Some_College College_Education Employed Unemployed Employed_Male\n",
       "1 61.0       ⋯ 21.1          0.9              91.61621  8.383791  94.24951     \n",
       "2 51.9       ⋯ 18.9         12.4              89.54774 10.452261  86.97436     \n",
       "3 45.2       ⋯ 22.6          4.6              93.78094  6.219059  92.69841     \n",
       "4 19.6       ⋯ 16.3          5.4              91.69985  8.300153  93.36493     \n",
       "5 76.1       ⋯  3.5          1.5              91.14707  8.852927  96.10136     \n",
       "6 40.7       ⋯ 10.8          5.2              89.44282 10.557185  89.64942     \n",
       "  Employed_Female Full_Time_Work Part_Time_Work No_Work  Average_Income_Deficit\n",
       "1 89.20607        43.04307       21.93988       35.01704 5016                  \n",
       "2 92.01970        39.42970       23.56604       37.00426 4007                  \n",
       "3 94.80990        41.09615       18.98616       39.91770 5370                  \n",
       "4 90.64532        37.55153       28.40066       34.04782 7148                  \n",
       "5 86.41860        45.86115       25.56742       28.57143 7403                  \n",
       "6 89.15094        43.57167       22.82645       33.60188 5412                  "
      ]
     },
     "metadata": {},
     "output_type": "display_data"
    },
    {
     "data": {
      "text/html": [
       "<table class=\"dataframe\">\n",
       "<caption>A data.frame: 6 × 12</caption>\n",
       "<thead>\n",
       "\t<tr><th></th><th scope=col>GEO_ID</th><th scope=col>Census_Tract</th><th scope=col>County</th><th scope=col>Total_Housing_Units</th><th scope=col>Housing_Density</th><th scope=col>Total_Occupied_Housing_Units</th><th scope=col>Total_Owner_Occupied_Housing_Units</th><th scope=col>Median_Year_Structure_Built</th><th scope=col>Owner_Occupied_Housing_Units_Less_than_HPI</th><th scope=col>Median_House_Value</th><th scope=col>Median_Gross_Rent</th><th scope=col>Median_Gross_Rent_Percentage_of_Household_Income</th></tr>\n",
       "\t<tr><th></th><th scope=col>&lt;chr&gt;</th><th scope=col>&lt;dbl&gt;</th><th scope=col>&lt;chr&gt;</th><th scope=col>&lt;dbl&gt;</th><th scope=col>&lt;dbl&gt;</th><th scope=col>&lt;dbl&gt;</th><th scope=col>&lt;dbl&gt;</th><th scope=col>&lt;dbl&gt;</th><th scope=col>&lt;dbl&gt;</th><th scope=col>&lt;dbl&gt;</th><th scope=col>&lt;dbl&gt;</th><th scope=col>&lt;dbl&gt;</th></tr>\n",
       "</thead>\n",
       "<tbody>\n",
       "\t<tr><th scope=row>1</th><td>14000US37001020100</td><td>201.00</td><td>Alamance</td><td>2006</td><td> 31.54848</td><td>1757</td><td> 851</td><td>1949</td><td> 824</td><td>149600</td><td>614</td><td>27.9</td></tr>\n",
       "\t<tr><th scope=row>2</th><td>14000US37001020200</td><td>202.00</td><td>Alamance</td><td>1943</td><td> 26.03618</td><td>1675</td><td> 881</td><td>1961</td><td> 881</td><td> 83400</td><td>609</td><td>31.5</td></tr>\n",
       "\t<tr><th scope=row>3</th><td>14000US37001020300</td><td>203.00</td><td>Alamance</td><td>3254</td><td> 71.60011</td><td>2930</td><td>2015</td><td>1971</td><td>1980</td><td> 91500</td><td>763</td><td>37.7</td></tr>\n",
       "\t<tr><th scope=row>4</th><td>14000US37001020400</td><td>204.00</td><td>Alamance</td><td>2590</td><td> 53.47674</td><td>2327</td><td>1510</td><td>1974</td><td>1487</td><td> 96900</td><td>659</td><td>34.3</td></tr>\n",
       "\t<tr><th scope=row>5</th><td>14000US37001020501</td><td>205.01</td><td>Alamance</td><td>1435</td><td>122.03583</td><td>1280</td><td> 990</td><td>1973</td><td> 932</td><td>137400</td><td>584</td><td>46.7</td></tr>\n",
       "\t<tr><th scope=row>6</th><td>14000US37001020502</td><td>205.02</td><td>Alamance</td><td>1484</td><td>471.34609</td><td>1275</td><td> 666</td><td>1980</td><td> 666</td><td> 73500</td><td>672</td><td>35.9</td></tr>\n",
       "</tbody>\n",
       "</table>\n"
      ],
      "text/latex": [
       "A data.frame: 6 × 12\n",
       "\\begin{tabular}{r|llllllllllll}\n",
       "  & GEO\\_ID & Census\\_Tract & County & Total\\_Housing\\_Units & Housing\\_Density & Total\\_Occupied\\_Housing\\_Units & Total\\_Owner\\_Occupied\\_Housing\\_Units & Median\\_Year\\_Structure\\_Built & Owner\\_Occupied\\_Housing\\_Units\\_Less\\_than\\_HPI & Median\\_House\\_Value & Median\\_Gross\\_Rent & Median\\_Gross\\_Rent\\_Percentage\\_of\\_Household\\_Income\\\\\n",
       "  & <chr> & <dbl> & <chr> & <dbl> & <dbl> & <dbl> & <dbl> & <dbl> & <dbl> & <dbl> & <dbl> & <dbl>\\\\\n",
       "\\hline\n",
       "\t1 & 14000US37001020100 & 201.00 & Alamance & 2006 &  31.54848 & 1757 &  851 & 1949 &  824 & 149600 & 614 & 27.9\\\\\n",
       "\t2 & 14000US37001020200 & 202.00 & Alamance & 1943 &  26.03618 & 1675 &  881 & 1961 &  881 &  83400 & 609 & 31.5\\\\\n",
       "\t3 & 14000US37001020300 & 203.00 & Alamance & 3254 &  71.60011 & 2930 & 2015 & 1971 & 1980 &  91500 & 763 & 37.7\\\\\n",
       "\t4 & 14000US37001020400 & 204.00 & Alamance & 2590 &  53.47674 & 2327 & 1510 & 1974 & 1487 &  96900 & 659 & 34.3\\\\\n",
       "\t5 & 14000US37001020501 & 205.01 & Alamance & 1435 & 122.03583 & 1280 &  990 & 1973 &  932 & 137400 & 584 & 46.7\\\\\n",
       "\t6 & 14000US37001020502 & 205.02 & Alamance & 1484 & 471.34609 & 1275 &  666 & 1980 &  666 &  73500 & 672 & 35.9\\\\\n",
       "\\end{tabular}\n"
      ],
      "text/markdown": [
       "\n",
       "A data.frame: 6 × 12\n",
       "\n",
       "| <!--/--> | GEO_ID &lt;chr&gt; | Census_Tract &lt;dbl&gt; | County &lt;chr&gt; | Total_Housing_Units &lt;dbl&gt; | Housing_Density &lt;dbl&gt; | Total_Occupied_Housing_Units &lt;dbl&gt; | Total_Owner_Occupied_Housing_Units &lt;dbl&gt; | Median_Year_Structure_Built &lt;dbl&gt; | Owner_Occupied_Housing_Units_Less_than_HPI &lt;dbl&gt; | Median_House_Value &lt;dbl&gt; | Median_Gross_Rent &lt;dbl&gt; | Median_Gross_Rent_Percentage_of_Household_Income &lt;dbl&gt; |\n",
       "|---|---|---|---|---|---|---|---|---|---|---|---|---|\n",
       "| 1 | 14000US37001020100 | 201.00 | Alamance | 2006 |  31.54848 | 1757 |  851 | 1949 |  824 | 149600 | 614 | 27.9 |\n",
       "| 2 | 14000US37001020200 | 202.00 | Alamance | 1943 |  26.03618 | 1675 |  881 | 1961 |  881 |  83400 | 609 | 31.5 |\n",
       "| 3 | 14000US37001020300 | 203.00 | Alamance | 3254 |  71.60011 | 2930 | 2015 | 1971 | 1980 |  91500 | 763 | 37.7 |\n",
       "| 4 | 14000US37001020400 | 204.00 | Alamance | 2590 |  53.47674 | 2327 | 1510 | 1974 | 1487 |  96900 | 659 | 34.3 |\n",
       "| 5 | 14000US37001020501 | 205.01 | Alamance | 1435 | 122.03583 | 1280 |  990 | 1973 |  932 | 137400 | 584 | 46.7 |\n",
       "| 6 | 14000US37001020502 | 205.02 | Alamance | 1484 | 471.34609 | 1275 |  666 | 1980 |  666 |  73500 | 672 | 35.9 |\n",
       "\n"
      ],
      "text/plain": [
       "  GEO_ID             Census_Tract County   Total_Housing_Units Housing_Density\n",
       "1 14000US37001020100 201.00       Alamance 2006                 31.54848      \n",
       "2 14000US37001020200 202.00       Alamance 1943                 26.03618      \n",
       "3 14000US37001020300 203.00       Alamance 3254                 71.60011      \n",
       "4 14000US37001020400 204.00       Alamance 2590                 53.47674      \n",
       "5 14000US37001020501 205.01       Alamance 1435                122.03583      \n",
       "6 14000US37001020502 205.02       Alamance 1484                471.34609      \n",
       "  Total_Occupied_Housing_Units Total_Owner_Occupied_Housing_Units\n",
       "1 1757                          851                              \n",
       "2 1675                          881                              \n",
       "3 2930                         2015                              \n",
       "4 2327                         1510                              \n",
       "5 1280                          990                              \n",
       "6 1275                          666                              \n",
       "  Median_Year_Structure_Built Owner_Occupied_Housing_Units_Less_than_HPI\n",
       "1 1949                         824                                      \n",
       "2 1961                         881                                      \n",
       "3 1971                        1980                                      \n",
       "4 1974                        1487                                      \n",
       "5 1973                         932                                      \n",
       "6 1980                         666                                      \n",
       "  Median_House_Value Median_Gross_Rent\n",
       "1 149600             614              \n",
       "2  83400             609              \n",
       "3  91500             763              \n",
       "4  96900             659              \n",
       "5 137400             584              \n",
       "6  73500             672              \n",
       "  Median_Gross_Rent_Percentage_of_Household_Income\n",
       "1 27.9                                            \n",
       "2 31.5                                            \n",
       "3 37.7                                            \n",
       "4 34.3                                            \n",
       "5 46.7                                            \n",
       "6 35.9                                            "
      ]
     },
     "metadata": {},
     "output_type": "display_data"
    }
   ],
   "source": [
    "head(acs_df)\n",
    "head(housing_df)"
   ]
  },
  {
   "cell_type": "code",
   "execution_count": 3,
   "id": "b8af52ad",
   "metadata": {},
   "outputs": [
    {
     "data": {
      "text/html": [
       "<table class=\"dataframe\">\n",
       "<caption>A tibble: 6 × 5</caption>\n",
       "<thead>\n",
       "\t<tr><th scope=col>GEO_ID</th><th scope=col>Census_Tract</th><th scope=col>County</th><th scope=col>Variables</th><th scope=col>Value</th></tr>\n",
       "\t<tr><th scope=col>&lt;chr&gt;</th><th scope=col>&lt;dbl&gt;</th><th scope=col>&lt;chr&gt;</th><th scope=col>&lt;chr&gt;</th><th scope=col>&lt;dbl&gt;</th></tr>\n",
       "</thead>\n",
       "<tbody>\n",
       "\t<tr><td>14000US37001020100</td><td>201</td><td>Alamance</td><td>Population_Under_5             </td><td> 9.5</td></tr>\n",
       "\t<tr><td>14000US37001020100</td><td>201</td><td>Alamance</td><td>Population_Over_65             </td><td>15.1</td></tr>\n",
       "\t<tr><td>14000US37001020100</td><td>201</td><td>Alamance</td><td>Race_Non_White                 </td><td>39.0</td></tr>\n",
       "\t<tr><td>14000US37001020100</td><td>201</td><td>Alamance</td><td>Hispanic_Latino                </td><td> 9.5</td></tr>\n",
       "\t<tr><td>14000US37001020100</td><td>201</td><td>Alamance</td><td>Non_Proficient_English_Speakers</td><td> 3.9</td></tr>\n",
       "\t<tr><td>14000US37001020100</td><td>201</td><td>Alamance</td><td>Poverty_Overall                </td><td>27.2</td></tr>\n",
       "</tbody>\n",
       "</table>\n"
      ],
      "text/latex": [
       "A tibble: 6 × 5\n",
       "\\begin{tabular}{lllll}\n",
       " GEO\\_ID & Census\\_Tract & County & Variables & Value\\\\\n",
       " <chr> & <dbl> & <chr> & <chr> & <dbl>\\\\\n",
       "\\hline\n",
       "\t 14000US37001020100 & 201 & Alamance & Population\\_Under\\_5              &  9.5\\\\\n",
       "\t 14000US37001020100 & 201 & Alamance & Population\\_Over\\_65              & 15.1\\\\\n",
       "\t 14000US37001020100 & 201 & Alamance & Race\\_Non\\_White                  & 39.0\\\\\n",
       "\t 14000US37001020100 & 201 & Alamance & Hispanic\\_Latino                 &  9.5\\\\\n",
       "\t 14000US37001020100 & 201 & Alamance & Non\\_Proficient\\_English\\_Speakers &  3.9\\\\\n",
       "\t 14000US37001020100 & 201 & Alamance & Poverty\\_Overall                 & 27.2\\\\\n",
       "\\end{tabular}\n"
      ],
      "text/markdown": [
       "\n",
       "A tibble: 6 × 5\n",
       "\n",
       "| GEO_ID &lt;chr&gt; | Census_Tract &lt;dbl&gt; | County &lt;chr&gt; | Variables &lt;chr&gt; | Value &lt;dbl&gt; |\n",
       "|---|---|---|---|---|\n",
       "| 14000US37001020100 | 201 | Alamance | Population_Under_5              |  9.5 |\n",
       "| 14000US37001020100 | 201 | Alamance | Population_Over_65              | 15.1 |\n",
       "| 14000US37001020100 | 201 | Alamance | Race_Non_White                  | 39.0 |\n",
       "| 14000US37001020100 | 201 | Alamance | Hispanic_Latino                 |  9.5 |\n",
       "| 14000US37001020100 | 201 | Alamance | Non_Proficient_English_Speakers |  3.9 |\n",
       "| 14000US37001020100 | 201 | Alamance | Poverty_Overall                 | 27.2 |\n",
       "\n"
      ],
      "text/plain": [
       "  GEO_ID             Census_Tract County   Variables                      \n",
       "1 14000US37001020100 201          Alamance Population_Under_5             \n",
       "2 14000US37001020100 201          Alamance Population_Over_65             \n",
       "3 14000US37001020100 201          Alamance Race_Non_White                 \n",
       "4 14000US37001020100 201          Alamance Hispanic_Latino                \n",
       "5 14000US37001020100 201          Alamance Non_Proficient_English_Speakers\n",
       "6 14000US37001020100 201          Alamance Poverty_Overall                \n",
       "  Value\n",
       "1  9.5 \n",
       "2 15.1 \n",
       "3 39.0 \n",
       "4  9.5 \n",
       "5  3.9 \n",
       "6 27.2 "
      ]
     },
     "metadata": {},
     "output_type": "display_data"
    }
   ],
   "source": [
    "# selecting variables we're interested in\n",
    "ejscreen_indicators = c(\"Population_Over_65\", \"Race_Non_White\", \"Hispanic_Latino\", \"Population_Under_5\",\n",
    "                          \"Non_Proficient_English_Speakers\", \"Poverty_Overall\", \"Less_than_High_School\", \n",
    "                        \"Unemployed\")\n",
    "housing_indicators = c(\"Housing_Density\", \"Median_House_Value\")\n",
    "\n",
    "# changing the df from a wide to long format \n",
    "longer_acs_df = pivot_longer(acs_df, cols = 4:45, names_to = \"Variables\", values_to = \"Value\") %>%\n",
    "    filter(Variables %in% ejscreen_indicators)\n",
    "longer_housing_df = housing_df %>%\n",
    "                                 pivot_longer(cols = c(4:12), names_to = \"Variables\", values_to = \"Value\") %>%\n",
    "    filter(Variables %in% housing_indicators)\n",
    "\n",
    "longer_df = rbind(longer_acs_df, longer_housing_df)\n",
    "head(longer_df)"
   ]
  },
  {
   "cell_type": "code",
   "execution_count": 4,
   "id": "ef6de1e4",
   "metadata": {},
   "outputs": [
    {
     "data": {
      "text/html": [
       "<table class=\"dataframe\">\n",
       "<caption>A tibble: 10 × 5</caption>\n",
       "<thead>\n",
       "\t<tr><th scope=col>Variables</th><th scope=col>Mean</th><th scope=col>SD</th><th scope=col>Percentile_5</th><th scope=col>Percentile_95</th></tr>\n",
       "\t<tr><th scope=col>&lt;chr&gt;</th><th scope=col>&lt;dbl&gt;</th><th scope=col>&lt;dbl&gt;</th><th scope=col>&lt;dbl&gt;</th><th scope=col>&lt;dbl&gt;</th></tr>\n",
       "</thead>\n",
       "<tbody>\n",
       "\t<tr><td>Hispanic_Latino                </td><td>9.096498e+00</td><td>8.492021e+00</td><td>    0.70000</td><td>    26.15500</td></tr>\n",
       "\t<tr><td>Housing_Density                </td><td>6.428423e+02</td><td>1.051901e+03</td><td>   15.24503</td><td>  2527.15077</td></tr>\n",
       "\t<tr><td>Less_than_High_School          </td><td>2.620213e+01</td><td>1.737307e+01</td><td>    0.00000</td><td>    55.40000</td></tr>\n",
       "\t<tr><td>Median_House_Value             </td><td>1.704221e+05</td><td>1.065931e+05</td><td>73100.00000</td><td>398560.00000</td></tr>\n",
       "\t<tr><td>Non_Proficient_English_Speakers</td><td>4.414700e+00</td><td>5.153353e+00</td><td>    0.00000</td><td>    14.30000</td></tr>\n",
       "\t<tr><td>Population_Over_65             </td><td>1.667825e+01</td><td>7.576720e+00</td><td>    6.30000</td><td>    29.50000</td></tr>\n",
       "\t<tr><td>Population_Under_5             </td><td>5.745899e+00</td><td>2.580037e+00</td><td>    2.20000</td><td>    10.00000</td></tr>\n",
       "\t<tr><td>Poverty_Overall                </td><td>1.581086e+01</td><td>1.060306e+01</td><td>    2.80000</td><td>    36.45500</td></tr>\n",
       "\t<tr><td>Race_Non_White                 </td><td>3.118742e+01</td><td>2.356562e+01</td><td>    3.44500</td><td>    78.72000</td></tr>\n",
       "\t<tr><td>Unemployed                     </td><td>5.979745e+00</td><td>4.524065e+00</td><td>    1.24677</td><td>    13.37891</td></tr>\n",
       "</tbody>\n",
       "</table>\n"
      ],
      "text/latex": [
       "A tibble: 10 × 5\n",
       "\\begin{tabular}{lllll}\n",
       " Variables & Mean & SD & Percentile\\_5 & Percentile\\_95\\\\\n",
       " <chr> & <dbl> & <dbl> & <dbl> & <dbl>\\\\\n",
       "\\hline\n",
       "\t Hispanic\\_Latino                 & 9.096498e+00 & 8.492021e+00 &     0.70000 &     26.15500\\\\\n",
       "\t Housing\\_Density                 & 6.428423e+02 & 1.051901e+03 &    15.24503 &   2527.15077\\\\\n",
       "\t Less\\_than\\_High\\_School           & 2.620213e+01 & 1.737307e+01 &     0.00000 &     55.40000\\\\\n",
       "\t Median\\_House\\_Value              & 1.704221e+05 & 1.065931e+05 & 73100.00000 & 398560.00000\\\\\n",
       "\t Non\\_Proficient\\_English\\_Speakers & 4.414700e+00 & 5.153353e+00 &     0.00000 &     14.30000\\\\\n",
       "\t Population\\_Over\\_65              & 1.667825e+01 & 7.576720e+00 &     6.30000 &     29.50000\\\\\n",
       "\t Population\\_Under\\_5              & 5.745899e+00 & 2.580037e+00 &     2.20000 &     10.00000\\\\\n",
       "\t Poverty\\_Overall                 & 1.581086e+01 & 1.060306e+01 &     2.80000 &     36.45500\\\\\n",
       "\t Race\\_Non\\_White                  & 3.118742e+01 & 2.356562e+01 &     3.44500 &     78.72000\\\\\n",
       "\t Unemployed                      & 5.979745e+00 & 4.524065e+00 &     1.24677 &     13.37891\\\\\n",
       "\\end{tabular}\n"
      ],
      "text/markdown": [
       "\n",
       "A tibble: 10 × 5\n",
       "\n",
       "| Variables &lt;chr&gt; | Mean &lt;dbl&gt; | SD &lt;dbl&gt; | Percentile_5 &lt;dbl&gt; | Percentile_95 &lt;dbl&gt; |\n",
       "|---|---|---|---|---|\n",
       "| Hispanic_Latino                 | 9.096498e+00 | 8.492021e+00 |     0.70000 |     26.15500 |\n",
       "| Housing_Density                 | 6.428423e+02 | 1.051901e+03 |    15.24503 |   2527.15077 |\n",
       "| Less_than_High_School           | 2.620213e+01 | 1.737307e+01 |     0.00000 |     55.40000 |\n",
       "| Median_House_Value              | 1.704221e+05 | 1.065931e+05 | 73100.00000 | 398560.00000 |\n",
       "| Non_Proficient_English_Speakers | 4.414700e+00 | 5.153353e+00 |     0.00000 |     14.30000 |\n",
       "| Population_Over_65              | 1.667825e+01 | 7.576720e+00 |     6.30000 |     29.50000 |\n",
       "| Population_Under_5              | 5.745899e+00 | 2.580037e+00 |     2.20000 |     10.00000 |\n",
       "| Poverty_Overall                 | 1.581086e+01 | 1.060306e+01 |     2.80000 |     36.45500 |\n",
       "| Race_Non_White                  | 3.118742e+01 | 2.356562e+01 |     3.44500 |     78.72000 |\n",
       "| Unemployed                      | 5.979745e+00 | 4.524065e+00 |     1.24677 |     13.37891 |\n",
       "\n"
      ],
      "text/plain": [
       "   Variables                       Mean         SD           Percentile_5\n",
       "1  Hispanic_Latino                 9.096498e+00 8.492021e+00     0.70000 \n",
       "2  Housing_Density                 6.428423e+02 1.051901e+03    15.24503 \n",
       "3  Less_than_High_School           2.620213e+01 1.737307e+01     0.00000 \n",
       "4  Median_House_Value              1.704221e+05 1.065931e+05 73100.00000 \n",
       "5  Non_Proficient_English_Speakers 4.414700e+00 5.153353e+00     0.00000 \n",
       "6  Population_Over_65              1.667825e+01 7.576720e+00     6.30000 \n",
       "7  Population_Under_5              5.745899e+00 2.580037e+00     2.20000 \n",
       "8  Poverty_Overall                 1.581086e+01 1.060306e+01     2.80000 \n",
       "9  Race_Non_White                  3.118742e+01 2.356562e+01     3.44500 \n",
       "10 Unemployed                      5.979745e+00 4.524065e+00     1.24677 \n",
       "   Percentile_95\n",
       "1      26.15500 \n",
       "2    2527.15077 \n",
       "3      55.40000 \n",
       "4  398560.00000 \n",
       "5      14.30000 \n",
       "6      29.50000 \n",
       "7      10.00000 \n",
       "8      36.45500 \n",
       "9      78.72000 \n",
       "10     13.37891 "
      ]
     },
     "metadata": {},
     "output_type": "display_data"
    }
   ],
   "source": [
    "# taking mean, sd, 95th and 5th percentile\n",
    "summary_df = longer_df %>%\n",
    "    group_by(Variables) %>%\n",
    "    summarize(Mean = mean(Value), SD = sd(Value), Percentile_5 = quantile(Value, 0.05),\n",
    "              Percentile_95 = quantile(Value, 0.95))\n",
    "\n",
    "summary_df"
   ]
  },
  {
   "cell_type": "code",
   "execution_count": 5,
   "id": "9abb0ade",
   "metadata": {},
   "outputs": [],
   "source": [
    "# exporting results\n",
    "write.xlsx(summary_df, paste0(Output,\"/\", \"Variable_Summary_Statistics\", cur_date, \".xlsx\"), rowNames = FALSE)"
   ]
  },
  {
   "cell_type": "code",
   "execution_count": null,
   "id": "f28719d7",
   "metadata": {},
   "outputs": [],
   "source": []
  }
 ],
 "metadata": {
  "kernelspec": {
   "display_name": "R",
   "language": "R",
   "name": "ir"
  },
  "language_info": {
   "codemirror_mode": "r",
   "file_extension": ".r",
   "mimetype": "text/x-r-source",
   "name": "R",
   "pygments_lexer": "r",
   "version": "4.1.3"
  }
 },
 "nbformat": 4,
 "nbformat_minor": 5
}
