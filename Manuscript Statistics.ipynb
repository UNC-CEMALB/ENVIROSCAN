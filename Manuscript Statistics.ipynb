{
 "cells": [
  {
   "cell_type": "code",
   "execution_count": 10,
   "id": "b4abf227",
   "metadata": {},
   "outputs": [],
   "source": [
    "setwd('/Users/alexis/Library/CloudStorage/OneDrive-UniversityofNorthCarolinaatChapelHill/CEMALB_DataAnalysisPM/Projects/P1009. NC ENVRIOSCAN/P1009.3. Analyses/P1009.3.8. Manuscript Statistics')\n",
    "Output = ('/Users/alexis/Library/CloudStorage/OneDrive-UniversityofNorthCarolinaatChapelHill/CEMALB_DataAnalysisPM/Projects/P1009. NC ENVRIOSCAN/P1009.3. Analyses/P1009.3.8. Manuscript Statistics/Output')\n",
    "cur_date = \"033023\"\n",
    "\n",
    "library(readxl)\n",
    "library(tidyverse)\n",
    "library(reshape2)\n",
    "library(tidytext)\n",
    "library(rcartocolor)\n",
    "library(MetBrewer)\n",
    "library(cowplot)\n",
    "library(scales)\n",
    "\n",
    "# reading in files\n",
    "housing_df = data.frame(read_excel(\"Input/Imputed_Housing_Data_030923.xlsx\"))\n",
    "whp_df = data.frame(read_excel(\"Input/Imputed_Wildfire_Hazard_030923.xlsx\"))\n",
    "local_moran_df = data.frame(read_excel(\"Input/Local_Moran_WHP_033023.xlsx\"))\n",
    "ejscreen_cluster_df = data.frame(read_excel(\"Input/GEO_ID_Sociodemographic_Clusters_030123.xlsx\"))"
   ]
  },
  {
   "cell_type": "code",
   "execution_count": 11,
   "id": "efdb1d3f",
   "metadata": {},
   "outputs": [
    {
     "data": {
      "text/html": [
       "<table class=\"dataframe\">\n",
       "<caption>A data.frame: 6 × 12</caption>\n",
       "<thead>\n",
       "\t<tr><th></th><th scope=col>GEO_ID</th><th scope=col>Census_Tract</th><th scope=col>County</th><th scope=col>Total_Housing_Units</th><th scope=col>Housing_Density</th><th scope=col>Total_Occupied_Housing_Units</th><th scope=col>Total_Owner_Occupied_Housing_Units</th><th scope=col>Median_Year_Structure_Built</th><th scope=col>Owner_Occupied_Housing_Units_Less_than_HPI</th><th scope=col>Median_House_Value</th><th scope=col>Median_Gross_Rent</th><th scope=col>Median_Gross_Rent_Percentage_of_Household_Income</th></tr>\n",
       "\t<tr><th></th><th scope=col>&lt;chr&gt;</th><th scope=col>&lt;dbl&gt;</th><th scope=col>&lt;chr&gt;</th><th scope=col>&lt;dbl&gt;</th><th scope=col>&lt;dbl&gt;</th><th scope=col>&lt;dbl&gt;</th><th scope=col>&lt;dbl&gt;</th><th scope=col>&lt;dbl&gt;</th><th scope=col>&lt;dbl&gt;</th><th scope=col>&lt;dbl&gt;</th><th scope=col>&lt;dbl&gt;</th><th scope=col>&lt;dbl&gt;</th></tr>\n",
       "</thead>\n",
       "<tbody>\n",
       "\t<tr><th scope=row>1</th><td>14000US37001020100</td><td>201.00</td><td>Alamance</td><td>2006</td><td> 31.54848</td><td>1757</td><td> 851</td><td>1949</td><td> 824</td><td>149600</td><td>614</td><td>27.9</td></tr>\n",
       "\t<tr><th scope=row>2</th><td>14000US37001020200</td><td>202.00</td><td>Alamance</td><td>1943</td><td> 26.03618</td><td>1675</td><td> 881</td><td>1961</td><td> 881</td><td> 83400</td><td>609</td><td>31.5</td></tr>\n",
       "\t<tr><th scope=row>3</th><td>14000US37001020300</td><td>203.00</td><td>Alamance</td><td>3254</td><td> 71.60011</td><td>2930</td><td>2015</td><td>1971</td><td>1980</td><td> 91500</td><td>763</td><td>37.7</td></tr>\n",
       "\t<tr><th scope=row>4</th><td>14000US37001020400</td><td>204.00</td><td>Alamance</td><td>2590</td><td> 53.47674</td><td>2327</td><td>1510</td><td>1974</td><td>1487</td><td> 96900</td><td>659</td><td>34.3</td></tr>\n",
       "\t<tr><th scope=row>5</th><td>14000US37001020501</td><td>205.01</td><td>Alamance</td><td>1435</td><td>122.03583</td><td>1280</td><td> 990</td><td>1973</td><td> 932</td><td>137400</td><td>584</td><td>46.7</td></tr>\n",
       "\t<tr><th scope=row>6</th><td>14000US37001020502</td><td>205.02</td><td>Alamance</td><td>1484</td><td>471.34609</td><td>1275</td><td> 666</td><td>1980</td><td> 666</td><td> 73500</td><td>672</td><td>35.9</td></tr>\n",
       "</tbody>\n",
       "</table>\n"
      ],
      "text/latex": [
       "A data.frame: 6 × 12\n",
       "\\begin{tabular}{r|llllllllllll}\n",
       "  & GEO\\_ID & Census\\_Tract & County & Total\\_Housing\\_Units & Housing\\_Density & Total\\_Occupied\\_Housing\\_Units & Total\\_Owner\\_Occupied\\_Housing\\_Units & Median\\_Year\\_Structure\\_Built & Owner\\_Occupied\\_Housing\\_Units\\_Less\\_than\\_HPI & Median\\_House\\_Value & Median\\_Gross\\_Rent & Median\\_Gross\\_Rent\\_Percentage\\_of\\_Household\\_Income\\\\\n",
       "  & <chr> & <dbl> & <chr> & <dbl> & <dbl> & <dbl> & <dbl> & <dbl> & <dbl> & <dbl> & <dbl> & <dbl>\\\\\n",
       "\\hline\n",
       "\t1 & 14000US37001020100 & 201.00 & Alamance & 2006 &  31.54848 & 1757 &  851 & 1949 &  824 & 149600 & 614 & 27.9\\\\\n",
       "\t2 & 14000US37001020200 & 202.00 & Alamance & 1943 &  26.03618 & 1675 &  881 & 1961 &  881 &  83400 & 609 & 31.5\\\\\n",
       "\t3 & 14000US37001020300 & 203.00 & Alamance & 3254 &  71.60011 & 2930 & 2015 & 1971 & 1980 &  91500 & 763 & 37.7\\\\\n",
       "\t4 & 14000US37001020400 & 204.00 & Alamance & 2590 &  53.47674 & 2327 & 1510 & 1974 & 1487 &  96900 & 659 & 34.3\\\\\n",
       "\t5 & 14000US37001020501 & 205.01 & Alamance & 1435 & 122.03583 & 1280 &  990 & 1973 &  932 & 137400 & 584 & 46.7\\\\\n",
       "\t6 & 14000US37001020502 & 205.02 & Alamance & 1484 & 471.34609 & 1275 &  666 & 1980 &  666 &  73500 & 672 & 35.9\\\\\n",
       "\\end{tabular}\n"
      ],
      "text/markdown": [
       "\n",
       "A data.frame: 6 × 12\n",
       "\n",
       "| <!--/--> | GEO_ID &lt;chr&gt; | Census_Tract &lt;dbl&gt; | County &lt;chr&gt; | Total_Housing_Units &lt;dbl&gt; | Housing_Density &lt;dbl&gt; | Total_Occupied_Housing_Units &lt;dbl&gt; | Total_Owner_Occupied_Housing_Units &lt;dbl&gt; | Median_Year_Structure_Built &lt;dbl&gt; | Owner_Occupied_Housing_Units_Less_than_HPI &lt;dbl&gt; | Median_House_Value &lt;dbl&gt; | Median_Gross_Rent &lt;dbl&gt; | Median_Gross_Rent_Percentage_of_Household_Income &lt;dbl&gt; |\n",
       "|---|---|---|---|---|---|---|---|---|---|---|---|---|\n",
       "| 1 | 14000US37001020100 | 201.00 | Alamance | 2006 |  31.54848 | 1757 |  851 | 1949 |  824 | 149600 | 614 | 27.9 |\n",
       "| 2 | 14000US37001020200 | 202.00 | Alamance | 1943 |  26.03618 | 1675 |  881 | 1961 |  881 |  83400 | 609 | 31.5 |\n",
       "| 3 | 14000US37001020300 | 203.00 | Alamance | 3254 |  71.60011 | 2930 | 2015 | 1971 | 1980 |  91500 | 763 | 37.7 |\n",
       "| 4 | 14000US37001020400 | 204.00 | Alamance | 2590 |  53.47674 | 2327 | 1510 | 1974 | 1487 |  96900 | 659 | 34.3 |\n",
       "| 5 | 14000US37001020501 | 205.01 | Alamance | 1435 | 122.03583 | 1280 |  990 | 1973 |  932 | 137400 | 584 | 46.7 |\n",
       "| 6 | 14000US37001020502 | 205.02 | Alamance | 1484 | 471.34609 | 1275 |  666 | 1980 |  666 |  73500 | 672 | 35.9 |\n",
       "\n"
      ],
      "text/plain": [
       "  GEO_ID             Census_Tract County   Total_Housing_Units Housing_Density\n",
       "1 14000US37001020100 201.00       Alamance 2006                 31.54848      \n",
       "2 14000US37001020200 202.00       Alamance 1943                 26.03618      \n",
       "3 14000US37001020300 203.00       Alamance 3254                 71.60011      \n",
       "4 14000US37001020400 204.00       Alamance 2590                 53.47674      \n",
       "5 14000US37001020501 205.01       Alamance 1435                122.03583      \n",
       "6 14000US37001020502 205.02       Alamance 1484                471.34609      \n",
       "  Total_Occupied_Housing_Units Total_Owner_Occupied_Housing_Units\n",
       "1 1757                          851                              \n",
       "2 1675                          881                              \n",
       "3 2930                         2015                              \n",
       "4 2327                         1510                              \n",
       "5 1280                          990                              \n",
       "6 1275                          666                              \n",
       "  Median_Year_Structure_Built Owner_Occupied_Housing_Units_Less_than_HPI\n",
       "1 1949                         824                                      \n",
       "2 1961                         881                                      \n",
       "3 1971                        1980                                      \n",
       "4 1974                        1487                                      \n",
       "5 1973                         932                                      \n",
       "6 1980                         666                                      \n",
       "  Median_House_Value Median_Gross_Rent\n",
       "1 149600             614              \n",
       "2  83400             609              \n",
       "3  91500             763              \n",
       "4  96900             659              \n",
       "5 137400             584              \n",
       "6  73500             672              \n",
       "  Median_Gross_Rent_Percentage_of_Household_Income\n",
       "1 27.9                                            \n",
       "2 31.5                                            \n",
       "3 37.7                                            \n",
       "4 34.3                                            \n",
       "5 46.7                                            \n",
       "6 35.9                                            "
      ]
     },
     "metadata": {},
     "output_type": "display_data"
    },
    {
     "data": {
      "text/html": [
       "<table class=\"dataframe\">\n",
       "<caption>A data.frame: 6 × 8</caption>\n",
       "<thead>\n",
       "\t<tr><th></th><th scope=col>GEO_ID</th><th scope=col>FIPS</th><th scope=col>County</th><th scope=col>Census_Tract</th><th scope=col>Avg_ACRES</th><th scope=col>Wildfire_Hazard_Potential_Mean</th><th scope=col>Wildfire_Hazard_Potential_Quintile_Number</th><th scope=col>Wildfire_Hazard_Potential_Quintile_Percentage</th></tr>\n",
       "\t<tr><th></th><th scope=col>&lt;chr&gt;</th><th scope=col>&lt;dbl&gt;</th><th scope=col>&lt;chr&gt;</th><th scope=col>&lt;dbl&gt;</th><th scope=col>&lt;dbl&gt;</th><th scope=col>&lt;dbl&gt;</th><th scope=col>&lt;dbl&gt;</th><th scope=col>&lt;chr&gt;</th></tr>\n",
       "</thead>\n",
       "<tbody>\n",
       "\t<tr><th scope=row>1</th><td>14000US37141920201</td><td>37141920201</td><td>Pender</td><td>9202.01</td><td>596842.6</td><td>715.5177</td><td>5</td><td>0-20%</td></tr>\n",
       "\t<tr><th scope=row>2</th><td>14000US37141920401</td><td>37141920401</td><td>Pender</td><td>9204.01</td><td>596842.6</td><td>715.5177</td><td>5</td><td>0-20%</td></tr>\n",
       "\t<tr><th scope=row>3</th><td>14000US37141920402</td><td>37141920402</td><td>Pender</td><td>9204.02</td><td>596842.6</td><td>715.5177</td><td>5</td><td>0-20%</td></tr>\n",
       "\t<tr><th scope=row>4</th><td>14000US37141920403</td><td>37141920403</td><td>Pender</td><td>9204.03</td><td>596842.6</td><td>715.5177</td><td>5</td><td>0-20%</td></tr>\n",
       "\t<tr><th scope=row>5</th><td>14000US37141920601</td><td>37141920601</td><td>Pender</td><td>9206.01</td><td>596842.6</td><td>715.5177</td><td>5</td><td>0-20%</td></tr>\n",
       "\t<tr><th scope=row>6</th><td>14000US37141990100</td><td>37141990100</td><td>Pender</td><td>9901.00</td><td>596842.6</td><td>715.5177</td><td>5</td><td>0-20%</td></tr>\n",
       "</tbody>\n",
       "</table>\n"
      ],
      "text/latex": [
       "A data.frame: 6 × 8\n",
       "\\begin{tabular}{r|llllllll}\n",
       "  & GEO\\_ID & FIPS & County & Census\\_Tract & Avg\\_ACRES & Wildfire\\_Hazard\\_Potential\\_Mean & Wildfire\\_Hazard\\_Potential\\_Quintile\\_Number & Wildfire\\_Hazard\\_Potential\\_Quintile\\_Percentage\\\\\n",
       "  & <chr> & <dbl> & <chr> & <dbl> & <dbl> & <dbl> & <dbl> & <chr>\\\\\n",
       "\\hline\n",
       "\t1 & 14000US37141920201 & 37141920201 & Pender & 9202.01 & 596842.6 & 715.5177 & 5 & 0-20\\%\\\\\n",
       "\t2 & 14000US37141920401 & 37141920401 & Pender & 9204.01 & 596842.6 & 715.5177 & 5 & 0-20\\%\\\\\n",
       "\t3 & 14000US37141920402 & 37141920402 & Pender & 9204.02 & 596842.6 & 715.5177 & 5 & 0-20\\%\\\\\n",
       "\t4 & 14000US37141920403 & 37141920403 & Pender & 9204.03 & 596842.6 & 715.5177 & 5 & 0-20\\%\\\\\n",
       "\t5 & 14000US37141920601 & 37141920601 & Pender & 9206.01 & 596842.6 & 715.5177 & 5 & 0-20\\%\\\\\n",
       "\t6 & 14000US37141990100 & 37141990100 & Pender & 9901.00 & 596842.6 & 715.5177 & 5 & 0-20\\%\\\\\n",
       "\\end{tabular}\n"
      ],
      "text/markdown": [
       "\n",
       "A data.frame: 6 × 8\n",
       "\n",
       "| <!--/--> | GEO_ID &lt;chr&gt; | FIPS &lt;dbl&gt; | County &lt;chr&gt; | Census_Tract &lt;dbl&gt; | Avg_ACRES &lt;dbl&gt; | Wildfire_Hazard_Potential_Mean &lt;dbl&gt; | Wildfire_Hazard_Potential_Quintile_Number &lt;dbl&gt; | Wildfire_Hazard_Potential_Quintile_Percentage &lt;chr&gt; |\n",
       "|---|---|---|---|---|---|---|---|---|\n",
       "| 1 | 14000US37141920201 | 37141920201 | Pender | 9202.01 | 596842.6 | 715.5177 | 5 | 0-20% |\n",
       "| 2 | 14000US37141920401 | 37141920401 | Pender | 9204.01 | 596842.6 | 715.5177 | 5 | 0-20% |\n",
       "| 3 | 14000US37141920402 | 37141920402 | Pender | 9204.02 | 596842.6 | 715.5177 | 5 | 0-20% |\n",
       "| 4 | 14000US37141920403 | 37141920403 | Pender | 9204.03 | 596842.6 | 715.5177 | 5 | 0-20% |\n",
       "| 5 | 14000US37141920601 | 37141920601 | Pender | 9206.01 | 596842.6 | 715.5177 | 5 | 0-20% |\n",
       "| 6 | 14000US37141990100 | 37141990100 | Pender | 9901.00 | 596842.6 | 715.5177 | 5 | 0-20% |\n",
       "\n"
      ],
      "text/plain": [
       "  GEO_ID             FIPS        County Census_Tract Avg_ACRES\n",
       "1 14000US37141920201 37141920201 Pender 9202.01      596842.6 \n",
       "2 14000US37141920401 37141920401 Pender 9204.01      596842.6 \n",
       "3 14000US37141920402 37141920402 Pender 9204.02      596842.6 \n",
       "4 14000US37141920403 37141920403 Pender 9204.03      596842.6 \n",
       "5 14000US37141920601 37141920601 Pender 9206.01      596842.6 \n",
       "6 14000US37141990100 37141990100 Pender 9901.00      596842.6 \n",
       "  Wildfire_Hazard_Potential_Mean Wildfire_Hazard_Potential_Quintile_Number\n",
       "1 715.5177                       5                                        \n",
       "2 715.5177                       5                                        \n",
       "3 715.5177                       5                                        \n",
       "4 715.5177                       5                                        \n",
       "5 715.5177                       5                                        \n",
       "6 715.5177                       5                                        \n",
       "  Wildfire_Hazard_Potential_Quintile_Percentage\n",
       "1 0-20%                                        \n",
       "2 0-20%                                        \n",
       "3 0-20%                                        \n",
       "4 0-20%                                        \n",
       "5 0-20%                                        \n",
       "6 0-20%                                        "
      ]
     },
     "metadata": {},
     "output_type": "display_data"
    },
    {
     "data": {
      "text/html": [
       "<table class=\"dataframe\">\n",
       "<caption>A data.frame: 6 × 5</caption>\n",
       "<thead>\n",
       "\t<tr><th></th><th scope=col>GEO_ID</th><th scope=col>Local_Moran_Statistic</th><th scope=col>P.Value</th><th scope=col>P.Adj</th><th scope=col>Quadrant</th></tr>\n",
       "\t<tr><th></th><th scope=col>&lt;chr&gt;</th><th scope=col>&lt;dbl&gt;</th><th scope=col>&lt;dbl&gt;</th><th scope=col>&lt;dbl&gt;</th><th scope=col>&lt;chr&gt;</th></tr>\n",
       "</thead>\n",
       "<tbody>\n",
       "\t<tr><th scope=row>1</th><td>14000US37141920201</td><td>11.356081</td><td>9.952669e-11</td><td>2.912814e-09</td><td>High-High</td></tr>\n",
       "\t<tr><th scope=row>2</th><td>14000US37141920401</td><td>17.340772</td><td>7.750734e-16</td><td>5.735517e-14</td><td>High-High</td></tr>\n",
       "\t<tr><th scope=row>3</th><td>14000US37141920402</td><td>14.008272</td><td>7.502267e-11</td><td>2.225335e-09</td><td>High-High</td></tr>\n",
       "\t<tr><th scope=row>4</th><td>14000US37141920403</td><td>14.042942</td><td>1.277182e-15</td><td>9.043270e-14</td><td>High-High</td></tr>\n",
       "\t<tr><th scope=row>5</th><td>14000US37141920601</td><td>12.780639</td><td>3.378197e-13</td><td>1.425989e-11</td><td>High-High</td></tr>\n",
       "\t<tr><th scope=row>6</th><td>14000US37141990100</td><td> 8.901817</td><td>3.958719e-07</td><td>7.490852e-06</td><td>High-High</td></tr>\n",
       "</tbody>\n",
       "</table>\n"
      ],
      "text/latex": [
       "A data.frame: 6 × 5\n",
       "\\begin{tabular}{r|lllll}\n",
       "  & GEO\\_ID & Local\\_Moran\\_Statistic & P.Value & P.Adj & Quadrant\\\\\n",
       "  & <chr> & <dbl> & <dbl> & <dbl> & <chr>\\\\\n",
       "\\hline\n",
       "\t1 & 14000US37141920201 & 11.356081 & 9.952669e-11 & 2.912814e-09 & High-High\\\\\n",
       "\t2 & 14000US37141920401 & 17.340772 & 7.750734e-16 & 5.735517e-14 & High-High\\\\\n",
       "\t3 & 14000US37141920402 & 14.008272 & 7.502267e-11 & 2.225335e-09 & High-High\\\\\n",
       "\t4 & 14000US37141920403 & 14.042942 & 1.277182e-15 & 9.043270e-14 & High-High\\\\\n",
       "\t5 & 14000US37141920601 & 12.780639 & 3.378197e-13 & 1.425989e-11 & High-High\\\\\n",
       "\t6 & 14000US37141990100 &  8.901817 & 3.958719e-07 & 7.490852e-06 & High-High\\\\\n",
       "\\end{tabular}\n"
      ],
      "text/markdown": [
       "\n",
       "A data.frame: 6 × 5\n",
       "\n",
       "| <!--/--> | GEO_ID &lt;chr&gt; | Local_Moran_Statistic &lt;dbl&gt; | P.Value &lt;dbl&gt; | P.Adj &lt;dbl&gt; | Quadrant &lt;chr&gt; |\n",
       "|---|---|---|---|---|---|\n",
       "| 1 | 14000US37141920201 | 11.356081 | 9.952669e-11 | 2.912814e-09 | High-High |\n",
       "| 2 | 14000US37141920401 | 17.340772 | 7.750734e-16 | 5.735517e-14 | High-High |\n",
       "| 3 | 14000US37141920402 | 14.008272 | 7.502267e-11 | 2.225335e-09 | High-High |\n",
       "| 4 | 14000US37141920403 | 14.042942 | 1.277182e-15 | 9.043270e-14 | High-High |\n",
       "| 5 | 14000US37141920601 | 12.780639 | 3.378197e-13 | 1.425989e-11 | High-High |\n",
       "| 6 | 14000US37141990100 |  8.901817 | 3.958719e-07 | 7.490852e-06 | High-High |\n",
       "\n"
      ],
      "text/plain": [
       "  GEO_ID             Local_Moran_Statistic P.Value      P.Adj        Quadrant \n",
       "1 14000US37141920201 11.356081             9.952669e-11 2.912814e-09 High-High\n",
       "2 14000US37141920401 17.340772             7.750734e-16 5.735517e-14 High-High\n",
       "3 14000US37141920402 14.008272             7.502267e-11 2.225335e-09 High-High\n",
       "4 14000US37141920403 14.042942             1.277182e-15 9.043270e-14 High-High\n",
       "5 14000US37141920601 12.780639             3.378197e-13 1.425989e-11 High-High\n",
       "6 14000US37141990100  8.901817             3.958719e-07 7.490852e-06 High-High"
      ]
     },
     "metadata": {},
     "output_type": "display_data"
    },
    {
     "data": {
      "text/html": [
       "<table class=\"dataframe\">\n",
       "<caption>A data.frame: 6 × 7</caption>\n",
       "<thead>\n",
       "\t<tr><th></th><th scope=col>GEO_ID</th><th scope=col>Census_Tract</th><th scope=col>County</th><th scope=col>Variables</th><th scope=col>Value</th><th scope=col>Scaled_Value</th><th scope=col>Cluster</th></tr>\n",
       "\t<tr><th></th><th scope=col>&lt;chr&gt;</th><th scope=col>&lt;dbl&gt;</th><th scope=col>&lt;chr&gt;</th><th scope=col>&lt;chr&gt;</th><th scope=col>&lt;dbl&gt;</th><th scope=col>&lt;dbl&gt;</th><th scope=col>&lt;dbl&gt;</th></tr>\n",
       "</thead>\n",
       "<tbody>\n",
       "\t<tr><th scope=row>1</th><td>14000US37001020100</td><td>201</td><td>Alamance</td><td>Population_Under_5             </td><td> 9.5</td><td> 1.45508797</td><td>3</td></tr>\n",
       "\t<tr><th scope=row>2</th><td>14000US37001020100</td><td>201</td><td>Alamance</td><td>Population_Over_65             </td><td>15.1</td><td>-0.20849618</td><td>3</td></tr>\n",
       "\t<tr><th scope=row>3</th><td>14000US37001020100</td><td>201</td><td>Alamance</td><td>Race_Non_White                 </td><td>39.0</td><td> 0.33121718</td><td>3</td></tr>\n",
       "\t<tr><th scope=row>4</th><td>14000US37001020100</td><td>201</td><td>Alamance</td><td>Hispanic_Latino                </td><td> 9.5</td><td> 0.04837140</td><td>3</td></tr>\n",
       "\t<tr><th scope=row>5</th><td>14000US37001020100</td><td>201</td><td>Alamance</td><td>Non_Proficient_English_Speakers</td><td> 3.9</td><td>-0.09907552</td><td>3</td></tr>\n",
       "\t<tr><th scope=row>6</th><td>14000US37001020100</td><td>201</td><td>Alamance</td><td>Poverty_Overall                </td><td>27.2</td><td> 1.07521173</td><td>3</td></tr>\n",
       "</tbody>\n",
       "</table>\n"
      ],
      "text/latex": [
       "A data.frame: 6 × 7\n",
       "\\begin{tabular}{r|lllllll}\n",
       "  & GEO\\_ID & Census\\_Tract & County & Variables & Value & Scaled\\_Value & Cluster\\\\\n",
       "  & <chr> & <dbl> & <chr> & <chr> & <dbl> & <dbl> & <dbl>\\\\\n",
       "\\hline\n",
       "\t1 & 14000US37001020100 & 201 & Alamance & Population\\_Under\\_5              &  9.5 &  1.45508797 & 3\\\\\n",
       "\t2 & 14000US37001020100 & 201 & Alamance & Population\\_Over\\_65              & 15.1 & -0.20849618 & 3\\\\\n",
       "\t3 & 14000US37001020100 & 201 & Alamance & Race\\_Non\\_White                  & 39.0 &  0.33121718 & 3\\\\\n",
       "\t4 & 14000US37001020100 & 201 & Alamance & Hispanic\\_Latino                 &  9.5 &  0.04837140 & 3\\\\\n",
       "\t5 & 14000US37001020100 & 201 & Alamance & Non\\_Proficient\\_English\\_Speakers &  3.9 & -0.09907552 & 3\\\\\n",
       "\t6 & 14000US37001020100 & 201 & Alamance & Poverty\\_Overall                 & 27.2 &  1.07521173 & 3\\\\\n",
       "\\end{tabular}\n"
      ],
      "text/markdown": [
       "\n",
       "A data.frame: 6 × 7\n",
       "\n",
       "| <!--/--> | GEO_ID &lt;chr&gt; | Census_Tract &lt;dbl&gt; | County &lt;chr&gt; | Variables &lt;chr&gt; | Value &lt;dbl&gt; | Scaled_Value &lt;dbl&gt; | Cluster &lt;dbl&gt; |\n",
       "|---|---|---|---|---|---|---|---|\n",
       "| 1 | 14000US37001020100 | 201 | Alamance | Population_Under_5              |  9.5 |  1.45508797 | 3 |\n",
       "| 2 | 14000US37001020100 | 201 | Alamance | Population_Over_65              | 15.1 | -0.20849618 | 3 |\n",
       "| 3 | 14000US37001020100 | 201 | Alamance | Race_Non_White                  | 39.0 |  0.33121718 | 3 |\n",
       "| 4 | 14000US37001020100 | 201 | Alamance | Hispanic_Latino                 |  9.5 |  0.04837140 | 3 |\n",
       "| 5 | 14000US37001020100 | 201 | Alamance | Non_Proficient_English_Speakers |  3.9 | -0.09907552 | 3 |\n",
       "| 6 | 14000US37001020100 | 201 | Alamance | Poverty_Overall                 | 27.2 |  1.07521173 | 3 |\n",
       "\n"
      ],
      "text/plain": [
       "  GEO_ID             Census_Tract County   Variables                      \n",
       "1 14000US37001020100 201          Alamance Population_Under_5             \n",
       "2 14000US37001020100 201          Alamance Population_Over_65             \n",
       "3 14000US37001020100 201          Alamance Race_Non_White                 \n",
       "4 14000US37001020100 201          Alamance Hispanic_Latino                \n",
       "5 14000US37001020100 201          Alamance Non_Proficient_English_Speakers\n",
       "6 14000US37001020100 201          Alamance Poverty_Overall                \n",
       "  Value Scaled_Value Cluster\n",
       "1  9.5   1.45508797  3      \n",
       "2 15.1  -0.20849618  3      \n",
       "3 39.0   0.33121718  3      \n",
       "4  9.5   0.04837140  3      \n",
       "5  3.9  -0.09907552  3      \n",
       "6 27.2   1.07521173  3      "
      ]
     },
     "metadata": {},
     "output_type": "display_data"
    }
   ],
   "source": [
    "head(housing_df)\n",
    "head(whp_df)\n",
    "head(local_moran_df)\n",
    "head(ejscreen_cluster_df)"
   ]
  },
  {
   "cell_type": "markdown",
   "id": "1280ef2b",
   "metadata": {},
   "source": [
    "Defining a GEO id to be have an elevated risk of WHP if the data point falls within the 95th percentile. Based on this [ref](https://www.fs.usda.gov/rm/pubs/rmrs_p073/rmrs_p073_060_076.pdf)."
   ]
  },
  {
   "cell_type": "code",
   "execution_count": 4,
   "id": "71b64ac4",
   "metadata": {},
   "outputs": [
    {
     "data": {
      "text/html": [
       "438.998298999999"
      ],
      "text/latex": [
       "438.998298999999"
      ],
      "text/markdown": [
       "438.998298999999"
      ],
      "text/plain": [
       "[1] 438.9983"
      ]
     },
     "metadata": {},
     "output_type": "display_data"
    }
   ],
   "source": [
    "high_risk_WHP = quantile(whp_df$Wildfire_Hazard_Potential_Mean, 0.95)[[1]]\n",
    "high_risk_WHP"
   ]
  },
  {
   "cell_type": "code",
   "execution_count": 5,
   "id": "6ad9f1bb",
   "metadata": {},
   "outputs": [
    {
     "data": {
      "image/png": "[encoded data removed]",
      "text/plain": [
       "plot without title"
      ]
     },
     "metadata": {
      "image/png": {
       "height": 420,
       "width": 420
      }
     },
     "output_type": "display_data"
    }
   ],
   "source": [
    "ggplot(whp_df) + \n",
    "  geom_density(aes(Wildfire_Hazard_Potential_Mean)) + \n",
    "  geom_vline(xintercept = high_risk_WHP, linetype = \"dotted\") + \n",
    "  geom_text(aes(x = high_risk_WHP - 10, label = \"95th Percentile\", y = 0.0096), angle = 90, fontface = \"bold\")"
   ]
  },
  {
   "cell_type": "code",
   "execution_count": 23,
   "id": "a077ba10",
   "metadata": {},
   "outputs": [
    {
     "name": "stderr",
     "output_type": "stream",
     "text": [
      "\u001b[1m\u001b[22mJoining, by = \"GEO_ID\"\n",
      "\u001b[1m\u001b[22mJoining, by = c(\"GEO_ID\", \"County\", \"Census_Tract\")\n",
      "\u001b[1m\u001b[22mJoining, by = \"GEO_ID\"\n"
     ]
    },
    {
     "data": {
      "text/html": [
       "<table class=\"dataframe\">\n",
       "<caption>A data.frame: 6 × 19</caption>\n",
       "<thead>\n",
       "\t<tr><th></th><th scope=col>GEO_ID</th><th scope=col>P.Adj</th><th scope=col>FIPS</th><th scope=col>County</th><th scope=col>Census_Tract</th><th scope=col>Avg_ACRES</th><th scope=col>Wildfire_Hazard_Potential_Mean</th><th scope=col>Wildfire_Hazard_Potential_Quintile_Number</th><th scope=col>Wildfire_Hazard_Potential_Quintile_Percentage</th><th scope=col>Total_Housing_Units</th><th scope=col>Housing_Density</th><th scope=col>Total_Occupied_Housing_Units</th><th scope=col>Total_Owner_Occupied_Housing_Units</th><th scope=col>Median_Year_Structure_Built</th><th scope=col>Owner_Occupied_Housing_Units_Less_than_HPI</th><th scope=col>Median_House_Value</th><th scope=col>Median_Gross_Rent</th><th scope=col>Median_Gross_Rent_Percentage_of_Household_Income</th><th scope=col>Cluster</th></tr>\n",
       "\t<tr><th></th><th scope=col>&lt;chr&gt;</th><th scope=col>&lt;dbl&gt;</th><th scope=col>&lt;dbl&gt;</th><th scope=col>&lt;chr&gt;</th><th scope=col>&lt;dbl&gt;</th><th scope=col>&lt;dbl&gt;</th><th scope=col>&lt;dbl&gt;</th><th scope=col>&lt;dbl&gt;</th><th scope=col>&lt;chr&gt;</th><th scope=col>&lt;dbl&gt;</th><th scope=col>&lt;dbl&gt;</th><th scope=col>&lt;dbl&gt;</th><th scope=col>&lt;dbl&gt;</th><th scope=col>&lt;dbl&gt;</th><th scope=col>&lt;dbl&gt;</th><th scope=col>&lt;dbl&gt;</th><th scope=col>&lt;dbl&gt;</th><th scope=col>&lt;dbl&gt;</th><th scope=col>&lt;dbl&gt;</th></tr>\n",
       "</thead>\n",
       "<tbody>\n",
       "\t<tr><th scope=row>1</th><td>14000US37141920201</td><td>2.912814e-09</td><td>37141920201</td><td>Pender  </td><td>9202.01</td><td>596842.6</td><td>715.5177</td><td>5</td><td>0-20%</td><td>2385</td><td>961.7430</td><td>1773</td><td>1541</td><td>1996</td><td>1230</td><td>202400</td><td>821</td><td>17.6</td><td>1</td></tr>\n",
       "\t<tr><th scope=row>2</th><td>14000US37141920401</td><td>5.735517e-14</td><td>37141920401</td><td>Pender  </td><td>9204.01</td><td>596842.6</td><td>715.5177</td><td>5</td><td>0-20%</td><td> 955</td><td>175.7199</td><td> 752</td><td> 566</td><td>1976</td><td> 531</td><td>106100</td><td>712</td><td>24.5</td><td>3</td></tr>\n",
       "\t<tr><th scope=row>3</th><td>14000US37141920402</td><td>2.225335e-09</td><td>37141920402</td><td>Pender  </td><td>9204.02</td><td>596842.6</td><td>715.5177</td><td>5</td><td>0-20%</td><td>1069</td><td>821.6787</td><td>1011</td><td> 694</td><td>1980</td><td> 677</td><td>104300</td><td>708</td><td>34.3</td><td>1</td></tr>\n",
       "\t<tr><th scope=row>4</th><td>14000US37141920403</td><td>9.043270e-14</td><td>37141920403</td><td>Pender  </td><td>9204.03</td><td>596842.6</td><td>715.5177</td><td>5</td><td>0-20%</td><td>1505</td><td>891.3438</td><td>1366</td><td>1101</td><td>1989</td><td> 930</td><td>152800</td><td>801</td><td>50.0</td><td>1</td></tr>\n",
       "\t<tr><th scope=row>5</th><td>14000US37141920601</td><td>1.425989e-11</td><td>37141920601</td><td>Pender  </td><td>9206.01</td><td>596842.6</td><td>715.5177</td><td>5</td><td>0-20%</td><td>1226</td><td>875.4509</td><td>1171</td><td>1102</td><td>1990</td><td> 991</td><td> 93700</td><td>518</td><td>50.0</td><td>2</td></tr>\n",
       "\t<tr><th scope=row>6</th><td>14000US37153970400</td><td>7.341589e-16</td><td>37153970400</td><td>Richmond</td><td>9704.00</td><td>307147.7</td><td>704.1077</td><td>5</td><td>0-20%</td><td>1784</td><td>662.7341</td><td>1512</td><td>1278</td><td>1972</td><td>1221</td><td> 89900</td><td>517</td><td>45.3</td><td>1</td></tr>\n",
       "</tbody>\n",
       "</table>\n"
      ],
      "text/latex": [
       "A data.frame: 6 × 19\n",
       "\\begin{tabular}{r|lllllllllllllllllll}\n",
       "  & GEO\\_ID & P.Adj & FIPS & County & Census\\_Tract & Avg\\_ACRES & Wildfire\\_Hazard\\_Potential\\_Mean & Wildfire\\_Hazard\\_Potential\\_Quintile\\_Number & Wildfire\\_Hazard\\_Potential\\_Quintile\\_Percentage & Total\\_Housing\\_Units & Housing\\_Density & Total\\_Occupied\\_Housing\\_Units & Total\\_Owner\\_Occupied\\_Housing\\_Units & Median\\_Year\\_Structure\\_Built & Owner\\_Occupied\\_Housing\\_Units\\_Less\\_than\\_HPI & Median\\_House\\_Value & Median\\_Gross\\_Rent & Median\\_Gross\\_Rent\\_Percentage\\_of\\_Household\\_Income & Cluster\\\\\n",
       "  & <chr> & <dbl> & <dbl> & <chr> & <dbl> & <dbl> & <dbl> & <dbl> & <chr> & <dbl> & <dbl> & <dbl> & <dbl> & <dbl> & <dbl> & <dbl> & <dbl> & <dbl> & <dbl>\\\\\n",
       "\\hline\n",
       "\t1 & 14000US37141920201 & 2.912814e-09 & 37141920201 & Pender   & 9202.01 & 596842.6 & 715.5177 & 5 & 0-20\\% & 2385 & 961.7430 & 1773 & 1541 & 1996 & 1230 & 202400 & 821 & 17.6 & 1\\\\\n",
       "\t2 & 14000US37141920401 & 5.735517e-14 & 37141920401 & Pender   & 9204.01 & 596842.6 & 715.5177 & 5 & 0-20\\% &  955 & 175.7199 &  752 &  566 & 1976 &  531 & 106100 & 712 & 24.5 & 3\\\\\n",
       "\t3 & 14000US37141920402 & 2.225335e-09 & 37141920402 & Pender   & 9204.02 & 596842.6 & 715.5177 & 5 & 0-20\\% & 1069 & 821.6787 & 1011 &  694 & 1980 &  677 & 104300 & 708 & 34.3 & 1\\\\\n",
       "\t4 & 14000US37141920403 & 9.043270e-14 & 37141920403 & Pender   & 9204.03 & 596842.6 & 715.5177 & 5 & 0-20\\% & 1505 & 891.3438 & 1366 & 1101 & 1989 &  930 & 152800 & 801 & 50.0 & 1\\\\\n",
       "\t5 & 14000US37141920601 & 1.425989e-11 & 37141920601 & Pender   & 9206.01 & 596842.6 & 715.5177 & 5 & 0-20\\% & 1226 & 875.4509 & 1171 & 1102 & 1990 &  991 &  93700 & 518 & 50.0 & 2\\\\\n",
       "\t6 & 14000US37153970400 & 7.341589e-16 & 37153970400 & Richmond & 9704.00 & 307147.7 & 704.1077 & 5 & 0-20\\% & 1784 & 662.7341 & 1512 & 1278 & 1972 & 1221 &  89900 & 517 & 45.3 & 1\\\\\n",
       "\\end{tabular}\n"
      ],
      "text/markdown": [
       "\n",
       "A data.frame: 6 × 19\n",
       "\n",
       "| <!--/--> | GEO_ID &lt;chr&gt; | P.Adj &lt;dbl&gt; | FIPS &lt;dbl&gt; | County &lt;chr&gt; | Census_Tract &lt;dbl&gt; | Avg_ACRES &lt;dbl&gt; | Wildfire_Hazard_Potential_Mean &lt;dbl&gt; | Wildfire_Hazard_Potential_Quintile_Number &lt;dbl&gt; | Wildfire_Hazard_Potential_Quintile_Percentage &lt;chr&gt; | Total_Housing_Units &lt;dbl&gt; | Housing_Density &lt;dbl&gt; | Total_Occupied_Housing_Units &lt;dbl&gt; | Total_Owner_Occupied_Housing_Units &lt;dbl&gt; | Median_Year_Structure_Built &lt;dbl&gt; | Owner_Occupied_Housing_Units_Less_than_HPI &lt;dbl&gt; | Median_House_Value &lt;dbl&gt; | Median_Gross_Rent &lt;dbl&gt; | Median_Gross_Rent_Percentage_of_Household_Income &lt;dbl&gt; | Cluster &lt;dbl&gt; |\n",
       "|---|---|---|---|---|---|---|---|---|---|---|---|---|---|---|---|---|---|---|---|\n",
       "| 1 | 14000US37141920201 | 2.912814e-09 | 37141920201 | Pender   | 9202.01 | 596842.6 | 715.5177 | 5 | 0-20% | 2385 | 961.7430 | 1773 | 1541 | 1996 | 1230 | 202400 | 821 | 17.6 | 1 |\n",
       "| 2 | 14000US37141920401 | 5.735517e-14 | 37141920401 | Pender   | 9204.01 | 596842.6 | 715.5177 | 5 | 0-20% |  955 | 175.7199 |  752 |  566 | 1976 |  531 | 106100 | 712 | 24.5 | 3 |\n",
       "| 3 | 14000US37141920402 | 2.225335e-09 | 37141920402 | Pender   | 9204.02 | 596842.6 | 715.5177 | 5 | 0-20% | 1069 | 821.6787 | 1011 |  694 | 1980 |  677 | 104300 | 708 | 34.3 | 1 |\n",
       "| 4 | 14000US37141920403 | 9.043270e-14 | 37141920403 | Pender   | 9204.03 | 596842.6 | 715.5177 | 5 | 0-20% | 1505 | 891.3438 | 1366 | 1101 | 1989 |  930 | 152800 | 801 | 50.0 | 1 |\n",
       "| 5 | 14000US37141920601 | 1.425989e-11 | 37141920601 | Pender   | 9206.01 | 596842.6 | 715.5177 | 5 | 0-20% | 1226 | 875.4509 | 1171 | 1102 | 1990 |  991 |  93700 | 518 | 50.0 | 2 |\n",
       "| 6 | 14000US37153970400 | 7.341589e-16 | 37153970400 | Richmond | 9704.00 | 307147.7 | 704.1077 | 5 | 0-20% | 1784 | 662.7341 | 1512 | 1278 | 1972 | 1221 |  89900 | 517 | 45.3 | 1 |\n",
       "\n"
      ],
      "text/plain": [
       "  GEO_ID             P.Adj        FIPS        County   Census_Tract Avg_ACRES\n",
       "1 14000US37141920201 2.912814e-09 37141920201 Pender   9202.01      596842.6 \n",
       "2 14000US37141920401 5.735517e-14 37141920401 Pender   9204.01      596842.6 \n",
       "3 14000US37141920402 2.225335e-09 37141920402 Pender   9204.02      596842.6 \n",
       "4 14000US37141920403 9.043270e-14 37141920403 Pender   9204.03      596842.6 \n",
       "5 14000US37141920601 1.425989e-11 37141920601 Pender   9206.01      596842.6 \n",
       "6 14000US37153970400 7.341589e-16 37153970400 Richmond 9704.00      307147.7 \n",
       "  Wildfire_Hazard_Potential_Mean Wildfire_Hazard_Potential_Quintile_Number\n",
       "1 715.5177                       5                                        \n",
       "2 715.5177                       5                                        \n",
       "3 715.5177                       5                                        \n",
       "4 715.5177                       5                                        \n",
       "5 715.5177                       5                                        \n",
       "6 704.1077                       5                                        \n",
       "  Wildfire_Hazard_Potential_Quintile_Percentage Total_Housing_Units\n",
       "1 0-20%                                         2385               \n",
       "2 0-20%                                          955               \n",
       "3 0-20%                                         1069               \n",
       "4 0-20%                                         1505               \n",
       "5 0-20%                                         1226               \n",
       "6 0-20%                                         1784               \n",
       "  Housing_Density Total_Occupied_Housing_Units\n",
       "1 961.7430        1773                        \n",
       "2 175.7199         752                        \n",
       "3 821.6787        1011                        \n",
       "4 891.3438        1366                        \n",
       "5 875.4509        1171                        \n",
       "6 662.7341        1512                        \n",
       "  Total_Owner_Occupied_Housing_Units Median_Year_Structure_Built\n",
       "1 1541                               1996                       \n",
       "2  566                               1976                       \n",
       "3  694                               1980                       \n",
       "4 1101                               1989                       \n",
       "5 1102                               1990                       \n",
       "6 1278                               1972                       \n",
       "  Owner_Occupied_Housing_Units_Less_than_HPI Median_House_Value\n",
       "1 1230                                       202400            \n",
       "2  531                                       106100            \n",
       "3  677                                       104300            \n",
       "4  930                                       152800            \n",
       "5  991                                        93700            \n",
       "6 1221                                        89900            \n",
       "  Median_Gross_Rent Median_Gross_Rent_Percentage_of_Household_Income Cluster\n",
       "1 821               17.6                                             1      \n",
       "2 712               24.5                                             3      \n",
       "3 708               34.3                                             1      \n",
       "4 801               50.0                                             1      \n",
       "5 518               50.0                                             2      \n",
       "6 517               45.3                                             1      "
      ]
     },
     "metadata": {},
     "output_type": "display_data"
    },
    {
     "data": {
      "text/html": [
       "<style>\n",
       ".list-inline {list-style: none; margin:0; padding: 0}\n",
       ".list-inline>li {display: inline-block}\n",
       ".list-inline>li:not(:last-child)::after {content: \"\\00b7\"; padding: 0 .5ex}\n",
       "</style>\n",
       "<ol class=list-inline><li>2156</li><li>19</li></ol>\n"
      ],
      "text/latex": [
       "\\begin{enumerate*}\n",
       "\\item 2156\n",
       "\\item 19\n",
       "\\end{enumerate*}\n"
      ],
      "text/markdown": [
       "1. 2156\n",
       "2. 19\n",
       "\n",
       "\n"
      ],
      "text/plain": [
       "[1] 2156   19"
      ]
     },
     "metadata": {},
     "output_type": "display_data"
    }
   ],
   "source": [
    "# creating 1 df\n",
    "# ejscreen_cluster_moran_df = inner_join(ejscreen_cluster_df[,c(1,7)], local_moran_df[,c(1,4)])\n",
    "# whp_housing_df = inner_join(whp_df, housing_df)\n",
    "\n",
    "full_df = reduce(list(local_moran_df[,c(1,4)], whp_df, housing_df, unique(ejscreen_cluster_df[,c(1,7)])), \n",
    "                 inner_join)\n",
    "head(full_df)\n",
    "\n",
    "dim(full_df)"
   ]
  },
  {
   "cell_type": "code",
   "execution_count": 25,
   "id": "093945e6",
   "metadata": {},
   "outputs": [
    {
     "data": {
      "text/html": [
       "<style>\n",
       ".list-inline {list-style: none; margin:0; padding: 0}\n",
       ".list-inline>li {display: inline-block}\n",
       ".list-inline>li:not(:last-child)::after {content: \"\\00b7\"; padding: 0 .5ex}\n",
       "</style>\n",
       "<ol class=list-inline><li>100</li><li>19</li></ol>\n"
      ],
      "text/latex": [
       "\\begin{enumerate*}\n",
       "\\item 100\n",
       "\\item 19\n",
       "\\end{enumerate*}\n"
      ],
      "text/markdown": [
       "1. 100\n",
       "2. 19\n",
       "\n",
       "\n"
      ],
      "text/plain": [
       "[1] 100  19"
      ]
     },
     "metadata": {},
     "output_type": "display_data"
    }
   ],
   "source": [
    "# filtering for geo ids that have a high risk WHP & are significantly correlated to its neighbors\n",
    "high_risk_df = full_df %>%\n",
    "    filter(Wildfire_Hazard_Potential_Mean > high_risk_WHP & P.Adj < 0.05)\n",
    "\n",
    "dim(high_risk_df)"
   ]
  },
  {
   "cell_type": "code",
   "execution_count": 26,
   "id": "e5ea9908",
   "metadata": {},
   "outputs": [
    {
     "data": {
      "text/html": [
       "<table class=\"dataframe\">\n",
       "<caption>A data.frame: 1 × 1</caption>\n",
       "<thead>\n",
       "\t<tr><th scope=col>Total_high_risk_Housing_Units</th></tr>\n",
       "\t<tr><th scope=col>&lt;dbl&gt;</th></tr>\n",
       "</thead>\n",
       "<tbody>\n",
       "\t<tr><td>205646</td></tr>\n",
       "</tbody>\n",
       "</table>\n"
      ],
      "text/latex": [
       "A data.frame: 1 × 1\n",
       "\\begin{tabular}{l}\n",
       " Total\\_high\\_risk\\_Housing\\_Units\\\\\n",
       " <dbl>\\\\\n",
       "\\hline\n",
       "\t 205646\\\\\n",
       "\\end{tabular}\n"
      ],
      "text/markdown": [
       "\n",
       "A data.frame: 1 × 1\n",
       "\n",
       "| Total_high_risk_Housing_Units &lt;dbl&gt; |\n",
       "|---|\n",
       "| 205646 |\n",
       "\n"
      ],
      "text/plain": [
       "  Total_high_risk_Housing_Units\n",
       "1 205646                       "
      ]
     },
     "metadata": {},
     "output_type": "display_data"
    }
   ],
   "source": [
    "# determinig the number of housing units in high risk GEO ids\n",
    "high_risk_df %>%\n",
    "    summarize(Total_high_risk_Housing_Units = sum(Total_Housing_Units))"
   ]
  },
  {
   "cell_type": "code",
   "execution_count": 27,
   "id": "9e8fddf3",
   "metadata": {},
   "outputs": [
    {
     "data": {
      "text/html": [
       "<table class=\"dataframe\">\n",
       "<caption>A data.frame: 1 × 1</caption>\n",
       "<thead>\n",
       "\t<tr><th scope=col>Total_NC_high_risk_Housing_Value</th></tr>\n",
       "\t<tr><th scope=col>&lt;chr&gt;</th></tr>\n",
       "</thead>\n",
       "<tbody>\n",
       "\t<tr><td>$30,599,076,993</td></tr>\n",
       "</tbody>\n",
       "</table>\n"
      ],
      "text/latex": [
       "A data.frame: 1 × 1\n",
       "\\begin{tabular}{l}\n",
       " Total\\_NC\\_high\\_risk\\_Housing\\_Value\\\\\n",
       " <chr>\\\\\n",
       "\\hline\n",
       "\t \\$30,599,076,993\\\\\n",
       "\\end{tabular}\n"
      ],
      "text/markdown": [
       "\n",
       "A data.frame: 1 × 1\n",
       "\n",
       "| Total_NC_high_risk_Housing_Value &lt;chr&gt; |\n",
       "|---|\n",
       "| $30,599,076,993 |\n",
       "\n"
      ],
      "text/plain": [
       "  Total_NC_high_risk_Housing_Value\n",
       "1 $30,599,076,993                 "
      ]
     },
     "metadata": {},
     "output_type": "display_data"
    }
   ],
   "source": [
    "# determinig the value of all the housing units in high risk GEO ids\n",
    "high_risk_df %>%\n",
    "    mutate(Total_Housing_Value_of_GEO_id = Total_Housing_Units * Median_House_Value) %>%\n",
    "    summarize(Total_NC_high_risk_Housing_Value = dollar(sum(Total_Housing_Value_of_GEO_id)))"
   ]
  },
  {
   "cell_type": "code",
   "execution_count": 30,
   "id": "2baab42d",
   "metadata": {},
   "outputs": [
    {
     "data": {
      "text/html": [
       "<style>\n",
       ".list-inline {list-style: none; margin:0; padding: 0}\n",
       ".list-inline>li {display: inline-block}\n",
       ".list-inline>li:not(:last-child)::after {content: \"\\00b7\"; padding: 0 .5ex}\n",
       "</style>\n",
       "<ol class=list-inline><li>48</li><li>19</li></ol>\n"
      ],
      "text/latex": [
       "\\begin{enumerate*}\n",
       "\\item 48\n",
       "\\item 19\n",
       "\\end{enumerate*}\n"
      ],
      "text/markdown": [
       "1. 48\n",
       "2. 19\n",
       "\n",
       "\n"
      ],
      "text/plain": [
       "[1] 48 19"
      ]
     },
     "metadata": {},
     "output_type": "display_data"
    },
    {
     "data": {
      "text/html": [
       "<table class=\"dataframe\">\n",
       "<caption>A data.frame: 1 × 1</caption>\n",
       "<thead>\n",
       "\t<tr><th scope=col>Total_high_risk_Housing_Units</th></tr>\n",
       "\t<tr><th scope=col>&lt;dbl&gt;</th></tr>\n",
       "</thead>\n",
       "<tbody>\n",
       "\t<tr><td>96922</td></tr>\n",
       "</tbody>\n",
       "</table>\n"
      ],
      "text/latex": [
       "A data.frame: 1 × 1\n",
       "\\begin{tabular}{l}\n",
       " Total\\_high\\_risk\\_Housing\\_Units\\\\\n",
       " <dbl>\\\\\n",
       "\\hline\n",
       "\t 96922\\\\\n",
       "\\end{tabular}\n"
      ],
      "text/markdown": [
       "\n",
       "A data.frame: 1 × 1\n",
       "\n",
       "| Total_high_risk_Housing_Units &lt;dbl&gt; |\n",
       "|---|\n",
       "| 96922 |\n",
       "\n"
      ],
      "text/plain": [
       "  Total_high_risk_Housing_Units\n",
       "1 96922                        "
      ]
     },
     "metadata": {},
     "output_type": "display_data"
    },
    {
     "data": {
      "text/html": [
       "<table class=\"dataframe\">\n",
       "<caption>A data.frame: 1 × 1</caption>\n",
       "<thead>\n",
       "\t<tr><th scope=col>Total_NC_high_risk_Housing_Value</th></tr>\n",
       "\t<tr><th scope=col>&lt;chr&gt;</th></tr>\n",
       "</thead>\n",
       "<tbody>\n",
       "\t<tr><td>$10,161,805,900</td></tr>\n",
       "</tbody>\n",
       "</table>\n"
      ],
      "text/latex": [
       "A data.frame: 1 × 1\n",
       "\\begin{tabular}{l}\n",
       " Total\\_NC\\_high\\_risk\\_Housing\\_Value\\\\\n",
       " <chr>\\\\\n",
       "\\hline\n",
       "\t \\$10,161,805,900\\\\\n",
       "\\end{tabular}\n"
      ],
      "text/markdown": [
       "\n",
       "A data.frame: 1 × 1\n",
       "\n",
       "| Total_NC_high_risk_Housing_Value &lt;chr&gt; |\n",
       "|---|\n",
       "| $10,161,805,900 |\n",
       "\n"
      ],
      "text/plain": [
       "  Total_NC_high_risk_Housing_Value\n",
       "1 $10,161,805,900                 "
      ]
     },
     "metadata": {},
     "output_type": "display_data"
    }
   ],
   "source": [
    "# filtering for geo ids that have a high risk WHP, are significantly correlated to its neighbors \n",
    "# and call within a more vulnerable ejscreen cluster (either 2 or 3)\n",
    "high_risk_ejscreen_df = full_df %>%\n",
    "    filter(Wildfire_Hazard_Potential_Mean > high_risk_WHP & P.Adj < 0.05 & Cluster != 1)\n",
    "\n",
    "dim(high_risk_ejscreen_df)\n",
    "\n",
    "# determinig the number of housing units in high risk GEO ids\n",
    "high_risk_ejscreen_df %>%\n",
    "    summarize(Total_high_risk_Housing_Units = sum(Total_Housing_Units))\n",
    "\n",
    "# determinig the value of all the housing units in high risk GEO ids\n",
    "high_risk_ejscreen_df %>%\n",
    "    mutate(Total_Housing_Value_of_GEO_id = Total_Housing_Units * Median_House_Value) %>%\n",
    "    summarize(Total_NC_high_risk_Housing_Value = dollar(sum(Total_Housing_Value_of_GEO_id)))"
   ]
  },
  {
   "cell_type": "markdown",
   "id": "be488be3",
   "metadata": {},
   "source": [
    "- Over **200,000 homes**, worth **\\$30.6B**, are located in 100 census tracts with elevated risk to future wildfire events. \n",
    "\n",
    "- Out of these 100 census tracts, 48 are considered to be more socioeconomically vulnerable. In addition, almost **half of the 200,000 homes with elevated wildfire risk are in socioeconomically vulnerable census tracts**, but are only **worth about a third of the total value of the high risk properties or \\$10.2B**. \n",
    "\n",
    "- This is based on the 2,156 GEO ids that were present in each of the datasets. "
   ]
  },
  {
   "cell_type": "code",
   "execution_count": null,
   "id": "a238dcf3",
   "metadata": {},
   "outputs": [],
   "source": []
  }
 ],
 "metadata": {
  "kernelspec": {
   "display_name": "R",
   "language": "R",
   "name": "ir"
  },
  "language_info": {
   "codemirror_mode": "r",
   "file_extension": ".r",
   "mimetype": "text/x-r-source",
   "name": "R",
   "pygments_lexer": "r",
   "version": "4.1.3"
  }
 },
 "nbformat": 4,
 "nbformat_minor": 5
}
