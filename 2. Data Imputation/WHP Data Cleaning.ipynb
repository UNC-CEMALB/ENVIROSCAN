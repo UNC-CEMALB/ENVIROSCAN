{
 "cells": [
  {
   "cell_type": "code",
   "execution_count": 1,
   "id": "17d82947",
   "metadata": {},
   "outputs": [
    {
     "name": "stderr",
     "output_type": "stream",
     "text": [
      "── \u001b[1mAttaching packages\u001b[22m ─────────────────────────────────────── tidyverse 1.3.2 ──\n",
      "\u001b[32m✔\u001b[39m \u001b[34mggplot2\u001b[39m 3.4.0      \u001b[32m✔\u001b[39m \u001b[34mpurrr  \u001b[39m 0.3.4 \n",
      "\u001b[32m✔\u001b[39m \u001b[34mtibble \u001b[39m 3.1.8      \u001b[32m✔\u001b[39m \u001b[34mdplyr  \u001b[39m 1.0.10\n",
      "\u001b[32m✔\u001b[39m \u001b[34mtidyr  \u001b[39m 1.2.1      \u001b[32m✔\u001b[39m \u001b[34mstringr\u001b[39m 1.4.1 \n",
      "\u001b[32m✔\u001b[39m \u001b[34mreadr  \u001b[39m 2.1.2      \u001b[32m✔\u001b[39m \u001b[34mforcats\u001b[39m 0.5.2 \n",
      "── \u001b[1mConflicts\u001b[22m ────────────────────────────────────────── tidyverse_conflicts() ──\n",
      "\u001b[31m✖\u001b[39m \u001b[34mdplyr\u001b[39m::\u001b[32mfilter()\u001b[39m masks \u001b[34mstats\u001b[39m::filter()\n",
      "\u001b[31m✖\u001b[39m \u001b[34mdplyr\u001b[39m::\u001b[32mlag()\u001b[39m    masks \u001b[34mstats\u001b[39m::lag()\n",
      "Warning message in apply(whp_df[, 3:4], 2, as.numeric):\n",
      "“NAs introduced by coercion”\n",
      "Warning message in apply(whp_df[, 3:4], 2, as.numeric):\n",
      "“NAs introduced by coercion”\n"
     ]
    }
   ],
   "source": [
    "setwd('/Users/alexis/Library/CloudStorage/OneDrive-UniversityofNorthCarolinaatChapelHill/CEMALB_DataAnalysisPM/Projects/P1009. NC ENVRIOSCAN/P1009.3. Analyses/P1009.3.2. Data Cleaning/Input')\n",
    "Output = ('/Users/alexis/Library/CloudStorage/OneDrive-UniversityofNorthCarolinaatChapelHill/CEMALB_DataAnalysisPM/Projects/P1009. NC ENVRIOSCAN/P1009.3. Analyses/P1009.3.2. Data Cleaning/Output')\n",
    "cur_date = '030923'\n",
    "\n",
    "library(readxl)\n",
    "library(tidyverse)\n",
    "\n",
    "# reading in files\n",
    "county_df = data.frame(read_excel(\"nc.xls\"))\n",
    "whp_df = data.frame(read_excel(\"Wildfire_Hazard_010323.xlsx\", sheet = 2))\n",
    "# making the last 2 cols numeric\n",
    "whp_df[,3:4] = apply(whp_df[,3:4], 2, as.numeric)"
   ]
  },
  {
   "cell_type": "code",
   "execution_count": 2,
   "id": "7fd1d491",
   "metadata": {},
   "outputs": [
    {
     "data": {
      "text/html": [
       "<table class=\"dataframe\">\n",
       "<caption>A data.frame: 6 × 4</caption>\n",
       "<thead>\n",
       "\t<tr><th></th><th scope=col>STATE</th><th scope=col>LOGRECNO</th><th scope=col>GEO_ID</th><th scope=col>GEOGRAPHY.NAME</th></tr>\n",
       "\t<tr><th></th><th scope=col>&lt;chr&gt;</th><th scope=col>&lt;chr&gt;</th><th scope=col>&lt;chr&gt;</th><th scope=col>&lt;chr&gt;</th></tr>\n",
       "</thead>\n",
       "<tbody>\n",
       "\t<tr><th scope=row>1</th><td>NC</td><td>0000001</td><td>04000US37</td><td>North Carolina                                                         </td></tr>\n",
       "\t<tr><th scope=row>2</th><td>NC</td><td>0000002</td><td>04001US37</td><td>North Carolina -- Urban                                                </td></tr>\n",
       "\t<tr><th scope=row>3</th><td>NC</td><td>0000003</td><td>04043US37</td><td>North Carolina -- Rural                                                </td></tr>\n",
       "\t<tr><th scope=row>4</th><td>NC</td><td>0000004</td><td>040A0US37</td><td>North Carolina -- In metropolitan or micropolitan statistical area     </td></tr>\n",
       "\t<tr><th scope=row>5</th><td>NC</td><td>0000005</td><td>040C0US37</td><td>North Carolina -- In metropolitan statistical area                     </td></tr>\n",
       "\t<tr><th scope=row>6</th><td>NC</td><td>0000006</td><td>040C1US37</td><td>North Carolina -- In metropolitan statistical area -- in principal city</td></tr>\n",
       "</tbody>\n",
       "</table>\n"
      ],
      "text/latex": [
       "A data.frame: 6 × 4\n",
       "\\begin{tabular}{r|llll}\n",
       "  & STATE & LOGRECNO & GEO\\_ID & GEOGRAPHY.NAME\\\\\n",
       "  & <chr> & <chr> & <chr> & <chr>\\\\\n",
       "\\hline\n",
       "\t1 & NC & 0000001 & 04000US37 & North Carolina                                                         \\\\\n",
       "\t2 & NC & 0000002 & 04001US37 & North Carolina -- Urban                                                \\\\\n",
       "\t3 & NC & 0000003 & 04043US37 & North Carolina -- Rural                                                \\\\\n",
       "\t4 & NC & 0000004 & 040A0US37 & North Carolina -- In metropolitan or micropolitan statistical area     \\\\\n",
       "\t5 & NC & 0000005 & 040C0US37 & North Carolina -- In metropolitan statistical area                     \\\\\n",
       "\t6 & NC & 0000006 & 040C1US37 & North Carolina -- In metropolitan statistical area -- in principal city\\\\\n",
       "\\end{tabular}\n"
      ],
      "text/markdown": [
       "\n",
       "A data.frame: 6 × 4\n",
       "\n",
       "| <!--/--> | STATE &lt;chr&gt; | LOGRECNO &lt;chr&gt; | GEO_ID &lt;chr&gt; | GEOGRAPHY.NAME &lt;chr&gt; |\n",
       "|---|---|---|---|---|\n",
       "| 1 | NC | 0000001 | 04000US37 | North Carolina                                                          |\n",
       "| 2 | NC | 0000002 | 04001US37 | North Carolina -- Urban                                                 |\n",
       "| 3 | NC | 0000003 | 04043US37 | North Carolina -- Rural                                                 |\n",
       "| 4 | NC | 0000004 | 040A0US37 | North Carolina -- In metropolitan or micropolitan statistical area      |\n",
       "| 5 | NC | 0000005 | 040C0US37 | North Carolina -- In metropolitan statistical area                      |\n",
       "| 6 | NC | 0000006 | 040C1US37 | North Carolina -- In metropolitan statistical area -- in principal city |\n",
       "\n"
      ],
      "text/plain": [
       "  STATE LOGRECNO GEO_ID   \n",
       "1 NC    0000001  04000US37\n",
       "2 NC    0000002  04001US37\n",
       "3 NC    0000003  04043US37\n",
       "4 NC    0000004  040A0US37\n",
       "5 NC    0000005  040C0US37\n",
       "6 NC    0000006  040C1US37\n",
       "  GEOGRAPHY.NAME                                                         \n",
       "1 North Carolina                                                         \n",
       "2 North Carolina -- Urban                                                \n",
       "3 North Carolina -- Rural                                                \n",
       "4 North Carolina -- In metropolitan or micropolitan statistical area     \n",
       "5 North Carolina -- In metropolitan statistical area                     \n",
       "6 North Carolina -- In metropolitan statistical area -- in principal city"
      ]
     },
     "metadata": {},
     "output_type": "display_data"
    },
    {
     "data": {
      "text/html": [
       "<table class=\"dataframe\">\n",
       "<caption>A data.frame: 6 × 4</caption>\n",
       "<thead>\n",
       "\t<tr><th></th><th scope=col>GEO_ID</th><th scope=col>Census_Tract</th><th scope=col>Avg_ACRES</th><th scope=col>Wildfire_Hazard_Potential_Mean</th></tr>\n",
       "\t<tr><th></th><th scope=col>&lt;chr&gt;</th><th scope=col>&lt;dbl&gt;</th><th scope=col>&lt;dbl&gt;</th><th scope=col>&lt;dbl&gt;</th></tr>\n",
       "</thead>\n",
       "<tbody>\n",
       "\t<tr><th scope=row>1</th><td>14000US37119005916</td><td> 59.16</td><td>349323.3</td><td>139.2436</td></tr>\n",
       "\t<tr><th scope=row>2</th><td>14000US37119003808</td><td> 38.08</td><td>349323.3</td><td>139.2436</td></tr>\n",
       "\t<tr><th scope=row>3</th><td>14000US37119005918</td><td> 59.18</td><td>349323.3</td><td>139.2436</td></tr>\n",
       "\t<tr><th scope=row>4</th><td>14000US37119005914</td><td> 59.14</td><td>349323.3</td><td>139.2436</td></tr>\n",
       "\t<tr><th scope=row>5</th><td>14000US37071031004</td><td>310.04</td><td>233025.3</td><td>188.1261</td></tr>\n",
       "\t<tr><th scope=row>6</th><td>14000US37071031201</td><td>312.01</td><td>291174.3</td><td>163.6849</td></tr>\n",
       "</tbody>\n",
       "</table>\n"
      ],
      "text/latex": [
       "A data.frame: 6 × 4\n",
       "\\begin{tabular}{r|llll}\n",
       "  & GEO\\_ID & Census\\_Tract & Avg\\_ACRES & Wildfire\\_Hazard\\_Potential\\_Mean\\\\\n",
       "  & <chr> & <dbl> & <dbl> & <dbl>\\\\\n",
       "\\hline\n",
       "\t1 & 14000US37119005916 &  59.16 & 349323.3 & 139.2436\\\\\n",
       "\t2 & 14000US37119003808 &  38.08 & 349323.3 & 139.2436\\\\\n",
       "\t3 & 14000US37119005918 &  59.18 & 349323.3 & 139.2436\\\\\n",
       "\t4 & 14000US37119005914 &  59.14 & 349323.3 & 139.2436\\\\\n",
       "\t5 & 14000US37071031004 & 310.04 & 233025.3 & 188.1261\\\\\n",
       "\t6 & 14000US37071031201 & 312.01 & 291174.3 & 163.6849\\\\\n",
       "\\end{tabular}\n"
      ],
      "text/markdown": [
       "\n",
       "A data.frame: 6 × 4\n",
       "\n",
       "| <!--/--> | GEO_ID &lt;chr&gt; | Census_Tract &lt;dbl&gt; | Avg_ACRES &lt;dbl&gt; | Wildfire_Hazard_Potential_Mean &lt;dbl&gt; |\n",
       "|---|---|---|---|---|\n",
       "| 1 | 14000US37119005916 |  59.16 | 349323.3 | 139.2436 |\n",
       "| 2 | 14000US37119003808 |  38.08 | 349323.3 | 139.2436 |\n",
       "| 3 | 14000US37119005918 |  59.18 | 349323.3 | 139.2436 |\n",
       "| 4 | 14000US37119005914 |  59.14 | 349323.3 | 139.2436 |\n",
       "| 5 | 14000US37071031004 | 310.04 | 233025.3 | 188.1261 |\n",
       "| 6 | 14000US37071031201 | 312.01 | 291174.3 | 163.6849 |\n",
       "\n"
      ],
      "text/plain": [
       "  GEO_ID             Census_Tract Avg_ACRES Wildfire_Hazard_Potential_Mean\n",
       "1 14000US37119005916  59.16       349323.3  139.2436                      \n",
       "2 14000US37119003808  38.08       349323.3  139.2436                      \n",
       "3 14000US37119005918  59.18       349323.3  139.2436                      \n",
       "4 14000US37119005914  59.14       349323.3  139.2436                      \n",
       "5 14000US37071031004 310.04       233025.3  188.1261                      \n",
       "6 14000US37071031201 312.01       291174.3  163.6849                      "
      ]
     },
     "metadata": {},
     "output_type": "display_data"
    }
   ],
   "source": [
    "head(county_df)\n",
    "head(whp_df)"
   ]
  },
  {
   "cell_type": "code",
   "execution_count": 3,
   "id": "7f988fe7",
   "metadata": {},
   "outputs": [
    {
     "data": {
      "text/html": [
       "2194"
      ],
      "text/latex": [
       "2194"
      ],
      "text/markdown": [
       "2194"
      ],
      "text/plain": [
       "[1] 2194"
      ]
     },
     "metadata": {},
     "output_type": "display_data"
    }
   ],
   "source": [
    "length(unique(whp_df$GEO_ID))"
   ]
  },
  {
   "cell_type": "code",
   "execution_count": 4,
   "id": "5991cca8",
   "metadata": {},
   "outputs": [
    {
     "data": {
      "text/html": [
       "'14000US37101041103'"
      ],
      "text/latex": [
       "'14000US37101041103'"
      ],
      "text/markdown": [
       "'14000US37101041103'"
      ],
      "text/plain": [
       "[1] \"14000US37101041103\""
      ]
     },
     "metadata": {},
     "output_type": "display_data"
    }
   ],
   "source": [
    "whp_df$GEO_ID[duplicated(whp_df$GEO_ID)]"
   ]
  },
  {
   "cell_type": "markdown",
   "id": "692715db",
   "metadata": {},
   "source": [
    "NC has 2,195 geo ids/ census tracts, so we're missing one."
   ]
  },
  {
   "cell_type": "code",
   "execution_count": 5,
   "id": "e0f79578",
   "metadata": {},
   "outputs": [
    {
     "data": {
      "text/html": [
       "<table class=\"dataframe\">\n",
       "<caption>A data.frame: 5 × 4</caption>\n",
       "<thead>\n",
       "\t<tr><th></th><th scope=col>GEO_ID</th><th scope=col>Census_Tract</th><th scope=col>Avg_ACRES</th><th scope=col>Wildfire_Hazard_Potential_Mean</th></tr>\n",
       "\t<tr><th></th><th scope=col>&lt;chr&gt;</th><th scope=col>&lt;dbl&gt;</th><th scope=col>&lt;dbl&gt;</th><th scope=col>&lt;dbl&gt;</th></tr>\n",
       "</thead>\n",
       "<tbody>\n",
       "\t<tr><th scope=row>372</th><td>14000US37095990100</td><td>9901</td><td>NA</td><td>NA</td></tr>\n",
       "\t<tr><th scope=row>649</th><td>14000US37031990200</td><td>9902</td><td>NA</td><td>NA</td></tr>\n",
       "\t<tr><th scope=row>819</th><td>14000US37095990200</td><td>9902</td><td>NA</td><td>NA</td></tr>\n",
       "\t<tr><th scope=row>865</th><td>14000US37137990100</td><td>9901</td><td>NA</td><td>NA</td></tr>\n",
       "\t<tr><th scope=row>1229</th><td>14000US37055990200</td><td>9902</td><td>NA</td><td>NA</td></tr>\n",
       "</tbody>\n",
       "</table>\n"
      ],
      "text/latex": [
       "A data.frame: 5 × 4\n",
       "\\begin{tabular}{r|llll}\n",
       "  & GEO\\_ID & Census\\_Tract & Avg\\_ACRES & Wildfire\\_Hazard\\_Potential\\_Mean\\\\\n",
       "  & <chr> & <dbl> & <dbl> & <dbl>\\\\\n",
       "\\hline\n",
       "\t372 & 14000US37095990100 & 9901 & NA & NA\\\\\n",
       "\t649 & 14000US37031990200 & 9902 & NA & NA\\\\\n",
       "\t819 & 14000US37095990200 & 9902 & NA & NA\\\\\n",
       "\t865 & 14000US37137990100 & 9901 & NA & NA\\\\\n",
       "\t1229 & 14000US37055990200 & 9902 & NA & NA\\\\\n",
       "\\end{tabular}\n"
      ],
      "text/markdown": [
       "\n",
       "A data.frame: 5 × 4\n",
       "\n",
       "| <!--/--> | GEO_ID &lt;chr&gt; | Census_Tract &lt;dbl&gt; | Avg_ACRES &lt;dbl&gt; | Wildfire_Hazard_Potential_Mean &lt;dbl&gt; |\n",
       "|---|---|---|---|---|\n",
       "| 372 | 14000US37095990100 | 9901 | NA | NA |\n",
       "| 649 | 14000US37031990200 | 9902 | NA | NA |\n",
       "| 819 | 14000US37095990200 | 9902 | NA | NA |\n",
       "| 865 | 14000US37137990100 | 9901 | NA | NA |\n",
       "| 1229 | 14000US37055990200 | 9902 | NA | NA |\n",
       "\n"
      ],
      "text/plain": [
       "     GEO_ID             Census_Tract Avg_ACRES Wildfire_Hazard_Potential_Mean\n",
       "372  14000US37095990100 9901         NA        NA                            \n",
       "649  14000US37031990200 9902         NA        NA                            \n",
       "819  14000US37095990200 9902         NA        NA                            \n",
       "865  14000US37137990100 9901         NA        NA                            \n",
       "1229 14000US37055990200 9902         NA        NA                            "
      ]
     },
     "metadata": {},
     "output_type": "display_data"
    }
   ],
   "source": [
    "# figuring out if we have any missing data in our whp df\n",
    "whp_df[!complete.cases(whp_df),]"
   ]
  },
  {
   "cell_type": "markdown",
   "id": "632305e3",
   "metadata": {},
   "source": [
    "These 5 census tracts are located on the coast and have a population of 0, which is probably why there's no data for them. However, I'll keep them in the dataset and impute their values."
   ]
  },
  {
   "cell_type": "code",
   "execution_count": 6,
   "id": "85c534e3",
   "metadata": {},
   "outputs": [
    {
     "data": {
      "text/html": [
       "<style>\n",
       ".list-inline {list-style: none; margin:0; padding: 0}\n",
       ".list-inline>li {display: inline-block}\n",
       ".list-inline>li:not(:last-child)::after {content: \"\\00b7\"; padding: 0 .5ex}\n",
       "</style>\n",
       "<ol class=list-inline><li>2195</li><li>4</li></ol>\n"
      ],
      "text/latex": [
       "\\begin{enumerate*}\n",
       "\\item 2195\n",
       "\\item 4\n",
       "\\end{enumerate*}\n"
      ],
      "text/markdown": [
       "1. 2195\n",
       "2. 4\n",
       "\n",
       "\n"
      ],
      "text/plain": [
       "[1] 2195    4"
      ]
     },
     "metadata": {},
     "output_type": "display_data"
    }
   ],
   "source": [
    "# removing the duplicate entry\n",
    "whp_df = unique(whp_df) %>%\n",
    "# adding an entry to the whp_df for the missing geo id to make join easier\n",
    "    add_row(GEO_ID = \"14000US37101041202\", Census_Tract = NA, Avg_ACRES = NA, \n",
    "            Wildfire_Hazard_Potential_Mean = NA) \n",
    "\n",
    "dim(whp_df)"
   ]
  },
  {
   "cell_type": "markdown",
   "id": "5ec81b12",
   "metadata": {},
   "source": [
    "Great! Now we have 2,195 geo ids."
   ]
  },
  {
   "cell_type": "code",
   "execution_count": 7,
   "id": "760b356a",
   "metadata": {},
   "outputs": [
    {
     "name": "stderr",
     "output_type": "stream",
     "text": [
      "\u001b[1m\u001b[22mJoining, by = \"GEO_ID\"\n"
     ]
    },
    {
     "data": {
      "text/html": [
       "<table class=\"dataframe\">\n",
       "<caption>A data.frame: 6 × 5</caption>\n",
       "<thead>\n",
       "\t<tr><th></th><th scope=col>GEO_ID</th><th scope=col>County</th><th scope=col>Census_Tract</th><th scope=col>Avg_ACRES</th><th scope=col>Wildfire_Hazard_Potential_Mean</th></tr>\n",
       "\t<tr><th></th><th scope=col>&lt;chr&gt;</th><th scope=col>&lt;chr&gt;</th><th scope=col>&lt;dbl&gt;</th><th scope=col>&lt;dbl&gt;</th><th scope=col>&lt;dbl&gt;</th></tr>\n",
       "</thead>\n",
       "<tbody>\n",
       "\t<tr><th scope=row>1</th><td>14000US37001020100</td><td>Alamance County</td><td>201.00</td><td>278233.8</td><td>92.23704</td></tr>\n",
       "\t<tr><th scope=row>2</th><td>14000US37001020200</td><td>Alamance County</td><td>202.00</td><td>278233.8</td><td>92.23704</td></tr>\n",
       "\t<tr><th scope=row>3</th><td>14000US37001020300</td><td>Alamance County</td><td>203.00</td><td>278233.8</td><td>92.23704</td></tr>\n",
       "\t<tr><th scope=row>4</th><td>14000US37001020400</td><td>Alamance County</td><td>204.00</td><td>278233.8</td><td>92.23704</td></tr>\n",
       "\t<tr><th scope=row>5</th><td>14000US37001020501</td><td>Alamance County</td><td>205.01</td><td>278233.8</td><td>92.23704</td></tr>\n",
       "\t<tr><th scope=row>6</th><td>14000US37001020502</td><td>Alamance County</td><td>205.02</td><td>278233.8</td><td>92.23704</td></tr>\n",
       "</tbody>\n",
       "</table>\n"
      ],
      "text/latex": [
       "A data.frame: 6 × 5\n",
       "\\begin{tabular}{r|lllll}\n",
       "  & GEO\\_ID & County & Census\\_Tract & Avg\\_ACRES & Wildfire\\_Hazard\\_Potential\\_Mean\\\\\n",
       "  & <chr> & <chr> & <dbl> & <dbl> & <dbl>\\\\\n",
       "\\hline\n",
       "\t1 & 14000US37001020100 & Alamance County & 201.00 & 278233.8 & 92.23704\\\\\n",
       "\t2 & 14000US37001020200 & Alamance County & 202.00 & 278233.8 & 92.23704\\\\\n",
       "\t3 & 14000US37001020300 & Alamance County & 203.00 & 278233.8 & 92.23704\\\\\n",
       "\t4 & 14000US37001020400 & Alamance County & 204.00 & 278233.8 & 92.23704\\\\\n",
       "\t5 & 14000US37001020501 & Alamance County & 205.01 & 278233.8 & 92.23704\\\\\n",
       "\t6 & 14000US37001020502 & Alamance County & 205.02 & 278233.8 & 92.23704\\\\\n",
       "\\end{tabular}\n"
      ],
      "text/markdown": [
       "\n",
       "A data.frame: 6 × 5\n",
       "\n",
       "| <!--/--> | GEO_ID &lt;chr&gt; | County &lt;chr&gt; | Census_Tract &lt;dbl&gt; | Avg_ACRES &lt;dbl&gt; | Wildfire_Hazard_Potential_Mean &lt;dbl&gt; |\n",
       "|---|---|---|---|---|---|\n",
       "| 1 | 14000US37001020100 | Alamance County | 201.00 | 278233.8 | 92.23704 |\n",
       "| 2 | 14000US37001020200 | Alamance County | 202.00 | 278233.8 | 92.23704 |\n",
       "| 3 | 14000US37001020300 | Alamance County | 203.00 | 278233.8 | 92.23704 |\n",
       "| 4 | 14000US37001020400 | Alamance County | 204.00 | 278233.8 | 92.23704 |\n",
       "| 5 | 14000US37001020501 | Alamance County | 205.01 | 278233.8 | 92.23704 |\n",
       "| 6 | 14000US37001020502 | Alamance County | 205.02 | 278233.8 | 92.23704 |\n",
       "\n"
      ],
      "text/plain": [
       "  GEO_ID             County          Census_Tract Avg_ACRES\n",
       "1 14000US37001020100 Alamance County 201.00       278233.8 \n",
       "2 14000US37001020200 Alamance County 202.00       278233.8 \n",
       "3 14000US37001020300 Alamance County 203.00       278233.8 \n",
       "4 14000US37001020400 Alamance County 204.00       278233.8 \n",
       "5 14000US37001020501 Alamance County 205.01       278233.8 \n",
       "6 14000US37001020502 Alamance County 205.02       278233.8 \n",
       "  Wildfire_Hazard_Potential_Mean\n",
       "1 92.23704                      \n",
       "2 92.23704                      \n",
       "3 92.23704                      \n",
       "4 92.23704                      \n",
       "5 92.23704                      \n",
       "6 92.23704                      "
      ]
     },
     "metadata": {},
     "output_type": "display_data"
    }
   ],
   "source": [
    "# adding in county names\n",
    "combined_df = right_join(county_df[,3:4], whp_df) %>%\n",
    "    # cleaning up county col\n",
    "    separate(GEOGRAPHY.NAME, c(NA, \"County\", NA), sep = \", \")\n",
    "\n",
    "head(combined_df)"
   ]
  },
  {
   "cell_type": "code",
   "execution_count": 8,
   "id": "68a26681",
   "metadata": {},
   "outputs": [
    {
     "data": {
      "text/html": [
       "2195"
      ],
      "text/latex": [
       "2195"
      ],
      "text/markdown": [
       "2195"
      ],
      "text/plain": [
       "[1] 2195"
      ]
     },
     "metadata": {},
     "output_type": "display_data"
    }
   ],
   "source": [
    "# NC has 2,195 census tracts (geo ids), how many do we have in this df?\n",
    "length(unique(combined_df$GEO_ID))"
   ]
  },
  {
   "cell_type": "code",
   "execution_count": 9,
   "id": "5e3aca61",
   "metadata": {},
   "outputs": [],
   "source": [
    "# exporting data\n",
    "write.csv(combined_df, paste0(Output,\"/\", cur_date, \"_WHP_Data.csv\"), row.names = FALSE)"
   ]
  },
  {
   "cell_type": "code",
   "execution_count": null,
   "id": "73d5fa8e",
   "metadata": {},
   "outputs": [],
   "source": []
  }
 ],
 "metadata": {
  "kernelspec": {
   "display_name": "R",
   "language": "R",
   "name": "ir"
  },
  "language_info": {
   "codemirror_mode": "r",
   "file_extension": ".r",
   "mimetype": "text/x-r-source",
   "name": "R",
   "pygments_lexer": "r",
   "version": "4.1.3"
  }
 },
 "nbformat": 4,
 "nbformat_minor": 5
}
