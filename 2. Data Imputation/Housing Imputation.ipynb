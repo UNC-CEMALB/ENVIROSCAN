{
 "cells": [
  {
   "cell_type": "code",
   "execution_count": 1,
   "id": "47dec6a1",
   "metadata": {},
   "outputs": [
    {
     "name": "stderr",
     "output_type": "stream",
     "text": [
      "── \u001b[1mAttaching packages\u001b[22m ─────────────────────────────────────── tidyverse 1.3.2 ──\n",
      "\u001b[32m✔\u001b[39m \u001b[34mggplot2\u001b[39m 3.4.0      \u001b[32m✔\u001b[39m \u001b[34mpurrr  \u001b[39m 0.3.4 \n",
      "\u001b[32m✔\u001b[39m \u001b[34mtibble \u001b[39m 3.1.8      \u001b[32m✔\u001b[39m \u001b[34mdplyr  \u001b[39m 1.0.10\n",
      "\u001b[32m✔\u001b[39m \u001b[34mtidyr  \u001b[39m 1.2.1      \u001b[32m✔\u001b[39m \u001b[34mstringr\u001b[39m 1.4.1 \n",
      "\u001b[32m✔\u001b[39m \u001b[34mreadr  \u001b[39m 2.1.2      \u001b[32m✔\u001b[39m \u001b[34mforcats\u001b[39m 0.5.2 \n",
      "── \u001b[1mConflicts\u001b[22m ────────────────────────────────────────── tidyverse_conflicts() ──\n",
      "\u001b[31m✖\u001b[39m \u001b[34mdplyr\u001b[39m::\u001b[32mfilter()\u001b[39m masks \u001b[34mstats\u001b[39m::filter()\n",
      "\u001b[31m✖\u001b[39m \u001b[34mdplyr\u001b[39m::\u001b[32mlag()\u001b[39m    masks \u001b[34mstats\u001b[39m::lag()\n",
      "\n",
      "Attaching package: ‘reshape2’\n",
      "\n",
      "\n",
      "The following object is masked from ‘package:tidyr’:\n",
      "\n",
      "    smiths\n",
      "\n",
      "\n",
      "Warning message in eval(expr, envir, enclos):\n",
      "“NAs introduced by coercion”\n",
      "Warning message in eval(expr, envir, enclos):\n",
      "“NAs introduced by coercion”\n",
      "Warning message in eval(expr, envir, enclos):\n",
      "“NAs introduced by coercion”\n"
     ]
    }
   ],
   "source": [
    "setwd('/Users/alexis/Library/CloudStorage/OneDrive-UniversityofNorthCarolinaatChapelHill/CEMALB_DataAnalysisPM/Projects/P1009. NC ENVRIOSCAN/P1009.3. Analyses/P1009.3.3. Data Imputation')\n",
    "Output = ('/Users/alexis/Library/CloudStorage/OneDrive-UniversityofNorthCarolinaatChapelHill/CEMALB_DataAnalysisPM/Projects/P1009. NC ENVRIOSCAN/P1009.3. Analyses/P1009.3.3. Data Imputation/Output')\n",
    "cur_date = \"020223\"\n",
    "\n",
    "library(readxl)\n",
    "library(tidyverse)\n",
    "library(reshape2)\n",
    "library(missForest)\n",
    "\n",
    "# reading in files\n",
    "housing_df = data.frame(read_excel(\"Input/Housing_Data_013023.xlsx\", sheet = 2))\n",
    "\n",
    "# making some of the cols numeric\n",
    "housing_df$Median_House_Value = as.numeric(housing_df$Median_House_Value)\n",
    "housing_df$Median_Gross_Rent = as.numeric(housing_df$Median_Gross_Rent)\n",
    "housing_df$Median_Gross_Rent_Percentage_of_Household_Income = as.numeric(housing_df$Median_Gross_Rent_Percentage_of_Household_Income)"
   ]
  },
  {
   "cell_type": "code",
   "execution_count": 2,
   "id": "54808319",
   "metadata": {},
   "outputs": [
    {
     "data": {
      "text/html": [
       "<table class=\"dataframe\">\n",
       "<caption>A data.frame: 6 × 8</caption>\n",
       "<thead>\n",
       "\t<tr><th></th><th scope=col>GEO_ID</th><th scope=col>Census_Tract</th><th scope=col>County</th><th scope=col>Owner_Occupied_Housing_Units</th><th scope=col>Owner_Occupied_Housing_Units_Less_than_HPI</th><th scope=col>Median_House_Value</th><th scope=col>Median_Gross_Rent</th><th scope=col>Median_Gross_Rent_Percentage_of_Household_Income</th></tr>\n",
       "\t<tr><th></th><th scope=col>&lt;chr&gt;</th><th scope=col>&lt;dbl&gt;</th><th scope=col>&lt;chr&gt;</th><th scope=col>&lt;dbl&gt;</th><th scope=col>&lt;dbl&gt;</th><th scope=col>&lt;dbl&gt;</th><th scope=col>&lt;dbl&gt;</th><th scope=col>&lt;dbl&gt;</th></tr>\n",
       "</thead>\n",
       "<tbody>\n",
       "\t<tr><th scope=row>1</th><td>14000US37001020100</td><td>201.00</td><td>Alamance</td><td> 853</td><td> 604</td><td>204300</td><td>619</td><td>25.2</td></tr>\n",
       "\t<tr><th scope=row>2</th><td>14000US37001020200</td><td>202.00</td><td>Alamance</td><td> 686</td><td> 673</td><td> 79800</td><td>759</td><td>33.3</td></tr>\n",
       "\t<tr><th scope=row>3</th><td>14000US37001020301</td><td>203.01</td><td>Alamance</td><td> 621</td><td> 621</td><td> 95900</td><td>847</td><td>40.0</td></tr>\n",
       "\t<tr><th scope=row>4</th><td>14000US37001020302</td><td>203.02</td><td>Alamance</td><td> 935</td><td> 906</td><td> 88700</td><td>954</td><td>19.9</td></tr>\n",
       "\t<tr><th scope=row>5</th><td>14000US37001020400</td><td>204.00</td><td>Alamance</td><td>1475</td><td>1433</td><td> 85700</td><td>767</td><td>27.3</td></tr>\n",
       "\t<tr><th scope=row>6</th><td>14000US37001020501</td><td>205.01</td><td>Alamance</td><td> 950</td><td> 845</td><td>160200</td><td>811</td><td>21.2</td></tr>\n",
       "</tbody>\n",
       "</table>\n"
      ],
      "text/latex": [
       "A data.frame: 6 × 8\n",
       "\\begin{tabular}{r|llllllll}\n",
       "  & GEO\\_ID & Census\\_Tract & County & Owner\\_Occupied\\_Housing\\_Units & Owner\\_Occupied\\_Housing\\_Units\\_Less\\_than\\_HPI & Median\\_House\\_Value & Median\\_Gross\\_Rent & Median\\_Gross\\_Rent\\_Percentage\\_of\\_Household\\_Income\\\\\n",
       "  & <chr> & <dbl> & <chr> & <dbl> & <dbl> & <dbl> & <dbl> & <dbl>\\\\\n",
       "\\hline\n",
       "\t1 & 14000US37001020100 & 201.00 & Alamance &  853 &  604 & 204300 & 619 & 25.2\\\\\n",
       "\t2 & 14000US37001020200 & 202.00 & Alamance &  686 &  673 &  79800 & 759 & 33.3\\\\\n",
       "\t3 & 14000US37001020301 & 203.01 & Alamance &  621 &  621 &  95900 & 847 & 40.0\\\\\n",
       "\t4 & 14000US37001020302 & 203.02 & Alamance &  935 &  906 &  88700 & 954 & 19.9\\\\\n",
       "\t5 & 14000US37001020400 & 204.00 & Alamance & 1475 & 1433 &  85700 & 767 & 27.3\\\\\n",
       "\t6 & 14000US37001020501 & 205.01 & Alamance &  950 &  845 & 160200 & 811 & 21.2\\\\\n",
       "\\end{tabular}\n"
      ],
      "text/markdown": [
       "\n",
       "A data.frame: 6 × 8\n",
       "\n",
       "| <!--/--> | GEO_ID &lt;chr&gt; | Census_Tract &lt;dbl&gt; | County &lt;chr&gt; | Owner_Occupied_Housing_Units &lt;dbl&gt; | Owner_Occupied_Housing_Units_Less_than_HPI &lt;dbl&gt; | Median_House_Value &lt;dbl&gt; | Median_Gross_Rent &lt;dbl&gt; | Median_Gross_Rent_Percentage_of_Household_Income &lt;dbl&gt; |\n",
       "|---|---|---|---|---|---|---|---|---|\n",
       "| 1 | 14000US37001020100 | 201.00 | Alamance |  853 |  604 | 204300 | 619 | 25.2 |\n",
       "| 2 | 14000US37001020200 | 202.00 | Alamance |  686 |  673 |  79800 | 759 | 33.3 |\n",
       "| 3 | 14000US37001020301 | 203.01 | Alamance |  621 |  621 |  95900 | 847 | 40.0 |\n",
       "| 4 | 14000US37001020302 | 203.02 | Alamance |  935 |  906 |  88700 | 954 | 19.9 |\n",
       "| 5 | 14000US37001020400 | 204.00 | Alamance | 1475 | 1433 |  85700 | 767 | 27.3 |\n",
       "| 6 | 14000US37001020501 | 205.01 | Alamance |  950 |  845 | 160200 | 811 | 21.2 |\n",
       "\n"
      ],
      "text/plain": [
       "  GEO_ID             Census_Tract County   Owner_Occupied_Housing_Units\n",
       "1 14000US37001020100 201.00       Alamance  853                        \n",
       "2 14000US37001020200 202.00       Alamance  686                        \n",
       "3 14000US37001020301 203.01       Alamance  621                        \n",
       "4 14000US37001020302 203.02       Alamance  935                        \n",
       "5 14000US37001020400 204.00       Alamance 1475                        \n",
       "6 14000US37001020501 205.01       Alamance  950                        \n",
       "  Owner_Occupied_Housing_Units_Less_than_HPI Median_House_Value\n",
       "1  604                                       204300            \n",
       "2  673                                        79800            \n",
       "3  621                                        95900            \n",
       "4  906                                        88700            \n",
       "5 1433                                        85700            \n",
       "6  845                                       160200            \n",
       "  Median_Gross_Rent Median_Gross_Rent_Percentage_of_Household_Income\n",
       "1 619               25.2                                            \n",
       "2 759               33.3                                            \n",
       "3 847               40.0                                            \n",
       "4 954               19.9                                            \n",
       "5 767               27.3                                            \n",
       "6 811               21.2                                            "
      ]
     },
     "metadata": {},
     "output_type": "display_data"
    }
   ],
   "source": [
    "head(housing_df)"
   ]
  },
  {
   "cell_type": "markdown",
   "id": "6a9abf82",
   "metadata": {},
   "source": [
    "# Variable & GEO Id Filtering\n",
    "\n",
    "Removing variables and GEO ids that have less than 50% of data prior to imputation"
   ]
  },
  {
   "cell_type": "code",
   "execution_count": 3,
   "id": "7b447e30",
   "metadata": {},
   "outputs": [
    {
     "data": {
      "text/html": [
       "<table class=\"dataframe\">\n",
       "<caption>A tibble: 4 × 2</caption>\n",
       "<thead>\n",
       "\t<tr><th scope=col>Variable</th><th scope=col>Variable_Presence_Percent</th></tr>\n",
       "\t<tr><th scope=col>&lt;chr&gt;</th><th scope=col>&lt;dbl&gt;</th></tr>\n",
       "</thead>\n",
       "<tbody>\n",
       "\t<tr><td>Median_Gross_Rent                               </td><td> 94.64820</td></tr>\n",
       "\t<tr><td>Median_Gross_Rent_Percentage_of_Household_Income</td><td> 95.84581</td></tr>\n",
       "\t<tr><td>Median_House_Value                              </td><td> 96.93114</td></tr>\n",
       "\t<tr><td>Owner_Occupied_Housing_Units_Less_than_HPI      </td><td>100.00000</td></tr>\n",
       "</tbody>\n",
       "</table>\n"
      ],
      "text/latex": [
       "A tibble: 4 × 2\n",
       "\\begin{tabular}{ll}\n",
       " Variable & Variable\\_Presence\\_Percent\\\\\n",
       " <chr> & <dbl>\\\\\n",
       "\\hline\n",
       "\t Median\\_Gross\\_Rent                                &  94.64820\\\\\n",
       "\t Median\\_Gross\\_Rent\\_Percentage\\_of\\_Household\\_Income &  95.84581\\\\\n",
       "\t Median\\_House\\_Value                               &  96.93114\\\\\n",
       "\t Owner\\_Occupied\\_Housing\\_Units\\_Less\\_than\\_HPI       & 100.00000\\\\\n",
       "\\end{tabular}\n"
      ],
      "text/markdown": [
       "\n",
       "A tibble: 4 × 2\n",
       "\n",
       "| Variable &lt;chr&gt; | Variable_Presence_Percent &lt;dbl&gt; |\n",
       "|---|---|\n",
       "| Median_Gross_Rent                                |  94.64820 |\n",
       "| Median_Gross_Rent_Percentage_of_Household_Income |  95.84581 |\n",
       "| Median_House_Value                               |  96.93114 |\n",
       "| Owner_Occupied_Housing_Units_Less_than_HPI       | 100.00000 |\n",
       "\n"
      ],
      "text/plain": [
       "  Variable                                         Variable_Presence_Percent\n",
       "1 Median_Gross_Rent                                 94.64820                \n",
       "2 Median_Gross_Rent_Percentage_of_Household_Income  95.84581                \n",
       "3 Median_House_Value                                96.93114                \n",
       "4 Owner_Occupied_Housing_Units_Less_than_HPI       100.00000                "
      ]
     },
     "metadata": {},
     "output_type": "display_data"
    }
   ],
   "source": [
    "# only keeping variables with at least 50% of data \n",
    "variable_presence_df = housing_df %>% \n",
    "    pivot_longer(cols = 5:8, names_to = \"Variable\", values_to = \"Value\") %>%\n",
    "    # creating 2 count cols: 1st for non-missing data, 2nd for all data\n",
    "    mutate(data_count = ifelse(is.na(Value), 0, 1), all_count = 1) %>%\n",
    "    group_by(Variable) %>%\n",
    "    summarize(Variable_Presence_Percent = sum(data_count)/ sum(all_count) * 100) %>%\n",
    "    arrange(Variable_Presence_Percent)\n",
    "\n",
    "head(variable_presence_df)"
   ]
  },
  {
   "cell_type": "code",
   "execution_count": 4,
   "id": "8fc2bb5f",
   "metadata": {},
   "outputs": [
    {
     "data": {
      "text/html": [
       "<table class=\"dataframe\">\n",
       "<caption>A data.frame: 6 × 2</caption>\n",
       "<thead>\n",
       "\t<tr><th></th><th scope=col>GEO_ID</th><th scope=col>GEO_ID_Presence_Percentage</th></tr>\n",
       "\t<tr><th></th><th scope=col>&lt;chr&gt;</th><th scope=col>&lt;dbl&gt;</th></tr>\n",
       "</thead>\n",
       "<tbody>\n",
       "\t<tr><th scope=row>1</th><td>14000US37007920302</td><td>25</td></tr>\n",
       "\t<tr><th scope=row>2</th><td>14000US37007980000</td><td>25</td></tr>\n",
       "\t<tr><th scope=row>3</th><td>14000US37019020312</td><td>25</td></tr>\n",
       "\t<tr><th scope=row>4</th><td>14000US37019990100</td><td>25</td></tr>\n",
       "\t<tr><th scope=row>5</th><td>14000US37031980100</td><td>25</td></tr>\n",
       "\t<tr><th scope=row>6</th><td>14000US37031990100</td><td>25</td></tr>\n",
       "</tbody>\n",
       "</table>\n"
      ],
      "text/latex": [
       "A data.frame: 6 × 2\n",
       "\\begin{tabular}{r|ll}\n",
       "  & GEO\\_ID & GEO\\_ID\\_Presence\\_Percentage\\\\\n",
       "  & <chr> & <dbl>\\\\\n",
       "\\hline\n",
       "\t1 & 14000US37007920302 & 25\\\\\n",
       "\t2 & 14000US37007980000 & 25\\\\\n",
       "\t3 & 14000US37019020312 & 25\\\\\n",
       "\t4 & 14000US37019990100 & 25\\\\\n",
       "\t5 & 14000US37031980100 & 25\\\\\n",
       "\t6 & 14000US37031990100 & 25\\\\\n",
       "\\end{tabular}\n"
      ],
      "text/markdown": [
       "\n",
       "A data.frame: 6 × 2\n",
       "\n",
       "| <!--/--> | GEO_ID &lt;chr&gt; | GEO_ID_Presence_Percentage &lt;dbl&gt; |\n",
       "|---|---|---|\n",
       "| 1 | 14000US37007920302 | 25 |\n",
       "| 2 | 14000US37007980000 | 25 |\n",
       "| 3 | 14000US37019020312 | 25 |\n",
       "| 4 | 14000US37019990100 | 25 |\n",
       "| 5 | 14000US37031980100 | 25 |\n",
       "| 6 | 14000US37031990100 | 25 |\n",
       "\n"
      ],
      "text/plain": [
       "  GEO_ID             GEO_ID_Presence_Percentage\n",
       "1 14000US37007920302 25                        \n",
       "2 14000US37007980000 25                        \n",
       "3 14000US37019020312 25                        \n",
       "4 14000US37019990100 25                        \n",
       "5 14000US37031980100 25                        \n",
       "6 14000US37031990100 25                        "
      ]
     },
     "metadata": {},
     "output_type": "display_data"
    }
   ],
   "source": [
    "# geo id percentages\n",
    "geo_id_percent_occurence = apply(housing_df[5:8], 1, function(x) (length(na.omit(x))/length(x)) * 100)\n",
    "                                 \n",
    "# creating a df and adding back in geo ids\n",
    "id_presence_df = data.frame(matrix(ncol = 2, nrow = length(geo_id_percent_occurence)))\n",
    "colnames(id_presence_df) = c(\"GEO_ID\", \"GEO_ID_Presence_Percentage\")\n",
    "id_presence_df$GEO_ID = housing_df$GEO_ID\n",
    "id_presence_df$GEO_ID_Presence_Percentage = geo_id_percent_occurence\n",
    "                                 \n",
    "id_presence_df = id_presence_df %>%\n",
    "    filter(GEO_ID_Presence_Percentage < 50) %>%\n",
    "    arrange(GEO_ID_Presence_Percentage)\n",
    "                                 \n",
    "head(id_presence_df)"
   ]
  },
  {
   "cell_type": "code",
   "execution_count": 5,
   "id": "92174175",
   "metadata": {},
   "outputs": [
    {
     "data": {
      "text/html": [
       "39"
      ],
      "text/latex": [
       "39"
      ],
      "text/markdown": [
       "39"
      ],
      "text/plain": [
       "[1] 39"
      ]
     },
     "metadata": {},
     "output_type": "display_data"
    }
   ],
   "source": [
    "# number of geo ids to be removed\n",
    "dim(id_presence_df)[1]"
   ]
  },
  {
   "cell_type": "code",
   "execution_count": 6,
   "id": "25b86bf5",
   "metadata": {},
   "outputs": [
    {
     "data": {
      "text/html": [
       "<table class=\"dataframe\">\n",
       "<caption>A data.frame: 6 × 8</caption>\n",
       "<thead>\n",
       "\t<tr><th></th><th scope=col>GEO_ID</th><th scope=col>Census_Tract</th><th scope=col>County</th><th scope=col>Owner_Occupied_Housing_Units</th><th scope=col>Owner_Occupied_Housing_Units_Less_than_HPI</th><th scope=col>Median_House_Value</th><th scope=col>Median_Gross_Rent</th><th scope=col>Median_Gross_Rent_Percentage_of_Household_Income</th></tr>\n",
       "\t<tr><th></th><th scope=col>&lt;chr&gt;</th><th scope=col>&lt;dbl&gt;</th><th scope=col>&lt;chr&gt;</th><th scope=col>&lt;dbl&gt;</th><th scope=col>&lt;dbl&gt;</th><th scope=col>&lt;dbl&gt;</th><th scope=col>&lt;dbl&gt;</th><th scope=col>&lt;dbl&gt;</th></tr>\n",
       "</thead>\n",
       "<tbody>\n",
       "\t<tr><th scope=row>1</th><td>14000US37001020100</td><td>201.00</td><td>Alamance</td><td> 853</td><td> 604</td><td>204300</td><td>619</td><td>25.2</td></tr>\n",
       "\t<tr><th scope=row>2</th><td>14000US37001020200</td><td>202.00</td><td>Alamance</td><td> 686</td><td> 673</td><td> 79800</td><td>759</td><td>33.3</td></tr>\n",
       "\t<tr><th scope=row>3</th><td>14000US37001020301</td><td>203.01</td><td>Alamance</td><td> 621</td><td> 621</td><td> 95900</td><td>847</td><td>40.0</td></tr>\n",
       "\t<tr><th scope=row>4</th><td>14000US37001020302</td><td>203.02</td><td>Alamance</td><td> 935</td><td> 906</td><td> 88700</td><td>954</td><td>19.9</td></tr>\n",
       "\t<tr><th scope=row>5</th><td>14000US37001020400</td><td>204.00</td><td>Alamance</td><td>1475</td><td>1433</td><td> 85700</td><td>767</td><td>27.3</td></tr>\n",
       "\t<tr><th scope=row>6</th><td>14000US37001020501</td><td>205.01</td><td>Alamance</td><td> 950</td><td> 845</td><td>160200</td><td>811</td><td>21.2</td></tr>\n",
       "</tbody>\n",
       "</table>\n"
      ],
      "text/latex": [
       "A data.frame: 6 × 8\n",
       "\\begin{tabular}{r|llllllll}\n",
       "  & GEO\\_ID & Census\\_Tract & County & Owner\\_Occupied\\_Housing\\_Units & Owner\\_Occupied\\_Housing\\_Units\\_Less\\_than\\_HPI & Median\\_House\\_Value & Median\\_Gross\\_Rent & Median\\_Gross\\_Rent\\_Percentage\\_of\\_Household\\_Income\\\\\n",
       "  & <chr> & <dbl> & <chr> & <dbl> & <dbl> & <dbl> & <dbl> & <dbl>\\\\\n",
       "\\hline\n",
       "\t1 & 14000US37001020100 & 201.00 & Alamance &  853 &  604 & 204300 & 619 & 25.2\\\\\n",
       "\t2 & 14000US37001020200 & 202.00 & Alamance &  686 &  673 &  79800 & 759 & 33.3\\\\\n",
       "\t3 & 14000US37001020301 & 203.01 & Alamance &  621 &  621 &  95900 & 847 & 40.0\\\\\n",
       "\t4 & 14000US37001020302 & 203.02 & Alamance &  935 &  906 &  88700 & 954 & 19.9\\\\\n",
       "\t5 & 14000US37001020400 & 204.00 & Alamance & 1475 & 1433 &  85700 & 767 & 27.3\\\\\n",
       "\t6 & 14000US37001020501 & 205.01 & Alamance &  950 &  845 & 160200 & 811 & 21.2\\\\\n",
       "\\end{tabular}\n"
      ],
      "text/markdown": [
       "\n",
       "A data.frame: 6 × 8\n",
       "\n",
       "| <!--/--> | GEO_ID &lt;chr&gt; | Census_Tract &lt;dbl&gt; | County &lt;chr&gt; | Owner_Occupied_Housing_Units &lt;dbl&gt; | Owner_Occupied_Housing_Units_Less_than_HPI &lt;dbl&gt; | Median_House_Value &lt;dbl&gt; | Median_Gross_Rent &lt;dbl&gt; | Median_Gross_Rent_Percentage_of_Household_Income &lt;dbl&gt; |\n",
       "|---|---|---|---|---|---|---|---|---|\n",
       "| 1 | 14000US37001020100 | 201.00 | Alamance |  853 |  604 | 204300 | 619 | 25.2 |\n",
       "| 2 | 14000US37001020200 | 202.00 | Alamance |  686 |  673 |  79800 | 759 | 33.3 |\n",
       "| 3 | 14000US37001020301 | 203.01 | Alamance |  621 |  621 |  95900 | 847 | 40.0 |\n",
       "| 4 | 14000US37001020302 | 203.02 | Alamance |  935 |  906 |  88700 | 954 | 19.9 |\n",
       "| 5 | 14000US37001020400 | 204.00 | Alamance | 1475 | 1433 |  85700 | 767 | 27.3 |\n",
       "| 6 | 14000US37001020501 | 205.01 | Alamance |  950 |  845 | 160200 | 811 | 21.2 |\n",
       "\n"
      ],
      "text/plain": [
       "  GEO_ID             Census_Tract County   Owner_Occupied_Housing_Units\n",
       "1 14000US37001020100 201.00       Alamance  853                        \n",
       "2 14000US37001020200 202.00       Alamance  686                        \n",
       "3 14000US37001020301 203.01       Alamance  621                        \n",
       "4 14000US37001020302 203.02       Alamance  935                        \n",
       "5 14000US37001020400 204.00       Alamance 1475                        \n",
       "6 14000US37001020501 205.01       Alamance  950                        \n",
       "  Owner_Occupied_Housing_Units_Less_than_HPI Median_House_Value\n",
       "1  604                                       204300            \n",
       "2  673                                        79800            \n",
       "3  621                                        95900            \n",
       "4  906                                        88700            \n",
       "5 1433                                        85700            \n",
       "6  845                                       160200            \n",
       "  Median_Gross_Rent Median_Gross_Rent_Percentage_of_Household_Income\n",
       "1 619               25.2                                            \n",
       "2 759               33.3                                            \n",
       "3 847               40.0                                            \n",
       "4 954               19.9                                            \n",
       "5 767               27.3                                            \n",
       "6 811               21.2                                            "
      ]
     },
     "metadata": {},
     "output_type": "display_data"
    },
    {
     "data": {
      "text/html": [
       "<style>\n",
       ".list-inline {list-style: none; margin:0; padding: 0}\n",
       ".list-inline>li {display: inline-block}\n",
       ".list-inline>li:not(:last-child)::after {content: \"\\00b7\"; padding: 0 .5ex}\n",
       "</style>\n",
       "<ol class=list-inline><li>2633</li><li>8</li></ol>\n"
      ],
      "text/latex": [
       "\\begin{enumerate*}\n",
       "\\item 2633\n",
       "\\item 8\n",
       "\\end{enumerate*}\n"
      ],
      "text/markdown": [
       "1. 2633\n",
       "2. 8\n",
       "\n",
       "\n"
      ],
      "text/plain": [
       "[1] 2633    8"
      ]
     },
     "metadata": {},
     "output_type": "display_data"
    }
   ],
   "source": [
    "# getting 39 geo ids to be removed\n",
    "removed_geo_ids = id_presence_df$GEO_ID\n",
    "\n",
    "`%notin%` <- Negate(`%in%`)\n",
    "filtered_housing_df = housing_df %>%\n",
    "    filter(GEO_ID %notin% removed_geo_ids)\n",
    "\n",
    "head(filtered_housing_df)\n",
    "dim(filtered_housing_df)"
   ]
  },
  {
   "cell_type": "markdown",
   "id": "f62fc629",
   "metadata": {},
   "source": [
    "All variables will be kept, but now we're left with 2,633 geo ids. \n",
    "\n",
    "# Random Forest Imputation\n",
    "Generating missing values using random forest (RF)."
   ]
  },
  {
   "cell_type": "code",
   "execution_count": 7,
   "id": "9a4febfb",
   "metadata": {},
   "outputs": [
    {
     "data": {
      "text/html": [
       "<table class=\"dataframe\">\n",
       "<caption>A data.frame: 6 × 8</caption>\n",
       "<thead>\n",
       "\t<tr><th></th><th scope=col>GEO_ID</th><th scope=col>Census_Tract</th><th scope=col>County</th><th scope=col>Owner_Occupied_Housing_Units</th><th scope=col>Owner_Occupied_Housing_Units_Less_than_HPI</th><th scope=col>Median_House_Value</th><th scope=col>Median_Gross_Rent</th><th scope=col>Median_Gross_Rent_Percentage_of_Household_Income</th></tr>\n",
       "\t<tr><th></th><th scope=col>&lt;chr&gt;</th><th scope=col>&lt;dbl&gt;</th><th scope=col>&lt;chr&gt;</th><th scope=col>&lt;dbl&gt;</th><th scope=col>&lt;dbl&gt;</th><th scope=col>&lt;dbl&gt;</th><th scope=col>&lt;dbl&gt;</th><th scope=col>&lt;dbl&gt;</th></tr>\n",
       "</thead>\n",
       "<tbody>\n",
       "\t<tr><th scope=row>1</th><td>14000US37001020100</td><td>201.00</td><td>Alamance</td><td> 853</td><td> 604</td><td>204300</td><td>619</td><td>25.2</td></tr>\n",
       "\t<tr><th scope=row>2</th><td>14000US37001020200</td><td>202.00</td><td>Alamance</td><td> 686</td><td> 673</td><td> 79800</td><td>759</td><td>33.3</td></tr>\n",
       "\t<tr><th scope=row>3</th><td>14000US37001020301</td><td>203.01</td><td>Alamance</td><td> 621</td><td> 621</td><td> 95900</td><td>847</td><td>40.0</td></tr>\n",
       "\t<tr><th scope=row>4</th><td>14000US37001020302</td><td>203.02</td><td>Alamance</td><td> 935</td><td> 906</td><td> 88700</td><td>954</td><td>19.9</td></tr>\n",
       "\t<tr><th scope=row>5</th><td>14000US37001020400</td><td>204.00</td><td>Alamance</td><td>1475</td><td>1433</td><td> 85700</td><td>767</td><td>27.3</td></tr>\n",
       "\t<tr><th scope=row>6</th><td>14000US37001020501</td><td>205.01</td><td>Alamance</td><td> 950</td><td> 845</td><td>160200</td><td>811</td><td>21.2</td></tr>\n",
       "</tbody>\n",
       "</table>\n"
      ],
      "text/latex": [
       "A data.frame: 6 × 8\n",
       "\\begin{tabular}{r|llllllll}\n",
       "  & GEO\\_ID & Census\\_Tract & County & Owner\\_Occupied\\_Housing\\_Units & Owner\\_Occupied\\_Housing\\_Units\\_Less\\_than\\_HPI & Median\\_House\\_Value & Median\\_Gross\\_Rent & Median\\_Gross\\_Rent\\_Percentage\\_of\\_Household\\_Income\\\\\n",
       "  & <chr> & <dbl> & <chr> & <dbl> & <dbl> & <dbl> & <dbl> & <dbl>\\\\\n",
       "\\hline\n",
       "\t1 & 14000US37001020100 & 201.00 & Alamance &  853 &  604 & 204300 & 619 & 25.2\\\\\n",
       "\t2 & 14000US37001020200 & 202.00 & Alamance &  686 &  673 &  79800 & 759 & 33.3\\\\\n",
       "\t3 & 14000US37001020301 & 203.01 & Alamance &  621 &  621 &  95900 & 847 & 40.0\\\\\n",
       "\t4 & 14000US37001020302 & 203.02 & Alamance &  935 &  906 &  88700 & 954 & 19.9\\\\\n",
       "\t5 & 14000US37001020400 & 204.00 & Alamance & 1475 & 1433 &  85700 & 767 & 27.3\\\\\n",
       "\t6 & 14000US37001020501 & 205.01 & Alamance &  950 &  845 & 160200 & 811 & 21.2\\\\\n",
       "\\end{tabular}\n"
      ],
      "text/markdown": [
       "\n",
       "A data.frame: 6 × 8\n",
       "\n",
       "| <!--/--> | GEO_ID &lt;chr&gt; | Census_Tract &lt;dbl&gt; | County &lt;chr&gt; | Owner_Occupied_Housing_Units &lt;dbl&gt; | Owner_Occupied_Housing_Units_Less_than_HPI &lt;dbl&gt; | Median_House_Value &lt;dbl&gt; | Median_Gross_Rent &lt;dbl&gt; | Median_Gross_Rent_Percentage_of_Household_Income &lt;dbl&gt; |\n",
       "|---|---|---|---|---|---|---|---|---|\n",
       "| 1 | 14000US37001020100 | 201.00 | Alamance |  853 |  604 | 204300 | 619 | 25.2 |\n",
       "| 2 | 14000US37001020200 | 202.00 | Alamance |  686 |  673 |  79800 | 759 | 33.3 |\n",
       "| 3 | 14000US37001020301 | 203.01 | Alamance |  621 |  621 |  95900 | 847 | 40.0 |\n",
       "| 4 | 14000US37001020302 | 203.02 | Alamance |  935 |  906 |  88700 | 954 | 19.9 |\n",
       "| 5 | 14000US37001020400 | 204.00 | Alamance | 1475 | 1433 |  85700 | 767 | 27.3 |\n",
       "| 6 | 14000US37001020501 | 205.01 | Alamance |  950 |  845 | 160200 | 811 | 21.2 |\n",
       "\n"
      ],
      "text/plain": [
       "  GEO_ID             Census_Tract County   Owner_Occupied_Housing_Units\n",
       "1 14000US37001020100 201.00       Alamance  853                        \n",
       "2 14000US37001020200 202.00       Alamance  686                        \n",
       "3 14000US37001020301 203.01       Alamance  621                        \n",
       "4 14000US37001020302 203.02       Alamance  935                        \n",
       "5 14000US37001020400 204.00       Alamance 1475                        \n",
       "6 14000US37001020501 205.01       Alamance  950                        \n",
       "  Owner_Occupied_Housing_Units_Less_than_HPI Median_House_Value\n",
       "1  604                                       204300            \n",
       "2  673                                        79800            \n",
       "3  621                                        95900            \n",
       "4  906                                        88700            \n",
       "5 1433                                        85700            \n",
       "6  845                                       160200            \n",
       "  Median_Gross_Rent Median_Gross_Rent_Percentage_of_Household_Income\n",
       "1 619               25.2                                            \n",
       "2 759               33.3                                            \n",
       "3 847               40.0                                            \n",
       "4 954               19.9                                            \n",
       "5 767               27.3                                            \n",
       "6 811               21.2                                            "
      ]
     },
     "metadata": {},
     "output_type": "display_data"
    }
   ],
   "source": [
    "# imputing sociodemographic data using RF\n",
    "random_forest_imputation = function(preimputed_df){\n",
    "\n",
    "    imputed_RF_object = missForest(as.matrix(preimputed_df[,4:8]))\n",
    "    imputed_RF_df = imputed_RF_object$ximp\n",
    "    imputed_values_df = data.frame(cbind(preimputed_df[,1:3], imputed_RF_df)) \n",
    "\n",
    "    \n",
    "    return(imputed_values_df)\n",
    "}\n",
    "\n",
    "# calling function\n",
    "imputed_df = random_forest_imputation(filtered_housing_df)\n",
    "head(imputed_df)"
   ]
  },
  {
   "cell_type": "code",
   "execution_count": 8,
   "id": "b861df94",
   "metadata": {},
   "outputs": [],
   "source": [
    "# exporting data\n",
    "write.csv(imputed_df, paste0(Output,\"/\", cur_date, \"_Imputed_Housing_Data.csv\"), row.names = FALSE)"
   ]
  }
 ],
 "metadata": {
  "kernelspec": {
   "display_name": "R",
   "language": "R",
   "name": "ir"
  },
  "language_info": {
   "codemirror_mode": "r",
   "file_extension": ".r",
   "mimetype": "text/x-r-source",
   "name": "R",
   "pygments_lexer": "r",
   "version": "4.1.3"
  }
 },
 "nbformat": 4,
 "nbformat_minor": 5
}
