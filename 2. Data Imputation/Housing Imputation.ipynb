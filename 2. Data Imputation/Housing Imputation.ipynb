{
 "cells": [
  {
   "cell_type": "code",
   "execution_count": 1,
   "id": "47dec6a1",
   "metadata": {},
   "outputs": [
    {
     "name": "stderr",
     "output_type": "stream",
     "text": [
      "── \u001b[1mAttaching packages\u001b[22m ─────────────────────────────────────── tidyverse 1.3.2 ──\n",
      "\u001b[32m✔\u001b[39m \u001b[34mggplot2\u001b[39m 3.4.0      \u001b[32m✔\u001b[39m \u001b[34mpurrr  \u001b[39m 0.3.4 \n",
      "\u001b[32m✔\u001b[39m \u001b[34mtibble \u001b[39m 3.1.8      \u001b[32m✔\u001b[39m \u001b[34mdplyr  \u001b[39m 1.0.10\n",
      "\u001b[32m✔\u001b[39m \u001b[34mtidyr  \u001b[39m 1.2.1      \u001b[32m✔\u001b[39m \u001b[34mstringr\u001b[39m 1.4.1 \n",
      "\u001b[32m✔\u001b[39m \u001b[34mreadr  \u001b[39m 2.1.2      \u001b[32m✔\u001b[39m \u001b[34mforcats\u001b[39m 0.5.2 \n",
      "── \u001b[1mConflicts\u001b[22m ────────────────────────────────────────── tidyverse_conflicts() ──\n",
      "\u001b[31m✖\u001b[39m \u001b[34mdplyr\u001b[39m::\u001b[32mfilter()\u001b[39m masks \u001b[34mstats\u001b[39m::filter()\n",
      "\u001b[31m✖\u001b[39m \u001b[34mdplyr\u001b[39m::\u001b[32mlag()\u001b[39m    masks \u001b[34mstats\u001b[39m::lag()\n",
      "\n",
      "Attaching package: ‘reshape2’\n",
      "\n",
      "\n",
      "The following object is masked from ‘package:tidyr’:\n",
      "\n",
      "    smiths\n",
      "\n",
      "\n",
      "Warning message in apply(housing_df[, 4:12], 2, as.numeric):\n",
      "“NAs introduced by coercion”\n",
      "Warning message in apply(housing_df[, 4:12], 2, as.numeric):\n",
      "“NAs introduced by coercion”\n",
      "Warning message in apply(housing_df[, 4:12], 2, as.numeric):\n",
      "“NAs introduced by coercion”\n",
      "Warning message in apply(housing_df[, 4:12], 2, as.numeric):\n",
      "“NAs introduced by coercion”\n",
      "Warning message in apply(housing_df[, 4:12], 2, as.numeric):\n",
      "“NAs introduced by coercion”\n"
     ]
    }
   ],
   "source": [
    "setwd('/Users/alexis/Library/CloudStorage/OneDrive-UniversityofNorthCarolinaatChapelHill/CEMALB_DataAnalysisPM/Projects/P1009. NC ENVRIOSCAN/P1009.3. Analyses/P1009.3.3. Data Imputation')\n",
    "Output = ('/Users/alexis/Library/CloudStorage/OneDrive-UniversityofNorthCarolinaatChapelHill/CEMALB_DataAnalysisPM/Projects/P1009. NC ENVRIOSCAN/P1009.3. Analyses/P1009.3.3. Data Imputation/Output')\n",
    "cur_date = \"020923\"\n",
    "\n",
    "library(readxl)\n",
    "library(tidyverse)\n",
    "library(reshape2)\n",
    "library(missForest)\n",
    "\n",
    "# reading in files\n",
    "housing_df = data.frame(read_excel(\"Input/Housing_Data_020923.xlsx\", sheet = 2))\n",
    "\n",
    "# making some of the cols numeric\n",
    "housing_df[,4:12] = data.frame(apply(housing_df[,4:12], 2,as.numeric))"
   ]
  },
  {
   "cell_type": "code",
   "execution_count": 2,
   "id": "54808319",
   "metadata": {},
   "outputs": [
    {
     "data": {
      "text/html": [
       "<table class=\"dataframe\">\n",
       "<caption>A data.frame: 6 × 12</caption>\n",
       "<thead>\n",
       "\t<tr><th></th><th scope=col>GEO_ID</th><th scope=col>Census_Tract</th><th scope=col>County</th><th scope=col>Total_Housing_Units</th><th scope=col>Housing_Density</th><th scope=col>Total_Occupied_Housing_Units</th><th scope=col>Total_Owner_Occupied_Housing_Units</th><th scope=col>Median_Year_Structure_Built</th><th scope=col>Owner_Occupied_Housing_Units_Less_than_HPI</th><th scope=col>Median_House_Value</th><th scope=col>Median_Gross_Rent</th><th scope=col>Median_Gross_Rent_Percentage_of_Household_Income</th></tr>\n",
       "\t<tr><th></th><th scope=col>&lt;chr&gt;</th><th scope=col>&lt;dbl&gt;</th><th scope=col>&lt;chr&gt;</th><th scope=col>&lt;dbl&gt;</th><th scope=col>&lt;dbl&gt;</th><th scope=col>&lt;dbl&gt;</th><th scope=col>&lt;dbl&gt;</th><th scope=col>&lt;dbl&gt;</th><th scope=col>&lt;dbl&gt;</th><th scope=col>&lt;dbl&gt;</th><th scope=col>&lt;dbl&gt;</th><th scope=col>&lt;dbl&gt;</th></tr>\n",
       "</thead>\n",
       "<tbody>\n",
       "\t<tr><th scope=row>1</th><td>14000US37001020100</td><td>201.00</td><td>Alamance</td><td>2006</td><td> 31.54848</td><td>1757</td><td> 851</td><td>1949</td><td> 824</td><td>149600</td><td>614</td><td>27.9</td></tr>\n",
       "\t<tr><th scope=row>2</th><td>14000US37001020200</td><td>202.00</td><td>Alamance</td><td>1943</td><td> 26.03618</td><td>1675</td><td> 881</td><td>1961</td><td> 881</td><td> 83400</td><td>609</td><td>31.5</td></tr>\n",
       "\t<tr><th scope=row>3</th><td>14000US37001020300</td><td>203.00</td><td>Alamance</td><td>3254</td><td> 71.60011</td><td>2930</td><td>2015</td><td>1971</td><td>1980</td><td> 91500</td><td>763</td><td>37.7</td></tr>\n",
       "\t<tr><th scope=row>4</th><td>14000US37001020400</td><td>204.00</td><td>Alamance</td><td>2590</td><td> 53.47674</td><td>2327</td><td>1510</td><td>1974</td><td>1487</td><td> 96900</td><td>659</td><td>34.3</td></tr>\n",
       "\t<tr><th scope=row>5</th><td>14000US37001020501</td><td>205.01</td><td>Alamance</td><td>1435</td><td>122.03583</td><td>1280</td><td> 990</td><td>1973</td><td> 932</td><td>137400</td><td>584</td><td>46.7</td></tr>\n",
       "\t<tr><th scope=row>6</th><td>14000US37001020502</td><td>205.02</td><td>Alamance</td><td>1484</td><td>471.34609</td><td>1275</td><td> 666</td><td>1980</td><td> 666</td><td> 73500</td><td>672</td><td>35.9</td></tr>\n",
       "</tbody>\n",
       "</table>\n"
      ],
      "text/latex": [
       "A data.frame: 6 × 12\n",
       "\\begin{tabular}{r|llllllllllll}\n",
       "  & GEO\\_ID & Census\\_Tract & County & Total\\_Housing\\_Units & Housing\\_Density & Total\\_Occupied\\_Housing\\_Units & Total\\_Owner\\_Occupied\\_Housing\\_Units & Median\\_Year\\_Structure\\_Built & Owner\\_Occupied\\_Housing\\_Units\\_Less\\_than\\_HPI & Median\\_House\\_Value & Median\\_Gross\\_Rent & Median\\_Gross\\_Rent\\_Percentage\\_of\\_Household\\_Income\\\\\n",
       "  & <chr> & <dbl> & <chr> & <dbl> & <dbl> & <dbl> & <dbl> & <dbl> & <dbl> & <dbl> & <dbl> & <dbl>\\\\\n",
       "\\hline\n",
       "\t1 & 14000US37001020100 & 201.00 & Alamance & 2006 &  31.54848 & 1757 &  851 & 1949 &  824 & 149600 & 614 & 27.9\\\\\n",
       "\t2 & 14000US37001020200 & 202.00 & Alamance & 1943 &  26.03618 & 1675 &  881 & 1961 &  881 &  83400 & 609 & 31.5\\\\\n",
       "\t3 & 14000US37001020300 & 203.00 & Alamance & 3254 &  71.60011 & 2930 & 2015 & 1971 & 1980 &  91500 & 763 & 37.7\\\\\n",
       "\t4 & 14000US37001020400 & 204.00 & Alamance & 2590 &  53.47674 & 2327 & 1510 & 1974 & 1487 &  96900 & 659 & 34.3\\\\\n",
       "\t5 & 14000US37001020501 & 205.01 & Alamance & 1435 & 122.03583 & 1280 &  990 & 1973 &  932 & 137400 & 584 & 46.7\\\\\n",
       "\t6 & 14000US37001020502 & 205.02 & Alamance & 1484 & 471.34609 & 1275 &  666 & 1980 &  666 &  73500 & 672 & 35.9\\\\\n",
       "\\end{tabular}\n"
      ],
      "text/markdown": [
       "\n",
       "A data.frame: 6 × 12\n",
       "\n",
       "| <!--/--> | GEO_ID &lt;chr&gt; | Census_Tract &lt;dbl&gt; | County &lt;chr&gt; | Total_Housing_Units &lt;dbl&gt; | Housing_Density &lt;dbl&gt; | Total_Occupied_Housing_Units &lt;dbl&gt; | Total_Owner_Occupied_Housing_Units &lt;dbl&gt; | Median_Year_Structure_Built &lt;dbl&gt; | Owner_Occupied_Housing_Units_Less_than_HPI &lt;dbl&gt; | Median_House_Value &lt;dbl&gt; | Median_Gross_Rent &lt;dbl&gt; | Median_Gross_Rent_Percentage_of_Household_Income &lt;dbl&gt; |\n",
       "|---|---|---|---|---|---|---|---|---|---|---|---|---|\n",
       "| 1 | 14000US37001020100 | 201.00 | Alamance | 2006 |  31.54848 | 1757 |  851 | 1949 |  824 | 149600 | 614 | 27.9 |\n",
       "| 2 | 14000US37001020200 | 202.00 | Alamance | 1943 |  26.03618 | 1675 |  881 | 1961 |  881 |  83400 | 609 | 31.5 |\n",
       "| 3 | 14000US37001020300 | 203.00 | Alamance | 3254 |  71.60011 | 2930 | 2015 | 1971 | 1980 |  91500 | 763 | 37.7 |\n",
       "| 4 | 14000US37001020400 | 204.00 | Alamance | 2590 |  53.47674 | 2327 | 1510 | 1974 | 1487 |  96900 | 659 | 34.3 |\n",
       "| 5 | 14000US37001020501 | 205.01 | Alamance | 1435 | 122.03583 | 1280 |  990 | 1973 |  932 | 137400 | 584 | 46.7 |\n",
       "| 6 | 14000US37001020502 | 205.02 | Alamance | 1484 | 471.34609 | 1275 |  666 | 1980 |  666 |  73500 | 672 | 35.9 |\n",
       "\n"
      ],
      "text/plain": [
       "  GEO_ID             Census_Tract County   Total_Housing_Units Housing_Density\n",
       "1 14000US37001020100 201.00       Alamance 2006                 31.54848      \n",
       "2 14000US37001020200 202.00       Alamance 1943                 26.03618      \n",
       "3 14000US37001020300 203.00       Alamance 3254                 71.60011      \n",
       "4 14000US37001020400 204.00       Alamance 2590                 53.47674      \n",
       "5 14000US37001020501 205.01       Alamance 1435                122.03583      \n",
       "6 14000US37001020502 205.02       Alamance 1484                471.34609      \n",
       "  Total_Occupied_Housing_Units Total_Owner_Occupied_Housing_Units\n",
       "1 1757                          851                              \n",
       "2 1675                          881                              \n",
       "3 2930                         2015                              \n",
       "4 2327                         1510                              \n",
       "5 1280                          990                              \n",
       "6 1275                          666                              \n",
       "  Median_Year_Structure_Built Owner_Occupied_Housing_Units_Less_than_HPI\n",
       "1 1949                         824                                      \n",
       "2 1961                         881                                      \n",
       "3 1971                        1980                                      \n",
       "4 1974                        1487                                      \n",
       "5 1973                         932                                      \n",
       "6 1980                         666                                      \n",
       "  Median_House_Value Median_Gross_Rent\n",
       "1 149600             614              \n",
       "2  83400             609              \n",
       "3  91500             763              \n",
       "4  96900             659              \n",
       "5 137400             584              \n",
       "6  73500             672              \n",
       "  Median_Gross_Rent_Percentage_of_Household_Income\n",
       "1 27.9                                            \n",
       "2 31.5                                            \n",
       "3 37.7                                            \n",
       "4 34.3                                            \n",
       "5 46.7                                            \n",
       "6 35.9                                            "
      ]
     },
     "metadata": {},
     "output_type": "display_data"
    }
   ],
   "source": [
    "head(housing_df)"
   ]
  },
  {
   "cell_type": "markdown",
   "id": "6a9abf82",
   "metadata": {},
   "source": [
    "# Variable & GEO Id Filtering\n",
    "\n",
    "Removing variables and GEO ids that have less than 25% of data prior to imputation"
   ]
  },
  {
   "cell_type": "code",
   "execution_count": 3,
   "id": "7b447e30",
   "metadata": {},
   "outputs": [
    {
     "data": {
      "text/html": [
       "<table class=\"dataframe\">\n",
       "<caption>A tibble: 4 × 2</caption>\n",
       "<thead>\n",
       "\t<tr><th scope=col>Variable</th><th scope=col>Variable_Presence_Percent</th></tr>\n",
       "\t<tr><th scope=col>&lt;chr&gt;</th><th scope=col>&lt;dbl&gt;</th></tr>\n",
       "</thead>\n",
       "<tbody>\n",
       "\t<tr><td>Median_Year_Structure_Built       </td><td> 98.43534</td></tr>\n",
       "\t<tr><td>Housing_Density                   </td><td> 99.86194</td></tr>\n",
       "\t<tr><td>Total_Occupied_Housing_Units      </td><td>100.00000</td></tr>\n",
       "\t<tr><td>Total_Owner_Occupied_Housing_Units</td><td>100.00000</td></tr>\n",
       "</tbody>\n",
       "</table>\n"
      ],
      "text/latex": [
       "A tibble: 4 × 2\n",
       "\\begin{tabular}{ll}\n",
       " Variable & Variable\\_Presence\\_Percent\\\\\n",
       " <chr> & <dbl>\\\\\n",
       "\\hline\n",
       "\t Median\\_Year\\_Structure\\_Built        &  98.43534\\\\\n",
       "\t Housing\\_Density                    &  99.86194\\\\\n",
       "\t Total\\_Occupied\\_Housing\\_Units       & 100.00000\\\\\n",
       "\t Total\\_Owner\\_Occupied\\_Housing\\_Units & 100.00000\\\\\n",
       "\\end{tabular}\n"
      ],
      "text/markdown": [
       "\n",
       "A tibble: 4 × 2\n",
       "\n",
       "| Variable &lt;chr&gt; | Variable_Presence_Percent &lt;dbl&gt; |\n",
       "|---|---|\n",
       "| Median_Year_Structure_Built        |  98.43534 |\n",
       "| Housing_Density                    |  99.86194 |\n",
       "| Total_Occupied_Housing_Units       | 100.00000 |\n",
       "| Total_Owner_Occupied_Housing_Units | 100.00000 |\n",
       "\n"
      ],
      "text/plain": [
       "  Variable                           Variable_Presence_Percent\n",
       "1 Median_Year_Structure_Built         98.43534                \n",
       "2 Housing_Density                     99.86194                \n",
       "3 Total_Occupied_Housing_Units       100.00000                \n",
       "4 Total_Owner_Occupied_Housing_Units 100.00000                "
      ]
     },
     "metadata": {},
     "output_type": "display_data"
    }
   ],
   "source": [
    "# only keeping variables with at least 25% of data \n",
    "variable_presence_df = housing_df %>% \n",
    "    pivot_longer(cols = 5:8, names_to = \"Variable\", values_to = \"Value\") %>%\n",
    "    # creating 2 count cols: 1st for non-missing data, 2nd for all data\n",
    "    mutate(data_count = ifelse(is.na(Value), 0, 1), all_count = 1) %>%\n",
    "    group_by(Variable) %>%\n",
    "    summarize(Variable_Presence_Percent = sum(data_count)/ sum(all_count) * 100) %>%\n",
    "    arrange(Variable_Presence_Percent)\n",
    "\n",
    "head(variable_presence_df)"
   ]
  },
  {
   "cell_type": "code",
   "execution_count": 4,
   "id": "8fc2bb5f",
   "metadata": {},
   "outputs": [
    {
     "data": {
      "text/html": [
       "<table class=\"dataframe\">\n",
       "<caption>A data.frame: 0 × 2</caption>\n",
       "<thead>\n",
       "\t<tr><th scope=col>GEO_ID</th><th scope=col>GEO_ID_Presence_Percentage</th></tr>\n",
       "\t<tr><th scope=col>&lt;chr&gt;</th><th scope=col>&lt;dbl&gt;</th></tr>\n",
       "</thead>\n",
       "<tbody>\n",
       "</tbody>\n",
       "</table>\n"
      ],
      "text/latex": [
       "A data.frame: 0 × 2\n",
       "\\begin{tabular}{ll}\n",
       " GEO\\_ID & GEO\\_ID\\_Presence\\_Percentage\\\\\n",
       " <chr> & <dbl>\\\\\n",
       "\\hline\n",
       "\\end{tabular}\n"
      ],
      "text/markdown": [
       "\n",
       "A data.frame: 0 × 2\n",
       "\n",
       "| GEO_ID &lt;chr&gt; | GEO_ID_Presence_Percentage &lt;dbl&gt; |\n",
       "|---|---|\n",
       "\n"
      ],
      "text/plain": [
       "     GEO_ID GEO_ID_Presence_Percentage"
      ]
     },
     "metadata": {},
     "output_type": "display_data"
    }
   ],
   "source": [
    "# geo id percentages\n",
    "geo_id_percent_occurence = apply(housing_df[5:8], 1, function(x) (length(na.omit(x))/length(x)) * 100)\n",
    "                                 \n",
    "# creating a df and adding back in geo ids\n",
    "id_presence_df = data.frame(matrix(ncol = 2, nrow = length(geo_id_percent_occurence)))\n",
    "colnames(id_presence_df) = c(\"GEO_ID\", \"GEO_ID_Presence_Percentage\")\n",
    "id_presence_df$GEO_ID = housing_df$GEO_ID\n",
    "id_presence_df$GEO_ID_Presence_Percentage = geo_id_percent_occurence\n",
    "                                 \n",
    "id_presence_df = id_presence_df %>%\n",
    "    filter(GEO_ID_Presence_Percentage < 25) %>%\n",
    "    arrange(GEO_ID_Presence_Percentage)\n",
    "                                 \n",
    "head(id_presence_df)"
   ]
  },
  {
   "cell_type": "code",
   "execution_count": 5,
   "id": "92174175",
   "metadata": {},
   "outputs": [
    {
     "data": {
      "text/html": [
       "0"
      ],
      "text/latex": [
       "0"
      ],
      "text/markdown": [
       "0"
      ],
      "text/plain": [
       "[1] 0"
      ]
     },
     "metadata": {},
     "output_type": "display_data"
    }
   ],
   "source": [
    "# number of geo ids to be removed\n",
    "dim(id_presence_df)[1]"
   ]
  },
  {
   "cell_type": "code",
   "execution_count": 6,
   "id": "25b86bf5",
   "metadata": {},
   "outputs": [
    {
     "data": {
      "text/html": [
       "<table class=\"dataframe\">\n",
       "<caption>A data.frame: 6 × 12</caption>\n",
       "<thead>\n",
       "\t<tr><th></th><th scope=col>GEO_ID</th><th scope=col>Census_Tract</th><th scope=col>County</th><th scope=col>Total_Housing_Units</th><th scope=col>Housing_Density</th><th scope=col>Total_Occupied_Housing_Units</th><th scope=col>Total_Owner_Occupied_Housing_Units</th><th scope=col>Median_Year_Structure_Built</th><th scope=col>Owner_Occupied_Housing_Units_Less_than_HPI</th><th scope=col>Median_House_Value</th><th scope=col>Median_Gross_Rent</th><th scope=col>Median_Gross_Rent_Percentage_of_Household_Income</th></tr>\n",
       "\t<tr><th></th><th scope=col>&lt;chr&gt;</th><th scope=col>&lt;dbl&gt;</th><th scope=col>&lt;chr&gt;</th><th scope=col>&lt;dbl&gt;</th><th scope=col>&lt;dbl&gt;</th><th scope=col>&lt;dbl&gt;</th><th scope=col>&lt;dbl&gt;</th><th scope=col>&lt;dbl&gt;</th><th scope=col>&lt;dbl&gt;</th><th scope=col>&lt;dbl&gt;</th><th scope=col>&lt;dbl&gt;</th><th scope=col>&lt;dbl&gt;</th></tr>\n",
       "</thead>\n",
       "<tbody>\n",
       "\t<tr><th scope=row>1</th><td>14000US37001020100</td><td>201.00</td><td>Alamance</td><td>2006</td><td> 31.54848</td><td>1757</td><td> 851</td><td>1949</td><td> 824</td><td>149600</td><td>614</td><td>27.9</td></tr>\n",
       "\t<tr><th scope=row>2</th><td>14000US37001020200</td><td>202.00</td><td>Alamance</td><td>1943</td><td> 26.03618</td><td>1675</td><td> 881</td><td>1961</td><td> 881</td><td> 83400</td><td>609</td><td>31.5</td></tr>\n",
       "\t<tr><th scope=row>3</th><td>14000US37001020300</td><td>203.00</td><td>Alamance</td><td>3254</td><td> 71.60011</td><td>2930</td><td>2015</td><td>1971</td><td>1980</td><td> 91500</td><td>763</td><td>37.7</td></tr>\n",
       "\t<tr><th scope=row>4</th><td>14000US37001020400</td><td>204.00</td><td>Alamance</td><td>2590</td><td> 53.47674</td><td>2327</td><td>1510</td><td>1974</td><td>1487</td><td> 96900</td><td>659</td><td>34.3</td></tr>\n",
       "\t<tr><th scope=row>5</th><td>14000US37001020501</td><td>205.01</td><td>Alamance</td><td>1435</td><td>122.03583</td><td>1280</td><td> 990</td><td>1973</td><td> 932</td><td>137400</td><td>584</td><td>46.7</td></tr>\n",
       "\t<tr><th scope=row>6</th><td>14000US37001020502</td><td>205.02</td><td>Alamance</td><td>1484</td><td>471.34609</td><td>1275</td><td> 666</td><td>1980</td><td> 666</td><td> 73500</td><td>672</td><td>35.9</td></tr>\n",
       "</tbody>\n",
       "</table>\n"
      ],
      "text/latex": [
       "A data.frame: 6 × 12\n",
       "\\begin{tabular}{r|llllllllllll}\n",
       "  & GEO\\_ID & Census\\_Tract & County & Total\\_Housing\\_Units & Housing\\_Density & Total\\_Occupied\\_Housing\\_Units & Total\\_Owner\\_Occupied\\_Housing\\_Units & Median\\_Year\\_Structure\\_Built & Owner\\_Occupied\\_Housing\\_Units\\_Less\\_than\\_HPI & Median\\_House\\_Value & Median\\_Gross\\_Rent & Median\\_Gross\\_Rent\\_Percentage\\_of\\_Household\\_Income\\\\\n",
       "  & <chr> & <dbl> & <chr> & <dbl> & <dbl> & <dbl> & <dbl> & <dbl> & <dbl> & <dbl> & <dbl> & <dbl>\\\\\n",
       "\\hline\n",
       "\t1 & 14000US37001020100 & 201.00 & Alamance & 2006 &  31.54848 & 1757 &  851 & 1949 &  824 & 149600 & 614 & 27.9\\\\\n",
       "\t2 & 14000US37001020200 & 202.00 & Alamance & 1943 &  26.03618 & 1675 &  881 & 1961 &  881 &  83400 & 609 & 31.5\\\\\n",
       "\t3 & 14000US37001020300 & 203.00 & Alamance & 3254 &  71.60011 & 2930 & 2015 & 1971 & 1980 &  91500 & 763 & 37.7\\\\\n",
       "\t4 & 14000US37001020400 & 204.00 & Alamance & 2590 &  53.47674 & 2327 & 1510 & 1974 & 1487 &  96900 & 659 & 34.3\\\\\n",
       "\t5 & 14000US37001020501 & 205.01 & Alamance & 1435 & 122.03583 & 1280 &  990 & 1973 &  932 & 137400 & 584 & 46.7\\\\\n",
       "\t6 & 14000US37001020502 & 205.02 & Alamance & 1484 & 471.34609 & 1275 &  666 & 1980 &  666 &  73500 & 672 & 35.9\\\\\n",
       "\\end{tabular}\n"
      ],
      "text/markdown": [
       "\n",
       "A data.frame: 6 × 12\n",
       "\n",
       "| <!--/--> | GEO_ID &lt;chr&gt; | Census_Tract &lt;dbl&gt; | County &lt;chr&gt; | Total_Housing_Units &lt;dbl&gt; | Housing_Density &lt;dbl&gt; | Total_Occupied_Housing_Units &lt;dbl&gt; | Total_Owner_Occupied_Housing_Units &lt;dbl&gt; | Median_Year_Structure_Built &lt;dbl&gt; | Owner_Occupied_Housing_Units_Less_than_HPI &lt;dbl&gt; | Median_House_Value &lt;dbl&gt; | Median_Gross_Rent &lt;dbl&gt; | Median_Gross_Rent_Percentage_of_Household_Income &lt;dbl&gt; |\n",
       "|---|---|---|---|---|---|---|---|---|---|---|---|---|\n",
       "| 1 | 14000US37001020100 | 201.00 | Alamance | 2006 |  31.54848 | 1757 |  851 | 1949 |  824 | 149600 | 614 | 27.9 |\n",
       "| 2 | 14000US37001020200 | 202.00 | Alamance | 1943 |  26.03618 | 1675 |  881 | 1961 |  881 |  83400 | 609 | 31.5 |\n",
       "| 3 | 14000US37001020300 | 203.00 | Alamance | 3254 |  71.60011 | 2930 | 2015 | 1971 | 1980 |  91500 | 763 | 37.7 |\n",
       "| 4 | 14000US37001020400 | 204.00 | Alamance | 2590 |  53.47674 | 2327 | 1510 | 1974 | 1487 |  96900 | 659 | 34.3 |\n",
       "| 5 | 14000US37001020501 | 205.01 | Alamance | 1435 | 122.03583 | 1280 |  990 | 1973 |  932 | 137400 | 584 | 46.7 |\n",
       "| 6 | 14000US37001020502 | 205.02 | Alamance | 1484 | 471.34609 | 1275 |  666 | 1980 |  666 |  73500 | 672 | 35.9 |\n",
       "\n"
      ],
      "text/plain": [
       "  GEO_ID             Census_Tract County   Total_Housing_Units Housing_Density\n",
       "1 14000US37001020100 201.00       Alamance 2006                 31.54848      \n",
       "2 14000US37001020200 202.00       Alamance 1943                 26.03618      \n",
       "3 14000US37001020300 203.00       Alamance 3254                 71.60011      \n",
       "4 14000US37001020400 204.00       Alamance 2590                 53.47674      \n",
       "5 14000US37001020501 205.01       Alamance 1435                122.03583      \n",
       "6 14000US37001020502 205.02       Alamance 1484                471.34609      \n",
       "  Total_Occupied_Housing_Units Total_Owner_Occupied_Housing_Units\n",
       "1 1757                          851                              \n",
       "2 1675                          881                              \n",
       "3 2930                         2015                              \n",
       "4 2327                         1510                              \n",
       "5 1280                          990                              \n",
       "6 1275                          666                              \n",
       "  Median_Year_Structure_Built Owner_Occupied_Housing_Units_Less_than_HPI\n",
       "1 1949                         824                                      \n",
       "2 1961                         881                                      \n",
       "3 1971                        1980                                      \n",
       "4 1974                        1487                                      \n",
       "5 1973                         932                                      \n",
       "6 1980                         666                                      \n",
       "  Median_House_Value Median_Gross_Rent\n",
       "1 149600             614              \n",
       "2  83400             609              \n",
       "3  91500             763              \n",
       "4  96900             659              \n",
       "5 137400             584              \n",
       "6  73500             672              \n",
       "  Median_Gross_Rent_Percentage_of_Household_Income\n",
       "1 27.9                                            \n",
       "2 31.5                                            \n",
       "3 37.7                                            \n",
       "4 34.3                                            \n",
       "5 46.7                                            \n",
       "6 35.9                                            "
      ]
     },
     "metadata": {},
     "output_type": "display_data"
    },
    {
     "data": {
      "text/html": [
       "<style>\n",
       ".list-inline {list-style: none; margin:0; padding: 0}\n",
       ".list-inline>li {display: inline-block}\n",
       ".list-inline>li:not(:last-child)::after {content: \"\\00b7\"; padding: 0 .5ex}\n",
       "</style>\n",
       "<ol class=list-inline><li>2173</li><li>12</li></ol>\n"
      ],
      "text/latex": [
       "\\begin{enumerate*}\n",
       "\\item 2173\n",
       "\\item 12\n",
       "\\end{enumerate*}\n"
      ],
      "text/markdown": [
       "1. 2173\n",
       "2. 12\n",
       "\n",
       "\n"
      ],
      "text/plain": [
       "[1] 2173   12"
      ]
     },
     "metadata": {},
     "output_type": "display_data"
    }
   ],
   "source": [
    "# getting 0 geo ids to be removed\n",
    "removed_geo_ids = id_presence_df$GEO_ID\n",
    "\n",
    "`%notin%` <- Negate(`%in%`)\n",
    "filtered_housing_df = housing_df %>%\n",
    "    filter(GEO_ID %notin% removed_geo_ids)\n",
    "\n",
    "head(filtered_housing_df)\n",
    "dim(filtered_housing_df)"
   ]
  },
  {
   "cell_type": "markdown",
   "id": "f62fc629",
   "metadata": {},
   "source": [
    "All variables and geo ids will be kept, leaving us with 2,173 geo ids and 12 variables. \n",
    "\n",
    "# Random Forest Imputation\n",
    "Generating missing values using random forest (RF)."
   ]
  },
  {
   "cell_type": "code",
   "execution_count": 7,
   "id": "9a4febfb",
   "metadata": {},
   "outputs": [
    {
     "data": {
      "text/html": [
       "<table class=\"dataframe\">\n",
       "<caption>A data.frame: 6 × 12</caption>\n",
       "<thead>\n",
       "\t<tr><th></th><th scope=col>GEO_ID</th><th scope=col>Census_Tract</th><th scope=col>County</th><th scope=col>Total_Housing_Units</th><th scope=col>Housing_Density</th><th scope=col>Total_Occupied_Housing_Units</th><th scope=col>Total_Owner_Occupied_Housing_Units</th><th scope=col>Median_Year_Structure_Built</th><th scope=col>Owner_Occupied_Housing_Units_Less_than_HPI</th><th scope=col>Median_House_Value</th><th scope=col>Median_Gross_Rent</th><th scope=col>Median_Gross_Rent_Percentage_of_Household_Income</th></tr>\n",
       "\t<tr><th></th><th scope=col>&lt;chr&gt;</th><th scope=col>&lt;dbl&gt;</th><th scope=col>&lt;chr&gt;</th><th scope=col>&lt;dbl&gt;</th><th scope=col>&lt;dbl&gt;</th><th scope=col>&lt;dbl&gt;</th><th scope=col>&lt;dbl&gt;</th><th scope=col>&lt;dbl&gt;</th><th scope=col>&lt;dbl&gt;</th><th scope=col>&lt;dbl&gt;</th><th scope=col>&lt;dbl&gt;</th><th scope=col>&lt;dbl&gt;</th></tr>\n",
       "</thead>\n",
       "<tbody>\n",
       "\t<tr><th scope=row>1</th><td>14000US37001020100</td><td>201.00</td><td>Alamance</td><td>2006</td><td> 31.54848</td><td>1757</td><td> 851</td><td>1949</td><td> 824</td><td>149600</td><td>614</td><td>27.9</td></tr>\n",
       "\t<tr><th scope=row>2</th><td>14000US37001020200</td><td>202.00</td><td>Alamance</td><td>1943</td><td> 26.03618</td><td>1675</td><td> 881</td><td>1961</td><td> 881</td><td> 83400</td><td>609</td><td>31.5</td></tr>\n",
       "\t<tr><th scope=row>3</th><td>14000US37001020300</td><td>203.00</td><td>Alamance</td><td>3254</td><td> 71.60011</td><td>2930</td><td>2015</td><td>1971</td><td>1980</td><td> 91500</td><td>763</td><td>37.7</td></tr>\n",
       "\t<tr><th scope=row>4</th><td>14000US37001020400</td><td>204.00</td><td>Alamance</td><td>2590</td><td> 53.47674</td><td>2327</td><td>1510</td><td>1974</td><td>1487</td><td> 96900</td><td>659</td><td>34.3</td></tr>\n",
       "\t<tr><th scope=row>5</th><td>14000US37001020501</td><td>205.01</td><td>Alamance</td><td>1435</td><td>122.03583</td><td>1280</td><td> 990</td><td>1973</td><td> 932</td><td>137400</td><td>584</td><td>46.7</td></tr>\n",
       "\t<tr><th scope=row>6</th><td>14000US37001020502</td><td>205.02</td><td>Alamance</td><td>1484</td><td>471.34609</td><td>1275</td><td> 666</td><td>1980</td><td> 666</td><td> 73500</td><td>672</td><td>35.9</td></tr>\n",
       "</tbody>\n",
       "</table>\n"
      ],
      "text/latex": [
       "A data.frame: 6 × 12\n",
       "\\begin{tabular}{r|llllllllllll}\n",
       "  & GEO\\_ID & Census\\_Tract & County & Total\\_Housing\\_Units & Housing\\_Density & Total\\_Occupied\\_Housing\\_Units & Total\\_Owner\\_Occupied\\_Housing\\_Units & Median\\_Year\\_Structure\\_Built & Owner\\_Occupied\\_Housing\\_Units\\_Less\\_than\\_HPI & Median\\_House\\_Value & Median\\_Gross\\_Rent & Median\\_Gross\\_Rent\\_Percentage\\_of\\_Household\\_Income\\\\\n",
       "  & <chr> & <dbl> & <chr> & <dbl> & <dbl> & <dbl> & <dbl> & <dbl> & <dbl> & <dbl> & <dbl> & <dbl>\\\\\n",
       "\\hline\n",
       "\t1 & 14000US37001020100 & 201.00 & Alamance & 2006 &  31.54848 & 1757 &  851 & 1949 &  824 & 149600 & 614 & 27.9\\\\\n",
       "\t2 & 14000US37001020200 & 202.00 & Alamance & 1943 &  26.03618 & 1675 &  881 & 1961 &  881 &  83400 & 609 & 31.5\\\\\n",
       "\t3 & 14000US37001020300 & 203.00 & Alamance & 3254 &  71.60011 & 2930 & 2015 & 1971 & 1980 &  91500 & 763 & 37.7\\\\\n",
       "\t4 & 14000US37001020400 & 204.00 & Alamance & 2590 &  53.47674 & 2327 & 1510 & 1974 & 1487 &  96900 & 659 & 34.3\\\\\n",
       "\t5 & 14000US37001020501 & 205.01 & Alamance & 1435 & 122.03583 & 1280 &  990 & 1973 &  932 & 137400 & 584 & 46.7\\\\\n",
       "\t6 & 14000US37001020502 & 205.02 & Alamance & 1484 & 471.34609 & 1275 &  666 & 1980 &  666 &  73500 & 672 & 35.9\\\\\n",
       "\\end{tabular}\n"
      ],
      "text/markdown": [
       "\n",
       "A data.frame: 6 × 12\n",
       "\n",
       "| <!--/--> | GEO_ID &lt;chr&gt; | Census_Tract &lt;dbl&gt; | County &lt;chr&gt; | Total_Housing_Units &lt;dbl&gt; | Housing_Density &lt;dbl&gt; | Total_Occupied_Housing_Units &lt;dbl&gt; | Total_Owner_Occupied_Housing_Units &lt;dbl&gt; | Median_Year_Structure_Built &lt;dbl&gt; | Owner_Occupied_Housing_Units_Less_than_HPI &lt;dbl&gt; | Median_House_Value &lt;dbl&gt; | Median_Gross_Rent &lt;dbl&gt; | Median_Gross_Rent_Percentage_of_Household_Income &lt;dbl&gt; |\n",
       "|---|---|---|---|---|---|---|---|---|---|---|---|---|\n",
       "| 1 | 14000US37001020100 | 201.00 | Alamance | 2006 |  31.54848 | 1757 |  851 | 1949 |  824 | 149600 | 614 | 27.9 |\n",
       "| 2 | 14000US37001020200 | 202.00 | Alamance | 1943 |  26.03618 | 1675 |  881 | 1961 |  881 |  83400 | 609 | 31.5 |\n",
       "| 3 | 14000US37001020300 | 203.00 | Alamance | 3254 |  71.60011 | 2930 | 2015 | 1971 | 1980 |  91500 | 763 | 37.7 |\n",
       "| 4 | 14000US37001020400 | 204.00 | Alamance | 2590 |  53.47674 | 2327 | 1510 | 1974 | 1487 |  96900 | 659 | 34.3 |\n",
       "| 5 | 14000US37001020501 | 205.01 | Alamance | 1435 | 122.03583 | 1280 |  990 | 1973 |  932 | 137400 | 584 | 46.7 |\n",
       "| 6 | 14000US37001020502 | 205.02 | Alamance | 1484 | 471.34609 | 1275 |  666 | 1980 |  666 |  73500 | 672 | 35.9 |\n",
       "\n"
      ],
      "text/plain": [
       "  GEO_ID             Census_Tract County   Total_Housing_Units Housing_Density\n",
       "1 14000US37001020100 201.00       Alamance 2006                 31.54848      \n",
       "2 14000US37001020200 202.00       Alamance 1943                 26.03618      \n",
       "3 14000US37001020300 203.00       Alamance 3254                 71.60011      \n",
       "4 14000US37001020400 204.00       Alamance 2590                 53.47674      \n",
       "5 14000US37001020501 205.01       Alamance 1435                122.03583      \n",
       "6 14000US37001020502 205.02       Alamance 1484                471.34609      \n",
       "  Total_Occupied_Housing_Units Total_Owner_Occupied_Housing_Units\n",
       "1 1757                          851                              \n",
       "2 1675                          881                              \n",
       "3 2930                         2015                              \n",
       "4 2327                         1510                              \n",
       "5 1280                          990                              \n",
       "6 1275                          666                              \n",
       "  Median_Year_Structure_Built Owner_Occupied_Housing_Units_Less_than_HPI\n",
       "1 1949                         824                                      \n",
       "2 1961                         881                                      \n",
       "3 1971                        1980                                      \n",
       "4 1974                        1487                                      \n",
       "5 1973                         932                                      \n",
       "6 1980                         666                                      \n",
       "  Median_House_Value Median_Gross_Rent\n",
       "1 149600             614              \n",
       "2  83400             609              \n",
       "3  91500             763              \n",
       "4  96900             659              \n",
       "5 137400             584              \n",
       "6  73500             672              \n",
       "  Median_Gross_Rent_Percentage_of_Household_Income\n",
       "1 27.9                                            \n",
       "2 31.5                                            \n",
       "3 37.7                                            \n",
       "4 34.3                                            \n",
       "5 46.7                                            \n",
       "6 35.9                                            "
      ]
     },
     "metadata": {},
     "output_type": "display_data"
    }
   ],
   "source": [
    "# imputing sociodemographic data using RF\n",
    "random_forest_imputation = function(preimputed_df){\n",
    "\n",
    "    imputed_RF_object = missForest(as.matrix(preimputed_df[,4:12]))\n",
    "    imputed_RF_df = imputed_RF_object$ximp\n",
    "    imputed_values_df = data.frame(cbind(preimputed_df[,1:3], imputed_RF_df)) \n",
    "\n",
    "    \n",
    "    return(imputed_values_df)\n",
    "}\n",
    "\n",
    "# calling function\n",
    "imputed_df = random_forest_imputation(filtered_housing_df)\n",
    "head(imputed_df)"
   ]
  },
  {
   "cell_type": "code",
   "execution_count": 8,
   "id": "8bf92010",
   "metadata": {},
   "outputs": [
    {
     "data": {
      "text/html": [
       "<style>\n",
       ".list-inline {list-style: none; margin:0; padding: 0}\n",
       ".list-inline>li {display: inline-block}\n",
       ".list-inline>li:not(:last-child)::after {content: \"\\00b7\"; padding: 0 .5ex}\n",
       "</style>\n",
       "<ol class=list-inline><li>2173</li><li>12</li></ol>\n"
      ],
      "text/latex": [
       "\\begin{enumerate*}\n",
       "\\item 2173\n",
       "\\item 12\n",
       "\\end{enumerate*}\n"
      ],
      "text/markdown": [
       "1. 2173\n",
       "2. 12\n",
       "\n",
       "\n"
      ],
      "text/plain": [
       "[1] 2173   12"
      ]
     },
     "metadata": {},
     "output_type": "display_data"
    }
   ],
   "source": [
    "# double checking dimensions of the final df\n",
    "dim(imputed_df)"
   ]
  },
  {
   "cell_type": "code",
   "execution_count": 9,
   "id": "b861df94",
   "metadata": {},
   "outputs": [],
   "source": [
    "# exporting data\n",
    "write.csv(imputed_df, paste0(Output,\"/\", cur_date, \"_Imputed_Housing_Data.csv\"), row.names = FALSE)"
   ]
  }
 ],
 "metadata": {
  "kernelspec": {
   "display_name": "R",
   "language": "R",
   "name": "ir"
  },
  "language_info": {
   "codemirror_mode": "r",
   "file_extension": ".r",
   "mimetype": "text/x-r-source",
   "name": "R",
   "pygments_lexer": "r",
   "version": "4.1.3"
  }
 },
 "nbformat": 4,
 "nbformat_minor": 5
}
