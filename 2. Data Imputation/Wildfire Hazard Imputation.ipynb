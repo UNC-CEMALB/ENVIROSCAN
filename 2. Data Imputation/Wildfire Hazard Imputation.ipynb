{
 "cells": [
  {
   "cell_type": "code",
   "execution_count": 1,
   "id": "3f022157",
   "metadata": {},
   "outputs": [
    {
     "name": "stderr",
     "output_type": "stream",
     "text": [
      "── \u001b[1mAttaching packages\u001b[22m ─────────────────────────────────────── tidyverse 1.3.2 ──\n",
      "\u001b[32m✔\u001b[39m \u001b[34mggplot2\u001b[39m 3.4.0      \u001b[32m✔\u001b[39m \u001b[34mpurrr  \u001b[39m 0.3.4 \n",
      "\u001b[32m✔\u001b[39m \u001b[34mtibble \u001b[39m 3.1.8      \u001b[32m✔\u001b[39m \u001b[34mdplyr  \u001b[39m 1.0.10\n",
      "\u001b[32m✔\u001b[39m \u001b[34mtidyr  \u001b[39m 1.2.1      \u001b[32m✔\u001b[39m \u001b[34mstringr\u001b[39m 1.4.1 \n",
      "\u001b[32m✔\u001b[39m \u001b[34mreadr  \u001b[39m 2.1.2      \u001b[32m✔\u001b[39m \u001b[34mforcats\u001b[39m 0.5.2 \n",
      "── \u001b[1mConflicts\u001b[22m ────────────────────────────────────────── tidyverse_conflicts() ──\n",
      "\u001b[31m✖\u001b[39m \u001b[34mdplyr\u001b[39m::\u001b[32mfilter()\u001b[39m masks \u001b[34mstats\u001b[39m::filter()\n",
      "\u001b[31m✖\u001b[39m \u001b[34mdplyr\u001b[39m::\u001b[32mlag()\u001b[39m    masks \u001b[34mstats\u001b[39m::lag()\n",
      "\n",
      "Attaching package: ‘reshape2’\n",
      "\n",
      "\n",
      "The following object is masked from ‘package:tidyr’:\n",
      "\n",
      "    smiths\n",
      "\n",
      "\n",
      "Warning message in apply(whp_df[, 5:6], 2, as.numeric):\n",
      "“NAs introduced by coercion”\n",
      "Warning message in apply(whp_df[, 5:6], 2, as.numeric):\n",
      "“NAs introduced by coercion”\n"
     ]
    }
   ],
   "source": [
    "setwd('/Users/alexis/Library/CloudStorage/OneDrive-UniversityofNorthCarolinaatChapelHill/CEMALB_DataAnalysisPM/Projects/P1009. NC ENVRIOSCAN/P1009.3. Analyses/P1009.3.3. WHP Data Imputation')\n",
    "Output = ('/Users/alexis/Library/CloudStorage/OneDrive-UniversityofNorthCarolinaatChapelHill/CEMALB_DataAnalysisPM/Projects/P1009. NC ENVRIOSCAN/P1009.3. Analyses/P1009.3.3. WHP Data Imputation/Output')\n",
    "cur_date = \"030923\"\n",
    "\n",
    "library(readxl)\n",
    "library(tidyverse)\n",
    "library(reshape2)\n",
    "library(missForest)\n",
    "\n",
    "# reading in files\n",
    "whp_df = data.frame(read_excel(\"Input/Wildfire_Hazard_030923.xlsx\"))\n",
    "# making the last 2 cols numeric\n",
    "whp_df[,5:6] = apply(whp_df[,5:6], 2, as.numeric)"
   ]
  },
  {
   "cell_type": "code",
   "execution_count": 2,
   "id": "d069cc0b",
   "metadata": {},
   "outputs": [
    {
     "data": {
      "text/html": [
       "<table class=\"dataframe\">\n",
       "<caption>A data.frame: 6 × 6</caption>\n",
       "<thead>\n",
       "\t<tr><th></th><th scope=col>GEO_ID</th><th scope=col>FIPS</th><th scope=col>County</th><th scope=col>Census_Tract</th><th scope=col>Avg_ACRES</th><th scope=col>Wildfire_Hazard_Potential_Mean</th></tr>\n",
       "\t<tr><th></th><th scope=col>&lt;chr&gt;</th><th scope=col>&lt;dbl&gt;</th><th scope=col>&lt;chr&gt;</th><th scope=col>&lt;dbl&gt;</th><th scope=col>&lt;dbl&gt;</th><th scope=col>&lt;dbl&gt;</th></tr>\n",
       "</thead>\n",
       "<tbody>\n",
       "\t<tr><th scope=row>1</th><td>14000US37001020100</td><td>37001020100</td><td>Alamance</td><td>201.00</td><td>278233.8</td><td>92.23704</td></tr>\n",
       "\t<tr><th scope=row>2</th><td>14000US37001020200</td><td>37001020200</td><td>Alamance</td><td>202.00</td><td>278233.8</td><td>92.23704</td></tr>\n",
       "\t<tr><th scope=row>3</th><td>14000US37001020300</td><td>37001020300</td><td>Alamance</td><td>203.00</td><td>278233.8</td><td>92.23704</td></tr>\n",
       "\t<tr><th scope=row>4</th><td>14000US37001020400</td><td>37001020400</td><td>Alamance</td><td>204.00</td><td>278233.8</td><td>92.23704</td></tr>\n",
       "\t<tr><th scope=row>5</th><td>14000US37001020501</td><td>37001020501</td><td>Alamance</td><td>205.01</td><td>278233.8</td><td>92.23704</td></tr>\n",
       "\t<tr><th scope=row>6</th><td>14000US37001020502</td><td>37001020502</td><td>Alamance</td><td>205.02</td><td>278233.8</td><td>92.23704</td></tr>\n",
       "</tbody>\n",
       "</table>\n"
      ],
      "text/latex": [
       "A data.frame: 6 × 6\n",
       "\\begin{tabular}{r|llllll}\n",
       "  & GEO\\_ID & FIPS & County & Census\\_Tract & Avg\\_ACRES & Wildfire\\_Hazard\\_Potential\\_Mean\\\\\n",
       "  & <chr> & <dbl> & <chr> & <dbl> & <dbl> & <dbl>\\\\\n",
       "\\hline\n",
       "\t1 & 14000US37001020100 & 37001020100 & Alamance & 201.00 & 278233.8 & 92.23704\\\\\n",
       "\t2 & 14000US37001020200 & 37001020200 & Alamance & 202.00 & 278233.8 & 92.23704\\\\\n",
       "\t3 & 14000US37001020300 & 37001020300 & Alamance & 203.00 & 278233.8 & 92.23704\\\\\n",
       "\t4 & 14000US37001020400 & 37001020400 & Alamance & 204.00 & 278233.8 & 92.23704\\\\\n",
       "\t5 & 14000US37001020501 & 37001020501 & Alamance & 205.01 & 278233.8 & 92.23704\\\\\n",
       "\t6 & 14000US37001020502 & 37001020502 & Alamance & 205.02 & 278233.8 & 92.23704\\\\\n",
       "\\end{tabular}\n"
      ],
      "text/markdown": [
       "\n",
       "A data.frame: 6 × 6\n",
       "\n",
       "| <!--/--> | GEO_ID &lt;chr&gt; | FIPS &lt;dbl&gt; | County &lt;chr&gt; | Census_Tract &lt;dbl&gt; | Avg_ACRES &lt;dbl&gt; | Wildfire_Hazard_Potential_Mean &lt;dbl&gt; |\n",
       "|---|---|---|---|---|---|---|\n",
       "| 1 | 14000US37001020100 | 37001020100 | Alamance | 201.00 | 278233.8 | 92.23704 |\n",
       "| 2 | 14000US37001020200 | 37001020200 | Alamance | 202.00 | 278233.8 | 92.23704 |\n",
       "| 3 | 14000US37001020300 | 37001020300 | Alamance | 203.00 | 278233.8 | 92.23704 |\n",
       "| 4 | 14000US37001020400 | 37001020400 | Alamance | 204.00 | 278233.8 | 92.23704 |\n",
       "| 5 | 14000US37001020501 | 37001020501 | Alamance | 205.01 | 278233.8 | 92.23704 |\n",
       "| 6 | 14000US37001020502 | 37001020502 | Alamance | 205.02 | 278233.8 | 92.23704 |\n",
       "\n"
      ],
      "text/plain": [
       "  GEO_ID             FIPS        County   Census_Tract Avg_ACRES\n",
       "1 14000US37001020100 37001020100 Alamance 201.00       278233.8 \n",
       "2 14000US37001020200 37001020200 Alamance 202.00       278233.8 \n",
       "3 14000US37001020300 37001020300 Alamance 203.00       278233.8 \n",
       "4 14000US37001020400 37001020400 Alamance 204.00       278233.8 \n",
       "5 14000US37001020501 37001020501 Alamance 205.01       278233.8 \n",
       "6 14000US37001020502 37001020502 Alamance 205.02       278233.8 \n",
       "  Wildfire_Hazard_Potential_Mean\n",
       "1 92.23704                      \n",
       "2 92.23704                      \n",
       "3 92.23704                      \n",
       "4 92.23704                      \n",
       "5 92.23704                      \n",
       "6 92.23704                      "
      ]
     },
     "metadata": {},
     "output_type": "display_data"
    }
   ],
   "source": [
    "head(whp_df)"
   ]
  },
  {
   "cell_type": "markdown",
   "id": "2e89ad65",
   "metadata": {},
   "source": [
    "# Variable & GEO Id Filtering\n",
    "\n",
    "Typically removing variables and GEO ids that have less than 25% of data prior to imputation. However, I know that we're only missing data for 6 GEO ids, so I won't worry about this.\n",
    "\n",
    "# Random Forest Imputation\n",
    "Generating missing values using random forest (RF)."
   ]
  },
  {
   "cell_type": "code",
   "execution_count": 3,
   "id": "c91aed1e",
   "metadata": {},
   "outputs": [
    {
     "data": {
      "text/html": [
       "<table class=\"dataframe\">\n",
       "<caption>A data.frame: 6 × 6</caption>\n",
       "<thead>\n",
       "\t<tr><th></th><th scope=col>GEO_ID</th><th scope=col>FIPS</th><th scope=col>County</th><th scope=col>Census_Tract</th><th scope=col>Avg_ACRES</th><th scope=col>Wildfire_Hazard_Potential_Mean</th></tr>\n",
       "\t<tr><th></th><th scope=col>&lt;chr&gt;</th><th scope=col>&lt;dbl&gt;</th><th scope=col>&lt;chr&gt;</th><th scope=col>&lt;dbl&gt;</th><th scope=col>&lt;dbl&gt;</th><th scope=col>&lt;dbl&gt;</th></tr>\n",
       "</thead>\n",
       "<tbody>\n",
       "\t<tr><th scope=row>1</th><td>14000US37001020100</td><td>37001020100</td><td>Alamance</td><td>201.00</td><td>278233.8</td><td>92.23704</td></tr>\n",
       "\t<tr><th scope=row>2</th><td>14000US37001020200</td><td>37001020200</td><td>Alamance</td><td>202.00</td><td>278233.8</td><td>92.23704</td></tr>\n",
       "\t<tr><th scope=row>3</th><td>14000US37001020300</td><td>37001020300</td><td>Alamance</td><td>203.00</td><td>278233.8</td><td>92.23704</td></tr>\n",
       "\t<tr><th scope=row>4</th><td>14000US37001020400</td><td>37001020400</td><td>Alamance</td><td>204.00</td><td>278233.8</td><td>92.23704</td></tr>\n",
       "\t<tr><th scope=row>5</th><td>14000US37001020501</td><td>37001020501</td><td>Alamance</td><td>205.01</td><td>278233.8</td><td>92.23704</td></tr>\n",
       "\t<tr><th scope=row>6</th><td>14000US37001020502</td><td>37001020502</td><td>Alamance</td><td>205.02</td><td>278233.8</td><td>92.23704</td></tr>\n",
       "</tbody>\n",
       "</table>\n"
      ],
      "text/latex": [
       "A data.frame: 6 × 6\n",
       "\\begin{tabular}{r|llllll}\n",
       "  & GEO\\_ID & FIPS & County & Census\\_Tract & Avg\\_ACRES & Wildfire\\_Hazard\\_Potential\\_Mean\\\\\n",
       "  & <chr> & <dbl> & <chr> & <dbl> & <dbl> & <dbl>\\\\\n",
       "\\hline\n",
       "\t1 & 14000US37001020100 & 37001020100 & Alamance & 201.00 & 278233.8 & 92.23704\\\\\n",
       "\t2 & 14000US37001020200 & 37001020200 & Alamance & 202.00 & 278233.8 & 92.23704\\\\\n",
       "\t3 & 14000US37001020300 & 37001020300 & Alamance & 203.00 & 278233.8 & 92.23704\\\\\n",
       "\t4 & 14000US37001020400 & 37001020400 & Alamance & 204.00 & 278233.8 & 92.23704\\\\\n",
       "\t5 & 14000US37001020501 & 37001020501 & Alamance & 205.01 & 278233.8 & 92.23704\\\\\n",
       "\t6 & 14000US37001020502 & 37001020502 & Alamance & 205.02 & 278233.8 & 92.23704\\\\\n",
       "\\end{tabular}\n"
      ],
      "text/markdown": [
       "\n",
       "A data.frame: 6 × 6\n",
       "\n",
       "| <!--/--> | GEO_ID &lt;chr&gt; | FIPS &lt;dbl&gt; | County &lt;chr&gt; | Census_Tract &lt;dbl&gt; | Avg_ACRES &lt;dbl&gt; | Wildfire_Hazard_Potential_Mean &lt;dbl&gt; |\n",
       "|---|---|---|---|---|---|---|\n",
       "| 1 | 14000US37001020100 | 37001020100 | Alamance | 201.00 | 278233.8 | 92.23704 |\n",
       "| 2 | 14000US37001020200 | 37001020200 | Alamance | 202.00 | 278233.8 | 92.23704 |\n",
       "| 3 | 14000US37001020300 | 37001020300 | Alamance | 203.00 | 278233.8 | 92.23704 |\n",
       "| 4 | 14000US37001020400 | 37001020400 | Alamance | 204.00 | 278233.8 | 92.23704 |\n",
       "| 5 | 14000US37001020501 | 37001020501 | Alamance | 205.01 | 278233.8 | 92.23704 |\n",
       "| 6 | 14000US37001020502 | 37001020502 | Alamance | 205.02 | 278233.8 | 92.23704 |\n",
       "\n"
      ],
      "text/plain": [
       "  GEO_ID             FIPS        County   Census_Tract Avg_ACRES\n",
       "1 14000US37001020100 37001020100 Alamance 201.00       278233.8 \n",
       "2 14000US37001020200 37001020200 Alamance 202.00       278233.8 \n",
       "3 14000US37001020300 37001020300 Alamance 203.00       278233.8 \n",
       "4 14000US37001020400 37001020400 Alamance 204.00       278233.8 \n",
       "5 14000US37001020501 37001020501 Alamance 205.01       278233.8 \n",
       "6 14000US37001020502 37001020502 Alamance 205.02       278233.8 \n",
       "  Wildfire_Hazard_Potential_Mean\n",
       "1 92.23704                      \n",
       "2 92.23704                      \n",
       "3 92.23704                      \n",
       "4 92.23704                      \n",
       "5 92.23704                      \n",
       "6 92.23704                      "
      ]
     },
     "metadata": {},
     "output_type": "display_data"
    }
   ],
   "source": [
    "# imputing sociodemographic data using RF\n",
    "random_forest_imputation = function(preimputed_df){\n",
    "\n",
    "    # missForest doesn't work on a matrix with 2 variables, so throwing in the census tract but will remove\n",
    "    imputed_RF_object = missForest(as.matrix(preimputed_df[,4:6]))\n",
    "    imputed_RF_df = imputed_RF_object$ximp\n",
    "    imputed_values_df = data.frame(cbind(preimputed_df[,1:4], imputed_RF_df[,2:3])) \n",
    "\n",
    "    \n",
    "    return(imputed_values_df)\n",
    "}\n",
    "\n",
    "# calling function\n",
    "imputed_df = random_forest_imputation(whp_df)\n",
    "head(imputed_df)"
   ]
  },
  {
   "cell_type": "markdown",
   "id": "2cbe9950",
   "metadata": {},
   "source": [
    "# Adding in WHP Quintiles"
   ]
  },
  {
   "cell_type": "code",
   "execution_count": 4,
   "id": "9cc2b005",
   "metadata": {},
   "outputs": [
    {
     "data": {
      "text/html": [
       "439"
      ],
      "text/latex": [
       "439"
      ],
      "text/markdown": [
       "439"
      ],
      "text/plain": [
       "[1] 439"
      ]
     },
     "metadata": {},
     "output_type": "display_data"
    }
   ],
   "source": [
    "# determining number of rows needed in each quintile\n",
    "# rounding up since the number of rows isn't divisible by 5\n",
    "quintile_breaks = dim(imputed_df)[1]/5\n",
    "quintile_breaks"
   ]
  },
  {
   "cell_type": "code",
   "execution_count": 5,
   "id": "455d1a25",
   "metadata": {},
   "outputs": [
    {
     "data": {
      "text/html": [
       "<table class=\"dataframe\">\n",
       "<caption>A data.frame: 6 × 8</caption>\n",
       "<thead>\n",
       "\t<tr><th></th><th scope=col>GEO_ID</th><th scope=col>FIPS</th><th scope=col>County</th><th scope=col>Census_Tract</th><th scope=col>Avg_ACRES</th><th scope=col>Wildfire_Hazard_Potential_Mean</th><th scope=col>Wildfire_Hazard_Potential_Quintile_Number</th><th scope=col>Wildfire_Hazard_Potential_Quintile_Percentage</th></tr>\n",
       "\t<tr><th></th><th scope=col>&lt;chr&gt;</th><th scope=col>&lt;dbl&gt;</th><th scope=col>&lt;chr&gt;</th><th scope=col>&lt;dbl&gt;</th><th scope=col>&lt;dbl&gt;</th><th scope=col>&lt;dbl&gt;</th><th scope=col>&lt;chr&gt;</th><th scope=col>&lt;chr&gt;</th></tr>\n",
       "</thead>\n",
       "<tbody>\n",
       "\t<tr><th scope=row>1</th><td>14000US37141920201</td><td>37141920201</td><td>Pender</td><td>9202.01</td><td>596842.6</td><td>715.5177</td><td>5</td><td>0-20%</td></tr>\n",
       "\t<tr><th scope=row>2</th><td>14000US37141920401</td><td>37141920401</td><td>Pender</td><td>9204.01</td><td>596842.6</td><td>715.5177</td><td>5</td><td>0-20%</td></tr>\n",
       "\t<tr><th scope=row>3</th><td>14000US37141920402</td><td>37141920402</td><td>Pender</td><td>9204.02</td><td>596842.6</td><td>715.5177</td><td>5</td><td>0-20%</td></tr>\n",
       "\t<tr><th scope=row>4</th><td>14000US37141920403</td><td>37141920403</td><td>Pender</td><td>9204.03</td><td>596842.6</td><td>715.5177</td><td>5</td><td>0-20%</td></tr>\n",
       "\t<tr><th scope=row>5</th><td>14000US37141920601</td><td>37141920601</td><td>Pender</td><td>9206.01</td><td>596842.6</td><td>715.5177</td><td>5</td><td>0-20%</td></tr>\n",
       "\t<tr><th scope=row>6</th><td>14000US37141990100</td><td>37141990100</td><td>Pender</td><td>9901.00</td><td>596842.6</td><td>715.5177</td><td>5</td><td>0-20%</td></tr>\n",
       "</tbody>\n",
       "</table>\n"
      ],
      "text/latex": [
       "A data.frame: 6 × 8\n",
       "\\begin{tabular}{r|llllllll}\n",
       "  & GEO\\_ID & FIPS & County & Census\\_Tract & Avg\\_ACRES & Wildfire\\_Hazard\\_Potential\\_Mean & Wildfire\\_Hazard\\_Potential\\_Quintile\\_Number & Wildfire\\_Hazard\\_Potential\\_Quintile\\_Percentage\\\\\n",
       "  & <chr> & <dbl> & <chr> & <dbl> & <dbl> & <dbl> & <chr> & <chr>\\\\\n",
       "\\hline\n",
       "\t1 & 14000US37141920201 & 37141920201 & Pender & 9202.01 & 596842.6 & 715.5177 & 5 & 0-20\\%\\\\\n",
       "\t2 & 14000US37141920401 & 37141920401 & Pender & 9204.01 & 596842.6 & 715.5177 & 5 & 0-20\\%\\\\\n",
       "\t3 & 14000US37141920402 & 37141920402 & Pender & 9204.02 & 596842.6 & 715.5177 & 5 & 0-20\\%\\\\\n",
       "\t4 & 14000US37141920403 & 37141920403 & Pender & 9204.03 & 596842.6 & 715.5177 & 5 & 0-20\\%\\\\\n",
       "\t5 & 14000US37141920601 & 37141920601 & Pender & 9206.01 & 596842.6 & 715.5177 & 5 & 0-20\\%\\\\\n",
       "\t6 & 14000US37141990100 & 37141990100 & Pender & 9901.00 & 596842.6 & 715.5177 & 5 & 0-20\\%\\\\\n",
       "\\end{tabular}\n"
      ],
      "text/markdown": [
       "\n",
       "A data.frame: 6 × 8\n",
       "\n",
       "| <!--/--> | GEO_ID &lt;chr&gt; | FIPS &lt;dbl&gt; | County &lt;chr&gt; | Census_Tract &lt;dbl&gt; | Avg_ACRES &lt;dbl&gt; | Wildfire_Hazard_Potential_Mean &lt;dbl&gt; | Wildfire_Hazard_Potential_Quintile_Number &lt;chr&gt; | Wildfire_Hazard_Potential_Quintile_Percentage &lt;chr&gt; |\n",
       "|---|---|---|---|---|---|---|---|---|\n",
       "| 1 | 14000US37141920201 | 37141920201 | Pender | 9202.01 | 596842.6 | 715.5177 | 5 | 0-20% |\n",
       "| 2 | 14000US37141920401 | 37141920401 | Pender | 9204.01 | 596842.6 | 715.5177 | 5 | 0-20% |\n",
       "| 3 | 14000US37141920402 | 37141920402 | Pender | 9204.02 | 596842.6 | 715.5177 | 5 | 0-20% |\n",
       "| 4 | 14000US37141920403 | 37141920403 | Pender | 9204.03 | 596842.6 | 715.5177 | 5 | 0-20% |\n",
       "| 5 | 14000US37141920601 | 37141920601 | Pender | 9206.01 | 596842.6 | 715.5177 | 5 | 0-20% |\n",
       "| 6 | 14000US37141990100 | 37141990100 | Pender | 9901.00 | 596842.6 | 715.5177 | 5 | 0-20% |\n",
       "\n"
      ],
      "text/plain": [
       "  GEO_ID             FIPS        County Census_Tract Avg_ACRES\n",
       "1 14000US37141920201 37141920201 Pender 9202.01      596842.6 \n",
       "2 14000US37141920401 37141920401 Pender 9204.01      596842.6 \n",
       "3 14000US37141920402 37141920402 Pender 9204.02      596842.6 \n",
       "4 14000US37141920403 37141920403 Pender 9204.03      596842.6 \n",
       "5 14000US37141920601 37141920601 Pender 9206.01      596842.6 \n",
       "6 14000US37141990100 37141990100 Pender 9901.00      596842.6 \n",
       "  Wildfire_Hazard_Potential_Mean Wildfire_Hazard_Potential_Quintile_Number\n",
       "1 715.5177                       5                                        \n",
       "2 715.5177                       5                                        \n",
       "3 715.5177                       5                                        \n",
       "4 715.5177                       5                                        \n",
       "5 715.5177                       5                                        \n",
       "6 715.5177                       5                                        \n",
       "  Wildfire_Hazard_Potential_Quintile_Percentage\n",
       "1 0-20%                                        \n",
       "2 0-20%                                        \n",
       "3 0-20%                                        \n",
       "4 0-20%                                        \n",
       "5 0-20%                                        \n",
       "6 0-20%                                        "
      ]
     },
     "metadata": {},
     "output_type": "display_data"
    }
   ],
   "source": [
    "quintile = c(rep(\"5\", times = quintile_breaks), rep(\"4\", times = quintile_breaks), rep(\"3\", times = quintile_breaks), \n",
    "             rep(\"2\", times = quintile_breaks), rep(\"1\", times = quintile_breaks))\n",
    "                                                   \n",
    "quintile_percentage = c(rep(\"0-20%\", times = quintile_breaks), rep(\"21-40%\", times = quintile_breaks), \n",
    "                        rep(\"41-60%\", times = quintile_breaks), rep(\"61-80%\", times = quintile_breaks), \n",
    "                        rep(\"81-100\", times = quintile_breaks))\n",
    "\n",
    "final_df = imputed_df %>%\n",
    "    arrange(-Wildfire_Hazard_Potential_Mean) %>%\n",
    "    mutate(Wildfire_Hazard_Potential_Quintile_Number = quintile,\n",
    "           Wildfire_Hazard_Potential_Quintile_Percentage = quintile_percentage)\n",
    "\n",
    "head(final_df)"
   ]
  },
  {
   "cell_type": "code",
   "execution_count": 6,
   "id": "3030c7f6",
   "metadata": {},
   "outputs": [],
   "source": [
    "# exporting data\n",
    "write.csv(final_df, paste0(Output,\"/\", cur_date, \"_Imputed_WHP_Data.csv\"), row.names = FALSE)"
   ]
  }
 ],
 "metadata": {
  "kernelspec": {
   "display_name": "R",
   "language": "R",
   "name": "ir"
  },
  "language_info": {
   "codemirror_mode": "r",
   "file_extension": ".r",
   "mimetype": "text/x-r-source",
   "name": "R",
   "pygments_lexer": "r",
   "version": "4.1.3"
  }
 },
 "nbformat": 4,
 "nbformat_minor": 5
}
