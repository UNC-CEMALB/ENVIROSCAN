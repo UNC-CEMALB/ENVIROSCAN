{
 "cells": [
  {
   "cell_type": "code",
   "execution_count": 1,
   "id": "35ae2c20",
   "metadata": {},
   "outputs": [
    {
     "name": "stderr",
     "output_type": "stream",
     "text": [
      "── \u001b[1mAttaching packages\u001b[22m ─────────────────────────────────────── tidyverse 1.3.2 ──\n",
      "\u001b[32m✔\u001b[39m \u001b[34mggplot2\u001b[39m 3.4.0      \u001b[32m✔\u001b[39m \u001b[34mpurrr  \u001b[39m 0.3.4 \n",
      "\u001b[32m✔\u001b[39m \u001b[34mtibble \u001b[39m 3.1.8      \u001b[32m✔\u001b[39m \u001b[34mdplyr  \u001b[39m 1.0.10\n",
      "\u001b[32m✔\u001b[39m \u001b[34mtidyr  \u001b[39m 1.2.1      \u001b[32m✔\u001b[39m \u001b[34mstringr\u001b[39m 1.4.1 \n",
      "\u001b[32m✔\u001b[39m \u001b[34mreadr  \u001b[39m 2.1.2      \u001b[32m✔\u001b[39m \u001b[34mforcats\u001b[39m 0.5.2 \n",
      "── \u001b[1mConflicts\u001b[22m ────────────────────────────────────────── tidyverse_conflicts() ──\n",
      "\u001b[31m✖\u001b[39m \u001b[34mdplyr\u001b[39m::\u001b[32mfilter()\u001b[39m masks \u001b[34mstats\u001b[39m::filter()\n",
      "\u001b[31m✖\u001b[39m \u001b[34mdplyr\u001b[39m::\u001b[32mlag()\u001b[39m    masks \u001b[34mstats\u001b[39m::lag()\n",
      "\n",
      "Attaching package: ‘reshape2’\n",
      "\n",
      "\n",
      "The following object is masked from ‘package:tidyr’:\n",
      "\n",
      "    smiths\n",
      "\n",
      "\n",
      "Warning message in apply(acs_df[, 4:45], 2, as.numeric):\n",
      "“NAs introduced by coercion”\n",
      "Warning message in apply(acs_df[, 4:45], 2, as.numeric):\n",
      "“NAs introduced by coercion”\n",
      "Warning message in apply(acs_df[, 4:45], 2, as.numeric):\n",
      "“NAs introduced by coercion”\n",
      "Warning message in apply(acs_df[, 4:45], 2, as.numeric):\n",
      "“NAs introduced by coercion”\n",
      "Warning message in apply(acs_df[, 4:45], 2, as.numeric):\n",
      "“NAs introduced by coercion”\n",
      "Warning message in apply(acs_df[, 4:45], 2, as.numeric):\n",
      "“NAs introduced by coercion”\n",
      "Warning message in apply(acs_df[, 4:45], 2, as.numeric):\n",
      "“NAs introduced by coercion”\n",
      "Warning message in apply(acs_df[, 4:45], 2, as.numeric):\n",
      "“NAs introduced by coercion”\n",
      "Warning message in apply(acs_df[, 4:45], 2, as.numeric):\n",
      "“NAs introduced by coercion”\n",
      "Warning message in apply(acs_df[, 4:45], 2, as.numeric):\n",
      "“NAs introduced by coercion”\n",
      "Warning message in apply(acs_df[, 4:45], 2, as.numeric):\n",
      "“NAs introduced by coercion”\n",
      "Warning message in apply(acs_df[, 4:45], 2, as.numeric):\n",
      "“NAs introduced by coercion”\n",
      "Warning message in apply(acs_df[, 4:45], 2, as.numeric):\n",
      "“NAs introduced by coercion”\n",
      "Warning message in apply(acs_df[, 4:45], 2, as.numeric):\n",
      "“NAs introduced by coercion”\n",
      "Warning message in apply(acs_df[, 4:45], 2, as.numeric):\n",
      "“NAs introduced by coercion”\n",
      "Warning message in apply(acs_df[, 4:45], 2, as.numeric):\n",
      "“NAs introduced by coercion”\n",
      "Warning message in apply(acs_df[, 4:45], 2, as.numeric):\n",
      "“NAs introduced by coercion”\n",
      "Warning message in apply(acs_df[, 4:45], 2, as.numeric):\n",
      "“NAs introduced by coercion”\n",
      "Warning message in apply(acs_df[, 4:45], 2, as.numeric):\n",
      "“NAs introduced by coercion”\n",
      "Warning message in apply(acs_df[, 4:45], 2, as.numeric):\n",
      "“NAs introduced by coercion”\n",
      "Warning message in apply(acs_df[, 4:45], 2, as.numeric):\n",
      "“NAs introduced by coercion”\n",
      "Warning message in apply(acs_df[, 4:45], 2, as.numeric):\n",
      "“NAs introduced by coercion”\n",
      "Warning message in apply(acs_df[, 4:45], 2, as.numeric):\n",
      "“NAs introduced by coercion”\n",
      "Warning message in apply(acs_df[, 4:45], 2, as.numeric):\n",
      "“NAs introduced by coercion”\n",
      "Warning message in apply(acs_df[, 4:45], 2, as.numeric):\n",
      "“NAs introduced by coercion”\n",
      "Warning message in apply(acs_df[, 4:45], 2, as.numeric):\n",
      "“NAs introduced by coercion”\n",
      "Warning message in apply(acs_df[, 4:45], 2, as.numeric):\n",
      "“NAs introduced by coercion”\n",
      "Warning message in apply(acs_df[, 4:45], 2, as.numeric):\n",
      "“NAs introduced by coercion”\n",
      "Warning message in apply(acs_df[, 4:45], 2, as.numeric):\n",
      "“NAs introduced by coercion”\n",
      "Warning message in apply(acs_df[, 4:45], 2, as.numeric):\n",
      "“NAs introduced by coercion”\n",
      "Warning message in apply(acs_df[, 4:45], 2, as.numeric):\n",
      "“NAs introduced by coercion”\n",
      "Warning message in apply(acs_df[, 4:45], 2, as.numeric):\n",
      "“NAs introduced by coercion”\n",
      "Warning message in apply(acs_df[, 4:45], 2, as.numeric):\n",
      "“NAs introduced by coercion”\n",
      "Warning message in apply(acs_df[, 4:45], 2, as.numeric):\n",
      "“NAs introduced by coercion”\n",
      "Warning message in apply(acs_df[, 4:45], 2, as.numeric):\n",
      "“NAs introduced by coercion”\n",
      "Warning message in apply(acs_df[, 4:45], 2, as.numeric):\n",
      "“NAs introduced by coercion”\n",
      "Warning message in apply(acs_df[, 4:45], 2, as.numeric):\n",
      "“NAs introduced by coercion”\n",
      "Warning message in apply(acs_df[, 4:45], 2, as.numeric):\n",
      "“NAs introduced by coercion”\n",
      "Warning message in apply(acs_df[, 4:45], 2, as.numeric):\n",
      "“NAs introduced by coercion”\n"
     ]
    }
   ],
   "source": [
    "setwd('/Users/alexis/Library/CloudStorage/OneDrive-UniversityofNorthCarolinaatChapelHill/CEMALB_DataAnalysisPM/Projects/P1009. NC ENVRIOSCAN/P1009.3. Analyses/P1009.3.3. Sociodemographic Imputation/Input')\n",
    "Output = ('/Users/alexis/Library/CloudStorage/OneDrive-UniversityofNorthCarolinaatChapelHill/CEMALB_DataAnalysisPM/Projects/P1009. NC ENVRIOSCAN/P1009.3. Analyses/P1009.3.3. Sociodemographic Imputation/Output')\n",
    "cur_date = \"013023\"\n",
    "\n",
    "library(readxl)\n",
    "library(tidyverse)\n",
    "library(reshape2)\n",
    "library(missForest)\n",
    "\n",
    "# reading in files\n",
    "acs_df = data.frame(read_excel(\"ACS_Data_013023.xlsx\", sheet = 2))\n",
    "\n",
    "# making some of the cols numeric\n",
    "acs_df[,4:45] = apply(acs_df[,4:45], 2, as.numeric)\n",
    "wildfire_hazard_df = data.frame(read_excel(\"Wildfire_Hazard_010523.xlsx\"))"
   ]
  },
  {
   "cell_type": "code",
   "execution_count": 2,
   "id": "188d69c5",
   "metadata": {},
   "outputs": [
    {
     "data": {
      "text/html": [
       "<table class=\"dataframe\">\n",
       "<caption>A data.frame: 6 × 45</caption>\n",
       "<thead>\n",
       "\t<tr><th></th><th scope=col>GEO_ID</th><th scope=col>Census_Tract</th><th scope=col>County</th><th scope=col>Sex_Ratio</th><th scope=col>Median_Age</th><th scope=col>Population_Under_5</th><th scope=col>Population_Under_18</th><th scope=col>Population_Over_18</th><th scope=col>Population_Over_65</th><th scope=col>Race_White</th><th scope=col>⋯</th><th scope=col>Some_College</th><th scope=col>College_Education</th><th scope=col>Employed</th><th scope=col>Unemployed</th><th scope=col>Employed_Male</th><th scope=col>Employed_Female</th><th scope=col>Full_Time_Work</th><th scope=col>Part_Time_Work</th><th scope=col>No_Work</th><th scope=col>Average_Income_Deficit</th></tr>\n",
       "\t<tr><th></th><th scope=col>&lt;chr&gt;</th><th scope=col>&lt;dbl&gt;</th><th scope=col>&lt;chr&gt;</th><th scope=col>&lt;dbl&gt;</th><th scope=col>&lt;dbl&gt;</th><th scope=col>&lt;dbl&gt;</th><th scope=col>&lt;dbl&gt;</th><th scope=col>&lt;dbl&gt;</th><th scope=col>&lt;dbl&gt;</th><th scope=col>&lt;dbl&gt;</th><th scope=col>⋯</th><th scope=col>&lt;dbl&gt;</th><th scope=col>&lt;dbl&gt;</th><th scope=col>&lt;dbl&gt;</th><th scope=col>&lt;dbl&gt;</th><th scope=col>&lt;dbl&gt;</th><th scope=col>&lt;dbl&gt;</th><th scope=col>&lt;dbl&gt;</th><th scope=col>&lt;dbl&gt;</th><th scope=col>&lt;dbl&gt;</th><th scope=col>&lt;dbl&gt;</th></tr>\n",
       "</thead>\n",
       "<tbody>\n",
       "\t<tr><th scope=row>1</th><td>14000US37001020100</td><td>201.00</td><td>Alamance</td><td>87.2</td><td>37.3</td><td>9.5</td><td>21.9</td><td>78.1</td><td>15.1</td><td>61.0</td><td>⋯</td><td>21.1</td><td> 0.9</td><td>91.61621</td><td> 8.383791</td><td>94.24951</td><td>89.20607</td><td>43.04307</td><td>21.93988</td><td>35.01704</td><td>5016</td></tr>\n",
       "\t<tr><th scope=row>2</th><td>14000US37001020200</td><td>202.00</td><td>Alamance</td><td>78.3</td><td>31.0</td><td>7.1</td><td>29.1</td><td>70.9</td><td>11.2</td><td>51.9</td><td>⋯</td><td>18.9</td><td>12.4</td><td>89.54774</td><td>10.452261</td><td>86.97436</td><td>92.01970</td><td>39.42970</td><td>23.56604</td><td>37.00426</td><td>4007</td></tr>\n",
       "\t<tr><th scope=row>3</th><td>14000US37001020300</td><td>203.00</td><td>Alamance</td><td>77.8</td><td>40.7</td><td>7.3</td><td>27.1</td><td>72.9</td><td>18.9</td><td>45.2</td><td>⋯</td><td>22.6</td><td> 4.6</td><td>93.78094</td><td> 6.219059</td><td>92.69841</td><td>94.80990</td><td>41.09615</td><td>18.98616</td><td>39.91770</td><td>5370</td></tr>\n",
       "\t<tr><th scope=row>4</th><td>14000US37001020400</td><td>204.00</td><td>Alamance</td><td>78.1</td><td>30.5</td><td>8.9</td><td>31.4</td><td>68.6</td><td>10.1</td><td>19.6</td><td>⋯</td><td>16.3</td><td> 5.4</td><td>91.69985</td><td> 8.300153</td><td>93.36493</td><td>90.64532</td><td>37.55153</td><td>28.40066</td><td>34.04782</td><td>7148</td></tr>\n",
       "\t<tr><th scope=row>5</th><td>14000US37001020501</td><td>205.01</td><td>Alamance</td><td>92.7</td><td>35.1</td><td>5.5</td><td>23.3</td><td>76.7</td><td>15.6</td><td>76.1</td><td>⋯</td><td> 3.5</td><td> 1.5</td><td>91.14707</td><td> 8.852927</td><td>96.10136</td><td>86.41860</td><td>45.86115</td><td>25.56742</td><td>28.57143</td><td>7403</td></tr>\n",
       "\t<tr><th scope=row>6</th><td>14000US37001020502</td><td>205.02</td><td>Alamance</td><td>99.0</td><td>32.1</td><td>9.8</td><td>30.0</td><td>70.0</td><td> 8.9</td><td>40.7</td><td>⋯</td><td>10.8</td><td> 5.2</td><td>89.44282</td><td>10.557185</td><td>89.64942</td><td>89.15094</td><td>43.57167</td><td>22.82645</td><td>33.60188</td><td>5412</td></tr>\n",
       "</tbody>\n",
       "</table>\n"
      ],
      "text/latex": [
       "A data.frame: 6 × 45\n",
       "\\begin{tabular}{r|lllllllllllllllllllll}\n",
       "  & GEO\\_ID & Census\\_Tract & County & Sex\\_Ratio & Median\\_Age & Population\\_Under\\_5 & Population\\_Under\\_18 & Population\\_Over\\_18 & Population\\_Over\\_65 & Race\\_White & ⋯ & Some\\_College & College\\_Education & Employed & Unemployed & Employed\\_Male & Employed\\_Female & Full\\_Time\\_Work & Part\\_Time\\_Work & No\\_Work & Average\\_Income\\_Deficit\\\\\n",
       "  & <chr> & <dbl> & <chr> & <dbl> & <dbl> & <dbl> & <dbl> & <dbl> & <dbl> & <dbl> & ⋯ & <dbl> & <dbl> & <dbl> & <dbl> & <dbl> & <dbl> & <dbl> & <dbl> & <dbl> & <dbl>\\\\\n",
       "\\hline\n",
       "\t1 & 14000US37001020100 & 201.00 & Alamance & 87.2 & 37.3 & 9.5 & 21.9 & 78.1 & 15.1 & 61.0 & ⋯ & 21.1 &  0.9 & 91.61621 &  8.383791 & 94.24951 & 89.20607 & 43.04307 & 21.93988 & 35.01704 & 5016\\\\\n",
       "\t2 & 14000US37001020200 & 202.00 & Alamance & 78.3 & 31.0 & 7.1 & 29.1 & 70.9 & 11.2 & 51.9 & ⋯ & 18.9 & 12.4 & 89.54774 & 10.452261 & 86.97436 & 92.01970 & 39.42970 & 23.56604 & 37.00426 & 4007\\\\\n",
       "\t3 & 14000US37001020300 & 203.00 & Alamance & 77.8 & 40.7 & 7.3 & 27.1 & 72.9 & 18.9 & 45.2 & ⋯ & 22.6 &  4.6 & 93.78094 &  6.219059 & 92.69841 & 94.80990 & 41.09615 & 18.98616 & 39.91770 & 5370\\\\\n",
       "\t4 & 14000US37001020400 & 204.00 & Alamance & 78.1 & 30.5 & 8.9 & 31.4 & 68.6 & 10.1 & 19.6 & ⋯ & 16.3 &  5.4 & 91.69985 &  8.300153 & 93.36493 & 90.64532 & 37.55153 & 28.40066 & 34.04782 & 7148\\\\\n",
       "\t5 & 14000US37001020501 & 205.01 & Alamance & 92.7 & 35.1 & 5.5 & 23.3 & 76.7 & 15.6 & 76.1 & ⋯ &  3.5 &  1.5 & 91.14707 &  8.852927 & 96.10136 & 86.41860 & 45.86115 & 25.56742 & 28.57143 & 7403\\\\\n",
       "\t6 & 14000US37001020502 & 205.02 & Alamance & 99.0 & 32.1 & 9.8 & 30.0 & 70.0 &  8.9 & 40.7 & ⋯ & 10.8 &  5.2 & 89.44282 & 10.557185 & 89.64942 & 89.15094 & 43.57167 & 22.82645 & 33.60188 & 5412\\\\\n",
       "\\end{tabular}\n"
      ],
      "text/markdown": [
       "\n",
       "A data.frame: 6 × 45\n",
       "\n",
       "| <!--/--> | GEO_ID &lt;chr&gt; | Census_Tract &lt;dbl&gt; | County &lt;chr&gt; | Sex_Ratio &lt;dbl&gt; | Median_Age &lt;dbl&gt; | Population_Under_5 &lt;dbl&gt; | Population_Under_18 &lt;dbl&gt; | Population_Over_18 &lt;dbl&gt; | Population_Over_65 &lt;dbl&gt; | Race_White &lt;dbl&gt; | ⋯ ⋯ | Some_College &lt;dbl&gt; | College_Education &lt;dbl&gt; | Employed &lt;dbl&gt; | Unemployed &lt;dbl&gt; | Employed_Male &lt;dbl&gt; | Employed_Female &lt;dbl&gt; | Full_Time_Work &lt;dbl&gt; | Part_Time_Work &lt;dbl&gt; | No_Work &lt;dbl&gt; | Average_Income_Deficit &lt;dbl&gt; |\n",
       "|---|---|---|---|---|---|---|---|---|---|---|---|---|---|---|---|---|---|---|---|---|---|\n",
       "| 1 | 14000US37001020100 | 201.00 | Alamance | 87.2 | 37.3 | 9.5 | 21.9 | 78.1 | 15.1 | 61.0 | ⋯ | 21.1 |  0.9 | 91.61621 |  8.383791 | 94.24951 | 89.20607 | 43.04307 | 21.93988 | 35.01704 | 5016 |\n",
       "| 2 | 14000US37001020200 | 202.00 | Alamance | 78.3 | 31.0 | 7.1 | 29.1 | 70.9 | 11.2 | 51.9 | ⋯ | 18.9 | 12.4 | 89.54774 | 10.452261 | 86.97436 | 92.01970 | 39.42970 | 23.56604 | 37.00426 | 4007 |\n",
       "| 3 | 14000US37001020300 | 203.00 | Alamance | 77.8 | 40.7 | 7.3 | 27.1 | 72.9 | 18.9 | 45.2 | ⋯ | 22.6 |  4.6 | 93.78094 |  6.219059 | 92.69841 | 94.80990 | 41.09615 | 18.98616 | 39.91770 | 5370 |\n",
       "| 4 | 14000US37001020400 | 204.00 | Alamance | 78.1 | 30.5 | 8.9 | 31.4 | 68.6 | 10.1 | 19.6 | ⋯ | 16.3 |  5.4 | 91.69985 |  8.300153 | 93.36493 | 90.64532 | 37.55153 | 28.40066 | 34.04782 | 7148 |\n",
       "| 5 | 14000US37001020501 | 205.01 | Alamance | 92.7 | 35.1 | 5.5 | 23.3 | 76.7 | 15.6 | 76.1 | ⋯ |  3.5 |  1.5 | 91.14707 |  8.852927 | 96.10136 | 86.41860 | 45.86115 | 25.56742 | 28.57143 | 7403 |\n",
       "| 6 | 14000US37001020502 | 205.02 | Alamance | 99.0 | 32.1 | 9.8 | 30.0 | 70.0 |  8.9 | 40.7 | ⋯ | 10.8 |  5.2 | 89.44282 | 10.557185 | 89.64942 | 89.15094 | 43.57167 | 22.82645 | 33.60188 | 5412 |\n",
       "\n"
      ],
      "text/plain": [
       "  GEO_ID             Census_Tract County   Sex_Ratio Median_Age\n",
       "1 14000US37001020100 201.00       Alamance 87.2      37.3      \n",
       "2 14000US37001020200 202.00       Alamance 78.3      31.0      \n",
       "3 14000US37001020300 203.00       Alamance 77.8      40.7      \n",
       "4 14000US37001020400 204.00       Alamance 78.1      30.5      \n",
       "5 14000US37001020501 205.01       Alamance 92.7      35.1      \n",
       "6 14000US37001020502 205.02       Alamance 99.0      32.1      \n",
       "  Population_Under_5 Population_Under_18 Population_Over_18 Population_Over_65\n",
       "1 9.5                21.9                78.1               15.1              \n",
       "2 7.1                29.1                70.9               11.2              \n",
       "3 7.3                27.1                72.9               18.9              \n",
       "4 8.9                31.4                68.6               10.1              \n",
       "5 5.5                23.3                76.7               15.6              \n",
       "6 9.8                30.0                70.0                8.9              \n",
       "  Race_White ⋯ Some_College College_Education Employed Unemployed Employed_Male\n",
       "1 61.0       ⋯ 21.1          0.9              91.61621  8.383791  94.24951     \n",
       "2 51.9       ⋯ 18.9         12.4              89.54774 10.452261  86.97436     \n",
       "3 45.2       ⋯ 22.6          4.6              93.78094  6.219059  92.69841     \n",
       "4 19.6       ⋯ 16.3          5.4              91.69985  8.300153  93.36493     \n",
       "5 76.1       ⋯  3.5          1.5              91.14707  8.852927  96.10136     \n",
       "6 40.7       ⋯ 10.8          5.2              89.44282 10.557185  89.64942     \n",
       "  Employed_Female Full_Time_Work Part_Time_Work No_Work  Average_Income_Deficit\n",
       "1 89.20607        43.04307       21.93988       35.01704 5016                  \n",
       "2 92.01970        39.42970       23.56604       37.00426 4007                  \n",
       "3 94.80990        41.09615       18.98616       39.91770 5370                  \n",
       "4 90.64532        37.55153       28.40066       34.04782 7148                  \n",
       "5 86.41860        45.86115       25.56742       28.57143 7403                  \n",
       "6 89.15094        43.57167       22.82645       33.60188 5412                  "
      ]
     },
     "metadata": {},
     "output_type": "display_data"
    },
    {
     "data": {
      "text/html": [
       "<table class=\"dataframe\">\n",
       "<caption>A data.frame: 6 × 7</caption>\n",
       "<thead>\n",
       "\t<tr><th></th><th scope=col>GEO_ID</th><th scope=col>County</th><th scope=col>Census_Tract</th><th scope=col>Avg_ACRES</th><th scope=col>Wildfire_Hazard_Potential_Mean</th><th scope=col>Wildfire_Hazard_Potential_Quintile_Number</th><th scope=col>Wildfire_Hazard_Potential_Quintile_Percentage</th></tr>\n",
       "\t<tr><th></th><th scope=col>&lt;chr&gt;</th><th scope=col>&lt;chr&gt;</th><th scope=col>&lt;dbl&gt;</th><th scope=col>&lt;dbl&gt;</th><th scope=col>&lt;dbl&gt;</th><th scope=col>&lt;dbl&gt;</th><th scope=col>&lt;chr&gt;</th></tr>\n",
       "</thead>\n",
       "<tbody>\n",
       "\t<tr><th scope=row>1</th><td>14000US37141920201</td><td>Pender</td><td>9202.01</td><td>596842.6</td><td>715.5177</td><td>5</td><td>0-20%</td></tr>\n",
       "\t<tr><th scope=row>2</th><td>14000US37141920401</td><td>Pender</td><td>9204.01</td><td>596842.6</td><td>715.5177</td><td>5</td><td>0-20%</td></tr>\n",
       "\t<tr><th scope=row>3</th><td>14000US37141920402</td><td>Pender</td><td>9204.02</td><td>596842.6</td><td>715.5177</td><td>5</td><td>0-20%</td></tr>\n",
       "\t<tr><th scope=row>4</th><td>14000US37141920403</td><td>Pender</td><td>9204.03</td><td>596842.6</td><td>715.5177</td><td>5</td><td>0-20%</td></tr>\n",
       "\t<tr><th scope=row>5</th><td>14000US37141920601</td><td>Pender</td><td>9206.01</td><td>596842.6</td><td>715.5177</td><td>5</td><td>0-20%</td></tr>\n",
       "\t<tr><th scope=row>6</th><td>14000US37141990100</td><td>Pender</td><td>9901.00</td><td>596842.6</td><td>715.5177</td><td>5</td><td>0-20%</td></tr>\n",
       "</tbody>\n",
       "</table>\n"
      ],
      "text/latex": [
       "A data.frame: 6 × 7\n",
       "\\begin{tabular}{r|lllllll}\n",
       "  & GEO\\_ID & County & Census\\_Tract & Avg\\_ACRES & Wildfire\\_Hazard\\_Potential\\_Mean & Wildfire\\_Hazard\\_Potential\\_Quintile\\_Number & Wildfire\\_Hazard\\_Potential\\_Quintile\\_Percentage\\\\\n",
       "  & <chr> & <chr> & <dbl> & <dbl> & <dbl> & <dbl> & <chr>\\\\\n",
       "\\hline\n",
       "\t1 & 14000US37141920201 & Pender & 9202.01 & 596842.6 & 715.5177 & 5 & 0-20\\%\\\\\n",
       "\t2 & 14000US37141920401 & Pender & 9204.01 & 596842.6 & 715.5177 & 5 & 0-20\\%\\\\\n",
       "\t3 & 14000US37141920402 & Pender & 9204.02 & 596842.6 & 715.5177 & 5 & 0-20\\%\\\\\n",
       "\t4 & 14000US37141920403 & Pender & 9204.03 & 596842.6 & 715.5177 & 5 & 0-20\\%\\\\\n",
       "\t5 & 14000US37141920601 & Pender & 9206.01 & 596842.6 & 715.5177 & 5 & 0-20\\%\\\\\n",
       "\t6 & 14000US37141990100 & Pender & 9901.00 & 596842.6 & 715.5177 & 5 & 0-20\\%\\\\\n",
       "\\end{tabular}\n"
      ],
      "text/markdown": [
       "\n",
       "A data.frame: 6 × 7\n",
       "\n",
       "| <!--/--> | GEO_ID &lt;chr&gt; | County &lt;chr&gt; | Census_Tract &lt;dbl&gt; | Avg_ACRES &lt;dbl&gt; | Wildfire_Hazard_Potential_Mean &lt;dbl&gt; | Wildfire_Hazard_Potential_Quintile_Number &lt;dbl&gt; | Wildfire_Hazard_Potential_Quintile_Percentage &lt;chr&gt; |\n",
       "|---|---|---|---|---|---|---|---|\n",
       "| 1 | 14000US37141920201 | Pender | 9202.01 | 596842.6 | 715.5177 | 5 | 0-20% |\n",
       "| 2 | 14000US37141920401 | Pender | 9204.01 | 596842.6 | 715.5177 | 5 | 0-20% |\n",
       "| 3 | 14000US37141920402 | Pender | 9204.02 | 596842.6 | 715.5177 | 5 | 0-20% |\n",
       "| 4 | 14000US37141920403 | Pender | 9204.03 | 596842.6 | 715.5177 | 5 | 0-20% |\n",
       "| 5 | 14000US37141920601 | Pender | 9206.01 | 596842.6 | 715.5177 | 5 | 0-20% |\n",
       "| 6 | 14000US37141990100 | Pender | 9901.00 | 596842.6 | 715.5177 | 5 | 0-20% |\n",
       "\n"
      ],
      "text/plain": [
       "  GEO_ID             County Census_Tract Avg_ACRES\n",
       "1 14000US37141920201 Pender 9202.01      596842.6 \n",
       "2 14000US37141920401 Pender 9204.01      596842.6 \n",
       "3 14000US37141920402 Pender 9204.02      596842.6 \n",
       "4 14000US37141920403 Pender 9204.03      596842.6 \n",
       "5 14000US37141920601 Pender 9206.01      596842.6 \n",
       "6 14000US37141990100 Pender 9901.00      596842.6 \n",
       "  Wildfire_Hazard_Potential_Mean Wildfire_Hazard_Potential_Quintile_Number\n",
       "1 715.5177                       5                                        \n",
       "2 715.5177                       5                                        \n",
       "3 715.5177                       5                                        \n",
       "4 715.5177                       5                                        \n",
       "5 715.5177                       5                                        \n",
       "6 715.5177                       5                                        \n",
       "  Wildfire_Hazard_Potential_Quintile_Percentage\n",
       "1 0-20%                                        \n",
       "2 0-20%                                        \n",
       "3 0-20%                                        \n",
       "4 0-20%                                        \n",
       "5 0-20%                                        \n",
       "6 0-20%                                        "
      ]
     },
     "metadata": {},
     "output_type": "display_data"
    }
   ],
   "source": [
    "head(acs_df)\n",
    "head(wildfire_hazard_df)"
   ]
  },
  {
   "cell_type": "code",
   "execution_count": 3,
   "id": "741a2b6f",
   "metadata": {},
   "outputs": [
    {
     "data": {
      "text/html": [
       "2195"
      ],
      "text/latex": [
       "2195"
      ],
      "text/markdown": [
       "2195"
      ],
      "text/plain": [
       "[1] 2195"
      ]
     },
     "metadata": {},
     "output_type": "display_data"
    },
    {
     "data": {
      "text/html": [
       "2189"
      ],
      "text/latex": [
       "2189"
      ],
      "text/markdown": [
       "2189"
      ],
      "text/plain": [
       "[1] 2189"
      ]
     },
     "metadata": {},
     "output_type": "display_data"
    }
   ],
   "source": [
    "# seeing if the geo ids are consistent in each file\n",
    "length(unique(acs_df$GEO_ID))\n",
    "length(unique(wildfire_hazard_df$GEO_ID))"
   ]
  },
  {
   "cell_type": "code",
   "execution_count": 4,
   "id": "5b9848a9",
   "metadata": {},
   "outputs": [
    {
     "data": {
      "text/html": [
       "<style>\n",
       ".list-inline {list-style: none; margin:0; padding: 0}\n",
       ".list-inline>li {display: inline-block}\n",
       ".list-inline>li:not(:last-child)::after {content: \"\\00b7\"; padding: 0 .5ex}\n",
       "</style>\n",
       "<ol class=list-inline><li>'14000US37031990200'</li><li>'14000US37055990200'</li><li>'14000US37095990100'</li><li>'14000US37095990200'</li><li>'14000US37101041202'</li><li>'14000US37137990100'</li></ol>\n"
      ],
      "text/latex": [
       "\\begin{enumerate*}\n",
       "\\item '14000US37031990200'\n",
       "\\item '14000US37055990200'\n",
       "\\item '14000US37095990100'\n",
       "\\item '14000US37095990200'\n",
       "\\item '14000US37101041202'\n",
       "\\item '14000US37137990100'\n",
       "\\end{enumerate*}\n"
      ],
      "text/markdown": [
       "1. '14000US37031990200'\n",
       "2. '14000US37055990200'\n",
       "3. '14000US37095990100'\n",
       "4. '14000US37095990200'\n",
       "5. '14000US37101041202'\n",
       "6. '14000US37137990100'\n",
       "\n",
       "\n"
      ],
      "text/plain": [
       "[1] \"14000US37031990200\" \"14000US37055990200\" \"14000US37095990100\"\n",
       "[4] \"14000US37095990200\" \"14000US37101041202\" \"14000US37137990100\""
      ]
     },
     "metadata": {},
     "output_type": "display_data"
    }
   ],
   "source": [
    "# they're not so what geo ids aren't consistent?\n",
    "`%notin%` <- Negate(`%in%`)\n",
    "ids_df = acs_df %>%\n",
    "    filter(GEO_ID %notin% unique(wildfire_hazard_df$GEO_ID)) %>%\n",
    "    select(c(\"GEO_ID\", \"Census_Tract\", \"County\")) \n",
    "\n",
    "# ids that aren't consistent\n",
    "inconsistent_ids = ids_df$GEO_ID\n",
    "inconsistent_ids "
   ]
  },
  {
   "cell_type": "code",
   "execution_count": 5,
   "id": "ce559b53",
   "metadata": {},
   "outputs": [
    {
     "data": {
      "text/html": [
       "<table class=\"dataframe\">\n",
       "<caption>A data.frame: 6 × 45</caption>\n",
       "<thead>\n",
       "\t<tr><th scope=col>GEO_ID</th><th scope=col>Census_Tract</th><th scope=col>County</th><th scope=col>Sex_Ratio</th><th scope=col>Median_Age</th><th scope=col>Population_Under_5</th><th scope=col>Population_Under_18</th><th scope=col>Population_Over_18</th><th scope=col>Population_Over_65</th><th scope=col>Race_White</th><th scope=col>⋯</th><th scope=col>Some_College</th><th scope=col>College_Education</th><th scope=col>Employed</th><th scope=col>Unemployed</th><th scope=col>Employed_Male</th><th scope=col>Employed_Female</th><th scope=col>Full_Time_Work</th><th scope=col>Part_Time_Work</th><th scope=col>No_Work</th><th scope=col>Average_Income_Deficit</th></tr>\n",
       "\t<tr><th scope=col>&lt;chr&gt;</th><th scope=col>&lt;dbl&gt;</th><th scope=col>&lt;chr&gt;</th><th scope=col>&lt;dbl&gt;</th><th scope=col>&lt;dbl&gt;</th><th scope=col>&lt;dbl&gt;</th><th scope=col>&lt;dbl&gt;</th><th scope=col>&lt;dbl&gt;</th><th scope=col>&lt;dbl&gt;</th><th scope=col>&lt;dbl&gt;</th><th scope=col>⋯</th><th scope=col>&lt;dbl&gt;</th><th scope=col>&lt;dbl&gt;</th><th scope=col>&lt;dbl&gt;</th><th scope=col>&lt;dbl&gt;</th><th scope=col>&lt;dbl&gt;</th><th scope=col>&lt;dbl&gt;</th><th scope=col>&lt;dbl&gt;</th><th scope=col>&lt;dbl&gt;</th><th scope=col>&lt;dbl&gt;</th><th scope=col>&lt;dbl&gt;</th></tr>\n",
       "</thead>\n",
       "<tbody>\n",
       "\t<tr><td>14000US37031990200</td><td>9902.00</td><td>Carteret</td><td>  NA</td><td>  NA</td><td> NA</td><td>  NA</td><td>  NA</td><td>  NA</td><td>  NA</td><td>⋯</td><td> NA</td><td>  NA</td><td>     NA</td><td>      NA</td><td>      NA</td><td>      NA</td><td>      NA</td><td>      NA</td><td>      NA</td><td>  NA</td></tr>\n",
       "\t<tr><td>14000US37055990200</td><td>9902.00</td><td>Dare    </td><td>  NA</td><td>  NA</td><td> NA</td><td>  NA</td><td>  NA</td><td>  NA</td><td>  NA</td><td>⋯</td><td> NA</td><td>  NA</td><td>     NA</td><td>      NA</td><td>      NA</td><td>      NA</td><td>      NA</td><td>      NA</td><td>      NA</td><td>  NA</td></tr>\n",
       "\t<tr><td>14000US37095990100</td><td>9901.00</td><td>Hyde    </td><td>  NA</td><td>  NA</td><td> NA</td><td>  NA</td><td>  NA</td><td>  NA</td><td>  NA</td><td>⋯</td><td> NA</td><td>  NA</td><td>     NA</td><td>      NA</td><td>      NA</td><td>      NA</td><td>      NA</td><td>      NA</td><td>      NA</td><td>  NA</td></tr>\n",
       "\t<tr><td>14000US37095990200</td><td>9902.00</td><td>Hyde    </td><td>  NA</td><td>  NA</td><td> NA</td><td>  NA</td><td>  NA</td><td>  NA</td><td>  NA</td><td>⋯</td><td> NA</td><td>  NA</td><td>     NA</td><td>      NA</td><td>      NA</td><td>      NA</td><td>      NA</td><td>      NA</td><td>      NA</td><td>  NA</td></tr>\n",
       "\t<tr><td>14000US37101041202</td><td> 412.02</td><td>Johnston</td><td>92.8</td><td>36.5</td><td>7.2</td><td>26.8</td><td>73.2</td><td>12.9</td><td>81.9</td><td>⋯</td><td>3.2</td><td>14.7</td><td>94.1938</td><td>5.806198</td><td>92.40081</td><td>96.70433</td><td>38.68631</td><td>26.22378</td><td>35.08991</td><td>6035</td></tr>\n",
       "\t<tr><td>14000US37137990100</td><td>9901.00</td><td>Pamlico </td><td>  NA</td><td>  NA</td><td> NA</td><td>  NA</td><td>  NA</td><td>  NA</td><td>  NA</td><td>⋯</td><td> NA</td><td>  NA</td><td>     NA</td><td>      NA</td><td>      NA</td><td>      NA</td><td>      NA</td><td>      NA</td><td>      NA</td><td>  NA</td></tr>\n",
       "</tbody>\n",
       "</table>\n"
      ],
      "text/latex": [
       "A data.frame: 6 × 45\n",
       "\\begin{tabular}{lllllllllllllllllllll}\n",
       " GEO\\_ID & Census\\_Tract & County & Sex\\_Ratio & Median\\_Age & Population\\_Under\\_5 & Population\\_Under\\_18 & Population\\_Over\\_18 & Population\\_Over\\_65 & Race\\_White & ⋯ & Some\\_College & College\\_Education & Employed & Unemployed & Employed\\_Male & Employed\\_Female & Full\\_Time\\_Work & Part\\_Time\\_Work & No\\_Work & Average\\_Income\\_Deficit\\\\\n",
       " <chr> & <dbl> & <chr> & <dbl> & <dbl> & <dbl> & <dbl> & <dbl> & <dbl> & <dbl> & ⋯ & <dbl> & <dbl> & <dbl> & <dbl> & <dbl> & <dbl> & <dbl> & <dbl> & <dbl> & <dbl>\\\\\n",
       "\\hline\n",
       "\t 14000US37031990200 & 9902.00 & Carteret &   NA &   NA &  NA &   NA &   NA &   NA &   NA & ⋯ &  NA &   NA &      NA &       NA &       NA &       NA &       NA &       NA &       NA &   NA\\\\\n",
       "\t 14000US37055990200 & 9902.00 & Dare     &   NA &   NA &  NA &   NA &   NA &   NA &   NA & ⋯ &  NA &   NA &      NA &       NA &       NA &       NA &       NA &       NA &       NA &   NA\\\\\n",
       "\t 14000US37095990100 & 9901.00 & Hyde     &   NA &   NA &  NA &   NA &   NA &   NA &   NA & ⋯ &  NA &   NA &      NA &       NA &       NA &       NA &       NA &       NA &       NA &   NA\\\\\n",
       "\t 14000US37095990200 & 9902.00 & Hyde     &   NA &   NA &  NA &   NA &   NA &   NA &   NA & ⋯ &  NA &   NA &      NA &       NA &       NA &       NA &       NA &       NA &       NA &   NA\\\\\n",
       "\t 14000US37101041202 &  412.02 & Johnston & 92.8 & 36.5 & 7.2 & 26.8 & 73.2 & 12.9 & 81.9 & ⋯ & 3.2 & 14.7 & 94.1938 & 5.806198 & 92.40081 & 96.70433 & 38.68631 & 26.22378 & 35.08991 & 6035\\\\\n",
       "\t 14000US37137990100 & 9901.00 & Pamlico  &   NA &   NA &  NA &   NA &   NA &   NA &   NA & ⋯ &  NA &   NA &      NA &       NA &       NA &       NA &       NA &       NA &       NA &   NA\\\\\n",
       "\\end{tabular}\n"
      ],
      "text/markdown": [
       "\n",
       "A data.frame: 6 × 45\n",
       "\n",
       "| GEO_ID &lt;chr&gt; | Census_Tract &lt;dbl&gt; | County &lt;chr&gt; | Sex_Ratio &lt;dbl&gt; | Median_Age &lt;dbl&gt; | Population_Under_5 &lt;dbl&gt; | Population_Under_18 &lt;dbl&gt; | Population_Over_18 &lt;dbl&gt; | Population_Over_65 &lt;dbl&gt; | Race_White &lt;dbl&gt; | ⋯ ⋯ | Some_College &lt;dbl&gt; | College_Education &lt;dbl&gt; | Employed &lt;dbl&gt; | Unemployed &lt;dbl&gt; | Employed_Male &lt;dbl&gt; | Employed_Female &lt;dbl&gt; | Full_Time_Work &lt;dbl&gt; | Part_Time_Work &lt;dbl&gt; | No_Work &lt;dbl&gt; | Average_Income_Deficit &lt;dbl&gt; |\n",
       "|---|---|---|---|---|---|---|---|---|---|---|---|---|---|---|---|---|---|---|---|---|\n",
       "| 14000US37031990200 | 9902.00 | Carteret |   NA |   NA |  NA |   NA |   NA |   NA |   NA | ⋯ |  NA |   NA |      NA |       NA |       NA |       NA |       NA |       NA |       NA |   NA |\n",
       "| 14000US37055990200 | 9902.00 | Dare     |   NA |   NA |  NA |   NA |   NA |   NA |   NA | ⋯ |  NA |   NA |      NA |       NA |       NA |       NA |       NA |       NA |       NA |   NA |\n",
       "| 14000US37095990100 | 9901.00 | Hyde     |   NA |   NA |  NA |   NA |   NA |   NA |   NA | ⋯ |  NA |   NA |      NA |       NA |       NA |       NA |       NA |       NA |       NA |   NA |\n",
       "| 14000US37095990200 | 9902.00 | Hyde     |   NA |   NA |  NA |   NA |   NA |   NA |   NA | ⋯ |  NA |   NA |      NA |       NA |       NA |       NA |       NA |       NA |       NA |   NA |\n",
       "| 14000US37101041202 |  412.02 | Johnston | 92.8 | 36.5 | 7.2 | 26.8 | 73.2 | 12.9 | 81.9 | ⋯ | 3.2 | 14.7 | 94.1938 | 5.806198 | 92.40081 | 96.70433 | 38.68631 | 26.22378 | 35.08991 | 6035 |\n",
       "| 14000US37137990100 | 9901.00 | Pamlico  |   NA |   NA |  NA |   NA |   NA |   NA |   NA | ⋯ |  NA |   NA |      NA |       NA |       NA |       NA |       NA |       NA |       NA |   NA |\n",
       "\n"
      ],
      "text/plain": [
       "  GEO_ID             Census_Tract County   Sex_Ratio Median_Age\n",
       "1 14000US37031990200 9902.00      Carteret   NA        NA      \n",
       "2 14000US37055990200 9902.00      Dare       NA        NA      \n",
       "3 14000US37095990100 9901.00      Hyde       NA        NA      \n",
       "4 14000US37095990200 9902.00      Hyde       NA        NA      \n",
       "5 14000US37101041202  412.02      Johnston 92.8      36.5      \n",
       "6 14000US37137990100 9901.00      Pamlico    NA        NA      \n",
       "  Population_Under_5 Population_Under_18 Population_Over_18 Population_Over_65\n",
       "1  NA                  NA                  NA                 NA              \n",
       "2  NA                  NA                  NA                 NA              \n",
       "3  NA                  NA                  NA                 NA              \n",
       "4  NA                  NA                  NA                 NA              \n",
       "5 7.2                26.8                73.2               12.9              \n",
       "6  NA                  NA                  NA                 NA              \n",
       "  Race_White ⋯ Some_College College_Education Employed Unemployed Employed_Male\n",
       "1   NA       ⋯  NA            NA                   NA        NA         NA     \n",
       "2   NA       ⋯  NA            NA                   NA        NA         NA     \n",
       "3   NA       ⋯  NA            NA                   NA        NA         NA     \n",
       "4   NA       ⋯  NA            NA                   NA        NA         NA     \n",
       "5 81.9       ⋯ 3.2          14.7              94.1938  5.806198   92.40081     \n",
       "6   NA       ⋯  NA            NA                   NA        NA         NA     \n",
       "  Employed_Female Full_Time_Work Part_Time_Work No_Work  Average_Income_Deficit\n",
       "1       NA              NA             NA             NA   NA                  \n",
       "2       NA              NA             NA             NA   NA                  \n",
       "3       NA              NA             NA             NA   NA                  \n",
       "4       NA              NA             NA             NA   NA                  \n",
       "5 96.70433        38.68631       26.22378       35.08991 6035                  \n",
       "6       NA              NA             NA             NA   NA                  "
      ]
     },
     "metadata": {},
     "output_type": "display_data"
    },
    {
     "data": {
      "text/html": [
       "<table class=\"dataframe\">\n",
       "<caption>A data.frame: 0 × 7</caption>\n",
       "<thead>\n",
       "\t<tr><th scope=col>GEO_ID</th><th scope=col>County</th><th scope=col>Census_Tract</th><th scope=col>Avg_ACRES</th><th scope=col>Wildfire_Hazard_Potential_Mean</th><th scope=col>Wildfire_Hazard_Potential_Quintile_Number</th><th scope=col>Wildfire_Hazard_Potential_Quintile_Percentage</th></tr>\n",
       "\t<tr><th scope=col>&lt;chr&gt;</th><th scope=col>&lt;chr&gt;</th><th scope=col>&lt;dbl&gt;</th><th scope=col>&lt;dbl&gt;</th><th scope=col>&lt;dbl&gt;</th><th scope=col>&lt;dbl&gt;</th><th scope=col>&lt;chr&gt;</th></tr>\n",
       "</thead>\n",
       "<tbody>\n",
       "</tbody>\n",
       "</table>\n"
      ],
      "text/latex": [
       "A data.frame: 0 × 7\n",
       "\\begin{tabular}{lllllll}\n",
       " GEO\\_ID & County & Census\\_Tract & Avg\\_ACRES & Wildfire\\_Hazard\\_Potential\\_Mean & Wildfire\\_Hazard\\_Potential\\_Quintile\\_Number & Wildfire\\_Hazard\\_Potential\\_Quintile\\_Percentage\\\\\n",
       " <chr> & <chr> & <dbl> & <dbl> & <dbl> & <dbl> & <chr>\\\\\n",
       "\\hline\n",
       "\\end{tabular}\n"
      ],
      "text/markdown": [
       "\n",
       "A data.frame: 0 × 7\n",
       "\n",
       "| GEO_ID &lt;chr&gt; | County &lt;chr&gt; | Census_Tract &lt;dbl&gt; | Avg_ACRES &lt;dbl&gt; | Wildfire_Hazard_Potential_Mean &lt;dbl&gt; | Wildfire_Hazard_Potential_Quintile_Number &lt;dbl&gt; | Wildfire_Hazard_Potential_Quintile_Percentage &lt;chr&gt; |\n",
       "|---|---|---|---|---|---|---|\n",
       "\n"
      ],
      "text/plain": [
       "     GEO_ID County Census_Tract Avg_ACRES Wildfire_Hazard_Potential_Mean\n",
       "     Wildfire_Hazard_Potential_Quintile_Number\n",
       "     Wildfire_Hazard_Potential_Quintile_Percentage"
      ]
     },
     "metadata": {},
     "output_type": "display_data"
    }
   ],
   "source": [
    "acs_df %>%\n",
    "    filter(GEO_ID %in% inconsistent_ids)\n",
    "wildfire_hazard_df %>%\n",
    "    filter(GEO_ID %in% inconsistent_ids)"
   ]
  },
  {
   "cell_type": "markdown",
   "id": "e7a4c967",
   "metadata": {},
   "source": [
    "Almost all ACS data is missing for these GEO ids that aren't in the WHP df, so they'll be removed."
   ]
  },
  {
   "cell_type": "code",
   "execution_count": 6,
   "id": "dd5c6854",
   "metadata": {},
   "outputs": [
    {
     "name": "stderr",
     "output_type": "stream",
     "text": [
      "\u001b[1m\u001b[22mJoining, by = c(\"GEO_ID\", \"Census_Tract\", \"County\")\n"
     ]
    },
    {
     "data": {
      "text/html": [
       "<table class=\"dataframe\">\n",
       "<caption>A data.frame: 6 × 49</caption>\n",
       "<thead>\n",
       "\t<tr><th></th><th scope=col>GEO_ID</th><th scope=col>Census_Tract</th><th scope=col>County</th><th scope=col>Sex_Ratio</th><th scope=col>Median_Age</th><th scope=col>Population_Under_5</th><th scope=col>Population_Under_18</th><th scope=col>Population_Over_18</th><th scope=col>Population_Over_65</th><th scope=col>Race_White</th><th scope=col>⋯</th><th scope=col>Employed_Male</th><th scope=col>Employed_Female</th><th scope=col>Full_Time_Work</th><th scope=col>Part_Time_Work</th><th scope=col>No_Work</th><th scope=col>Average_Income_Deficit</th><th scope=col>Avg_ACRES</th><th scope=col>Wildfire_Hazard_Potential_Mean</th><th scope=col>Wildfire_Hazard_Potential_Quintile_Number</th><th scope=col>Wildfire_Hazard_Potential_Quintile_Percentage</th></tr>\n",
       "\t<tr><th></th><th scope=col>&lt;chr&gt;</th><th scope=col>&lt;dbl&gt;</th><th scope=col>&lt;chr&gt;</th><th scope=col>&lt;dbl&gt;</th><th scope=col>&lt;dbl&gt;</th><th scope=col>&lt;dbl&gt;</th><th scope=col>&lt;dbl&gt;</th><th scope=col>&lt;dbl&gt;</th><th scope=col>&lt;dbl&gt;</th><th scope=col>&lt;dbl&gt;</th><th scope=col>⋯</th><th scope=col>&lt;dbl&gt;</th><th scope=col>&lt;dbl&gt;</th><th scope=col>&lt;dbl&gt;</th><th scope=col>&lt;dbl&gt;</th><th scope=col>&lt;dbl&gt;</th><th scope=col>&lt;dbl&gt;</th><th scope=col>&lt;dbl&gt;</th><th scope=col>&lt;dbl&gt;</th><th scope=col>&lt;dbl&gt;</th><th scope=col>&lt;chr&gt;</th></tr>\n",
       "</thead>\n",
       "<tbody>\n",
       "\t<tr><th scope=row>1</th><td>14000US37001020100</td><td>201.00</td><td>Alamance</td><td>87.2</td><td>37.3</td><td>9.5</td><td>21.9</td><td>78.1</td><td>15.1</td><td>61.0</td><td>⋯</td><td>94.24951</td><td>89.20607</td><td>43.04307</td><td>21.93988</td><td>35.01704</td><td>5016</td><td>278233.8</td><td>92.23704</td><td>1</td><td>81-100</td></tr>\n",
       "\t<tr><th scope=row>2</th><td>14000US37001020200</td><td>202.00</td><td>Alamance</td><td>78.3</td><td>31.0</td><td>7.1</td><td>29.1</td><td>70.9</td><td>11.2</td><td>51.9</td><td>⋯</td><td>86.97436</td><td>92.01970</td><td>39.42970</td><td>23.56604</td><td>37.00426</td><td>4007</td><td>278233.8</td><td>92.23704</td><td>1</td><td>81-100</td></tr>\n",
       "\t<tr><th scope=row>3</th><td>14000US37001020300</td><td>203.00</td><td>Alamance</td><td>77.8</td><td>40.7</td><td>7.3</td><td>27.1</td><td>72.9</td><td>18.9</td><td>45.2</td><td>⋯</td><td>92.69841</td><td>94.80990</td><td>41.09615</td><td>18.98616</td><td>39.91770</td><td>5370</td><td>278233.8</td><td>92.23704</td><td>1</td><td>81-100</td></tr>\n",
       "\t<tr><th scope=row>4</th><td>14000US37001020400</td><td>204.00</td><td>Alamance</td><td>78.1</td><td>30.5</td><td>8.9</td><td>31.4</td><td>68.6</td><td>10.1</td><td>19.6</td><td>⋯</td><td>93.36493</td><td>90.64532</td><td>37.55153</td><td>28.40066</td><td>34.04782</td><td>7148</td><td>278233.8</td><td>92.23704</td><td>1</td><td>81-100</td></tr>\n",
       "\t<tr><th scope=row>5</th><td>14000US37001020501</td><td>205.01</td><td>Alamance</td><td>92.7</td><td>35.1</td><td>5.5</td><td>23.3</td><td>76.7</td><td>15.6</td><td>76.1</td><td>⋯</td><td>96.10136</td><td>86.41860</td><td>45.86115</td><td>25.56742</td><td>28.57143</td><td>7403</td><td>278233.8</td><td>92.23704</td><td>1</td><td>81-100</td></tr>\n",
       "\t<tr><th scope=row>6</th><td>14000US37001020502</td><td>205.02</td><td>Alamance</td><td>99.0</td><td>32.1</td><td>9.8</td><td>30.0</td><td>70.0</td><td> 8.9</td><td>40.7</td><td>⋯</td><td>89.64942</td><td>89.15094</td><td>43.57167</td><td>22.82645</td><td>33.60188</td><td>5412</td><td>278233.8</td><td>92.23704</td><td>1</td><td>81-100</td></tr>\n",
       "</tbody>\n",
       "</table>\n"
      ],
      "text/latex": [
       "A data.frame: 6 × 49\n",
       "\\begin{tabular}{r|lllllllllllllllllllll}\n",
       "  & GEO\\_ID & Census\\_Tract & County & Sex\\_Ratio & Median\\_Age & Population\\_Under\\_5 & Population\\_Under\\_18 & Population\\_Over\\_18 & Population\\_Over\\_65 & Race\\_White & ⋯ & Employed\\_Male & Employed\\_Female & Full\\_Time\\_Work & Part\\_Time\\_Work & No\\_Work & Average\\_Income\\_Deficit & Avg\\_ACRES & Wildfire\\_Hazard\\_Potential\\_Mean & Wildfire\\_Hazard\\_Potential\\_Quintile\\_Number & Wildfire\\_Hazard\\_Potential\\_Quintile\\_Percentage\\\\\n",
       "  & <chr> & <dbl> & <chr> & <dbl> & <dbl> & <dbl> & <dbl> & <dbl> & <dbl> & <dbl> & ⋯ & <dbl> & <dbl> & <dbl> & <dbl> & <dbl> & <dbl> & <dbl> & <dbl> & <dbl> & <chr>\\\\\n",
       "\\hline\n",
       "\t1 & 14000US37001020100 & 201.00 & Alamance & 87.2 & 37.3 & 9.5 & 21.9 & 78.1 & 15.1 & 61.0 & ⋯ & 94.24951 & 89.20607 & 43.04307 & 21.93988 & 35.01704 & 5016 & 278233.8 & 92.23704 & 1 & 81-100\\\\\n",
       "\t2 & 14000US37001020200 & 202.00 & Alamance & 78.3 & 31.0 & 7.1 & 29.1 & 70.9 & 11.2 & 51.9 & ⋯ & 86.97436 & 92.01970 & 39.42970 & 23.56604 & 37.00426 & 4007 & 278233.8 & 92.23704 & 1 & 81-100\\\\\n",
       "\t3 & 14000US37001020300 & 203.00 & Alamance & 77.8 & 40.7 & 7.3 & 27.1 & 72.9 & 18.9 & 45.2 & ⋯ & 92.69841 & 94.80990 & 41.09615 & 18.98616 & 39.91770 & 5370 & 278233.8 & 92.23704 & 1 & 81-100\\\\\n",
       "\t4 & 14000US37001020400 & 204.00 & Alamance & 78.1 & 30.5 & 8.9 & 31.4 & 68.6 & 10.1 & 19.6 & ⋯ & 93.36493 & 90.64532 & 37.55153 & 28.40066 & 34.04782 & 7148 & 278233.8 & 92.23704 & 1 & 81-100\\\\\n",
       "\t5 & 14000US37001020501 & 205.01 & Alamance & 92.7 & 35.1 & 5.5 & 23.3 & 76.7 & 15.6 & 76.1 & ⋯ & 96.10136 & 86.41860 & 45.86115 & 25.56742 & 28.57143 & 7403 & 278233.8 & 92.23704 & 1 & 81-100\\\\\n",
       "\t6 & 14000US37001020502 & 205.02 & Alamance & 99.0 & 32.1 & 9.8 & 30.0 & 70.0 &  8.9 & 40.7 & ⋯ & 89.64942 & 89.15094 & 43.57167 & 22.82645 & 33.60188 & 5412 & 278233.8 & 92.23704 & 1 & 81-100\\\\\n",
       "\\end{tabular}\n"
      ],
      "text/markdown": [
       "\n",
       "A data.frame: 6 × 49\n",
       "\n",
       "| <!--/--> | GEO_ID &lt;chr&gt; | Census_Tract &lt;dbl&gt; | County &lt;chr&gt; | Sex_Ratio &lt;dbl&gt; | Median_Age &lt;dbl&gt; | Population_Under_5 &lt;dbl&gt; | Population_Under_18 &lt;dbl&gt; | Population_Over_18 &lt;dbl&gt; | Population_Over_65 &lt;dbl&gt; | Race_White &lt;dbl&gt; | ⋯ ⋯ | Employed_Male &lt;dbl&gt; | Employed_Female &lt;dbl&gt; | Full_Time_Work &lt;dbl&gt; | Part_Time_Work &lt;dbl&gt; | No_Work &lt;dbl&gt; | Average_Income_Deficit &lt;dbl&gt; | Avg_ACRES &lt;dbl&gt; | Wildfire_Hazard_Potential_Mean &lt;dbl&gt; | Wildfire_Hazard_Potential_Quintile_Number &lt;dbl&gt; | Wildfire_Hazard_Potential_Quintile_Percentage &lt;chr&gt; |\n",
       "|---|---|---|---|---|---|---|---|---|---|---|---|---|---|---|---|---|---|---|---|---|---|\n",
       "| 1 | 14000US37001020100 | 201.00 | Alamance | 87.2 | 37.3 | 9.5 | 21.9 | 78.1 | 15.1 | 61.0 | ⋯ | 94.24951 | 89.20607 | 43.04307 | 21.93988 | 35.01704 | 5016 | 278233.8 | 92.23704 | 1 | 81-100 |\n",
       "| 2 | 14000US37001020200 | 202.00 | Alamance | 78.3 | 31.0 | 7.1 | 29.1 | 70.9 | 11.2 | 51.9 | ⋯ | 86.97436 | 92.01970 | 39.42970 | 23.56604 | 37.00426 | 4007 | 278233.8 | 92.23704 | 1 | 81-100 |\n",
       "| 3 | 14000US37001020300 | 203.00 | Alamance | 77.8 | 40.7 | 7.3 | 27.1 | 72.9 | 18.9 | 45.2 | ⋯ | 92.69841 | 94.80990 | 41.09615 | 18.98616 | 39.91770 | 5370 | 278233.8 | 92.23704 | 1 | 81-100 |\n",
       "| 4 | 14000US37001020400 | 204.00 | Alamance | 78.1 | 30.5 | 8.9 | 31.4 | 68.6 | 10.1 | 19.6 | ⋯ | 93.36493 | 90.64532 | 37.55153 | 28.40066 | 34.04782 | 7148 | 278233.8 | 92.23704 | 1 | 81-100 |\n",
       "| 5 | 14000US37001020501 | 205.01 | Alamance | 92.7 | 35.1 | 5.5 | 23.3 | 76.7 | 15.6 | 76.1 | ⋯ | 96.10136 | 86.41860 | 45.86115 | 25.56742 | 28.57143 | 7403 | 278233.8 | 92.23704 | 1 | 81-100 |\n",
       "| 6 | 14000US37001020502 | 205.02 | Alamance | 99.0 | 32.1 | 9.8 | 30.0 | 70.0 |  8.9 | 40.7 | ⋯ | 89.64942 | 89.15094 | 43.57167 | 22.82645 | 33.60188 | 5412 | 278233.8 | 92.23704 | 1 | 81-100 |\n",
       "\n"
      ],
      "text/plain": [
       "  GEO_ID             Census_Tract County   Sex_Ratio Median_Age\n",
       "1 14000US37001020100 201.00       Alamance 87.2      37.3      \n",
       "2 14000US37001020200 202.00       Alamance 78.3      31.0      \n",
       "3 14000US37001020300 203.00       Alamance 77.8      40.7      \n",
       "4 14000US37001020400 204.00       Alamance 78.1      30.5      \n",
       "5 14000US37001020501 205.01       Alamance 92.7      35.1      \n",
       "6 14000US37001020502 205.02       Alamance 99.0      32.1      \n",
       "  Population_Under_5 Population_Under_18 Population_Over_18 Population_Over_65\n",
       "1 9.5                21.9                78.1               15.1              \n",
       "2 7.1                29.1                70.9               11.2              \n",
       "3 7.3                27.1                72.9               18.9              \n",
       "4 8.9                31.4                68.6               10.1              \n",
       "5 5.5                23.3                76.7               15.6              \n",
       "6 9.8                30.0                70.0                8.9              \n",
       "  Race_White ⋯ Employed_Male Employed_Female Full_Time_Work Part_Time_Work\n",
       "1 61.0       ⋯ 94.24951      89.20607        43.04307       21.93988      \n",
       "2 51.9       ⋯ 86.97436      92.01970        39.42970       23.56604      \n",
       "3 45.2       ⋯ 92.69841      94.80990        41.09615       18.98616      \n",
       "4 19.6       ⋯ 93.36493      90.64532        37.55153       28.40066      \n",
       "5 76.1       ⋯ 96.10136      86.41860        45.86115       25.56742      \n",
       "6 40.7       ⋯ 89.64942      89.15094        43.57167       22.82645      \n",
       "  No_Work  Average_Income_Deficit Avg_ACRES Wildfire_Hazard_Potential_Mean\n",
       "1 35.01704 5016                   278233.8  92.23704                      \n",
       "2 37.00426 4007                   278233.8  92.23704                      \n",
       "3 39.91770 5370                   278233.8  92.23704                      \n",
       "4 34.04782 7148                   278233.8  92.23704                      \n",
       "5 28.57143 7403                   278233.8  92.23704                      \n",
       "6 33.60188 5412                   278233.8  92.23704                      \n",
       "  Wildfire_Hazard_Potential_Quintile_Number\n",
       "1 1                                        \n",
       "2 1                                        \n",
       "3 1                                        \n",
       "4 1                                        \n",
       "5 1                                        \n",
       "6 1                                        \n",
       "  Wildfire_Hazard_Potential_Quintile_Percentage\n",
       "1 81-100                                       \n",
       "2 81-100                                       \n",
       "3 81-100                                       \n",
       "4 81-100                                       \n",
       "5 81-100                                       \n",
       "6 81-100                                       "
      ]
     },
     "metadata": {},
     "output_type": "display_data"
    }
   ],
   "source": [
    "acs_whp_df = inner_join(acs_df, wildfire_hazard_df)\n",
    "\n",
    "head(acs_whp_df)"
   ]
  },
  {
   "cell_type": "markdown",
   "id": "3bb624cd",
   "metadata": {},
   "source": [
    "# Variable & GEO Id Filtering\n",
    "\n",
    "Removing variables and GEO ids that have less than 25% of data prior to imputation"
   ]
  },
  {
   "cell_type": "code",
   "execution_count": 7,
   "id": "37d9386a",
   "metadata": {},
   "outputs": [
    {
     "data": {
      "text/html": [
       "<table class=\"dataframe\">\n",
       "<caption>A tibble: 6 × 2</caption>\n",
       "<thead>\n",
       "\t<tr><th scope=col>Variable</th><th scope=col>Variable_Presence_Percent</th></tr>\n",
       "\t<tr><th scope=col>&lt;chr&gt;</th><th scope=col>&lt;dbl&gt;</th></tr>\n",
       "</thead>\n",
       "<tbody>\n",
       "\t<tr><td>Poverty_Asian          </td><td>71.90498</td></tr>\n",
       "\t<tr><td>Average_Income_Deficit </td><td>78.80311</td></tr>\n",
       "\t<tr><td>Poverty_Other_Race     </td><td>79.85381</td></tr>\n",
       "\t<tr><td>Poverty_Mixed_Race     </td><td>92.91914</td></tr>\n",
       "\t<tr><td>Poverty_Black          </td><td>94.79214</td></tr>\n",
       "\t<tr><td>Poverty_Hispanic_Latino</td><td>96.80219</td></tr>\n",
       "</tbody>\n",
       "</table>\n"
      ],
      "text/latex": [
       "A tibble: 6 × 2\n",
       "\\begin{tabular}{ll}\n",
       " Variable & Variable\\_Presence\\_Percent\\\\\n",
       " <chr> & <dbl>\\\\\n",
       "\\hline\n",
       "\t Poverty\\_Asian           & 71.90498\\\\\n",
       "\t Average\\_Income\\_Deficit  & 78.80311\\\\\n",
       "\t Poverty\\_Other\\_Race      & 79.85381\\\\\n",
       "\t Poverty\\_Mixed\\_Race      & 92.91914\\\\\n",
       "\t Poverty\\_Black           & 94.79214\\\\\n",
       "\t Poverty\\_Hispanic\\_Latino & 96.80219\\\\\n",
       "\\end{tabular}\n"
      ],
      "text/markdown": [
       "\n",
       "A tibble: 6 × 2\n",
       "\n",
       "| Variable &lt;chr&gt; | Variable_Presence_Percent &lt;dbl&gt; |\n",
       "|---|---|\n",
       "| Poverty_Asian           | 71.90498 |\n",
       "| Average_Income_Deficit  | 78.80311 |\n",
       "| Poverty_Other_Race      | 79.85381 |\n",
       "| Poverty_Mixed_Race      | 92.91914 |\n",
       "| Poverty_Black           | 94.79214 |\n",
       "| Poverty_Hispanic_Latino | 96.80219 |\n",
       "\n"
      ],
      "text/plain": [
       "  Variable                Variable_Presence_Percent\n",
       "1 Poverty_Asian           71.90498                 \n",
       "2 Average_Income_Deficit  78.80311                 \n",
       "3 Poverty_Other_Race      79.85381                 \n",
       "4 Poverty_Mixed_Race      92.91914                 \n",
       "5 Poverty_Black           94.79214                 \n",
       "6 Poverty_Hispanic_Latino 96.80219                 "
      ]
     },
     "metadata": {},
     "output_type": "display_data"
    }
   ],
   "source": [
    "# only keeping variables with at least 25% of data \n",
    "variable_presence_df = acs_whp_df[,1:45] %>% \n",
    "    pivot_longer(cols = 4:45, names_to = \"Variable\", values_to = \"Value\") %>%\n",
    "    # creating 2 count cols: 1st for non-missing data, 2nd for all data\n",
    "    mutate(data_count = ifelse(is.na(Value), 0, 1), all_count = 1) %>%\n",
    "    group_by(Variable) %>%\n",
    "    summarize(Variable_Presence_Percent = sum(data_count)/ sum(all_count) * 100) %>%\n",
    "    arrange(Variable_Presence_Percent)\n",
    "\n",
    "head(variable_presence_df)"
   ]
  },
  {
   "cell_type": "code",
   "execution_count": 8,
   "id": "3ac08716",
   "metadata": {},
   "outputs": [
    {
     "data": {
      "text/html": [
       "<table class=\"dataframe\">\n",
       "<caption>A data.frame: 6 × 2</caption>\n",
       "<thead>\n",
       "\t<tr><th></th><th scope=col>GEO_ID</th><th scope=col>GEO_ID_Presence_Percentage</th></tr>\n",
       "\t<tr><th></th><th scope=col>&lt;chr&gt;</th><th scope=col>&lt;dbl&gt;</th></tr>\n",
       "</thead>\n",
       "<tbody>\n",
       "\t<tr><th scope=row>1</th><td>14000US37019990100</td><td>4.761905</td></tr>\n",
       "\t<tr><th scope=row>2</th><td>14000US37031980100</td><td>4.761905</td></tr>\n",
       "\t<tr><th scope=row>3</th><td>14000US37031990100</td><td>4.761905</td></tr>\n",
       "\t<tr><th scope=row>4</th><td>14000US37051980100</td><td>4.761905</td></tr>\n",
       "\t<tr><th scope=row>5</th><td>14000US37053990100</td><td>4.761905</td></tr>\n",
       "\t<tr><th scope=row>6</th><td>14000US37055990100</td><td>4.761905</td></tr>\n",
       "</tbody>\n",
       "</table>\n"
      ],
      "text/latex": [
       "A data.frame: 6 × 2\n",
       "\\begin{tabular}{r|ll}\n",
       "  & GEO\\_ID & GEO\\_ID\\_Presence\\_Percentage\\\\\n",
       "  & <chr> & <dbl>\\\\\n",
       "\\hline\n",
       "\t1 & 14000US37019990100 & 4.761905\\\\\n",
       "\t2 & 14000US37031980100 & 4.761905\\\\\n",
       "\t3 & 14000US37031990100 & 4.761905\\\\\n",
       "\t4 & 14000US37051980100 & 4.761905\\\\\n",
       "\t5 & 14000US37053990100 & 4.761905\\\\\n",
       "\t6 & 14000US37055990100 & 4.761905\\\\\n",
       "\\end{tabular}\n"
      ],
      "text/markdown": [
       "\n",
       "A data.frame: 6 × 2\n",
       "\n",
       "| <!--/--> | GEO_ID &lt;chr&gt; | GEO_ID_Presence_Percentage &lt;dbl&gt; |\n",
       "|---|---|---|\n",
       "| 1 | 14000US37019990100 | 4.761905 |\n",
       "| 2 | 14000US37031980100 | 4.761905 |\n",
       "| 3 | 14000US37031990100 | 4.761905 |\n",
       "| 4 | 14000US37051980100 | 4.761905 |\n",
       "| 5 | 14000US37053990100 | 4.761905 |\n",
       "| 6 | 14000US37055990100 | 4.761905 |\n",
       "\n"
      ],
      "text/plain": [
       "  GEO_ID             GEO_ID_Presence_Percentage\n",
       "1 14000US37019990100 4.761905                  \n",
       "2 14000US37031980100 4.761905                  \n",
       "3 14000US37031990100 4.761905                  \n",
       "4 14000US37051980100 4.761905                  \n",
       "5 14000US37053990100 4.761905                  \n",
       "6 14000US37055990100 4.761905                  "
      ]
     },
     "metadata": {},
     "output_type": "display_data"
    }
   ],
   "source": [
    "# geo id percentages\n",
    "geo_id_percent_occurence = apply(acs_whp_df[4:45], 1, function(x) (length(na.omit(x))/length(x)) * 100)\n",
    "\n",
    "# creating a df and adding back in geo ids\n",
    "id_presence_df = data.frame(matrix(ncol = 2, nrow = length(geo_id_percent_occurence)))\n",
    "colnames(id_presence_df) = c(\"GEO_ID\", \"GEO_ID_Presence_Percentage\")\n",
    "id_presence_df$GEO_ID = acs_whp_df$GEO_ID\n",
    "id_presence_df$GEO_ID_Presence_Percentage = geo_id_percent_occurence\n",
    "                                 \n",
    "id_presence_df = id_presence_df %>%\n",
    "    filter(GEO_ID_Presence_Percentage < 25) %>%\n",
    "    arrange(GEO_ID_Presence_Percentage)\n",
    "                                 \n",
    "head(id_presence_df)"
   ]
  },
  {
   "cell_type": "code",
   "execution_count": 9,
   "id": "70ec2a7e",
   "metadata": {},
   "outputs": [
    {
     "data": {
      "text/html": [
       "<table class=\"dataframe\">\n",
       "<caption>A data.frame: 6 × 49</caption>\n",
       "<thead>\n",
       "\t<tr><th></th><th scope=col>GEO_ID</th><th scope=col>Census_Tract</th><th scope=col>County</th><th scope=col>Sex_Ratio</th><th scope=col>Median_Age</th><th scope=col>Population_Under_5</th><th scope=col>Population_Under_18</th><th scope=col>Population_Over_18</th><th scope=col>Population_Over_65</th><th scope=col>Race_White</th><th scope=col>⋯</th><th scope=col>Employed_Male</th><th scope=col>Employed_Female</th><th scope=col>Full_Time_Work</th><th scope=col>Part_Time_Work</th><th scope=col>No_Work</th><th scope=col>Average_Income_Deficit</th><th scope=col>Avg_ACRES</th><th scope=col>Wildfire_Hazard_Potential_Mean</th><th scope=col>Wildfire_Hazard_Potential_Quintile_Number</th><th scope=col>Wildfire_Hazard_Potential_Quintile_Percentage</th></tr>\n",
       "\t<tr><th></th><th scope=col>&lt;chr&gt;</th><th scope=col>&lt;dbl&gt;</th><th scope=col>&lt;chr&gt;</th><th scope=col>&lt;dbl&gt;</th><th scope=col>&lt;dbl&gt;</th><th scope=col>&lt;dbl&gt;</th><th scope=col>&lt;dbl&gt;</th><th scope=col>&lt;dbl&gt;</th><th scope=col>&lt;dbl&gt;</th><th scope=col>&lt;dbl&gt;</th><th scope=col>⋯</th><th scope=col>&lt;dbl&gt;</th><th scope=col>&lt;dbl&gt;</th><th scope=col>&lt;dbl&gt;</th><th scope=col>&lt;dbl&gt;</th><th scope=col>&lt;dbl&gt;</th><th scope=col>&lt;dbl&gt;</th><th scope=col>&lt;dbl&gt;</th><th scope=col>&lt;dbl&gt;</th><th scope=col>&lt;dbl&gt;</th><th scope=col>&lt;chr&gt;</th></tr>\n",
       "</thead>\n",
       "<tbody>\n",
       "\t<tr><th scope=row>1</th><td>14000US37001020100</td><td>201.00</td><td>Alamance</td><td>87.2</td><td>37.3</td><td>9.5</td><td>21.9</td><td>78.1</td><td>15.1</td><td>61.0</td><td>⋯</td><td>94.24951</td><td>89.20607</td><td>43.04307</td><td>21.93988</td><td>35.01704</td><td>5016</td><td>278233.8</td><td>92.23704</td><td>1</td><td>81-100</td></tr>\n",
       "\t<tr><th scope=row>2</th><td>14000US37001020200</td><td>202.00</td><td>Alamance</td><td>78.3</td><td>31.0</td><td>7.1</td><td>29.1</td><td>70.9</td><td>11.2</td><td>51.9</td><td>⋯</td><td>86.97436</td><td>92.01970</td><td>39.42970</td><td>23.56604</td><td>37.00426</td><td>4007</td><td>278233.8</td><td>92.23704</td><td>1</td><td>81-100</td></tr>\n",
       "\t<tr><th scope=row>3</th><td>14000US37001020300</td><td>203.00</td><td>Alamance</td><td>77.8</td><td>40.7</td><td>7.3</td><td>27.1</td><td>72.9</td><td>18.9</td><td>45.2</td><td>⋯</td><td>92.69841</td><td>94.80990</td><td>41.09615</td><td>18.98616</td><td>39.91770</td><td>5370</td><td>278233.8</td><td>92.23704</td><td>1</td><td>81-100</td></tr>\n",
       "\t<tr><th scope=row>4</th><td>14000US37001020400</td><td>204.00</td><td>Alamance</td><td>78.1</td><td>30.5</td><td>8.9</td><td>31.4</td><td>68.6</td><td>10.1</td><td>19.6</td><td>⋯</td><td>93.36493</td><td>90.64532</td><td>37.55153</td><td>28.40066</td><td>34.04782</td><td>7148</td><td>278233.8</td><td>92.23704</td><td>1</td><td>81-100</td></tr>\n",
       "\t<tr><th scope=row>5</th><td>14000US37001020501</td><td>205.01</td><td>Alamance</td><td>92.7</td><td>35.1</td><td>5.5</td><td>23.3</td><td>76.7</td><td>15.6</td><td>76.1</td><td>⋯</td><td>96.10136</td><td>86.41860</td><td>45.86115</td><td>25.56742</td><td>28.57143</td><td>7403</td><td>278233.8</td><td>92.23704</td><td>1</td><td>81-100</td></tr>\n",
       "\t<tr><th scope=row>6</th><td>14000US37001020502</td><td>205.02</td><td>Alamance</td><td>99.0</td><td>32.1</td><td>9.8</td><td>30.0</td><td>70.0</td><td> 8.9</td><td>40.7</td><td>⋯</td><td>89.64942</td><td>89.15094</td><td>43.57167</td><td>22.82645</td><td>33.60188</td><td>5412</td><td>278233.8</td><td>92.23704</td><td>1</td><td>81-100</td></tr>\n",
       "</tbody>\n",
       "</table>\n"
      ],
      "text/latex": [
       "A data.frame: 6 × 49\n",
       "\\begin{tabular}{r|lllllllllllllllllllll}\n",
       "  & GEO\\_ID & Census\\_Tract & County & Sex\\_Ratio & Median\\_Age & Population\\_Under\\_5 & Population\\_Under\\_18 & Population\\_Over\\_18 & Population\\_Over\\_65 & Race\\_White & ⋯ & Employed\\_Male & Employed\\_Female & Full\\_Time\\_Work & Part\\_Time\\_Work & No\\_Work & Average\\_Income\\_Deficit & Avg\\_ACRES & Wildfire\\_Hazard\\_Potential\\_Mean & Wildfire\\_Hazard\\_Potential\\_Quintile\\_Number & Wildfire\\_Hazard\\_Potential\\_Quintile\\_Percentage\\\\\n",
       "  & <chr> & <dbl> & <chr> & <dbl> & <dbl> & <dbl> & <dbl> & <dbl> & <dbl> & <dbl> & ⋯ & <dbl> & <dbl> & <dbl> & <dbl> & <dbl> & <dbl> & <dbl> & <dbl> & <dbl> & <chr>\\\\\n",
       "\\hline\n",
       "\t1 & 14000US37001020100 & 201.00 & Alamance & 87.2 & 37.3 & 9.5 & 21.9 & 78.1 & 15.1 & 61.0 & ⋯ & 94.24951 & 89.20607 & 43.04307 & 21.93988 & 35.01704 & 5016 & 278233.8 & 92.23704 & 1 & 81-100\\\\\n",
       "\t2 & 14000US37001020200 & 202.00 & Alamance & 78.3 & 31.0 & 7.1 & 29.1 & 70.9 & 11.2 & 51.9 & ⋯ & 86.97436 & 92.01970 & 39.42970 & 23.56604 & 37.00426 & 4007 & 278233.8 & 92.23704 & 1 & 81-100\\\\\n",
       "\t3 & 14000US37001020300 & 203.00 & Alamance & 77.8 & 40.7 & 7.3 & 27.1 & 72.9 & 18.9 & 45.2 & ⋯ & 92.69841 & 94.80990 & 41.09615 & 18.98616 & 39.91770 & 5370 & 278233.8 & 92.23704 & 1 & 81-100\\\\\n",
       "\t4 & 14000US37001020400 & 204.00 & Alamance & 78.1 & 30.5 & 8.9 & 31.4 & 68.6 & 10.1 & 19.6 & ⋯ & 93.36493 & 90.64532 & 37.55153 & 28.40066 & 34.04782 & 7148 & 278233.8 & 92.23704 & 1 & 81-100\\\\\n",
       "\t5 & 14000US37001020501 & 205.01 & Alamance & 92.7 & 35.1 & 5.5 & 23.3 & 76.7 & 15.6 & 76.1 & ⋯ & 96.10136 & 86.41860 & 45.86115 & 25.56742 & 28.57143 & 7403 & 278233.8 & 92.23704 & 1 & 81-100\\\\\n",
       "\t6 & 14000US37001020502 & 205.02 & Alamance & 99.0 & 32.1 & 9.8 & 30.0 & 70.0 &  8.9 & 40.7 & ⋯ & 89.64942 & 89.15094 & 43.57167 & 22.82645 & 33.60188 & 5412 & 278233.8 & 92.23704 & 1 & 81-100\\\\\n",
       "\\end{tabular}\n"
      ],
      "text/markdown": [
       "\n",
       "A data.frame: 6 × 49\n",
       "\n",
       "| <!--/--> | GEO_ID &lt;chr&gt; | Census_Tract &lt;dbl&gt; | County &lt;chr&gt; | Sex_Ratio &lt;dbl&gt; | Median_Age &lt;dbl&gt; | Population_Under_5 &lt;dbl&gt; | Population_Under_18 &lt;dbl&gt; | Population_Over_18 &lt;dbl&gt; | Population_Over_65 &lt;dbl&gt; | Race_White &lt;dbl&gt; | ⋯ ⋯ | Employed_Male &lt;dbl&gt; | Employed_Female &lt;dbl&gt; | Full_Time_Work &lt;dbl&gt; | Part_Time_Work &lt;dbl&gt; | No_Work &lt;dbl&gt; | Average_Income_Deficit &lt;dbl&gt; | Avg_ACRES &lt;dbl&gt; | Wildfire_Hazard_Potential_Mean &lt;dbl&gt; | Wildfire_Hazard_Potential_Quintile_Number &lt;dbl&gt; | Wildfire_Hazard_Potential_Quintile_Percentage &lt;chr&gt; |\n",
       "|---|---|---|---|---|---|---|---|---|---|---|---|---|---|---|---|---|---|---|---|---|---|\n",
       "| 1 | 14000US37001020100 | 201.00 | Alamance | 87.2 | 37.3 | 9.5 | 21.9 | 78.1 | 15.1 | 61.0 | ⋯ | 94.24951 | 89.20607 | 43.04307 | 21.93988 | 35.01704 | 5016 | 278233.8 | 92.23704 | 1 | 81-100 |\n",
       "| 2 | 14000US37001020200 | 202.00 | Alamance | 78.3 | 31.0 | 7.1 | 29.1 | 70.9 | 11.2 | 51.9 | ⋯ | 86.97436 | 92.01970 | 39.42970 | 23.56604 | 37.00426 | 4007 | 278233.8 | 92.23704 | 1 | 81-100 |\n",
       "| 3 | 14000US37001020300 | 203.00 | Alamance | 77.8 | 40.7 | 7.3 | 27.1 | 72.9 | 18.9 | 45.2 | ⋯ | 92.69841 | 94.80990 | 41.09615 | 18.98616 | 39.91770 | 5370 | 278233.8 | 92.23704 | 1 | 81-100 |\n",
       "| 4 | 14000US37001020400 | 204.00 | Alamance | 78.1 | 30.5 | 8.9 | 31.4 | 68.6 | 10.1 | 19.6 | ⋯ | 93.36493 | 90.64532 | 37.55153 | 28.40066 | 34.04782 | 7148 | 278233.8 | 92.23704 | 1 | 81-100 |\n",
       "| 5 | 14000US37001020501 | 205.01 | Alamance | 92.7 | 35.1 | 5.5 | 23.3 | 76.7 | 15.6 | 76.1 | ⋯ | 96.10136 | 86.41860 | 45.86115 | 25.56742 | 28.57143 | 7403 | 278233.8 | 92.23704 | 1 | 81-100 |\n",
       "| 6 | 14000US37001020502 | 205.02 | Alamance | 99.0 | 32.1 | 9.8 | 30.0 | 70.0 |  8.9 | 40.7 | ⋯ | 89.64942 | 89.15094 | 43.57167 | 22.82645 | 33.60188 | 5412 | 278233.8 | 92.23704 | 1 | 81-100 |\n",
       "\n"
      ],
      "text/plain": [
       "  GEO_ID             Census_Tract County   Sex_Ratio Median_Age\n",
       "1 14000US37001020100 201.00       Alamance 87.2      37.3      \n",
       "2 14000US37001020200 202.00       Alamance 78.3      31.0      \n",
       "3 14000US37001020300 203.00       Alamance 77.8      40.7      \n",
       "4 14000US37001020400 204.00       Alamance 78.1      30.5      \n",
       "5 14000US37001020501 205.01       Alamance 92.7      35.1      \n",
       "6 14000US37001020502 205.02       Alamance 99.0      32.1      \n",
       "  Population_Under_5 Population_Under_18 Population_Over_18 Population_Over_65\n",
       "1 9.5                21.9                78.1               15.1              \n",
       "2 7.1                29.1                70.9               11.2              \n",
       "3 7.3                27.1                72.9               18.9              \n",
       "4 8.9                31.4                68.6               10.1              \n",
       "5 5.5                23.3                76.7               15.6              \n",
       "6 9.8                30.0                70.0                8.9              \n",
       "  Race_White ⋯ Employed_Male Employed_Female Full_Time_Work Part_Time_Work\n",
       "1 61.0       ⋯ 94.24951      89.20607        43.04307       21.93988      \n",
       "2 51.9       ⋯ 86.97436      92.01970        39.42970       23.56604      \n",
       "3 45.2       ⋯ 92.69841      94.80990        41.09615       18.98616      \n",
       "4 19.6       ⋯ 93.36493      90.64532        37.55153       28.40066      \n",
       "5 76.1       ⋯ 96.10136      86.41860        45.86115       25.56742      \n",
       "6 40.7       ⋯ 89.64942      89.15094        43.57167       22.82645      \n",
       "  No_Work  Average_Income_Deficit Avg_ACRES Wildfire_Hazard_Potential_Mean\n",
       "1 35.01704 5016                   278233.8  92.23704                      \n",
       "2 37.00426 4007                   278233.8  92.23704                      \n",
       "3 39.91770 5370                   278233.8  92.23704                      \n",
       "4 34.04782 7148                   278233.8  92.23704                      \n",
       "5 28.57143 7403                   278233.8  92.23704                      \n",
       "6 33.60188 5412                   278233.8  92.23704                      \n",
       "  Wildfire_Hazard_Potential_Quintile_Number\n",
       "1 1                                        \n",
       "2 1                                        \n",
       "3 1                                        \n",
       "4 1                                        \n",
       "5 1                                        \n",
       "6 1                                        \n",
       "  Wildfire_Hazard_Potential_Quintile_Percentage\n",
       "1 81-100                                       \n",
       "2 81-100                                       \n",
       "3 81-100                                       \n",
       "4 81-100                                       \n",
       "5 81-100                                       \n",
       "6 81-100                                       "
      ]
     },
     "metadata": {},
     "output_type": "display_data"
    },
    {
     "data": {
      "text/html": [
       "<style>\n",
       ".list-inline {list-style: none; margin:0; padding: 0}\n",
       ".list-inline>li {display: inline-block}\n",
       ".list-inline>li:not(:last-child)::after {content: \"\\00b7\"; padding: 0 .5ex}\n",
       "</style>\n",
       "<ol class=list-inline><li>2169</li><li>49</li></ol>\n"
      ],
      "text/latex": [
       "\\begin{enumerate*}\n",
       "\\item 2169\n",
       "\\item 49\n",
       "\\end{enumerate*}\n"
      ],
      "text/markdown": [
       "1. 2169\n",
       "2. 49\n",
       "\n",
       "\n"
      ],
      "text/plain": [
       "[1] 2169   49"
      ]
     },
     "metadata": {},
     "output_type": "display_data"
    }
   ],
   "source": [
    "# getting 20 geo ids to be removed\n",
    "removed_geo_ids = id_presence_df$GEO_ID\n",
    "\n",
    "\n",
    "filtered_acs_whp_df = acs_whp_df %>%\n",
    "    filter(GEO_ID %notin% removed_geo_ids)\n",
    "\n",
    "head(filtered_acs_whp_df)\n",
    "dim(filtered_acs_whp_df)"
   ]
  },
  {
   "cell_type": "markdown",
   "id": "80c5577a",
   "metadata": {},
   "source": [
    "All variables will be kept, but now we're left with 2,169 geo ids. \n",
    "\n",
    "# Random Forest Imputation\n",
    "Generating missing values using random forest (RF)."
   ]
  },
  {
   "cell_type": "code",
   "execution_count": 10,
   "id": "e0f6c487",
   "metadata": {},
   "outputs": [
    {
     "data": {
      "text/html": [
       "<table class=\"dataframe\">\n",
       "<caption>A data.frame: 6 × 49</caption>\n",
       "<thead>\n",
       "\t<tr><th></th><th scope=col>GEO_ID</th><th scope=col>Census_Tract</th><th scope=col>County</th><th scope=col>Avg_ACRES</th><th scope=col>Wildfire_Hazard_Potential_Mean</th><th scope=col>Wildfire_Hazard_Potential_Quintile_Number</th><th scope=col>Wildfire_Hazard_Potential_Quintile_Percentage</th><th scope=col>Sex_Ratio</th><th scope=col>Median_Age</th><th scope=col>Population_Under_5</th><th scope=col>⋯</th><th scope=col>Some_College</th><th scope=col>College_Education</th><th scope=col>Employed</th><th scope=col>Unemployed</th><th scope=col>Employed_Male</th><th scope=col>Employed_Female</th><th scope=col>Full_Time_Work</th><th scope=col>Part_Time_Work</th><th scope=col>No_Work</th><th scope=col>Average_Income_Deficit</th></tr>\n",
       "\t<tr><th></th><th scope=col>&lt;chr&gt;</th><th scope=col>&lt;dbl&gt;</th><th scope=col>&lt;chr&gt;</th><th scope=col>&lt;dbl&gt;</th><th scope=col>&lt;dbl&gt;</th><th scope=col>&lt;dbl&gt;</th><th scope=col>&lt;chr&gt;</th><th scope=col>&lt;dbl&gt;</th><th scope=col>&lt;dbl&gt;</th><th scope=col>&lt;dbl&gt;</th><th scope=col>⋯</th><th scope=col>&lt;dbl&gt;</th><th scope=col>&lt;dbl&gt;</th><th scope=col>&lt;dbl&gt;</th><th scope=col>&lt;dbl&gt;</th><th scope=col>&lt;dbl&gt;</th><th scope=col>&lt;dbl&gt;</th><th scope=col>&lt;dbl&gt;</th><th scope=col>&lt;dbl&gt;</th><th scope=col>&lt;dbl&gt;</th><th scope=col>&lt;dbl&gt;</th></tr>\n",
       "</thead>\n",
       "<tbody>\n",
       "\t<tr><th scope=row>1</th><td>14000US37001020100</td><td>201.00</td><td>Alamance</td><td>278233.8</td><td>92.23704</td><td>1</td><td>81-100</td><td>87.2</td><td>37.3</td><td>9.5</td><td>⋯</td><td>21.1</td><td> 0.9</td><td>91.61621</td><td> 8.383791</td><td>94.24951</td><td>89.20607</td><td>43.04307</td><td>21.93988</td><td>35.01704</td><td>5016</td></tr>\n",
       "\t<tr><th scope=row>2</th><td>14000US37001020200</td><td>202.00</td><td>Alamance</td><td>278233.8</td><td>92.23704</td><td>1</td><td>81-100</td><td>78.3</td><td>31.0</td><td>7.1</td><td>⋯</td><td>18.9</td><td>12.4</td><td>89.54774</td><td>10.452261</td><td>86.97436</td><td>92.01970</td><td>39.42970</td><td>23.56604</td><td>37.00426</td><td>4007</td></tr>\n",
       "\t<tr><th scope=row>3</th><td>14000US37001020300</td><td>203.00</td><td>Alamance</td><td>278233.8</td><td>92.23704</td><td>1</td><td>81-100</td><td>77.8</td><td>40.7</td><td>7.3</td><td>⋯</td><td>22.6</td><td> 4.6</td><td>93.78094</td><td> 6.219059</td><td>92.69841</td><td>94.80990</td><td>41.09615</td><td>18.98616</td><td>39.91770</td><td>5370</td></tr>\n",
       "\t<tr><th scope=row>4</th><td>14000US37001020400</td><td>204.00</td><td>Alamance</td><td>278233.8</td><td>92.23704</td><td>1</td><td>81-100</td><td>78.1</td><td>30.5</td><td>8.9</td><td>⋯</td><td>16.3</td><td> 5.4</td><td>91.69985</td><td> 8.300153</td><td>93.36493</td><td>90.64532</td><td>37.55153</td><td>28.40066</td><td>34.04782</td><td>7148</td></tr>\n",
       "\t<tr><th scope=row>5</th><td>14000US37001020501</td><td>205.01</td><td>Alamance</td><td>278233.8</td><td>92.23704</td><td>1</td><td>81-100</td><td>92.7</td><td>35.1</td><td>5.5</td><td>⋯</td><td> 3.5</td><td> 1.5</td><td>91.14707</td><td> 8.852927</td><td>96.10136</td><td>86.41860</td><td>45.86115</td><td>25.56742</td><td>28.57143</td><td>7403</td></tr>\n",
       "\t<tr><th scope=row>6</th><td>14000US37001020502</td><td>205.02</td><td>Alamance</td><td>278233.8</td><td>92.23704</td><td>1</td><td>81-100</td><td>99.0</td><td>32.1</td><td>9.8</td><td>⋯</td><td>10.8</td><td> 5.2</td><td>89.44282</td><td>10.557185</td><td>89.64942</td><td>89.15094</td><td>43.57167</td><td>22.82645</td><td>33.60188</td><td>5412</td></tr>\n",
       "</tbody>\n",
       "</table>\n"
      ],
      "text/latex": [
       "A data.frame: 6 × 49\n",
       "\\begin{tabular}{r|lllllllllllllllllllll}\n",
       "  & GEO\\_ID & Census\\_Tract & County & Avg\\_ACRES & Wildfire\\_Hazard\\_Potential\\_Mean & Wildfire\\_Hazard\\_Potential\\_Quintile\\_Number & Wildfire\\_Hazard\\_Potential\\_Quintile\\_Percentage & Sex\\_Ratio & Median\\_Age & Population\\_Under\\_5 & ⋯ & Some\\_College & College\\_Education & Employed & Unemployed & Employed\\_Male & Employed\\_Female & Full\\_Time\\_Work & Part\\_Time\\_Work & No\\_Work & Average\\_Income\\_Deficit\\\\\n",
       "  & <chr> & <dbl> & <chr> & <dbl> & <dbl> & <dbl> & <chr> & <dbl> & <dbl> & <dbl> & ⋯ & <dbl> & <dbl> & <dbl> & <dbl> & <dbl> & <dbl> & <dbl> & <dbl> & <dbl> & <dbl>\\\\\n",
       "\\hline\n",
       "\t1 & 14000US37001020100 & 201.00 & Alamance & 278233.8 & 92.23704 & 1 & 81-100 & 87.2 & 37.3 & 9.5 & ⋯ & 21.1 &  0.9 & 91.61621 &  8.383791 & 94.24951 & 89.20607 & 43.04307 & 21.93988 & 35.01704 & 5016\\\\\n",
       "\t2 & 14000US37001020200 & 202.00 & Alamance & 278233.8 & 92.23704 & 1 & 81-100 & 78.3 & 31.0 & 7.1 & ⋯ & 18.9 & 12.4 & 89.54774 & 10.452261 & 86.97436 & 92.01970 & 39.42970 & 23.56604 & 37.00426 & 4007\\\\\n",
       "\t3 & 14000US37001020300 & 203.00 & Alamance & 278233.8 & 92.23704 & 1 & 81-100 & 77.8 & 40.7 & 7.3 & ⋯ & 22.6 &  4.6 & 93.78094 &  6.219059 & 92.69841 & 94.80990 & 41.09615 & 18.98616 & 39.91770 & 5370\\\\\n",
       "\t4 & 14000US37001020400 & 204.00 & Alamance & 278233.8 & 92.23704 & 1 & 81-100 & 78.1 & 30.5 & 8.9 & ⋯ & 16.3 &  5.4 & 91.69985 &  8.300153 & 93.36493 & 90.64532 & 37.55153 & 28.40066 & 34.04782 & 7148\\\\\n",
       "\t5 & 14000US37001020501 & 205.01 & Alamance & 278233.8 & 92.23704 & 1 & 81-100 & 92.7 & 35.1 & 5.5 & ⋯ &  3.5 &  1.5 & 91.14707 &  8.852927 & 96.10136 & 86.41860 & 45.86115 & 25.56742 & 28.57143 & 7403\\\\\n",
       "\t6 & 14000US37001020502 & 205.02 & Alamance & 278233.8 & 92.23704 & 1 & 81-100 & 99.0 & 32.1 & 9.8 & ⋯ & 10.8 &  5.2 & 89.44282 & 10.557185 & 89.64942 & 89.15094 & 43.57167 & 22.82645 & 33.60188 & 5412\\\\\n",
       "\\end{tabular}\n"
      ],
      "text/markdown": [
       "\n",
       "A data.frame: 6 × 49\n",
       "\n",
       "| <!--/--> | GEO_ID &lt;chr&gt; | Census_Tract &lt;dbl&gt; | County &lt;chr&gt; | Avg_ACRES &lt;dbl&gt; | Wildfire_Hazard_Potential_Mean &lt;dbl&gt; | Wildfire_Hazard_Potential_Quintile_Number &lt;dbl&gt; | Wildfire_Hazard_Potential_Quintile_Percentage &lt;chr&gt; | Sex_Ratio &lt;dbl&gt; | Median_Age &lt;dbl&gt; | Population_Under_5 &lt;dbl&gt; | ⋯ ⋯ | Some_College &lt;dbl&gt; | College_Education &lt;dbl&gt; | Employed &lt;dbl&gt; | Unemployed &lt;dbl&gt; | Employed_Male &lt;dbl&gt; | Employed_Female &lt;dbl&gt; | Full_Time_Work &lt;dbl&gt; | Part_Time_Work &lt;dbl&gt; | No_Work &lt;dbl&gt; | Average_Income_Deficit &lt;dbl&gt; |\n",
       "|---|---|---|---|---|---|---|---|---|---|---|---|---|---|---|---|---|---|---|---|---|---|\n",
       "| 1 | 14000US37001020100 | 201.00 | Alamance | 278233.8 | 92.23704 | 1 | 81-100 | 87.2 | 37.3 | 9.5 | ⋯ | 21.1 |  0.9 | 91.61621 |  8.383791 | 94.24951 | 89.20607 | 43.04307 | 21.93988 | 35.01704 | 5016 |\n",
       "| 2 | 14000US37001020200 | 202.00 | Alamance | 278233.8 | 92.23704 | 1 | 81-100 | 78.3 | 31.0 | 7.1 | ⋯ | 18.9 | 12.4 | 89.54774 | 10.452261 | 86.97436 | 92.01970 | 39.42970 | 23.56604 | 37.00426 | 4007 |\n",
       "| 3 | 14000US37001020300 | 203.00 | Alamance | 278233.8 | 92.23704 | 1 | 81-100 | 77.8 | 40.7 | 7.3 | ⋯ | 22.6 |  4.6 | 93.78094 |  6.219059 | 92.69841 | 94.80990 | 41.09615 | 18.98616 | 39.91770 | 5370 |\n",
       "| 4 | 14000US37001020400 | 204.00 | Alamance | 278233.8 | 92.23704 | 1 | 81-100 | 78.1 | 30.5 | 8.9 | ⋯ | 16.3 |  5.4 | 91.69985 |  8.300153 | 93.36493 | 90.64532 | 37.55153 | 28.40066 | 34.04782 | 7148 |\n",
       "| 5 | 14000US37001020501 | 205.01 | Alamance | 278233.8 | 92.23704 | 1 | 81-100 | 92.7 | 35.1 | 5.5 | ⋯ |  3.5 |  1.5 | 91.14707 |  8.852927 | 96.10136 | 86.41860 | 45.86115 | 25.56742 | 28.57143 | 7403 |\n",
       "| 6 | 14000US37001020502 | 205.02 | Alamance | 278233.8 | 92.23704 | 1 | 81-100 | 99.0 | 32.1 | 9.8 | ⋯ | 10.8 |  5.2 | 89.44282 | 10.557185 | 89.64942 | 89.15094 | 43.57167 | 22.82645 | 33.60188 | 5412 |\n",
       "\n"
      ],
      "text/plain": [
       "  GEO_ID             Census_Tract County   Avg_ACRES\n",
       "1 14000US37001020100 201.00       Alamance 278233.8 \n",
       "2 14000US37001020200 202.00       Alamance 278233.8 \n",
       "3 14000US37001020300 203.00       Alamance 278233.8 \n",
       "4 14000US37001020400 204.00       Alamance 278233.8 \n",
       "5 14000US37001020501 205.01       Alamance 278233.8 \n",
       "6 14000US37001020502 205.02       Alamance 278233.8 \n",
       "  Wildfire_Hazard_Potential_Mean Wildfire_Hazard_Potential_Quintile_Number\n",
       "1 92.23704                       1                                        \n",
       "2 92.23704                       1                                        \n",
       "3 92.23704                       1                                        \n",
       "4 92.23704                       1                                        \n",
       "5 92.23704                       1                                        \n",
       "6 92.23704                       1                                        \n",
       "  Wildfire_Hazard_Potential_Quintile_Percentage Sex_Ratio Median_Age\n",
       "1 81-100                                        87.2      37.3      \n",
       "2 81-100                                        78.3      31.0      \n",
       "3 81-100                                        77.8      40.7      \n",
       "4 81-100                                        78.1      30.5      \n",
       "5 81-100                                        92.7      35.1      \n",
       "6 81-100                                        99.0      32.1      \n",
       "  Population_Under_5 ⋯ Some_College College_Education Employed Unemployed\n",
       "1 9.5                ⋯ 21.1          0.9              91.61621  8.383791 \n",
       "2 7.1                ⋯ 18.9         12.4              89.54774 10.452261 \n",
       "3 7.3                ⋯ 22.6          4.6              93.78094  6.219059 \n",
       "4 8.9                ⋯ 16.3          5.4              91.69985  8.300153 \n",
       "5 5.5                ⋯  3.5          1.5              91.14707  8.852927 \n",
       "6 9.8                ⋯ 10.8          5.2              89.44282 10.557185 \n",
       "  Employed_Male Employed_Female Full_Time_Work Part_Time_Work No_Work \n",
       "1 94.24951      89.20607        43.04307       21.93988       35.01704\n",
       "2 86.97436      92.01970        39.42970       23.56604       37.00426\n",
       "3 92.69841      94.80990        41.09615       18.98616       39.91770\n",
       "4 93.36493      90.64532        37.55153       28.40066       34.04782\n",
       "5 96.10136      86.41860        45.86115       25.56742       28.57143\n",
       "6 89.64942      89.15094        43.57167       22.82645       33.60188\n",
       "  Average_Income_Deficit\n",
       "1 5016                  \n",
       "2 4007                  \n",
       "3 5370                  \n",
       "4 7148                  \n",
       "5 7403                  \n",
       "6 5412                  "
      ]
     },
     "metadata": {},
     "output_type": "display_data"
    }
   ],
   "source": [
    "# imputing sociodemographic data using RF\n",
    "random_forest_imputation = function(preimputed_df){\n",
    "\n",
    "    imputed_RF_object = missForest(as.matrix(preimputed_df[,4:45]))\n",
    "    imputed_RF_df = imputed_RF_object$ximp\n",
    "    imputed_values_df = data.frame(cbind(preimputed_df[,c(1:3,46:49)], imputed_RF_df)) \n",
    "\n",
    "    \n",
    "    return(imputed_values_df)\n",
    "}\n",
    "\n",
    "# calling function\n",
    "imputed_df = random_forest_imputation(acs_whp_df)\n",
    "head(imputed_df)"
   ]
  },
  {
   "cell_type": "code",
   "execution_count": 11,
   "id": "1b8ca860",
   "metadata": {},
   "outputs": [],
   "source": [
    "# exporting data\n",
    "write.csv(imputed_df, paste0(Output,\"/\", cur_date, \"_Imputed_ACS_WHP_Data.csv\"), row.names = FALSE)"
   ]
  },
  {
   "cell_type": "code",
   "execution_count": null,
   "id": "16b8d1bf",
   "metadata": {},
   "outputs": [],
   "source": []
  }
 ],
 "metadata": {
  "kernelspec": {
   "display_name": "R",
   "language": "R",
   "name": "ir"
  },
  "language_info": {
   "codemirror_mode": "r",
   "file_extension": ".r",
   "mimetype": "text/x-r-source",
   "name": "R",
   "pygments_lexer": "r",
   "version": "4.1.3"
  }
 },
 "nbformat": 4,
 "nbformat_minor": 5
}
