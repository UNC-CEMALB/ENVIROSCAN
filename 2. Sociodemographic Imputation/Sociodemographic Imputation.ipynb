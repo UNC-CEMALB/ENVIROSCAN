{
 "cells": [
  {
   "cell_type": "code",
   "execution_count": 1,
   "id": "35ae2c20",
   "metadata": {},
   "outputs": [
    {
     "name": "stderr",
     "output_type": "stream",
     "text": [
      "── \u001b[1mAttaching packages\u001b[22m ─────────────────────────────────────── tidyverse 1.3.2 ──\n",
      "\u001b[32m✔\u001b[39m \u001b[34mggplot2\u001b[39m 3.3.6      \u001b[32m✔\u001b[39m \u001b[34mpurrr  \u001b[39m 0.3.4 \n",
      "\u001b[32m✔\u001b[39m \u001b[34mtibble \u001b[39m 3.1.8      \u001b[32m✔\u001b[39m \u001b[34mdplyr  \u001b[39m 1.0.10\n",
      "\u001b[32m✔\u001b[39m \u001b[34mtidyr  \u001b[39m 1.2.1      \u001b[32m✔\u001b[39m \u001b[34mstringr\u001b[39m 1.4.1 \n",
      "\u001b[32m✔\u001b[39m \u001b[34mreadr  \u001b[39m 2.1.2      \u001b[32m✔\u001b[39m \u001b[34mforcats\u001b[39m 0.5.2 \n",
      "── \u001b[1mConflicts\u001b[22m ────────────────────────────────────────── tidyverse_conflicts() ──\n",
      "\u001b[31m✖\u001b[39m \u001b[34mdplyr\u001b[39m::\u001b[32mfilter()\u001b[39m masks \u001b[34mstats\u001b[39m::filter()\n",
      "\u001b[31m✖\u001b[39m \u001b[34mdplyr\u001b[39m::\u001b[32mlag()\u001b[39m    masks \u001b[34mstats\u001b[39m::lag()\n",
      "\n",
      "Attaching package: ‘reshape2’\n",
      "\n",
      "\n",
      "The following object is masked from ‘package:tidyr’:\n",
      "\n",
      "    smiths\n",
      "\n",
      "\n",
      "Warning message in apply(acs_df[, 4:30], 2, as.numeric):\n",
      "“NAs introduced by coercion”\n",
      "Warning message in apply(acs_df[, 4:30], 2, as.numeric):\n",
      "“NAs introduced by coercion”\n",
      "Warning message in apply(acs_df[, 4:30], 2, as.numeric):\n",
      "“NAs introduced by coercion”\n",
      "Warning message in apply(acs_df[, 4:30], 2, as.numeric):\n",
      "“NAs introduced by coercion”\n",
      "Warning message in apply(acs_df[, 4:30], 2, as.numeric):\n",
      "“NAs introduced by coercion”\n",
      "Warning message in apply(acs_df[, 4:30], 2, as.numeric):\n",
      "“NAs introduced by coercion”\n",
      "Warning message in apply(acs_df[, 4:30], 2, as.numeric):\n",
      "“NAs introduced by coercion”\n",
      "Warning message in apply(acs_df[, 4:30], 2, as.numeric):\n",
      "“NAs introduced by coercion”\n",
      "Warning message in apply(acs_df[, 4:30], 2, as.numeric):\n",
      "“NAs introduced by coercion”\n",
      "Warning message in apply(acs_df[, 4:30], 2, as.numeric):\n",
      "“NAs introduced by coercion”\n",
      "Warning message in apply(acs_df[, 4:30], 2, as.numeric):\n",
      "“NAs introduced by coercion”\n",
      "Warning message in apply(acs_df[, 4:30], 2, as.numeric):\n",
      "“NAs introduced by coercion”\n",
      "Warning message in apply(acs_df[, 4:30], 2, as.numeric):\n",
      "“NAs introduced by coercion”\n",
      "Warning message in apply(acs_df[, 4:30], 2, as.numeric):\n",
      "“NAs introduced by coercion”\n",
      "Warning message in apply(acs_df[, 4:30], 2, as.numeric):\n",
      "“NAs introduced by coercion”\n",
      "Warning message in apply(acs_df[, 4:30], 2, as.numeric):\n",
      "“NAs introduced by coercion”\n",
      "Warning message in apply(acs_df[, 4:30], 2, as.numeric):\n",
      "“NAs introduced by coercion”\n",
      "Warning message in apply(acs_df[, 4:30], 2, as.numeric):\n",
      "“NAs introduced by coercion”\n",
      "Warning message in apply(acs_df[, 4:30], 2, as.numeric):\n",
      "“NAs introduced by coercion”\n",
      "Warning message in apply(acs_df[, 4:30], 2, as.numeric):\n",
      "“NAs introduced by coercion”\n",
      "Warning message in apply(acs_df[, 4:30], 2, as.numeric):\n",
      "“NAs introduced by coercion”\n",
      "Warning message in apply(acs_df[, 4:30], 2, as.numeric):\n",
      "“NAs introduced by coercion”\n",
      "Warning message in apply(acs_df[, 4:30], 2, as.numeric):\n",
      "“NAs introduced by coercion”\n",
      "Warning message in apply(acs_df[, 4:30], 2, as.numeric):\n",
      "“NAs introduced by coercion”\n",
      "Warning message in apply(acs_df[, 4:30], 2, as.numeric):\n",
      "“NAs introduced by coercion”\n",
      "Warning message in apply(acs_df[, 4:30], 2, as.numeric):\n",
      "“NAs introduced by coercion”\n",
      "Warning message in apply(acs_df[, 4:30], 2, as.numeric):\n",
      "“NAs introduced by coercion”\n"
     ]
    }
   ],
   "source": [
    "setwd('/Users/alexis/Library/CloudStorage/OneDrive-UniversityofNorthCarolinaatChapelHill/CEMALB_DataAnalysisPM/Projects/P1009. NC ENVRIOSCAN/P1009.3. Analyses/P1009.3.3. Sociodemographic Imputation/Input')\n",
    "Output = ('/Users/alexis/Library/CloudStorage/OneDrive-UniversityofNorthCarolinaatChapelHill/CEMALB_DataAnalysisPM/Projects/P1009. NC ENVRIOSCAN/P1009.3. Analyses/P1009.3.3. Sociodemographic Imputation/Output')\n",
    "cur_date = \"010323\"\n",
    "\n",
    "library(readxl)\n",
    "library(tidyverse)\n",
    "library(reshape2)\n",
    "library(missForest)\n",
    "\n",
    "# reading in files\n",
    "acs_df = data.frame(read_excel(\"ACS_Data_121222.xlsx\", sheet = 2))\n",
    "# need to make some of the cols numeric\n",
    "acs_df[,4:30] = apply(acs_df[,4:30], 2, as.numeric)\n",
    "wildfire_hazard_df = data.frame(read_excel(\"Wildfire_Hazard_010323.xlsx\", sheet = 2))"
   ]
  },
  {
   "cell_type": "code",
   "execution_count": 2,
   "id": "188d69c5",
   "metadata": {},
   "outputs": [
    {
     "data": {
      "text/html": [
       "<table class=\"dataframe\">\n",
       "<caption>A data.frame: 6 × 30</caption>\n",
       "<thead>\n",
       "\t<tr><th></th><th scope=col>GEO_ID</th><th scope=col>Census_Tract</th><th scope=col>County</th><th scope=col>Sex_Ratio</th><th scope=col>Median_Age</th><th scope=col>Population_Under_18</th><th scope=col>Population_Over_18</th><th scope=col>Population_Over_65</th><th scope=col>Race_White</th><th scope=col>Race_Black</th><th scope=col>⋯</th><th scope=col>Poverty_Adult</th><th scope=col>Poverty_Elderly</th><th scope=col>Poverty_Male</th><th scope=col>Poverty_Female</th><th scope=col>Poverty_Black</th><th scope=col>Poverty_Asian</th><th scope=col>Poverty_Other_Race</th><th scope=col>Poverty_Mixed_Race</th><th scope=col>Poverty_Hispanic_Latino</th><th scope=col>Poverty_White</th></tr>\n",
       "\t<tr><th></th><th scope=col>&lt;chr&gt;</th><th scope=col>&lt;dbl&gt;</th><th scope=col>&lt;chr&gt;</th><th scope=col>&lt;dbl&gt;</th><th scope=col>&lt;dbl&gt;</th><th scope=col>&lt;dbl&gt;</th><th scope=col>&lt;dbl&gt;</th><th scope=col>&lt;dbl&gt;</th><th scope=col>&lt;dbl&gt;</th><th scope=col>&lt;dbl&gt;</th><th scope=col>⋯</th><th scope=col>&lt;dbl&gt;</th><th scope=col>&lt;dbl&gt;</th><th scope=col>&lt;dbl&gt;</th><th scope=col>&lt;dbl&gt;</th><th scope=col>&lt;dbl&gt;</th><th scope=col>&lt;dbl&gt;</th><th scope=col>&lt;dbl&gt;</th><th scope=col>&lt;dbl&gt;</th><th scope=col>&lt;dbl&gt;</th><th scope=col>&lt;dbl&gt;</th></tr>\n",
       "</thead>\n",
       "<tbody>\n",
       "\t<tr><th scope=row>1</th><td>14000US37001020100</td><td>201.00</td><td>Alamance</td><td>87.2</td><td>37.3</td><td>21.9</td><td>78.1</td><td>15.1</td><td>61.0</td><td>28.5</td><td>⋯</td><td>20.8</td><td>14.6</td><td>26.4</td><td>28.0</td><td>54.8</td><td>  0</td><td>45.3</td><td>  0.0</td><td>31.3</td><td>13.9</td></tr>\n",
       "\t<tr><th scope=row>2</th><td>14000US37001020200</td><td>202.00</td><td>Alamance</td><td>78.3</td><td>31.0</td><td>29.1</td><td>70.9</td><td>11.2</td><td>51.9</td><td>29.2</td><td>⋯</td><td>33.0</td><td>19.2</td><td>27.3</td><td>37.8</td><td>44.6</td><td>  0</td><td> 0.0</td><td> 82.7</td><td>16.2</td><td>39.0</td></tr>\n",
       "\t<tr><th scope=row>3</th><td>14000US37001020300</td><td>203.00</td><td>Alamance</td><td>77.8</td><td>40.7</td><td>27.1</td><td>72.9</td><td>18.9</td><td>45.2</td><td>28.9</td><td>⋯</td><td>17.3</td><td>22.0</td><td>18.0</td><td>28.3</td><td>21.0</td><td> NA</td><td>10.9</td><td> 36.4</td><td>26.7</td><td>20.1</td></tr>\n",
       "\t<tr><th scope=row>4</th><td>14000US37001020400</td><td>204.00</td><td>Alamance</td><td>78.1</td><td>30.5</td><td>31.4</td><td>68.6</td><td>10.1</td><td>19.6</td><td>59.0</td><td>⋯</td><td>26.8</td><td>14.0</td><td>30.0</td><td>33.3</td><td>19.9</td><td> NA</td><td>69.0</td><td>100.0</td><td>67.2</td><td>26.6</td></tr>\n",
       "\t<tr><th scope=row>5</th><td>14000US37001020501</td><td>205.01</td><td>Alamance</td><td>92.7</td><td>35.1</td><td>23.3</td><td>76.7</td><td>15.6</td><td>76.1</td><td>13.3</td><td>⋯</td><td>12.2</td><td> 7.1</td><td>12.3</td><td>14.8</td><td>18.9</td><td>  0</td><td> 0.0</td><td> 53.1</td><td>25.7</td><td>10.0</td></tr>\n",
       "\t<tr><th scope=row>6</th><td>14000US37001020502</td><td>205.02</td><td>Alamance</td><td>99.0</td><td>32.1</td><td>30.0</td><td>70.0</td><td> 8.9</td><td>40.7</td><td>35.7</td><td>⋯</td><td>22.3</td><td>19.2</td><td>17.7</td><td>31.0</td><td>27.8</td><td>100</td><td>14.2</td><td> 19.5</td><td>14.7</td><td>25.0</td></tr>\n",
       "</tbody>\n",
       "</table>\n"
      ],
      "text/latex": [
       "A data.frame: 6 × 30\n",
       "\\begin{tabular}{r|lllllllllllllllllllll}\n",
       "  & GEO\\_ID & Census\\_Tract & County & Sex\\_Ratio & Median\\_Age & Population\\_Under\\_18 & Population\\_Over\\_18 & Population\\_Over\\_65 & Race\\_White & Race\\_Black & ⋯ & Poverty\\_Adult & Poverty\\_Elderly & Poverty\\_Male & Poverty\\_Female & Poverty\\_Black & Poverty\\_Asian & Poverty\\_Other\\_Race & Poverty\\_Mixed\\_Race & Poverty\\_Hispanic\\_Latino & Poverty\\_White\\\\\n",
       "  & <chr> & <dbl> & <chr> & <dbl> & <dbl> & <dbl> & <dbl> & <dbl> & <dbl> & <dbl> & ⋯ & <dbl> & <dbl> & <dbl> & <dbl> & <dbl> & <dbl> & <dbl> & <dbl> & <dbl> & <dbl>\\\\\n",
       "\\hline\n",
       "\t1 & 14000US37001020100 & 201.00 & Alamance & 87.2 & 37.3 & 21.9 & 78.1 & 15.1 & 61.0 & 28.5 & ⋯ & 20.8 & 14.6 & 26.4 & 28.0 & 54.8 &   0 & 45.3 &   0.0 & 31.3 & 13.9\\\\\n",
       "\t2 & 14000US37001020200 & 202.00 & Alamance & 78.3 & 31.0 & 29.1 & 70.9 & 11.2 & 51.9 & 29.2 & ⋯ & 33.0 & 19.2 & 27.3 & 37.8 & 44.6 &   0 &  0.0 &  82.7 & 16.2 & 39.0\\\\\n",
       "\t3 & 14000US37001020300 & 203.00 & Alamance & 77.8 & 40.7 & 27.1 & 72.9 & 18.9 & 45.2 & 28.9 & ⋯ & 17.3 & 22.0 & 18.0 & 28.3 & 21.0 &  NA & 10.9 &  36.4 & 26.7 & 20.1\\\\\n",
       "\t4 & 14000US37001020400 & 204.00 & Alamance & 78.1 & 30.5 & 31.4 & 68.6 & 10.1 & 19.6 & 59.0 & ⋯ & 26.8 & 14.0 & 30.0 & 33.3 & 19.9 &  NA & 69.0 & 100.0 & 67.2 & 26.6\\\\\n",
       "\t5 & 14000US37001020501 & 205.01 & Alamance & 92.7 & 35.1 & 23.3 & 76.7 & 15.6 & 76.1 & 13.3 & ⋯ & 12.2 &  7.1 & 12.3 & 14.8 & 18.9 &   0 &  0.0 &  53.1 & 25.7 & 10.0\\\\\n",
       "\t6 & 14000US37001020502 & 205.02 & Alamance & 99.0 & 32.1 & 30.0 & 70.0 &  8.9 & 40.7 & 35.7 & ⋯ & 22.3 & 19.2 & 17.7 & 31.0 & 27.8 & 100 & 14.2 &  19.5 & 14.7 & 25.0\\\\\n",
       "\\end{tabular}\n"
      ],
      "text/markdown": [
       "\n",
       "A data.frame: 6 × 30\n",
       "\n",
       "| <!--/--> | GEO_ID &lt;chr&gt; | Census_Tract &lt;dbl&gt; | County &lt;chr&gt; | Sex_Ratio &lt;dbl&gt; | Median_Age &lt;dbl&gt; | Population_Under_18 &lt;dbl&gt; | Population_Over_18 &lt;dbl&gt; | Population_Over_65 &lt;dbl&gt; | Race_White &lt;dbl&gt; | Race_Black &lt;dbl&gt; | ⋯ ⋯ | Poverty_Adult &lt;dbl&gt; | Poverty_Elderly &lt;dbl&gt; | Poverty_Male &lt;dbl&gt; | Poverty_Female &lt;dbl&gt; | Poverty_Black &lt;dbl&gt; | Poverty_Asian &lt;dbl&gt; | Poverty_Other_Race &lt;dbl&gt; | Poverty_Mixed_Race &lt;dbl&gt; | Poverty_Hispanic_Latino &lt;dbl&gt; | Poverty_White &lt;dbl&gt; |\n",
       "|---|---|---|---|---|---|---|---|---|---|---|---|---|---|---|---|---|---|---|---|---|---|\n",
       "| 1 | 14000US37001020100 | 201.00 | Alamance | 87.2 | 37.3 | 21.9 | 78.1 | 15.1 | 61.0 | 28.5 | ⋯ | 20.8 | 14.6 | 26.4 | 28.0 | 54.8 |   0 | 45.3 |   0.0 | 31.3 | 13.9 |\n",
       "| 2 | 14000US37001020200 | 202.00 | Alamance | 78.3 | 31.0 | 29.1 | 70.9 | 11.2 | 51.9 | 29.2 | ⋯ | 33.0 | 19.2 | 27.3 | 37.8 | 44.6 |   0 |  0.0 |  82.7 | 16.2 | 39.0 |\n",
       "| 3 | 14000US37001020300 | 203.00 | Alamance | 77.8 | 40.7 | 27.1 | 72.9 | 18.9 | 45.2 | 28.9 | ⋯ | 17.3 | 22.0 | 18.0 | 28.3 | 21.0 |  NA | 10.9 |  36.4 | 26.7 | 20.1 |\n",
       "| 4 | 14000US37001020400 | 204.00 | Alamance | 78.1 | 30.5 | 31.4 | 68.6 | 10.1 | 19.6 | 59.0 | ⋯ | 26.8 | 14.0 | 30.0 | 33.3 | 19.9 |  NA | 69.0 | 100.0 | 67.2 | 26.6 |\n",
       "| 5 | 14000US37001020501 | 205.01 | Alamance | 92.7 | 35.1 | 23.3 | 76.7 | 15.6 | 76.1 | 13.3 | ⋯ | 12.2 |  7.1 | 12.3 | 14.8 | 18.9 |   0 |  0.0 |  53.1 | 25.7 | 10.0 |\n",
       "| 6 | 14000US37001020502 | 205.02 | Alamance | 99.0 | 32.1 | 30.0 | 70.0 |  8.9 | 40.7 | 35.7 | ⋯ | 22.3 | 19.2 | 17.7 | 31.0 | 27.8 | 100 | 14.2 |  19.5 | 14.7 | 25.0 |\n",
       "\n"
      ],
      "text/plain": [
       "  GEO_ID             Census_Tract County   Sex_Ratio Median_Age\n",
       "1 14000US37001020100 201.00       Alamance 87.2      37.3      \n",
       "2 14000US37001020200 202.00       Alamance 78.3      31.0      \n",
       "3 14000US37001020300 203.00       Alamance 77.8      40.7      \n",
       "4 14000US37001020400 204.00       Alamance 78.1      30.5      \n",
       "5 14000US37001020501 205.01       Alamance 92.7      35.1      \n",
       "6 14000US37001020502 205.02       Alamance 99.0      32.1      \n",
       "  Population_Under_18 Population_Over_18 Population_Over_65 Race_White\n",
       "1 21.9                78.1               15.1               61.0      \n",
       "2 29.1                70.9               11.2               51.9      \n",
       "3 27.1                72.9               18.9               45.2      \n",
       "4 31.4                68.6               10.1               19.6      \n",
       "5 23.3                76.7               15.6               76.1      \n",
       "6 30.0                70.0                8.9               40.7      \n",
       "  Race_Black ⋯ Poverty_Adult Poverty_Elderly Poverty_Male Poverty_Female\n",
       "1 28.5       ⋯ 20.8          14.6            26.4         28.0          \n",
       "2 29.2       ⋯ 33.0          19.2            27.3         37.8          \n",
       "3 28.9       ⋯ 17.3          22.0            18.0         28.3          \n",
       "4 59.0       ⋯ 26.8          14.0            30.0         33.3          \n",
       "5 13.3       ⋯ 12.2           7.1            12.3         14.8          \n",
       "6 35.7       ⋯ 22.3          19.2            17.7         31.0          \n",
       "  Poverty_Black Poverty_Asian Poverty_Other_Race Poverty_Mixed_Race\n",
       "1 54.8            0           45.3                 0.0             \n",
       "2 44.6            0            0.0                82.7             \n",
       "3 21.0           NA           10.9                36.4             \n",
       "4 19.9           NA           69.0               100.0             \n",
       "5 18.9            0            0.0                53.1             \n",
       "6 27.8          100           14.2                19.5             \n",
       "  Poverty_Hispanic_Latino Poverty_White\n",
       "1 31.3                    13.9         \n",
       "2 16.2                    39.0         \n",
       "3 26.7                    20.1         \n",
       "4 67.2                    26.6         \n",
       "5 25.7                    10.0         \n",
       "6 14.7                    25.0         "
      ]
     },
     "metadata": {},
     "output_type": "display_data"
    },
    {
     "data": {
      "text/html": [
       "<table class=\"dataframe\">\n",
       "<caption>A data.frame: 6 × 7</caption>\n",
       "<thead>\n",
       "\t<tr><th></th><th scope=col>GEO_ID</th><th scope=col>County</th><th scope=col>Census_Tract</th><th scope=col>Avg_ACRES</th><th scope=col>Wildfire_Hazard_Potential_Mean</th><th scope=col>Wildfire_Hazard_Potential_Quintile_Number</th><th scope=col>Wildfire_Hazard_Potential_Quintile_Percentage</th></tr>\n",
       "\t<tr><th></th><th scope=col>&lt;chr&gt;</th><th scope=col>&lt;chr&gt;</th><th scope=col>&lt;dbl&gt;</th><th scope=col>&lt;dbl&gt;</th><th scope=col>&lt;dbl&gt;</th><th scope=col>&lt;dbl&gt;</th><th scope=col>&lt;chr&gt;</th></tr>\n",
       "</thead>\n",
       "<tbody>\n",
       "\t<tr><th scope=row>1</th><td>14000US37141920201</td><td>Pender</td><td>9202.01</td><td>596842.6</td><td>715.5177</td><td>1</td><td>0-20%</td></tr>\n",
       "\t<tr><th scope=row>2</th><td>14000US37141920401</td><td>Pender</td><td>9204.01</td><td>596842.6</td><td>715.5177</td><td>1</td><td>0-20%</td></tr>\n",
       "\t<tr><th scope=row>3</th><td>14000US37141920402</td><td>Pender</td><td>9204.02</td><td>596842.6</td><td>715.5177</td><td>1</td><td>0-20%</td></tr>\n",
       "\t<tr><th scope=row>4</th><td>14000US37141920403</td><td>Pender</td><td>9204.03</td><td>596842.6</td><td>715.5177</td><td>1</td><td>0-20%</td></tr>\n",
       "\t<tr><th scope=row>5</th><td>14000US37141920601</td><td>Pender</td><td>9206.01</td><td>596842.6</td><td>715.5177</td><td>1</td><td>0-20%</td></tr>\n",
       "\t<tr><th scope=row>6</th><td>14000US37141990100</td><td>Pender</td><td>9901.00</td><td>596842.6</td><td>715.5177</td><td>1</td><td>0-20%</td></tr>\n",
       "</tbody>\n",
       "</table>\n"
      ],
      "text/latex": [
       "A data.frame: 6 × 7\n",
       "\\begin{tabular}{r|lllllll}\n",
       "  & GEO\\_ID & County & Census\\_Tract & Avg\\_ACRES & Wildfire\\_Hazard\\_Potential\\_Mean & Wildfire\\_Hazard\\_Potential\\_Quintile\\_Number & Wildfire\\_Hazard\\_Potential\\_Quintile\\_Percentage\\\\\n",
       "  & <chr> & <chr> & <dbl> & <dbl> & <dbl> & <dbl> & <chr>\\\\\n",
       "\\hline\n",
       "\t1 & 14000US37141920201 & Pender & 9202.01 & 596842.6 & 715.5177 & 1 & 0-20\\%\\\\\n",
       "\t2 & 14000US37141920401 & Pender & 9204.01 & 596842.6 & 715.5177 & 1 & 0-20\\%\\\\\n",
       "\t3 & 14000US37141920402 & Pender & 9204.02 & 596842.6 & 715.5177 & 1 & 0-20\\%\\\\\n",
       "\t4 & 14000US37141920403 & Pender & 9204.03 & 596842.6 & 715.5177 & 1 & 0-20\\%\\\\\n",
       "\t5 & 14000US37141920601 & Pender & 9206.01 & 596842.6 & 715.5177 & 1 & 0-20\\%\\\\\n",
       "\t6 & 14000US37141990100 & Pender & 9901.00 & 596842.6 & 715.5177 & 1 & 0-20\\%\\\\\n",
       "\\end{tabular}\n"
      ],
      "text/markdown": [
       "\n",
       "A data.frame: 6 × 7\n",
       "\n",
       "| <!--/--> | GEO_ID &lt;chr&gt; | County &lt;chr&gt; | Census_Tract &lt;dbl&gt; | Avg_ACRES &lt;dbl&gt; | Wildfire_Hazard_Potential_Mean &lt;dbl&gt; | Wildfire_Hazard_Potential_Quintile_Number &lt;dbl&gt; | Wildfire_Hazard_Potential_Quintile_Percentage &lt;chr&gt; |\n",
       "|---|---|---|---|---|---|---|---|\n",
       "| 1 | 14000US37141920201 | Pender | 9202.01 | 596842.6 | 715.5177 | 1 | 0-20% |\n",
       "| 2 | 14000US37141920401 | Pender | 9204.01 | 596842.6 | 715.5177 | 1 | 0-20% |\n",
       "| 3 | 14000US37141920402 | Pender | 9204.02 | 596842.6 | 715.5177 | 1 | 0-20% |\n",
       "| 4 | 14000US37141920403 | Pender | 9204.03 | 596842.6 | 715.5177 | 1 | 0-20% |\n",
       "| 5 | 14000US37141920601 | Pender | 9206.01 | 596842.6 | 715.5177 | 1 | 0-20% |\n",
       "| 6 | 14000US37141990100 | Pender | 9901.00 | 596842.6 | 715.5177 | 1 | 0-20% |\n",
       "\n"
      ],
      "text/plain": [
       "  GEO_ID             County Census_Tract Avg_ACRES\n",
       "1 14000US37141920201 Pender 9202.01      596842.6 \n",
       "2 14000US37141920401 Pender 9204.01      596842.6 \n",
       "3 14000US37141920402 Pender 9204.02      596842.6 \n",
       "4 14000US37141920403 Pender 9204.03      596842.6 \n",
       "5 14000US37141920601 Pender 9206.01      596842.6 \n",
       "6 14000US37141990100 Pender 9901.00      596842.6 \n",
       "  Wildfire_Hazard_Potential_Mean Wildfire_Hazard_Potential_Quintile_Number\n",
       "1 715.5177                       1                                        \n",
       "2 715.5177                       1                                        \n",
       "3 715.5177                       1                                        \n",
       "4 715.5177                       1                                        \n",
       "5 715.5177                       1                                        \n",
       "6 715.5177                       1                                        \n",
       "  Wildfire_Hazard_Potential_Quintile_Percentage\n",
       "1 0-20%                                        \n",
       "2 0-20%                                        \n",
       "3 0-20%                                        \n",
       "4 0-20%                                        \n",
       "5 0-20%                                        \n",
       "6 0-20%                                        "
      ]
     },
     "metadata": {},
     "output_type": "display_data"
    }
   ],
   "source": [
    "head(acs_df)\n",
    "head(wildfire_hazard_df)"
   ]
  },
  {
   "cell_type": "code",
   "execution_count": 3,
   "id": "741a2b6f",
   "metadata": {},
   "outputs": [
    {
     "data": {
      "text/html": [
       "2195"
      ],
      "text/latex": [
       "2195"
      ],
      "text/markdown": [
       "2195"
      ],
      "text/plain": [
       "[1] 2195"
      ]
     },
     "metadata": {},
     "output_type": "display_data"
    },
    {
     "data": {
      "text/html": [
       "2189"
      ],
      "text/latex": [
       "2189"
      ],
      "text/markdown": [
       "2189"
      ],
      "text/plain": [
       "[1] 2189"
      ]
     },
     "metadata": {},
     "output_type": "display_data"
    }
   ],
   "source": [
    "# seeing if the geo ids are consistent in each file\n",
    "length(unique(acs_df$GEO_ID))\n",
    "length(unique(wildfire_hazard_df$GEO_ID))"
   ]
  },
  {
   "cell_type": "code",
   "execution_count": 4,
   "id": "5b9848a9",
   "metadata": {},
   "outputs": [
    {
     "data": {
      "text/html": [
       "<style>\n",
       ".list-inline {list-style: none; margin:0; padding: 0}\n",
       ".list-inline>li {display: inline-block}\n",
       ".list-inline>li:not(:last-child)::after {content: \"\\00b7\"; padding: 0 .5ex}\n",
       "</style>\n",
       "<ol class=list-inline><li>'14000US37031990200'</li><li>'14000US37055990200'</li><li>'14000US37095990100'</li><li>'14000US37095990200'</li><li>'14000US37101041202'</li><li>'14000US37137990100'</li></ol>\n"
      ],
      "text/latex": [
       "\\begin{enumerate*}\n",
       "\\item '14000US37031990200'\n",
       "\\item '14000US37055990200'\n",
       "\\item '14000US37095990100'\n",
       "\\item '14000US37095990200'\n",
       "\\item '14000US37101041202'\n",
       "\\item '14000US37137990100'\n",
       "\\end{enumerate*}\n"
      ],
      "text/markdown": [
       "1. '14000US37031990200'\n",
       "2. '14000US37055990200'\n",
       "3. '14000US37095990100'\n",
       "4. '14000US37095990200'\n",
       "5. '14000US37101041202'\n",
       "6. '14000US37137990100'\n",
       "\n",
       "\n"
      ],
      "text/plain": [
       "[1] \"14000US37031990200\" \"14000US37055990200\" \"14000US37095990100\"\n",
       "[4] \"14000US37095990200\" \"14000US37101041202\" \"14000US37137990100\""
      ]
     },
     "metadata": {},
     "output_type": "display_data"
    }
   ],
   "source": [
    "# they're not so what geo ids aren't consistent?\n",
    "`%notin%` <- Negate(`%in%`)\n",
    "ids_df = acs_df %>%\n",
    "    filter(GEO_ID %notin% unique(wildfire_hazard_df$GEO_ID)) %>%\n",
    "    select(c(\"GEO_ID\", \"Census_Tract\", \"County\")) \n",
    "\n",
    "# ids that aren't consistent\n",
    "inconsistent_ids = ids_df$GEO_ID\n",
    "inconsistent_ids"
   ]
  },
  {
   "cell_type": "code",
   "execution_count": 5,
   "id": "9d7063ad",
   "metadata": {},
   "outputs": [
    {
     "data": {
      "text/html": [
       "<table class=\"dataframe\">\n",
       "<caption>A data.frame: 6 × 30</caption>\n",
       "<thead>\n",
       "\t<tr><th scope=col>GEO_ID</th><th scope=col>Census_Tract</th><th scope=col>County</th><th scope=col>Sex_Ratio</th><th scope=col>Median_Age</th><th scope=col>Population_Under_18</th><th scope=col>Population_Over_18</th><th scope=col>Population_Over_65</th><th scope=col>Race_White</th><th scope=col>Race_Black</th><th scope=col>⋯</th><th scope=col>Poverty_Adult</th><th scope=col>Poverty_Elderly</th><th scope=col>Poverty_Male</th><th scope=col>Poverty_Female</th><th scope=col>Poverty_Black</th><th scope=col>Poverty_Asian</th><th scope=col>Poverty_Other_Race</th><th scope=col>Poverty_Mixed_Race</th><th scope=col>Poverty_Hispanic_Latino</th><th scope=col>Poverty_White</th></tr>\n",
       "\t<tr><th scope=col>&lt;chr&gt;</th><th scope=col>&lt;dbl&gt;</th><th scope=col>&lt;chr&gt;</th><th scope=col>&lt;dbl&gt;</th><th scope=col>&lt;dbl&gt;</th><th scope=col>&lt;dbl&gt;</th><th scope=col>&lt;dbl&gt;</th><th scope=col>&lt;dbl&gt;</th><th scope=col>&lt;dbl&gt;</th><th scope=col>&lt;dbl&gt;</th><th scope=col>⋯</th><th scope=col>&lt;dbl&gt;</th><th scope=col>&lt;dbl&gt;</th><th scope=col>&lt;dbl&gt;</th><th scope=col>&lt;dbl&gt;</th><th scope=col>&lt;dbl&gt;</th><th scope=col>&lt;dbl&gt;</th><th scope=col>&lt;dbl&gt;</th><th scope=col>&lt;dbl&gt;</th><th scope=col>&lt;dbl&gt;</th><th scope=col>&lt;dbl&gt;</th></tr>\n",
       "</thead>\n",
       "<tbody>\n",
       "\t<tr><td>14000US37031990200</td><td>9902.00</td><td>Carteret</td><td>  NA</td><td>  NA</td><td>  NA</td><td>  NA</td><td>  NA</td><td>  NA</td><td>  NA</td><td>⋯</td><td>  NA</td><td> NA</td><td>  NA</td><td>  NA</td><td>  NA</td><td>NA</td><td>NA</td><td>  NA</td><td>  NA</td><td>  NA</td></tr>\n",
       "\t<tr><td>14000US37055990200</td><td>9902.00</td><td>Dare    </td><td>  NA</td><td>  NA</td><td>  NA</td><td>  NA</td><td>  NA</td><td>  NA</td><td>  NA</td><td>⋯</td><td>  NA</td><td> NA</td><td>  NA</td><td>  NA</td><td>  NA</td><td>NA</td><td>NA</td><td>  NA</td><td>  NA</td><td>  NA</td></tr>\n",
       "\t<tr><td>14000US37095990100</td><td>9901.00</td><td>Hyde    </td><td>  NA</td><td>  NA</td><td>  NA</td><td>  NA</td><td>  NA</td><td>  NA</td><td>  NA</td><td>⋯</td><td>  NA</td><td> NA</td><td>  NA</td><td>  NA</td><td>  NA</td><td>NA</td><td>NA</td><td>  NA</td><td>  NA</td><td>  NA</td></tr>\n",
       "\t<tr><td>14000US37095990200</td><td>9902.00</td><td>Hyde    </td><td>  NA</td><td>  NA</td><td>  NA</td><td>  NA</td><td>  NA</td><td>  NA</td><td>  NA</td><td>⋯</td><td>  NA</td><td> NA</td><td>  NA</td><td>  NA</td><td>  NA</td><td>NA</td><td>NA</td><td>  NA</td><td>  NA</td><td>  NA</td></tr>\n",
       "\t<tr><td>14000US37101041202</td><td> 412.02</td><td>Johnston</td><td>92.8</td><td>36.5</td><td>26.8</td><td>73.2</td><td>12.9</td><td>81.9</td><td>12.7</td><td>⋯</td><td>19.9</td><td>7.5</td><td>18.4</td><td>19.9</td><td>16.1</td><td> 0</td><td> 0</td><td>69.7</td><td>31.1</td><td>13.7</td></tr>\n",
       "\t<tr><td>14000US37137990100</td><td>9901.00</td><td>Pamlico </td><td>  NA</td><td>  NA</td><td>  NA</td><td>  NA</td><td>  NA</td><td>  NA</td><td>  NA</td><td>⋯</td><td>  NA</td><td> NA</td><td>  NA</td><td>  NA</td><td>  NA</td><td>NA</td><td>NA</td><td>  NA</td><td>  NA</td><td>  NA</td></tr>\n",
       "</tbody>\n",
       "</table>\n"
      ],
      "text/latex": [
       "A data.frame: 6 × 30\n",
       "\\begin{tabular}{lllllllllllllllllllll}\n",
       " GEO\\_ID & Census\\_Tract & County & Sex\\_Ratio & Median\\_Age & Population\\_Under\\_18 & Population\\_Over\\_18 & Population\\_Over\\_65 & Race\\_White & Race\\_Black & ⋯ & Poverty\\_Adult & Poverty\\_Elderly & Poverty\\_Male & Poverty\\_Female & Poverty\\_Black & Poverty\\_Asian & Poverty\\_Other\\_Race & Poverty\\_Mixed\\_Race & Poverty\\_Hispanic\\_Latino & Poverty\\_White\\\\\n",
       " <chr> & <dbl> & <chr> & <dbl> & <dbl> & <dbl> & <dbl> & <dbl> & <dbl> & <dbl> & ⋯ & <dbl> & <dbl> & <dbl> & <dbl> & <dbl> & <dbl> & <dbl> & <dbl> & <dbl> & <dbl>\\\\\n",
       "\\hline\n",
       "\t 14000US37031990200 & 9902.00 & Carteret &   NA &   NA &   NA &   NA &   NA &   NA &   NA & ⋯ &   NA &  NA &   NA &   NA &   NA & NA & NA &   NA &   NA &   NA\\\\\n",
       "\t 14000US37055990200 & 9902.00 & Dare     &   NA &   NA &   NA &   NA &   NA &   NA &   NA & ⋯ &   NA &  NA &   NA &   NA &   NA & NA & NA &   NA &   NA &   NA\\\\\n",
       "\t 14000US37095990100 & 9901.00 & Hyde     &   NA &   NA &   NA &   NA &   NA &   NA &   NA & ⋯ &   NA &  NA &   NA &   NA &   NA & NA & NA &   NA &   NA &   NA\\\\\n",
       "\t 14000US37095990200 & 9902.00 & Hyde     &   NA &   NA &   NA &   NA &   NA &   NA &   NA & ⋯ &   NA &  NA &   NA &   NA &   NA & NA & NA &   NA &   NA &   NA\\\\\n",
       "\t 14000US37101041202 &  412.02 & Johnston & 92.8 & 36.5 & 26.8 & 73.2 & 12.9 & 81.9 & 12.7 & ⋯ & 19.9 & 7.5 & 18.4 & 19.9 & 16.1 &  0 &  0 & 69.7 & 31.1 & 13.7\\\\\n",
       "\t 14000US37137990100 & 9901.00 & Pamlico  &   NA &   NA &   NA &   NA &   NA &   NA &   NA & ⋯ &   NA &  NA &   NA &   NA &   NA & NA & NA &   NA &   NA &   NA\\\\\n",
       "\\end{tabular}\n"
      ],
      "text/markdown": [
       "\n",
       "A data.frame: 6 × 30\n",
       "\n",
       "| GEO_ID &lt;chr&gt; | Census_Tract &lt;dbl&gt; | County &lt;chr&gt; | Sex_Ratio &lt;dbl&gt; | Median_Age &lt;dbl&gt; | Population_Under_18 &lt;dbl&gt; | Population_Over_18 &lt;dbl&gt; | Population_Over_65 &lt;dbl&gt; | Race_White &lt;dbl&gt; | Race_Black &lt;dbl&gt; | ⋯ ⋯ | Poverty_Adult &lt;dbl&gt; | Poverty_Elderly &lt;dbl&gt; | Poverty_Male &lt;dbl&gt; | Poverty_Female &lt;dbl&gt; | Poverty_Black &lt;dbl&gt; | Poverty_Asian &lt;dbl&gt; | Poverty_Other_Race &lt;dbl&gt; | Poverty_Mixed_Race &lt;dbl&gt; | Poverty_Hispanic_Latino &lt;dbl&gt; | Poverty_White &lt;dbl&gt; |\n",
       "|---|---|---|---|---|---|---|---|---|---|---|---|---|---|---|---|---|---|---|---|---|\n",
       "| 14000US37031990200 | 9902.00 | Carteret |   NA |   NA |   NA |   NA |   NA |   NA |   NA | ⋯ |   NA |  NA |   NA |   NA |   NA | NA | NA |   NA |   NA |   NA |\n",
       "| 14000US37055990200 | 9902.00 | Dare     |   NA |   NA |   NA |   NA |   NA |   NA |   NA | ⋯ |   NA |  NA |   NA |   NA |   NA | NA | NA |   NA |   NA |   NA |\n",
       "| 14000US37095990100 | 9901.00 | Hyde     |   NA |   NA |   NA |   NA |   NA |   NA |   NA | ⋯ |   NA |  NA |   NA |   NA |   NA | NA | NA |   NA |   NA |   NA |\n",
       "| 14000US37095990200 | 9902.00 | Hyde     |   NA |   NA |   NA |   NA |   NA |   NA |   NA | ⋯ |   NA |  NA |   NA |   NA |   NA | NA | NA |   NA |   NA |   NA |\n",
       "| 14000US37101041202 |  412.02 | Johnston | 92.8 | 36.5 | 26.8 | 73.2 | 12.9 | 81.9 | 12.7 | ⋯ | 19.9 | 7.5 | 18.4 | 19.9 | 16.1 |  0 |  0 | 69.7 | 31.1 | 13.7 |\n",
       "| 14000US37137990100 | 9901.00 | Pamlico  |   NA |   NA |   NA |   NA |   NA |   NA |   NA | ⋯ |   NA |  NA |   NA |   NA |   NA | NA | NA |   NA |   NA |   NA |\n",
       "\n"
      ],
      "text/plain": [
       "  GEO_ID             Census_Tract County   Sex_Ratio Median_Age\n",
       "1 14000US37031990200 9902.00      Carteret   NA        NA      \n",
       "2 14000US37055990200 9902.00      Dare       NA        NA      \n",
       "3 14000US37095990100 9901.00      Hyde       NA        NA      \n",
       "4 14000US37095990200 9902.00      Hyde       NA        NA      \n",
       "5 14000US37101041202  412.02      Johnston 92.8      36.5      \n",
       "6 14000US37137990100 9901.00      Pamlico    NA        NA      \n",
       "  Population_Under_18 Population_Over_18 Population_Over_65 Race_White\n",
       "1   NA                  NA                 NA                 NA      \n",
       "2   NA                  NA                 NA                 NA      \n",
       "3   NA                  NA                 NA                 NA      \n",
       "4   NA                  NA                 NA                 NA      \n",
       "5 26.8                73.2               12.9               81.9      \n",
       "6   NA                  NA                 NA                 NA      \n",
       "  Race_Black ⋯ Poverty_Adult Poverty_Elderly Poverty_Male Poverty_Female\n",
       "1   NA       ⋯   NA           NA               NA           NA          \n",
       "2   NA       ⋯   NA           NA               NA           NA          \n",
       "3   NA       ⋯   NA           NA               NA           NA          \n",
       "4   NA       ⋯   NA           NA               NA           NA          \n",
       "5 12.7       ⋯ 19.9          7.5             18.4         19.9          \n",
       "6   NA       ⋯   NA           NA               NA           NA          \n",
       "  Poverty_Black Poverty_Asian Poverty_Other_Race Poverty_Mixed_Race\n",
       "1   NA          NA            NA                   NA              \n",
       "2   NA          NA            NA                   NA              \n",
       "3   NA          NA            NA                   NA              \n",
       "4   NA          NA            NA                   NA              \n",
       "5 16.1           0             0                 69.7              \n",
       "6   NA          NA            NA                   NA              \n",
       "  Poverty_Hispanic_Latino Poverty_White\n",
       "1   NA                      NA         \n",
       "2   NA                      NA         \n",
       "3   NA                      NA         \n",
       "4   NA                      NA         \n",
       "5 31.1                    13.7         \n",
       "6   NA                      NA         "
      ]
     },
     "metadata": {},
     "output_type": "display_data"
    },
    {
     "data": {
      "text/html": [
       "<table class=\"dataframe\">\n",
       "<caption>A data.frame: 0 × 7</caption>\n",
       "<thead>\n",
       "\t<tr><th scope=col>GEO_ID</th><th scope=col>County</th><th scope=col>Census_Tract</th><th scope=col>Avg_ACRES</th><th scope=col>Wildfire_Hazard_Potential_Mean</th><th scope=col>Wildfire_Hazard_Potential_Quintile_Number</th><th scope=col>Wildfire_Hazard_Potential_Quintile_Percentage</th></tr>\n",
       "\t<tr><th scope=col>&lt;chr&gt;</th><th scope=col>&lt;chr&gt;</th><th scope=col>&lt;dbl&gt;</th><th scope=col>&lt;dbl&gt;</th><th scope=col>&lt;dbl&gt;</th><th scope=col>&lt;dbl&gt;</th><th scope=col>&lt;chr&gt;</th></tr>\n",
       "</thead>\n",
       "<tbody>\n",
       "</tbody>\n",
       "</table>\n"
      ],
      "text/latex": [
       "A data.frame: 0 × 7\n",
       "\\begin{tabular}{lllllll}\n",
       " GEO\\_ID & County & Census\\_Tract & Avg\\_ACRES & Wildfire\\_Hazard\\_Potential\\_Mean & Wildfire\\_Hazard\\_Potential\\_Quintile\\_Number & Wildfire\\_Hazard\\_Potential\\_Quintile\\_Percentage\\\\\n",
       " <chr> & <chr> & <dbl> & <dbl> & <dbl> & <dbl> & <chr>\\\\\n",
       "\\hline\n",
       "\\end{tabular}\n"
      ],
      "text/markdown": [
       "\n",
       "A data.frame: 0 × 7\n",
       "\n",
       "| GEO_ID &lt;chr&gt; | County &lt;chr&gt; | Census_Tract &lt;dbl&gt; | Avg_ACRES &lt;dbl&gt; | Wildfire_Hazard_Potential_Mean &lt;dbl&gt; | Wildfire_Hazard_Potential_Quintile_Number &lt;dbl&gt; | Wildfire_Hazard_Potential_Quintile_Percentage &lt;chr&gt; |\n",
       "|---|---|---|---|---|---|---|\n",
       "\n"
      ],
      "text/plain": [
       "     GEO_ID County Census_Tract Avg_ACRES Wildfire_Hazard_Potential_Mean\n",
       "     Wildfire_Hazard_Potential_Quintile_Number\n",
       "     Wildfire_Hazard_Potential_Quintile_Percentage"
      ]
     },
     "metadata": {},
     "output_type": "display_data"
    }
   ],
   "source": [
    "acs_df %>%\n",
    "    filter(GEO_ID %in% inconsistent_ids)\n",
    "wildfire_hazard_df %>%\n",
    "    filter(GEO_ID %in% inconsistent_ids)"
   ]
  },
  {
   "cell_type": "markdown",
   "id": "c1c76019",
   "metadata": {},
   "source": [
    "Almost all ACS data is missing for these GEO ids that aren't in the WHP df, so they'll be removed."
   ]
  },
  {
   "cell_type": "code",
   "execution_count": 6,
   "id": "dd5c6854",
   "metadata": {},
   "outputs": [
    {
     "name": "stderr",
     "output_type": "stream",
     "text": [
      "\u001b[1m\u001b[22mJoining, by = c(\"GEO_ID\", \"Census_Tract\", \"County\")\n"
     ]
    },
    {
     "data": {
      "text/html": [
       "<table class=\"dataframe\">\n",
       "<caption>A data.frame: 6 × 34</caption>\n",
       "<thead>\n",
       "\t<tr><th></th><th scope=col>GEO_ID</th><th scope=col>Census_Tract</th><th scope=col>County</th><th scope=col>Sex_Ratio</th><th scope=col>Median_Age</th><th scope=col>Population_Under_18</th><th scope=col>Population_Over_18</th><th scope=col>Population_Over_65</th><th scope=col>Race_White</th><th scope=col>Race_Black</th><th scope=col>⋯</th><th scope=col>Poverty_Black</th><th scope=col>Poverty_Asian</th><th scope=col>Poverty_Other_Race</th><th scope=col>Poverty_Mixed_Race</th><th scope=col>Poverty_Hispanic_Latino</th><th scope=col>Poverty_White</th><th scope=col>Avg_ACRES</th><th scope=col>Wildfire_Hazard_Potential_Mean</th><th scope=col>Wildfire_Hazard_Potential_Quintile_Number</th><th scope=col>Wildfire_Hazard_Potential_Quintile_Percentage</th></tr>\n",
       "\t<tr><th></th><th scope=col>&lt;chr&gt;</th><th scope=col>&lt;dbl&gt;</th><th scope=col>&lt;chr&gt;</th><th scope=col>&lt;dbl&gt;</th><th scope=col>&lt;dbl&gt;</th><th scope=col>&lt;dbl&gt;</th><th scope=col>&lt;dbl&gt;</th><th scope=col>&lt;dbl&gt;</th><th scope=col>&lt;dbl&gt;</th><th scope=col>&lt;dbl&gt;</th><th scope=col>⋯</th><th scope=col>&lt;dbl&gt;</th><th scope=col>&lt;dbl&gt;</th><th scope=col>&lt;dbl&gt;</th><th scope=col>&lt;dbl&gt;</th><th scope=col>&lt;dbl&gt;</th><th scope=col>&lt;dbl&gt;</th><th scope=col>&lt;dbl&gt;</th><th scope=col>&lt;dbl&gt;</th><th scope=col>&lt;dbl&gt;</th><th scope=col>&lt;chr&gt;</th></tr>\n",
       "</thead>\n",
       "<tbody>\n",
       "\t<tr><th scope=row>1</th><td>14000US37001020100</td><td>201.00</td><td>Alamance</td><td>87.2</td><td>37.3</td><td>21.9</td><td>78.1</td><td>15.1</td><td>61.0</td><td>28.5</td><td>⋯</td><td>54.8</td><td>  0</td><td>45.3</td><td>  0.0</td><td>31.3</td><td>13.9</td><td>278233.8</td><td>92.23704</td><td>5</td><td>81-100</td></tr>\n",
       "\t<tr><th scope=row>2</th><td>14000US37001020200</td><td>202.00</td><td>Alamance</td><td>78.3</td><td>31.0</td><td>29.1</td><td>70.9</td><td>11.2</td><td>51.9</td><td>29.2</td><td>⋯</td><td>44.6</td><td>  0</td><td> 0.0</td><td> 82.7</td><td>16.2</td><td>39.0</td><td>278233.8</td><td>92.23704</td><td>5</td><td>81-100</td></tr>\n",
       "\t<tr><th scope=row>3</th><td>14000US37001020300</td><td>203.00</td><td>Alamance</td><td>77.8</td><td>40.7</td><td>27.1</td><td>72.9</td><td>18.9</td><td>45.2</td><td>28.9</td><td>⋯</td><td>21.0</td><td> NA</td><td>10.9</td><td> 36.4</td><td>26.7</td><td>20.1</td><td>278233.8</td><td>92.23704</td><td>5</td><td>81-100</td></tr>\n",
       "\t<tr><th scope=row>4</th><td>14000US37001020400</td><td>204.00</td><td>Alamance</td><td>78.1</td><td>30.5</td><td>31.4</td><td>68.6</td><td>10.1</td><td>19.6</td><td>59.0</td><td>⋯</td><td>19.9</td><td> NA</td><td>69.0</td><td>100.0</td><td>67.2</td><td>26.6</td><td>278233.8</td><td>92.23704</td><td>5</td><td>81-100</td></tr>\n",
       "\t<tr><th scope=row>5</th><td>14000US37001020501</td><td>205.01</td><td>Alamance</td><td>92.7</td><td>35.1</td><td>23.3</td><td>76.7</td><td>15.6</td><td>76.1</td><td>13.3</td><td>⋯</td><td>18.9</td><td>  0</td><td> 0.0</td><td> 53.1</td><td>25.7</td><td>10.0</td><td>278233.8</td><td>92.23704</td><td>5</td><td>81-100</td></tr>\n",
       "\t<tr><th scope=row>6</th><td>14000US37001020502</td><td>205.02</td><td>Alamance</td><td>99.0</td><td>32.1</td><td>30.0</td><td>70.0</td><td> 8.9</td><td>40.7</td><td>35.7</td><td>⋯</td><td>27.8</td><td>100</td><td>14.2</td><td> 19.5</td><td>14.7</td><td>25.0</td><td>278233.8</td><td>92.23704</td><td>5</td><td>81-100</td></tr>\n",
       "</tbody>\n",
       "</table>\n"
      ],
      "text/latex": [
       "A data.frame: 6 × 34\n",
       "\\begin{tabular}{r|lllllllllllllllllllll}\n",
       "  & GEO\\_ID & Census\\_Tract & County & Sex\\_Ratio & Median\\_Age & Population\\_Under\\_18 & Population\\_Over\\_18 & Population\\_Over\\_65 & Race\\_White & Race\\_Black & ⋯ & Poverty\\_Black & Poverty\\_Asian & Poverty\\_Other\\_Race & Poverty\\_Mixed\\_Race & Poverty\\_Hispanic\\_Latino & Poverty\\_White & Avg\\_ACRES & Wildfire\\_Hazard\\_Potential\\_Mean & Wildfire\\_Hazard\\_Potential\\_Quintile\\_Number & Wildfire\\_Hazard\\_Potential\\_Quintile\\_Percentage\\\\\n",
       "  & <chr> & <dbl> & <chr> & <dbl> & <dbl> & <dbl> & <dbl> & <dbl> & <dbl> & <dbl> & ⋯ & <dbl> & <dbl> & <dbl> & <dbl> & <dbl> & <dbl> & <dbl> & <dbl> & <dbl> & <chr>\\\\\n",
       "\\hline\n",
       "\t1 & 14000US37001020100 & 201.00 & Alamance & 87.2 & 37.3 & 21.9 & 78.1 & 15.1 & 61.0 & 28.5 & ⋯ & 54.8 &   0 & 45.3 &   0.0 & 31.3 & 13.9 & 278233.8 & 92.23704 & 5 & 81-100\\\\\n",
       "\t2 & 14000US37001020200 & 202.00 & Alamance & 78.3 & 31.0 & 29.1 & 70.9 & 11.2 & 51.9 & 29.2 & ⋯ & 44.6 &   0 &  0.0 &  82.7 & 16.2 & 39.0 & 278233.8 & 92.23704 & 5 & 81-100\\\\\n",
       "\t3 & 14000US37001020300 & 203.00 & Alamance & 77.8 & 40.7 & 27.1 & 72.9 & 18.9 & 45.2 & 28.9 & ⋯ & 21.0 &  NA & 10.9 &  36.4 & 26.7 & 20.1 & 278233.8 & 92.23704 & 5 & 81-100\\\\\n",
       "\t4 & 14000US37001020400 & 204.00 & Alamance & 78.1 & 30.5 & 31.4 & 68.6 & 10.1 & 19.6 & 59.0 & ⋯ & 19.9 &  NA & 69.0 & 100.0 & 67.2 & 26.6 & 278233.8 & 92.23704 & 5 & 81-100\\\\\n",
       "\t5 & 14000US37001020501 & 205.01 & Alamance & 92.7 & 35.1 & 23.3 & 76.7 & 15.6 & 76.1 & 13.3 & ⋯ & 18.9 &   0 &  0.0 &  53.1 & 25.7 & 10.0 & 278233.8 & 92.23704 & 5 & 81-100\\\\\n",
       "\t6 & 14000US37001020502 & 205.02 & Alamance & 99.0 & 32.1 & 30.0 & 70.0 &  8.9 & 40.7 & 35.7 & ⋯ & 27.8 & 100 & 14.2 &  19.5 & 14.7 & 25.0 & 278233.8 & 92.23704 & 5 & 81-100\\\\\n",
       "\\end{tabular}\n"
      ],
      "text/markdown": [
       "\n",
       "A data.frame: 6 × 34\n",
       "\n",
       "| <!--/--> | GEO_ID &lt;chr&gt; | Census_Tract &lt;dbl&gt; | County &lt;chr&gt; | Sex_Ratio &lt;dbl&gt; | Median_Age &lt;dbl&gt; | Population_Under_18 &lt;dbl&gt; | Population_Over_18 &lt;dbl&gt; | Population_Over_65 &lt;dbl&gt; | Race_White &lt;dbl&gt; | Race_Black &lt;dbl&gt; | ⋯ ⋯ | Poverty_Black &lt;dbl&gt; | Poverty_Asian &lt;dbl&gt; | Poverty_Other_Race &lt;dbl&gt; | Poverty_Mixed_Race &lt;dbl&gt; | Poverty_Hispanic_Latino &lt;dbl&gt; | Poverty_White &lt;dbl&gt; | Avg_ACRES &lt;dbl&gt; | Wildfire_Hazard_Potential_Mean &lt;dbl&gt; | Wildfire_Hazard_Potential_Quintile_Number &lt;dbl&gt; | Wildfire_Hazard_Potential_Quintile_Percentage &lt;chr&gt; |\n",
       "|---|---|---|---|---|---|---|---|---|---|---|---|---|---|---|---|---|---|---|---|---|---|\n",
       "| 1 | 14000US37001020100 | 201.00 | Alamance | 87.2 | 37.3 | 21.9 | 78.1 | 15.1 | 61.0 | 28.5 | ⋯ | 54.8 |   0 | 45.3 |   0.0 | 31.3 | 13.9 | 278233.8 | 92.23704 | 5 | 81-100 |\n",
       "| 2 | 14000US37001020200 | 202.00 | Alamance | 78.3 | 31.0 | 29.1 | 70.9 | 11.2 | 51.9 | 29.2 | ⋯ | 44.6 |   0 |  0.0 |  82.7 | 16.2 | 39.0 | 278233.8 | 92.23704 | 5 | 81-100 |\n",
       "| 3 | 14000US37001020300 | 203.00 | Alamance | 77.8 | 40.7 | 27.1 | 72.9 | 18.9 | 45.2 | 28.9 | ⋯ | 21.0 |  NA | 10.9 |  36.4 | 26.7 | 20.1 | 278233.8 | 92.23704 | 5 | 81-100 |\n",
       "| 4 | 14000US37001020400 | 204.00 | Alamance | 78.1 | 30.5 | 31.4 | 68.6 | 10.1 | 19.6 | 59.0 | ⋯ | 19.9 |  NA | 69.0 | 100.0 | 67.2 | 26.6 | 278233.8 | 92.23704 | 5 | 81-100 |\n",
       "| 5 | 14000US37001020501 | 205.01 | Alamance | 92.7 | 35.1 | 23.3 | 76.7 | 15.6 | 76.1 | 13.3 | ⋯ | 18.9 |   0 |  0.0 |  53.1 | 25.7 | 10.0 | 278233.8 | 92.23704 | 5 | 81-100 |\n",
       "| 6 | 14000US37001020502 | 205.02 | Alamance | 99.0 | 32.1 | 30.0 | 70.0 |  8.9 | 40.7 | 35.7 | ⋯ | 27.8 | 100 | 14.2 |  19.5 | 14.7 | 25.0 | 278233.8 | 92.23704 | 5 | 81-100 |\n",
       "\n"
      ],
      "text/plain": [
       "  GEO_ID             Census_Tract County   Sex_Ratio Median_Age\n",
       "1 14000US37001020100 201.00       Alamance 87.2      37.3      \n",
       "2 14000US37001020200 202.00       Alamance 78.3      31.0      \n",
       "3 14000US37001020300 203.00       Alamance 77.8      40.7      \n",
       "4 14000US37001020400 204.00       Alamance 78.1      30.5      \n",
       "5 14000US37001020501 205.01       Alamance 92.7      35.1      \n",
       "6 14000US37001020502 205.02       Alamance 99.0      32.1      \n",
       "  Population_Under_18 Population_Over_18 Population_Over_65 Race_White\n",
       "1 21.9                78.1               15.1               61.0      \n",
       "2 29.1                70.9               11.2               51.9      \n",
       "3 27.1                72.9               18.9               45.2      \n",
       "4 31.4                68.6               10.1               19.6      \n",
       "5 23.3                76.7               15.6               76.1      \n",
       "6 30.0                70.0                8.9               40.7      \n",
       "  Race_Black ⋯ Poverty_Black Poverty_Asian Poverty_Other_Race\n",
       "1 28.5       ⋯ 54.8            0           45.3              \n",
       "2 29.2       ⋯ 44.6            0            0.0              \n",
       "3 28.9       ⋯ 21.0           NA           10.9              \n",
       "4 59.0       ⋯ 19.9           NA           69.0              \n",
       "5 13.3       ⋯ 18.9            0            0.0              \n",
       "6 35.7       ⋯ 27.8          100           14.2              \n",
       "  Poverty_Mixed_Race Poverty_Hispanic_Latino Poverty_White Avg_ACRES\n",
       "1   0.0              31.3                    13.9          278233.8 \n",
       "2  82.7              16.2                    39.0          278233.8 \n",
       "3  36.4              26.7                    20.1          278233.8 \n",
       "4 100.0              67.2                    26.6          278233.8 \n",
       "5  53.1              25.7                    10.0          278233.8 \n",
       "6  19.5              14.7                    25.0          278233.8 \n",
       "  Wildfire_Hazard_Potential_Mean Wildfire_Hazard_Potential_Quintile_Number\n",
       "1 92.23704                       5                                        \n",
       "2 92.23704                       5                                        \n",
       "3 92.23704                       5                                        \n",
       "4 92.23704                       5                                        \n",
       "5 92.23704                       5                                        \n",
       "6 92.23704                       5                                        \n",
       "  Wildfire_Hazard_Potential_Quintile_Percentage\n",
       "1 81-100                                       \n",
       "2 81-100                                       \n",
       "3 81-100                                       \n",
       "4 81-100                                       \n",
       "5 81-100                                       \n",
       "6 81-100                                       "
      ]
     },
     "metadata": {},
     "output_type": "display_data"
    }
   ],
   "source": [
    "acs_whp_df = inner_join(acs_df, wildfire_hazard_df)\n",
    "\n",
    "head(acs_whp_df)"
   ]
  },
  {
   "cell_type": "markdown",
   "id": "3bb624cd",
   "metadata": {},
   "source": [
    "# Variable Filtering\n",
    "RF imputation needs at least 25% of data in order to impute the missing data, therefore variables with less than 25% won't be imputed. "
   ]
  },
  {
   "cell_type": "code",
   "execution_count": 7,
   "id": "37d9386a",
   "metadata": {},
   "outputs": [
    {
     "data": {
      "text/html": [
       "<table class=\"dataframe\">\n",
       "<caption>A tibble: 6 × 2</caption>\n",
       "<thead>\n",
       "\t<tr><th scope=col>Variable</th><th scope=col>Variable_Presence</th></tr>\n",
       "\t<tr><th scope=col>&lt;chr&gt;</th><th scope=col>&lt;dbl&gt;</th></tr>\n",
       "</thead>\n",
       "<tbody>\n",
       "\t<tr><td>Poverty_Asian          </td><td>71.91781</td></tr>\n",
       "\t<tr><td>Poverty_Other_Race     </td><td>79.86301</td></tr>\n",
       "\t<tr><td>Poverty_Mixed_Race     </td><td>92.92237</td></tr>\n",
       "\t<tr><td>Poverty_Black          </td><td>94.79452</td></tr>\n",
       "\t<tr><td>Poverty_Hispanic_Latino</td><td>96.80365</td></tr>\n",
       "\t<tr><td>Poverty_Elderly        </td><td>98.35616</td></tr>\n",
       "</tbody>\n",
       "</table>\n"
      ],
      "text/latex": [
       "A tibble: 6 × 2\n",
       "\\begin{tabular}{ll}\n",
       " Variable & Variable\\_Presence\\\\\n",
       " <chr> & <dbl>\\\\\n",
       "\\hline\n",
       "\t Poverty\\_Asian           & 71.91781\\\\\n",
       "\t Poverty\\_Other\\_Race      & 79.86301\\\\\n",
       "\t Poverty\\_Mixed\\_Race      & 92.92237\\\\\n",
       "\t Poverty\\_Black           & 94.79452\\\\\n",
       "\t Poverty\\_Hispanic\\_Latino & 96.80365\\\\\n",
       "\t Poverty\\_Elderly         & 98.35616\\\\\n",
       "\\end{tabular}\n"
      ],
      "text/markdown": [
       "\n",
       "A tibble: 6 × 2\n",
       "\n",
       "| Variable &lt;chr&gt; | Variable_Presence &lt;dbl&gt; |\n",
       "|---|---|\n",
       "| Poverty_Asian           | 71.91781 |\n",
       "| Poverty_Other_Race      | 79.86301 |\n",
       "| Poverty_Mixed_Race      | 92.92237 |\n",
       "| Poverty_Black           | 94.79452 |\n",
       "| Poverty_Hispanic_Latino | 96.80365 |\n",
       "| Poverty_Elderly         | 98.35616 |\n",
       "\n"
      ],
      "text/plain": [
       "  Variable                Variable_Presence\n",
       "1 Poverty_Asian           71.91781         \n",
       "2 Poverty_Other_Race      79.86301         \n",
       "3 Poverty_Mixed_Race      92.92237         \n",
       "4 Poverty_Black           94.79452         \n",
       "5 Poverty_Hispanic_Latino 96.80365         \n",
       "6 Poverty_Elderly         98.35616         "
      ]
     },
     "metadata": {},
     "output_type": "display_data"
    }
   ],
   "source": [
    "# only keeping variables with at least 25% of data in each county\n",
    "variable_presence_df = acs_whp_df[,1:31] %>% \n",
    "    pivot_longer(cols = 4:31, names_to = \"Variable\", values_to = \"Value\") %>%\n",
    "    # creating 2 count cols: 1st for non-missing data, 2nd for all data\n",
    "    mutate(data_count = ifelse(is.na(Value), 0, 1), all_count = 1) %>%\n",
    "    group_by(Variable) %>%\n",
    "    summarize(Variable_Presence = sum(data_count)/ sum(all_count) * 100) %>%\n",
    "    arrange(Variable_Presence)\n",
    "\n",
    "head(variable_presence_df)"
   ]
  },
  {
   "cell_type": "markdown",
   "id": "80c5577a",
   "metadata": {},
   "source": [
    "All variables will be kept. \n",
    "\n",
    "# Random Forest Imputation\n",
    "Generating missing values using random forest (RF)."
   ]
  },
  {
   "cell_type": "code",
   "execution_count": 8,
   "id": "e0f6c487",
   "metadata": {},
   "outputs": [
    {
     "data": {
      "text/html": [
       "<table class=\"dataframe\">\n",
       "<caption>A data.frame: 6 × 34</caption>\n",
       "<thead>\n",
       "\t<tr><th></th><th scope=col>GEO_ID</th><th scope=col>Census_Tract</th><th scope=col>County</th><th scope=col>Avg_ACRES</th><th scope=col>Wildfire_Hazard_Potential_Mean</th><th scope=col>Wildfire_Hazard_Potential_Quintile_Number</th><th scope=col>Wildfire_Hazard_Potential_Quintile_Percentage</th><th scope=col>Sex_Ratio</th><th scope=col>Median_Age</th><th scope=col>Population_Under_18</th><th scope=col>⋯</th><th scope=col>Poverty_Adult</th><th scope=col>Poverty_Elderly</th><th scope=col>Poverty_Male</th><th scope=col>Poverty_Female</th><th scope=col>Poverty_Black</th><th scope=col>Poverty_Asian</th><th scope=col>Poverty_Other_Race</th><th scope=col>Poverty_Mixed_Race</th><th scope=col>Poverty_Hispanic_Latino</th><th scope=col>Poverty_White</th></tr>\n",
       "\t<tr><th></th><th scope=col>&lt;chr&gt;</th><th scope=col>&lt;dbl&gt;</th><th scope=col>&lt;chr&gt;</th><th scope=col>&lt;dbl&gt;</th><th scope=col>&lt;dbl&gt;</th><th scope=col>&lt;dbl&gt;</th><th scope=col>&lt;chr&gt;</th><th scope=col>&lt;dbl&gt;</th><th scope=col>&lt;dbl&gt;</th><th scope=col>&lt;dbl&gt;</th><th scope=col>⋯</th><th scope=col>&lt;dbl&gt;</th><th scope=col>&lt;dbl&gt;</th><th scope=col>&lt;dbl&gt;</th><th scope=col>&lt;dbl&gt;</th><th scope=col>&lt;dbl&gt;</th><th scope=col>&lt;dbl&gt;</th><th scope=col>&lt;dbl&gt;</th><th scope=col>&lt;dbl&gt;</th><th scope=col>&lt;dbl&gt;</th><th scope=col>&lt;dbl&gt;</th></tr>\n",
       "</thead>\n",
       "<tbody>\n",
       "\t<tr><th scope=row>1</th><td>14000US37001020100</td><td>201.00</td><td>Alamance</td><td>278233.8</td><td>92.23704</td><td>5</td><td>81-100</td><td>87.2</td><td>37.3</td><td>21.9</td><td>⋯</td><td>20.8</td><td>14.6</td><td>26.4</td><td>28.0</td><td>54.8</td><td>  0.000</td><td>45.3</td><td>  0.0</td><td>31.3</td><td>13.9</td></tr>\n",
       "\t<tr><th scope=row>2</th><td>14000US37001020200</td><td>202.00</td><td>Alamance</td><td>278233.8</td><td>92.23704</td><td>5</td><td>81-100</td><td>78.3</td><td>31.0</td><td>29.1</td><td>⋯</td><td>33.0</td><td>19.2</td><td>27.3</td><td>37.8</td><td>44.6</td><td>  0.000</td><td> 0.0</td><td> 82.7</td><td>16.2</td><td>39.0</td></tr>\n",
       "\t<tr><th scope=row>3</th><td>14000US37001020300</td><td>203.00</td><td>Alamance</td><td>278233.8</td><td>92.23704</td><td>5</td><td>81-100</td><td>77.8</td><td>40.7</td><td>27.1</td><td>⋯</td><td>17.3</td><td>22.0</td><td>18.0</td><td>28.3</td><td>21.0</td><td> 32.061</td><td>10.9</td><td> 36.4</td><td>26.7</td><td>20.1</td></tr>\n",
       "\t<tr><th scope=row>4</th><td>14000US37001020400</td><td>204.00</td><td>Alamance</td><td>278233.8</td><td>92.23704</td><td>5</td><td>81-100</td><td>78.1</td><td>30.5</td><td>31.4</td><td>⋯</td><td>26.8</td><td>14.0</td><td>30.0</td><td>33.3</td><td>19.9</td><td> 31.430</td><td>69.0</td><td>100.0</td><td>67.2</td><td>26.6</td></tr>\n",
       "\t<tr><th scope=row>5</th><td>14000US37001020501</td><td>205.01</td><td>Alamance</td><td>278233.8</td><td>92.23704</td><td>5</td><td>81-100</td><td>92.7</td><td>35.1</td><td>23.3</td><td>⋯</td><td>12.2</td><td> 7.1</td><td>12.3</td><td>14.8</td><td>18.9</td><td>  0.000</td><td> 0.0</td><td> 53.1</td><td>25.7</td><td>10.0</td></tr>\n",
       "\t<tr><th scope=row>6</th><td>14000US37001020502</td><td>205.02</td><td>Alamance</td><td>278233.8</td><td>92.23704</td><td>5</td><td>81-100</td><td>99.0</td><td>32.1</td><td>30.0</td><td>⋯</td><td>22.3</td><td>19.2</td><td>17.7</td><td>31.0</td><td>27.8</td><td>100.000</td><td>14.2</td><td> 19.5</td><td>14.7</td><td>25.0</td></tr>\n",
       "</tbody>\n",
       "</table>\n"
      ],
      "text/latex": [
       "A data.frame: 6 × 34\n",
       "\\begin{tabular}{r|lllllllllllllllllllll}\n",
       "  & GEO\\_ID & Census\\_Tract & County & Avg\\_ACRES & Wildfire\\_Hazard\\_Potential\\_Mean & Wildfire\\_Hazard\\_Potential\\_Quintile\\_Number & Wildfire\\_Hazard\\_Potential\\_Quintile\\_Percentage & Sex\\_Ratio & Median\\_Age & Population\\_Under\\_18 & ⋯ & Poverty\\_Adult & Poverty\\_Elderly & Poverty\\_Male & Poverty\\_Female & Poverty\\_Black & Poverty\\_Asian & Poverty\\_Other\\_Race & Poverty\\_Mixed\\_Race & Poverty\\_Hispanic\\_Latino & Poverty\\_White\\\\\n",
       "  & <chr> & <dbl> & <chr> & <dbl> & <dbl> & <dbl> & <chr> & <dbl> & <dbl> & <dbl> & ⋯ & <dbl> & <dbl> & <dbl> & <dbl> & <dbl> & <dbl> & <dbl> & <dbl> & <dbl> & <dbl>\\\\\n",
       "\\hline\n",
       "\t1 & 14000US37001020100 & 201.00 & Alamance & 278233.8 & 92.23704 & 5 & 81-100 & 87.2 & 37.3 & 21.9 & ⋯ & 20.8 & 14.6 & 26.4 & 28.0 & 54.8 &   0.000 & 45.3 &   0.0 & 31.3 & 13.9\\\\\n",
       "\t2 & 14000US37001020200 & 202.00 & Alamance & 278233.8 & 92.23704 & 5 & 81-100 & 78.3 & 31.0 & 29.1 & ⋯ & 33.0 & 19.2 & 27.3 & 37.8 & 44.6 &   0.000 &  0.0 &  82.7 & 16.2 & 39.0\\\\\n",
       "\t3 & 14000US37001020300 & 203.00 & Alamance & 278233.8 & 92.23704 & 5 & 81-100 & 77.8 & 40.7 & 27.1 & ⋯ & 17.3 & 22.0 & 18.0 & 28.3 & 21.0 &  32.061 & 10.9 &  36.4 & 26.7 & 20.1\\\\\n",
       "\t4 & 14000US37001020400 & 204.00 & Alamance & 278233.8 & 92.23704 & 5 & 81-100 & 78.1 & 30.5 & 31.4 & ⋯ & 26.8 & 14.0 & 30.0 & 33.3 & 19.9 &  31.430 & 69.0 & 100.0 & 67.2 & 26.6\\\\\n",
       "\t5 & 14000US37001020501 & 205.01 & Alamance & 278233.8 & 92.23704 & 5 & 81-100 & 92.7 & 35.1 & 23.3 & ⋯ & 12.2 &  7.1 & 12.3 & 14.8 & 18.9 &   0.000 &  0.0 &  53.1 & 25.7 & 10.0\\\\\n",
       "\t6 & 14000US37001020502 & 205.02 & Alamance & 278233.8 & 92.23704 & 5 & 81-100 & 99.0 & 32.1 & 30.0 & ⋯ & 22.3 & 19.2 & 17.7 & 31.0 & 27.8 & 100.000 & 14.2 &  19.5 & 14.7 & 25.0\\\\\n",
       "\\end{tabular}\n"
      ],
      "text/markdown": [
       "\n",
       "A data.frame: 6 × 34\n",
       "\n",
       "| <!--/--> | GEO_ID &lt;chr&gt; | Census_Tract &lt;dbl&gt; | County &lt;chr&gt; | Avg_ACRES &lt;dbl&gt; | Wildfire_Hazard_Potential_Mean &lt;dbl&gt; | Wildfire_Hazard_Potential_Quintile_Number &lt;dbl&gt; | Wildfire_Hazard_Potential_Quintile_Percentage &lt;chr&gt; | Sex_Ratio &lt;dbl&gt; | Median_Age &lt;dbl&gt; | Population_Under_18 &lt;dbl&gt; | ⋯ ⋯ | Poverty_Adult &lt;dbl&gt; | Poverty_Elderly &lt;dbl&gt; | Poverty_Male &lt;dbl&gt; | Poverty_Female &lt;dbl&gt; | Poverty_Black &lt;dbl&gt; | Poverty_Asian &lt;dbl&gt; | Poverty_Other_Race &lt;dbl&gt; | Poverty_Mixed_Race &lt;dbl&gt; | Poverty_Hispanic_Latino &lt;dbl&gt; | Poverty_White &lt;dbl&gt; |\n",
       "|---|---|---|---|---|---|---|---|---|---|---|---|---|---|---|---|---|---|---|---|---|---|\n",
       "| 1 | 14000US37001020100 | 201.00 | Alamance | 278233.8 | 92.23704 | 5 | 81-100 | 87.2 | 37.3 | 21.9 | ⋯ | 20.8 | 14.6 | 26.4 | 28.0 | 54.8 |   0.000 | 45.3 |   0.0 | 31.3 | 13.9 |\n",
       "| 2 | 14000US37001020200 | 202.00 | Alamance | 278233.8 | 92.23704 | 5 | 81-100 | 78.3 | 31.0 | 29.1 | ⋯ | 33.0 | 19.2 | 27.3 | 37.8 | 44.6 |   0.000 |  0.0 |  82.7 | 16.2 | 39.0 |\n",
       "| 3 | 14000US37001020300 | 203.00 | Alamance | 278233.8 | 92.23704 | 5 | 81-100 | 77.8 | 40.7 | 27.1 | ⋯ | 17.3 | 22.0 | 18.0 | 28.3 | 21.0 |  32.061 | 10.9 |  36.4 | 26.7 | 20.1 |\n",
       "| 4 | 14000US37001020400 | 204.00 | Alamance | 278233.8 | 92.23704 | 5 | 81-100 | 78.1 | 30.5 | 31.4 | ⋯ | 26.8 | 14.0 | 30.0 | 33.3 | 19.9 |  31.430 | 69.0 | 100.0 | 67.2 | 26.6 |\n",
       "| 5 | 14000US37001020501 | 205.01 | Alamance | 278233.8 | 92.23704 | 5 | 81-100 | 92.7 | 35.1 | 23.3 | ⋯ | 12.2 |  7.1 | 12.3 | 14.8 | 18.9 |   0.000 |  0.0 |  53.1 | 25.7 | 10.0 |\n",
       "| 6 | 14000US37001020502 | 205.02 | Alamance | 278233.8 | 92.23704 | 5 | 81-100 | 99.0 | 32.1 | 30.0 | ⋯ | 22.3 | 19.2 | 17.7 | 31.0 | 27.8 | 100.000 | 14.2 |  19.5 | 14.7 | 25.0 |\n",
       "\n"
      ],
      "text/plain": [
       "  GEO_ID             Census_Tract County   Avg_ACRES\n",
       "1 14000US37001020100 201.00       Alamance 278233.8 \n",
       "2 14000US37001020200 202.00       Alamance 278233.8 \n",
       "3 14000US37001020300 203.00       Alamance 278233.8 \n",
       "4 14000US37001020400 204.00       Alamance 278233.8 \n",
       "5 14000US37001020501 205.01       Alamance 278233.8 \n",
       "6 14000US37001020502 205.02       Alamance 278233.8 \n",
       "  Wildfire_Hazard_Potential_Mean Wildfire_Hazard_Potential_Quintile_Number\n",
       "1 92.23704                       5                                        \n",
       "2 92.23704                       5                                        \n",
       "3 92.23704                       5                                        \n",
       "4 92.23704                       5                                        \n",
       "5 92.23704                       5                                        \n",
       "6 92.23704                       5                                        \n",
       "  Wildfire_Hazard_Potential_Quintile_Percentage Sex_Ratio Median_Age\n",
       "1 81-100                                        87.2      37.3      \n",
       "2 81-100                                        78.3      31.0      \n",
       "3 81-100                                        77.8      40.7      \n",
       "4 81-100                                        78.1      30.5      \n",
       "5 81-100                                        92.7      35.1      \n",
       "6 81-100                                        99.0      32.1      \n",
       "  Population_Under_18 ⋯ Poverty_Adult Poverty_Elderly Poverty_Male\n",
       "1 21.9                ⋯ 20.8          14.6            26.4        \n",
       "2 29.1                ⋯ 33.0          19.2            27.3        \n",
       "3 27.1                ⋯ 17.3          22.0            18.0        \n",
       "4 31.4                ⋯ 26.8          14.0            30.0        \n",
       "5 23.3                ⋯ 12.2           7.1            12.3        \n",
       "6 30.0                ⋯ 22.3          19.2            17.7        \n",
       "  Poverty_Female Poverty_Black Poverty_Asian Poverty_Other_Race\n",
       "1 28.0           54.8            0.000       45.3              \n",
       "2 37.8           44.6            0.000        0.0              \n",
       "3 28.3           21.0           32.061       10.9              \n",
       "4 33.3           19.9           31.430       69.0              \n",
       "5 14.8           18.9            0.000        0.0              \n",
       "6 31.0           27.8          100.000       14.2              \n",
       "  Poverty_Mixed_Race Poverty_Hispanic_Latino Poverty_White\n",
       "1   0.0              31.3                    13.9         \n",
       "2  82.7              16.2                    39.0         \n",
       "3  36.4              26.7                    20.1         \n",
       "4 100.0              67.2                    26.6         \n",
       "5  53.1              25.7                    10.0         \n",
       "6  19.5              14.7                    25.0         "
      ]
     },
     "metadata": {},
     "output_type": "display_data"
    }
   ],
   "source": [
    "# imputing sociodemographic data using RF\n",
    "random_forest_imputation = function(preimputed_df){\n",
    "\n",
    "    imputed_RF_object = missForest(as.matrix(preimputed_df[,4:30]))\n",
    "    imputed_RF_df = imputed_RF_object$ximp\n",
    "    imputed_values_df = data.frame(cbind(preimputed_df[,c(1:3,31:34)], imputed_RF_df)) \n",
    "\n",
    "    \n",
    "    return(imputed_values_df)\n",
    "}\n",
    "\n",
    "# calling function\n",
    "imputed_df = random_forest_imputation(acs_whp_df)\n",
    "head(imputed_df)"
   ]
  },
  {
   "cell_type": "code",
   "execution_count": 9,
   "id": "1b8ca860",
   "metadata": {},
   "outputs": [],
   "source": [
    "# exporting data\n",
    "write.csv(imputed_df, paste0(Output,\"/\", cur_date, \"_Imputed_ACS_WHP_Data.csv\"), row.names = FALSE)"
   ]
  },
  {
   "cell_type": "code",
   "execution_count": null,
   "id": "16b8d1bf",
   "metadata": {},
   "outputs": [],
   "source": []
  }
 ],
 "metadata": {
  "kernelspec": {
   "display_name": "R",
   "language": "R",
   "name": "ir"
  },
  "language_info": {
   "codemirror_mode": "r",
   "file_extension": ".r",
   "mimetype": "text/x-r-source",
   "name": "R",
   "pygments_lexer": "r",
   "version": "4.1.3"
  }
 },
 "nbformat": 4,
 "nbformat_minor": 5
}
