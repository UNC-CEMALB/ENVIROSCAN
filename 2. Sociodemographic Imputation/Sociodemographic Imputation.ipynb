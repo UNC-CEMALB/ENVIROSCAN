{
 "cells": [
  {
   "cell_type": "code",
   "execution_count": 1,
   "id": "35ae2c20",
   "metadata": {},
   "outputs": [
    {
     "name": "stderr",
     "output_type": "stream",
     "text": [
      "── \u001b[1mAttaching packages\u001b[22m ─────────────────────────────────────── tidyverse 1.3.2 ──\n",
      "\u001b[32m✔\u001b[39m \u001b[34mggplot2\u001b[39m 3.4.0      \u001b[32m✔\u001b[39m \u001b[34mpurrr  \u001b[39m 0.3.4 \n",
      "\u001b[32m✔\u001b[39m \u001b[34mtibble \u001b[39m 3.1.8      \u001b[32m✔\u001b[39m \u001b[34mdplyr  \u001b[39m 1.0.10\n",
      "\u001b[32m✔\u001b[39m \u001b[34mtidyr  \u001b[39m 1.2.1      \u001b[32m✔\u001b[39m \u001b[34mstringr\u001b[39m 1.4.1 \n",
      "\u001b[32m✔\u001b[39m \u001b[34mreadr  \u001b[39m 2.1.2      \u001b[32m✔\u001b[39m \u001b[34mforcats\u001b[39m 0.5.2 \n",
      "── \u001b[1mConflicts\u001b[22m ────────────────────────────────────────── tidyverse_conflicts() ──\n",
      "\u001b[31m✖\u001b[39m \u001b[34mdplyr\u001b[39m::\u001b[32mfilter()\u001b[39m masks \u001b[34mstats\u001b[39m::filter()\n",
      "\u001b[31m✖\u001b[39m \u001b[34mdplyr\u001b[39m::\u001b[32mlag()\u001b[39m    masks \u001b[34mstats\u001b[39m::lag()\n",
      "\n",
      "Attaching package: ‘reshape2’\n",
      "\n",
      "\n",
      "The following object is masked from ‘package:tidyr’:\n",
      "\n",
      "    smiths\n",
      "\n",
      "\n",
      "Warning message in apply(acs_df[, 4:41], 2, as.numeric):\n",
      "“NAs introduced by coercion”\n",
      "Warning message in apply(acs_df[, 4:41], 2, as.numeric):\n",
      "“NAs introduced by coercion”\n",
      "Warning message in apply(acs_df[, 4:41], 2, as.numeric):\n",
      "“NAs introduced by coercion”\n",
      "Warning message in apply(acs_df[, 4:41], 2, as.numeric):\n",
      "“NAs introduced by coercion”\n",
      "Warning message in apply(acs_df[, 4:41], 2, as.numeric):\n",
      "“NAs introduced by coercion”\n",
      "Warning message in apply(acs_df[, 4:41], 2, as.numeric):\n",
      "“NAs introduced by coercion”\n",
      "Warning message in apply(acs_df[, 4:41], 2, as.numeric):\n",
      "“NAs introduced by coercion”\n",
      "Warning message in apply(acs_df[, 4:41], 2, as.numeric):\n",
      "“NAs introduced by coercion”\n",
      "Warning message in apply(acs_df[, 4:41], 2, as.numeric):\n",
      "“NAs introduced by coercion”\n",
      "Warning message in apply(acs_df[, 4:41], 2, as.numeric):\n",
      "“NAs introduced by coercion”\n",
      "Warning message in apply(acs_df[, 4:41], 2, as.numeric):\n",
      "“NAs introduced by coercion”\n",
      "Warning message in apply(acs_df[, 4:41], 2, as.numeric):\n",
      "“NAs introduced by coercion”\n",
      "Warning message in apply(acs_df[, 4:41], 2, as.numeric):\n",
      "“NAs introduced by coercion”\n",
      "Warning message in apply(acs_df[, 4:41], 2, as.numeric):\n",
      "“NAs introduced by coercion”\n",
      "Warning message in apply(acs_df[, 4:41], 2, as.numeric):\n",
      "“NAs introduced by coercion”\n",
      "Warning message in apply(acs_df[, 4:41], 2, as.numeric):\n",
      "“NAs introduced by coercion”\n",
      "Warning message in apply(acs_df[, 4:41], 2, as.numeric):\n",
      "“NAs introduced by coercion”\n",
      "Warning message in apply(acs_df[, 4:41], 2, as.numeric):\n",
      "“NAs introduced by coercion”\n",
      "Warning message in apply(acs_df[, 4:41], 2, as.numeric):\n",
      "“NAs introduced by coercion”\n",
      "Warning message in apply(acs_df[, 4:41], 2, as.numeric):\n",
      "“NAs introduced by coercion”\n",
      "Warning message in apply(acs_df[, 4:41], 2, as.numeric):\n",
      "“NAs introduced by coercion”\n",
      "Warning message in apply(acs_df[, 4:41], 2, as.numeric):\n",
      "“NAs introduced by coercion”\n",
      "Warning message in apply(acs_df[, 4:41], 2, as.numeric):\n",
      "“NAs introduced by coercion”\n",
      "Warning message in apply(acs_df[, 4:41], 2, as.numeric):\n",
      "“NAs introduced by coercion”\n",
      "Warning message in apply(acs_df[, 4:41], 2, as.numeric):\n",
      "“NAs introduced by coercion”\n",
      "Warning message in apply(acs_df[, 4:41], 2, as.numeric):\n",
      "“NAs introduced by coercion”\n",
      "Warning message in apply(acs_df[, 4:41], 2, as.numeric):\n",
      "“NAs introduced by coercion”\n",
      "Warning message in apply(acs_df[, 4:41], 2, as.numeric):\n",
      "“NAs introduced by coercion”\n",
      "Warning message in apply(acs_df[, 4:41], 2, as.numeric):\n",
      "“NAs introduced by coercion”\n",
      "Warning message in apply(acs_df[, 4:41], 2, as.numeric):\n",
      "“NAs introduced by coercion”\n",
      "Warning message in apply(acs_df[, 4:41], 2, as.numeric):\n",
      "“NAs introduced by coercion”\n",
      "Warning message in apply(acs_df[, 4:41], 2, as.numeric):\n",
      "“NAs introduced by coercion”\n",
      "Warning message in apply(acs_df[, 4:41], 2, as.numeric):\n",
      "“NAs introduced by coercion”\n",
      "Warning message in apply(acs_df[, 4:41], 2, as.numeric):\n",
      "“NAs introduced by coercion”\n",
      "Warning message in apply(acs_df[, 4:41], 2, as.numeric):\n",
      "“NAs introduced by coercion”\n",
      "Warning message in apply(acs_df[, 4:41], 2, as.numeric):\n",
      "“NAs introduced by coercion”\n",
      "Warning message in apply(acs_df[, 4:41], 2, as.numeric):\n",
      "“NAs introduced by coercion”\n"
     ]
    }
   ],
   "source": [
    "setwd('/Users/alexis/Library/CloudStorage/OneDrive-UniversityofNorthCarolinaatChapelHill/CEMALB_DataAnalysisPM/Projects/P1009. NC ENVRIOSCAN/P1009.3. Analyses/P1009.3.3. Sociodemographic Imputation/Input')\n",
    "Output = ('/Users/alexis/Library/CloudStorage/OneDrive-UniversityofNorthCarolinaatChapelHill/CEMALB_DataAnalysisPM/Projects/P1009. NC ENVRIOSCAN/P1009.3. Analyses/P1009.3.3. Sociodemographic Imputation/Output')\n",
    "cur_date = \"010923\"\n",
    "\n",
    "library(readxl)\n",
    "library(tidyverse)\n",
    "library(reshape2)\n",
    "library(missForest)\n",
    "\n",
    "# reading in files\n",
    "acs_df = data.frame(read_excel(\"ACS_Data_010923.xlsx\", sheet = 2))\n",
    "\n",
    "# removing the income deficit col, since I don't know what it means\n",
    "acs_df = acs_df[,c(1:41)]\n",
    "# making some of the cols numeric\n",
    "acs_df[,4:41] = apply(acs_df[,4:41], 2, as.numeric)\n",
    "wildfire_hazard_df = data.frame(read_excel(\"Wildfire_Hazard_010523.xlsx\"))"
   ]
  },
  {
   "cell_type": "code",
   "execution_count": 2,
   "id": "188d69c5",
   "metadata": {},
   "outputs": [
    {
     "data": {
      "text/html": [
       "<table class=\"dataframe\">\n",
       "<caption>A data.frame: 6 × 41</caption>\n",
       "<thead>\n",
       "\t<tr><th></th><th scope=col>GEO_ID</th><th scope=col>Census_Tract</th><th scope=col>County</th><th scope=col>Sex_Ratio</th><th scope=col>Median_Age</th><th scope=col>Population_Under_18</th><th scope=col>Population_Over_18</th><th scope=col>Population_Over_65</th><th scope=col>Race_White</th><th scope=col>Race_Black</th><th scope=col>⋯</th><th scope=col>Less_than_High_School</th><th scope=col>High_School_Education</th><th scope=col>Some_College</th><th scope=col>College_Education</th><th scope=col>Employed</th><th scope=col>Employed_Male</th><th scope=col>Employed_Female</th><th scope=col>Full_Time_Work</th><th scope=col>Part_Time_Work</th><th scope=col>No_Work</th></tr>\n",
       "\t<tr><th></th><th scope=col>&lt;chr&gt;</th><th scope=col>&lt;dbl&gt;</th><th scope=col>&lt;chr&gt;</th><th scope=col>&lt;dbl&gt;</th><th scope=col>&lt;dbl&gt;</th><th scope=col>&lt;dbl&gt;</th><th scope=col>&lt;dbl&gt;</th><th scope=col>&lt;dbl&gt;</th><th scope=col>&lt;dbl&gt;</th><th scope=col>&lt;dbl&gt;</th><th scope=col>⋯</th><th scope=col>&lt;dbl&gt;</th><th scope=col>&lt;dbl&gt;</th><th scope=col>&lt;dbl&gt;</th><th scope=col>&lt;dbl&gt;</th><th scope=col>&lt;dbl&gt;</th><th scope=col>&lt;dbl&gt;</th><th scope=col>&lt;dbl&gt;</th><th scope=col>&lt;dbl&gt;</th><th scope=col>&lt;dbl&gt;</th><th scope=col>&lt;dbl&gt;</th></tr>\n",
       "</thead>\n",
       "<tbody>\n",
       "\t<tr><th scope=row>1</th><td>14000US37001020100</td><td>201.00</td><td>Alamance</td><td>87.2</td><td>37.3</td><td>21.9</td><td>78.1</td><td>15.1</td><td>61.0</td><td>28.5</td><td>⋯</td><td>40.7</td><td>30.1</td><td>21.1</td><td> 0.9</td><td>13.9</td><td> 9.9</td><td>17.7</td><td> 5.4</td><td>32.1</td><td>28.1</td></tr>\n",
       "\t<tr><th scope=row>2</th><td>14000US37001020200</td><td>202.00</td><td>Alamance</td><td>78.3</td><td>31.0</td><td>29.1</td><td>70.9</td><td>11.2</td><td>51.9</td><td>29.2</td><td>⋯</td><td>32.6</td><td>40.0</td><td>18.9</td><td>12.4</td><td>22.5</td><td>20.5</td><td>24.3</td><td>10.6</td><td>43.1</td><td>43.0</td></tr>\n",
       "\t<tr><th scope=row>3</th><td>14000US37001020300</td><td>203.00</td><td>Alamance</td><td>77.8</td><td>40.7</td><td>27.1</td><td>72.9</td><td>18.9</td><td>45.2</td><td>28.9</td><td>⋯</td><td>37.3</td><td> 5.9</td><td>22.6</td><td> 4.6</td><td>10.3</td><td> 6.0</td><td>14.4</td><td> 3.9</td><td>27.5</td><td>32.7</td></tr>\n",
       "\t<tr><th scope=row>4</th><td>14000US37001020400</td><td>204.00</td><td>Alamance</td><td>78.1</td><td>30.5</td><td>31.4</td><td>68.6</td><td>10.1</td><td>19.6</td><td>59.0</td><td>⋯</td><td>39.3</td><td>25.3</td><td>16.3</td><td> 5.4</td><td>18.9</td><td>16.7</td><td>20.4</td><td>10.9</td><td>35.1</td><td>38.3</td></tr>\n",
       "\t<tr><th scope=row>5</th><td>14000US37001020501</td><td>205.01</td><td>Alamance</td><td>92.7</td><td>35.1</td><td>23.3</td><td>76.7</td><td>15.6</td><td>76.1</td><td>13.3</td><td>⋯</td><td> 6.1</td><td>14.9</td><td> 3.5</td><td> 1.5</td><td> 5.4</td><td> 1.3</td><td> 9.7</td><td> 1.5</td><td>24.0</td><td>14.5</td></tr>\n",
       "\t<tr><th scope=row>6</th><td>14000US37001020502</td><td>205.02</td><td>Alamance</td><td>99.0</td><td>32.1</td><td>30.0</td><td>70.0</td><td> 8.9</td><td>40.7</td><td>35.7</td><td>⋯</td><td>26.6</td><td>29.9</td><td>10.8</td><td> 5.2</td><td>10.0</td><td> 5.9</td><td>15.9</td><td> 2.2</td><td>33.5</td><td>41.4</td></tr>\n",
       "</tbody>\n",
       "</table>\n"
      ],
      "text/latex": [
       "A data.frame: 6 × 41\n",
       "\\begin{tabular}{r|lllllllllllllllllllll}\n",
       "  & GEO\\_ID & Census\\_Tract & County & Sex\\_Ratio & Median\\_Age & Population\\_Under\\_18 & Population\\_Over\\_18 & Population\\_Over\\_65 & Race\\_White & Race\\_Black & ⋯ & Less\\_than\\_High\\_School & High\\_School\\_Education & Some\\_College & College\\_Education & Employed & Employed\\_Male & Employed\\_Female & Full\\_Time\\_Work & Part\\_Time\\_Work & No\\_Work\\\\\n",
       "  & <chr> & <dbl> & <chr> & <dbl> & <dbl> & <dbl> & <dbl> & <dbl> & <dbl> & <dbl> & ⋯ & <dbl> & <dbl> & <dbl> & <dbl> & <dbl> & <dbl> & <dbl> & <dbl> & <dbl> & <dbl>\\\\\n",
       "\\hline\n",
       "\t1 & 14000US37001020100 & 201.00 & Alamance & 87.2 & 37.3 & 21.9 & 78.1 & 15.1 & 61.0 & 28.5 & ⋯ & 40.7 & 30.1 & 21.1 &  0.9 & 13.9 &  9.9 & 17.7 &  5.4 & 32.1 & 28.1\\\\\n",
       "\t2 & 14000US37001020200 & 202.00 & Alamance & 78.3 & 31.0 & 29.1 & 70.9 & 11.2 & 51.9 & 29.2 & ⋯ & 32.6 & 40.0 & 18.9 & 12.4 & 22.5 & 20.5 & 24.3 & 10.6 & 43.1 & 43.0\\\\\n",
       "\t3 & 14000US37001020300 & 203.00 & Alamance & 77.8 & 40.7 & 27.1 & 72.9 & 18.9 & 45.2 & 28.9 & ⋯ & 37.3 &  5.9 & 22.6 &  4.6 & 10.3 &  6.0 & 14.4 &  3.9 & 27.5 & 32.7\\\\\n",
       "\t4 & 14000US37001020400 & 204.00 & Alamance & 78.1 & 30.5 & 31.4 & 68.6 & 10.1 & 19.6 & 59.0 & ⋯ & 39.3 & 25.3 & 16.3 &  5.4 & 18.9 & 16.7 & 20.4 & 10.9 & 35.1 & 38.3\\\\\n",
       "\t5 & 14000US37001020501 & 205.01 & Alamance & 92.7 & 35.1 & 23.3 & 76.7 & 15.6 & 76.1 & 13.3 & ⋯ &  6.1 & 14.9 &  3.5 &  1.5 &  5.4 &  1.3 &  9.7 &  1.5 & 24.0 & 14.5\\\\\n",
       "\t6 & 14000US37001020502 & 205.02 & Alamance & 99.0 & 32.1 & 30.0 & 70.0 &  8.9 & 40.7 & 35.7 & ⋯ & 26.6 & 29.9 & 10.8 &  5.2 & 10.0 &  5.9 & 15.9 &  2.2 & 33.5 & 41.4\\\\\n",
       "\\end{tabular}\n"
      ],
      "text/markdown": [
       "\n",
       "A data.frame: 6 × 41\n",
       "\n",
       "| <!--/--> | GEO_ID &lt;chr&gt; | Census_Tract &lt;dbl&gt; | County &lt;chr&gt; | Sex_Ratio &lt;dbl&gt; | Median_Age &lt;dbl&gt; | Population_Under_18 &lt;dbl&gt; | Population_Over_18 &lt;dbl&gt; | Population_Over_65 &lt;dbl&gt; | Race_White &lt;dbl&gt; | Race_Black &lt;dbl&gt; | ⋯ ⋯ | Less_than_High_School &lt;dbl&gt; | High_School_Education &lt;dbl&gt; | Some_College &lt;dbl&gt; | College_Education &lt;dbl&gt; | Employed &lt;dbl&gt; | Employed_Male &lt;dbl&gt; | Employed_Female &lt;dbl&gt; | Full_Time_Work &lt;dbl&gt; | Part_Time_Work &lt;dbl&gt; | No_Work &lt;dbl&gt; |\n",
       "|---|---|---|---|---|---|---|---|---|---|---|---|---|---|---|---|---|---|---|---|---|---|\n",
       "| 1 | 14000US37001020100 | 201.00 | Alamance | 87.2 | 37.3 | 21.9 | 78.1 | 15.1 | 61.0 | 28.5 | ⋯ | 40.7 | 30.1 | 21.1 |  0.9 | 13.9 |  9.9 | 17.7 |  5.4 | 32.1 | 28.1 |\n",
       "| 2 | 14000US37001020200 | 202.00 | Alamance | 78.3 | 31.0 | 29.1 | 70.9 | 11.2 | 51.9 | 29.2 | ⋯ | 32.6 | 40.0 | 18.9 | 12.4 | 22.5 | 20.5 | 24.3 | 10.6 | 43.1 | 43.0 |\n",
       "| 3 | 14000US37001020300 | 203.00 | Alamance | 77.8 | 40.7 | 27.1 | 72.9 | 18.9 | 45.2 | 28.9 | ⋯ | 37.3 |  5.9 | 22.6 |  4.6 | 10.3 |  6.0 | 14.4 |  3.9 | 27.5 | 32.7 |\n",
       "| 4 | 14000US37001020400 | 204.00 | Alamance | 78.1 | 30.5 | 31.4 | 68.6 | 10.1 | 19.6 | 59.0 | ⋯ | 39.3 | 25.3 | 16.3 |  5.4 | 18.9 | 16.7 | 20.4 | 10.9 | 35.1 | 38.3 |\n",
       "| 5 | 14000US37001020501 | 205.01 | Alamance | 92.7 | 35.1 | 23.3 | 76.7 | 15.6 | 76.1 | 13.3 | ⋯ |  6.1 | 14.9 |  3.5 |  1.5 |  5.4 |  1.3 |  9.7 |  1.5 | 24.0 | 14.5 |\n",
       "| 6 | 14000US37001020502 | 205.02 | Alamance | 99.0 | 32.1 | 30.0 | 70.0 |  8.9 | 40.7 | 35.7 | ⋯ | 26.6 | 29.9 | 10.8 |  5.2 | 10.0 |  5.9 | 15.9 |  2.2 | 33.5 | 41.4 |\n",
       "\n"
      ],
      "text/plain": [
       "  GEO_ID             Census_Tract County   Sex_Ratio Median_Age\n",
       "1 14000US37001020100 201.00       Alamance 87.2      37.3      \n",
       "2 14000US37001020200 202.00       Alamance 78.3      31.0      \n",
       "3 14000US37001020300 203.00       Alamance 77.8      40.7      \n",
       "4 14000US37001020400 204.00       Alamance 78.1      30.5      \n",
       "5 14000US37001020501 205.01       Alamance 92.7      35.1      \n",
       "6 14000US37001020502 205.02       Alamance 99.0      32.1      \n",
       "  Population_Under_18 Population_Over_18 Population_Over_65 Race_White\n",
       "1 21.9                78.1               15.1               61.0      \n",
       "2 29.1                70.9               11.2               51.9      \n",
       "3 27.1                72.9               18.9               45.2      \n",
       "4 31.4                68.6               10.1               19.6      \n",
       "5 23.3                76.7               15.6               76.1      \n",
       "6 30.0                70.0                8.9               40.7      \n",
       "  Race_Black ⋯ Less_than_High_School High_School_Education Some_College\n",
       "1 28.5       ⋯ 40.7                  30.1                  21.1        \n",
       "2 29.2       ⋯ 32.6                  40.0                  18.9        \n",
       "3 28.9       ⋯ 37.3                   5.9                  22.6        \n",
       "4 59.0       ⋯ 39.3                  25.3                  16.3        \n",
       "5 13.3       ⋯  6.1                  14.9                   3.5        \n",
       "6 35.7       ⋯ 26.6                  29.9                  10.8        \n",
       "  College_Education Employed Employed_Male Employed_Female Full_Time_Work\n",
       "1  0.9              13.9      9.9          17.7             5.4          \n",
       "2 12.4              22.5     20.5          24.3            10.6          \n",
       "3  4.6              10.3      6.0          14.4             3.9          \n",
       "4  5.4              18.9     16.7          20.4            10.9          \n",
       "5  1.5               5.4      1.3           9.7             1.5          \n",
       "6  5.2              10.0      5.9          15.9             2.2          \n",
       "  Part_Time_Work No_Work\n",
       "1 32.1           28.1   \n",
       "2 43.1           43.0   \n",
       "3 27.5           32.7   \n",
       "4 35.1           38.3   \n",
       "5 24.0           14.5   \n",
       "6 33.5           41.4   "
      ]
     },
     "metadata": {},
     "output_type": "display_data"
    },
    {
     "data": {
      "text/html": [
       "<table class=\"dataframe\">\n",
       "<caption>A data.frame: 6 × 7</caption>\n",
       "<thead>\n",
       "\t<tr><th></th><th scope=col>GEO_ID</th><th scope=col>County</th><th scope=col>Census_Tract</th><th scope=col>Avg_ACRES</th><th scope=col>Wildfire_Hazard_Potential_Mean</th><th scope=col>Wildfire_Hazard_Potential_Quintile_Number</th><th scope=col>Wildfire_Hazard_Potential_Quintile_Percentage</th></tr>\n",
       "\t<tr><th></th><th scope=col>&lt;chr&gt;</th><th scope=col>&lt;chr&gt;</th><th scope=col>&lt;dbl&gt;</th><th scope=col>&lt;dbl&gt;</th><th scope=col>&lt;dbl&gt;</th><th scope=col>&lt;dbl&gt;</th><th scope=col>&lt;chr&gt;</th></tr>\n",
       "</thead>\n",
       "<tbody>\n",
       "\t<tr><th scope=row>1</th><td>14000US37141920201</td><td>Pender</td><td>9202.01</td><td>596842.6</td><td>715.5177</td><td>5</td><td>0-20%</td></tr>\n",
       "\t<tr><th scope=row>2</th><td>14000US37141920401</td><td>Pender</td><td>9204.01</td><td>596842.6</td><td>715.5177</td><td>5</td><td>0-20%</td></tr>\n",
       "\t<tr><th scope=row>3</th><td>14000US37141920402</td><td>Pender</td><td>9204.02</td><td>596842.6</td><td>715.5177</td><td>5</td><td>0-20%</td></tr>\n",
       "\t<tr><th scope=row>4</th><td>14000US37141920403</td><td>Pender</td><td>9204.03</td><td>596842.6</td><td>715.5177</td><td>5</td><td>0-20%</td></tr>\n",
       "\t<tr><th scope=row>5</th><td>14000US37141920601</td><td>Pender</td><td>9206.01</td><td>596842.6</td><td>715.5177</td><td>5</td><td>0-20%</td></tr>\n",
       "\t<tr><th scope=row>6</th><td>14000US37141990100</td><td>Pender</td><td>9901.00</td><td>596842.6</td><td>715.5177</td><td>5</td><td>0-20%</td></tr>\n",
       "</tbody>\n",
       "</table>\n"
      ],
      "text/latex": [
       "A data.frame: 6 × 7\n",
       "\\begin{tabular}{r|lllllll}\n",
       "  & GEO\\_ID & County & Census\\_Tract & Avg\\_ACRES & Wildfire\\_Hazard\\_Potential\\_Mean & Wildfire\\_Hazard\\_Potential\\_Quintile\\_Number & Wildfire\\_Hazard\\_Potential\\_Quintile\\_Percentage\\\\\n",
       "  & <chr> & <chr> & <dbl> & <dbl> & <dbl> & <dbl> & <chr>\\\\\n",
       "\\hline\n",
       "\t1 & 14000US37141920201 & Pender & 9202.01 & 596842.6 & 715.5177 & 5 & 0-20\\%\\\\\n",
       "\t2 & 14000US37141920401 & Pender & 9204.01 & 596842.6 & 715.5177 & 5 & 0-20\\%\\\\\n",
       "\t3 & 14000US37141920402 & Pender & 9204.02 & 596842.6 & 715.5177 & 5 & 0-20\\%\\\\\n",
       "\t4 & 14000US37141920403 & Pender & 9204.03 & 596842.6 & 715.5177 & 5 & 0-20\\%\\\\\n",
       "\t5 & 14000US37141920601 & Pender & 9206.01 & 596842.6 & 715.5177 & 5 & 0-20\\%\\\\\n",
       "\t6 & 14000US37141990100 & Pender & 9901.00 & 596842.6 & 715.5177 & 5 & 0-20\\%\\\\\n",
       "\\end{tabular}\n"
      ],
      "text/markdown": [
       "\n",
       "A data.frame: 6 × 7\n",
       "\n",
       "| <!--/--> | GEO_ID &lt;chr&gt; | County &lt;chr&gt; | Census_Tract &lt;dbl&gt; | Avg_ACRES &lt;dbl&gt; | Wildfire_Hazard_Potential_Mean &lt;dbl&gt; | Wildfire_Hazard_Potential_Quintile_Number &lt;dbl&gt; | Wildfire_Hazard_Potential_Quintile_Percentage &lt;chr&gt; |\n",
       "|---|---|---|---|---|---|---|---|\n",
       "| 1 | 14000US37141920201 | Pender | 9202.01 | 596842.6 | 715.5177 | 5 | 0-20% |\n",
       "| 2 | 14000US37141920401 | Pender | 9204.01 | 596842.6 | 715.5177 | 5 | 0-20% |\n",
       "| 3 | 14000US37141920402 | Pender | 9204.02 | 596842.6 | 715.5177 | 5 | 0-20% |\n",
       "| 4 | 14000US37141920403 | Pender | 9204.03 | 596842.6 | 715.5177 | 5 | 0-20% |\n",
       "| 5 | 14000US37141920601 | Pender | 9206.01 | 596842.6 | 715.5177 | 5 | 0-20% |\n",
       "| 6 | 14000US37141990100 | Pender | 9901.00 | 596842.6 | 715.5177 | 5 | 0-20% |\n",
       "\n"
      ],
      "text/plain": [
       "  GEO_ID             County Census_Tract Avg_ACRES\n",
       "1 14000US37141920201 Pender 9202.01      596842.6 \n",
       "2 14000US37141920401 Pender 9204.01      596842.6 \n",
       "3 14000US37141920402 Pender 9204.02      596842.6 \n",
       "4 14000US37141920403 Pender 9204.03      596842.6 \n",
       "5 14000US37141920601 Pender 9206.01      596842.6 \n",
       "6 14000US37141990100 Pender 9901.00      596842.6 \n",
       "  Wildfire_Hazard_Potential_Mean Wildfire_Hazard_Potential_Quintile_Number\n",
       "1 715.5177                       5                                        \n",
       "2 715.5177                       5                                        \n",
       "3 715.5177                       5                                        \n",
       "4 715.5177                       5                                        \n",
       "5 715.5177                       5                                        \n",
       "6 715.5177                       5                                        \n",
       "  Wildfire_Hazard_Potential_Quintile_Percentage\n",
       "1 0-20%                                        \n",
       "2 0-20%                                        \n",
       "3 0-20%                                        \n",
       "4 0-20%                                        \n",
       "5 0-20%                                        \n",
       "6 0-20%                                        "
      ]
     },
     "metadata": {},
     "output_type": "display_data"
    }
   ],
   "source": [
    "head(acs_df)\n",
    "head(wildfire_hazard_df)"
   ]
  },
  {
   "cell_type": "code",
   "execution_count": 3,
   "id": "741a2b6f",
   "metadata": {},
   "outputs": [
    {
     "data": {
      "text/html": [
       "2195"
      ],
      "text/latex": [
       "2195"
      ],
      "text/markdown": [
       "2195"
      ],
      "text/plain": [
       "[1] 2195"
      ]
     },
     "metadata": {},
     "output_type": "display_data"
    },
    {
     "data": {
      "text/html": [
       "2189"
      ],
      "text/latex": [
       "2189"
      ],
      "text/markdown": [
       "2189"
      ],
      "text/plain": [
       "[1] 2189"
      ]
     },
     "metadata": {},
     "output_type": "display_data"
    }
   ],
   "source": [
    "# seeing if the geo ids are consistent in each file\n",
    "length(unique(acs_df$GEO_ID))\n",
    "length(unique(wildfire_hazard_df$GEO_ID))"
   ]
  },
  {
   "cell_type": "code",
   "execution_count": 4,
   "id": "5b9848a9",
   "metadata": {},
   "outputs": [
    {
     "data": {
      "text/html": [
       "<style>\n",
       ".list-inline {list-style: none; margin:0; padding: 0}\n",
       ".list-inline>li {display: inline-block}\n",
       ".list-inline>li:not(:last-child)::after {content: \"\\00b7\"; padding: 0 .5ex}\n",
       "</style>\n",
       "<ol class=list-inline><li>'14000US37031990200'</li><li>'14000US37055990200'</li><li>'14000US37095990100'</li><li>'14000US37095990200'</li><li>'14000US37101041202'</li><li>'14000US37137990100'</li></ol>\n"
      ],
      "text/latex": [
       "\\begin{enumerate*}\n",
       "\\item '14000US37031990200'\n",
       "\\item '14000US37055990200'\n",
       "\\item '14000US37095990100'\n",
       "\\item '14000US37095990200'\n",
       "\\item '14000US37101041202'\n",
       "\\item '14000US37137990100'\n",
       "\\end{enumerate*}\n"
      ],
      "text/markdown": [
       "1. '14000US37031990200'\n",
       "2. '14000US37055990200'\n",
       "3. '14000US37095990100'\n",
       "4. '14000US37095990200'\n",
       "5. '14000US37101041202'\n",
       "6. '14000US37137990100'\n",
       "\n",
       "\n"
      ],
      "text/plain": [
       "[1] \"14000US37031990200\" \"14000US37055990200\" \"14000US37095990100\"\n",
       "[4] \"14000US37095990200\" \"14000US37101041202\" \"14000US37137990100\""
      ]
     },
     "metadata": {},
     "output_type": "display_data"
    }
   ],
   "source": [
    "# they're not so what geo ids aren't consistent?\n",
    "`%notin%` <- Negate(`%in%`)\n",
    "ids_df = acs_df %>%\n",
    "    filter(GEO_ID %notin% unique(wildfire_hazard_df$GEO_ID)) %>%\n",
    "    select(c(\"GEO_ID\", \"Census_Tract\", \"County\")) \n",
    "\n",
    "# ids that aren't consistent\n",
    "inconsistent_ids = ids_df$GEO_ID\n",
    "inconsistent_ids "
   ]
  },
  {
   "cell_type": "code",
   "execution_count": 5,
   "id": "ce559b53",
   "metadata": {},
   "outputs": [
    {
     "data": {
      "text/html": [
       "<table class=\"dataframe\">\n",
       "<caption>A data.frame: 6 × 41</caption>\n",
       "<thead>\n",
       "\t<tr><th scope=col>GEO_ID</th><th scope=col>Census_Tract</th><th scope=col>County</th><th scope=col>Sex_Ratio</th><th scope=col>Median_Age</th><th scope=col>Population_Under_18</th><th scope=col>Population_Over_18</th><th scope=col>Population_Over_65</th><th scope=col>Race_White</th><th scope=col>Race_Black</th><th scope=col>⋯</th><th scope=col>Less_than_High_School</th><th scope=col>High_School_Education</th><th scope=col>Some_College</th><th scope=col>College_Education</th><th scope=col>Employed</th><th scope=col>Employed_Male</th><th scope=col>Employed_Female</th><th scope=col>Full_Time_Work</th><th scope=col>Part_Time_Work</th><th scope=col>No_Work</th></tr>\n",
       "\t<tr><th scope=col>&lt;chr&gt;</th><th scope=col>&lt;dbl&gt;</th><th scope=col>&lt;chr&gt;</th><th scope=col>&lt;dbl&gt;</th><th scope=col>&lt;dbl&gt;</th><th scope=col>&lt;dbl&gt;</th><th scope=col>&lt;dbl&gt;</th><th scope=col>&lt;dbl&gt;</th><th scope=col>&lt;dbl&gt;</th><th scope=col>&lt;dbl&gt;</th><th scope=col>⋯</th><th scope=col>&lt;dbl&gt;</th><th scope=col>&lt;dbl&gt;</th><th scope=col>&lt;dbl&gt;</th><th scope=col>&lt;dbl&gt;</th><th scope=col>&lt;dbl&gt;</th><th scope=col>&lt;dbl&gt;</th><th scope=col>&lt;dbl&gt;</th><th scope=col>&lt;dbl&gt;</th><th scope=col>&lt;dbl&gt;</th><th scope=col>&lt;dbl&gt;</th></tr>\n",
       "</thead>\n",
       "<tbody>\n",
       "\t<tr><td>14000US37031990200</td><td>9902.00</td><td>Carteret</td><td>  NA</td><td>  NA</td><td>  NA</td><td>  NA</td><td>  NA</td><td>  NA</td><td>  NA</td><td>⋯</td><td>  NA</td><td>  NA</td><td> NA</td><td>  NA</td><td>  NA</td><td>  NA</td><td> NA</td><td>NA</td><td>  NA</td><td>  NA</td></tr>\n",
       "\t<tr><td>14000US37055990200</td><td>9902.00</td><td>Dare    </td><td>  NA</td><td>  NA</td><td>  NA</td><td>  NA</td><td>  NA</td><td>  NA</td><td>  NA</td><td>⋯</td><td>  NA</td><td>  NA</td><td> NA</td><td>  NA</td><td>  NA</td><td>  NA</td><td> NA</td><td>NA</td><td>  NA</td><td>  NA</td></tr>\n",
       "\t<tr><td>14000US37095990100</td><td>9901.00</td><td>Hyde    </td><td>  NA</td><td>  NA</td><td>  NA</td><td>  NA</td><td>  NA</td><td>  NA</td><td>  NA</td><td>⋯</td><td>  NA</td><td>  NA</td><td> NA</td><td>  NA</td><td>  NA</td><td>  NA</td><td> NA</td><td>NA</td><td>  NA</td><td>  NA</td></tr>\n",
       "\t<tr><td>14000US37095990200</td><td>9902.00</td><td>Hyde    </td><td>  NA</td><td>  NA</td><td>  NA</td><td>  NA</td><td>  NA</td><td>  NA</td><td>  NA</td><td>⋯</td><td>  NA</td><td>  NA</td><td> NA</td><td>  NA</td><td>  NA</td><td>  NA</td><td> NA</td><td>NA</td><td>  NA</td><td>  NA</td></tr>\n",
       "\t<tr><td>14000US37101041202</td><td> 412.02</td><td>Johnston</td><td>92.8</td><td>36.5</td><td>26.8</td><td>73.2</td><td>12.9</td><td>81.9</td><td>12.7</td><td>⋯</td><td>33.7</td><td>10.1</td><td>3.2</td><td>14.7</td><td>10.9</td><td>12.6</td><td>8.6</td><td> 3</td><td>24.2</td><td>27.9</td></tr>\n",
       "\t<tr><td>14000US37137990100</td><td>9901.00</td><td>Pamlico </td><td>  NA</td><td>  NA</td><td>  NA</td><td>  NA</td><td>  NA</td><td>  NA</td><td>  NA</td><td>⋯</td><td>  NA</td><td>  NA</td><td> NA</td><td>  NA</td><td>  NA</td><td>  NA</td><td> NA</td><td>NA</td><td>  NA</td><td>  NA</td></tr>\n",
       "</tbody>\n",
       "</table>\n"
      ],
      "text/latex": [
       "A data.frame: 6 × 41\n",
       "\\begin{tabular}{lllllllllllllllllllll}\n",
       " GEO\\_ID & Census\\_Tract & County & Sex\\_Ratio & Median\\_Age & Population\\_Under\\_18 & Population\\_Over\\_18 & Population\\_Over\\_65 & Race\\_White & Race\\_Black & ⋯ & Less\\_than\\_High\\_School & High\\_School\\_Education & Some\\_College & College\\_Education & Employed & Employed\\_Male & Employed\\_Female & Full\\_Time\\_Work & Part\\_Time\\_Work & No\\_Work\\\\\n",
       " <chr> & <dbl> & <chr> & <dbl> & <dbl> & <dbl> & <dbl> & <dbl> & <dbl> & <dbl> & ⋯ & <dbl> & <dbl> & <dbl> & <dbl> & <dbl> & <dbl> & <dbl> & <dbl> & <dbl> & <dbl>\\\\\n",
       "\\hline\n",
       "\t 14000US37031990200 & 9902.00 & Carteret &   NA &   NA &   NA &   NA &   NA &   NA &   NA & ⋯ &   NA &   NA &  NA &   NA &   NA &   NA &  NA & NA &   NA &   NA\\\\\n",
       "\t 14000US37055990200 & 9902.00 & Dare     &   NA &   NA &   NA &   NA &   NA &   NA &   NA & ⋯ &   NA &   NA &  NA &   NA &   NA &   NA &  NA & NA &   NA &   NA\\\\\n",
       "\t 14000US37095990100 & 9901.00 & Hyde     &   NA &   NA &   NA &   NA &   NA &   NA &   NA & ⋯ &   NA &   NA &  NA &   NA &   NA &   NA &  NA & NA &   NA &   NA\\\\\n",
       "\t 14000US37095990200 & 9902.00 & Hyde     &   NA &   NA &   NA &   NA &   NA &   NA &   NA & ⋯ &   NA &   NA &  NA &   NA &   NA &   NA &  NA & NA &   NA &   NA\\\\\n",
       "\t 14000US37101041202 &  412.02 & Johnston & 92.8 & 36.5 & 26.8 & 73.2 & 12.9 & 81.9 & 12.7 & ⋯ & 33.7 & 10.1 & 3.2 & 14.7 & 10.9 & 12.6 & 8.6 &  3 & 24.2 & 27.9\\\\\n",
       "\t 14000US37137990100 & 9901.00 & Pamlico  &   NA &   NA &   NA &   NA &   NA &   NA &   NA & ⋯ &   NA &   NA &  NA &   NA &   NA &   NA &  NA & NA &   NA &   NA\\\\\n",
       "\\end{tabular}\n"
      ],
      "text/markdown": [
       "\n",
       "A data.frame: 6 × 41\n",
       "\n",
       "| GEO_ID &lt;chr&gt; | Census_Tract &lt;dbl&gt; | County &lt;chr&gt; | Sex_Ratio &lt;dbl&gt; | Median_Age &lt;dbl&gt; | Population_Under_18 &lt;dbl&gt; | Population_Over_18 &lt;dbl&gt; | Population_Over_65 &lt;dbl&gt; | Race_White &lt;dbl&gt; | Race_Black &lt;dbl&gt; | ⋯ ⋯ | Less_than_High_School &lt;dbl&gt; | High_School_Education &lt;dbl&gt; | Some_College &lt;dbl&gt; | College_Education &lt;dbl&gt; | Employed &lt;dbl&gt; | Employed_Male &lt;dbl&gt; | Employed_Female &lt;dbl&gt; | Full_Time_Work &lt;dbl&gt; | Part_Time_Work &lt;dbl&gt; | No_Work &lt;dbl&gt; |\n",
       "|---|---|---|---|---|---|---|---|---|---|---|---|---|---|---|---|---|---|---|---|---|\n",
       "| 14000US37031990200 | 9902.00 | Carteret |   NA |   NA |   NA |   NA |   NA |   NA |   NA | ⋯ |   NA |   NA |  NA |   NA |   NA |   NA |  NA | NA |   NA |   NA |\n",
       "| 14000US37055990200 | 9902.00 | Dare     |   NA |   NA |   NA |   NA |   NA |   NA |   NA | ⋯ |   NA |   NA |  NA |   NA |   NA |   NA |  NA | NA |   NA |   NA |\n",
       "| 14000US37095990100 | 9901.00 | Hyde     |   NA |   NA |   NA |   NA |   NA |   NA |   NA | ⋯ |   NA |   NA |  NA |   NA |   NA |   NA |  NA | NA |   NA |   NA |\n",
       "| 14000US37095990200 | 9902.00 | Hyde     |   NA |   NA |   NA |   NA |   NA |   NA |   NA | ⋯ |   NA |   NA |  NA |   NA |   NA |   NA |  NA | NA |   NA |   NA |\n",
       "| 14000US37101041202 |  412.02 | Johnston | 92.8 | 36.5 | 26.8 | 73.2 | 12.9 | 81.9 | 12.7 | ⋯ | 33.7 | 10.1 | 3.2 | 14.7 | 10.9 | 12.6 | 8.6 |  3 | 24.2 | 27.9 |\n",
       "| 14000US37137990100 | 9901.00 | Pamlico  |   NA |   NA |   NA |   NA |   NA |   NA |   NA | ⋯ |   NA |   NA |  NA |   NA |   NA |   NA |  NA | NA |   NA |   NA |\n",
       "\n"
      ],
      "text/plain": [
       "  GEO_ID             Census_Tract County   Sex_Ratio Median_Age\n",
       "1 14000US37031990200 9902.00      Carteret   NA        NA      \n",
       "2 14000US37055990200 9902.00      Dare       NA        NA      \n",
       "3 14000US37095990100 9901.00      Hyde       NA        NA      \n",
       "4 14000US37095990200 9902.00      Hyde       NA        NA      \n",
       "5 14000US37101041202  412.02      Johnston 92.8      36.5      \n",
       "6 14000US37137990100 9901.00      Pamlico    NA        NA      \n",
       "  Population_Under_18 Population_Over_18 Population_Over_65 Race_White\n",
       "1   NA                  NA                 NA                 NA      \n",
       "2   NA                  NA                 NA                 NA      \n",
       "3   NA                  NA                 NA                 NA      \n",
       "4   NA                  NA                 NA                 NA      \n",
       "5 26.8                73.2               12.9               81.9      \n",
       "6   NA                  NA                 NA                 NA      \n",
       "  Race_Black ⋯ Less_than_High_School High_School_Education Some_College\n",
       "1   NA       ⋯   NA                    NA                   NA         \n",
       "2   NA       ⋯   NA                    NA                   NA         \n",
       "3   NA       ⋯   NA                    NA                   NA         \n",
       "4   NA       ⋯   NA                    NA                   NA         \n",
       "5 12.7       ⋯ 33.7                  10.1                  3.2         \n",
       "6   NA       ⋯   NA                    NA                   NA         \n",
       "  College_Education Employed Employed_Male Employed_Female Full_Time_Work\n",
       "1   NA                NA       NA           NA             NA            \n",
       "2   NA                NA       NA           NA             NA            \n",
       "3   NA                NA       NA           NA             NA            \n",
       "4   NA                NA       NA           NA             NA            \n",
       "5 14.7              10.9     12.6          8.6              3            \n",
       "6   NA                NA       NA           NA             NA            \n",
       "  Part_Time_Work No_Work\n",
       "1   NA             NA   \n",
       "2   NA             NA   \n",
       "3   NA             NA   \n",
       "4   NA             NA   \n",
       "5 24.2           27.9   \n",
       "6   NA             NA   "
      ]
     },
     "metadata": {},
     "output_type": "display_data"
    },
    {
     "data": {
      "text/html": [
       "<table class=\"dataframe\">\n",
       "<caption>A data.frame: 0 × 7</caption>\n",
       "<thead>\n",
       "\t<tr><th scope=col>GEO_ID</th><th scope=col>County</th><th scope=col>Census_Tract</th><th scope=col>Avg_ACRES</th><th scope=col>Wildfire_Hazard_Potential_Mean</th><th scope=col>Wildfire_Hazard_Potential_Quintile_Number</th><th scope=col>Wildfire_Hazard_Potential_Quintile_Percentage</th></tr>\n",
       "\t<tr><th scope=col>&lt;chr&gt;</th><th scope=col>&lt;chr&gt;</th><th scope=col>&lt;dbl&gt;</th><th scope=col>&lt;dbl&gt;</th><th scope=col>&lt;dbl&gt;</th><th scope=col>&lt;dbl&gt;</th><th scope=col>&lt;chr&gt;</th></tr>\n",
       "</thead>\n",
       "<tbody>\n",
       "</tbody>\n",
       "</table>\n"
      ],
      "text/latex": [
       "A data.frame: 0 × 7\n",
       "\\begin{tabular}{lllllll}\n",
       " GEO\\_ID & County & Census\\_Tract & Avg\\_ACRES & Wildfire\\_Hazard\\_Potential\\_Mean & Wildfire\\_Hazard\\_Potential\\_Quintile\\_Number & Wildfire\\_Hazard\\_Potential\\_Quintile\\_Percentage\\\\\n",
       " <chr> & <chr> & <dbl> & <dbl> & <dbl> & <dbl> & <chr>\\\\\n",
       "\\hline\n",
       "\\end{tabular}\n"
      ],
      "text/markdown": [
       "\n",
       "A data.frame: 0 × 7\n",
       "\n",
       "| GEO_ID &lt;chr&gt; | County &lt;chr&gt; | Census_Tract &lt;dbl&gt; | Avg_ACRES &lt;dbl&gt; | Wildfire_Hazard_Potential_Mean &lt;dbl&gt; | Wildfire_Hazard_Potential_Quintile_Number &lt;dbl&gt; | Wildfire_Hazard_Potential_Quintile_Percentage &lt;chr&gt; |\n",
       "|---|---|---|---|---|---|---|\n",
       "\n"
      ],
      "text/plain": [
       "     GEO_ID County Census_Tract Avg_ACRES Wildfire_Hazard_Potential_Mean\n",
       "     Wildfire_Hazard_Potential_Quintile_Number\n",
       "     Wildfire_Hazard_Potential_Quintile_Percentage"
      ]
     },
     "metadata": {},
     "output_type": "display_data"
    }
   ],
   "source": [
    "acs_df %>%\n",
    "    filter(GEO_ID %in% inconsistent_ids)\n",
    "wildfire_hazard_df %>%\n",
    "    filter(GEO_ID %in% inconsistent_ids)"
   ]
  },
  {
   "cell_type": "markdown",
   "id": "e7a4c967",
   "metadata": {},
   "source": [
    "Almost all ACS data is missing for these GEO ids that aren't in the WHP df, so they'll be removed."
   ]
  },
  {
   "cell_type": "code",
   "execution_count": 6,
   "id": "dd5c6854",
   "metadata": {},
   "outputs": [
    {
     "name": "stderr",
     "output_type": "stream",
     "text": [
      "\u001b[1m\u001b[22mJoining, by = c(\"GEO_ID\", \"Census_Tract\", \"County\")\n"
     ]
    },
    {
     "data": {
      "text/html": [
       "<table class=\"dataframe\">\n",
       "<caption>A data.frame: 6 × 45</caption>\n",
       "<thead>\n",
       "\t<tr><th></th><th scope=col>GEO_ID</th><th scope=col>Census_Tract</th><th scope=col>County</th><th scope=col>Sex_Ratio</th><th scope=col>Median_Age</th><th scope=col>Population_Under_18</th><th scope=col>Population_Over_18</th><th scope=col>Population_Over_65</th><th scope=col>Race_White</th><th scope=col>Race_Black</th><th scope=col>⋯</th><th scope=col>Employed</th><th scope=col>Employed_Male</th><th scope=col>Employed_Female</th><th scope=col>Full_Time_Work</th><th scope=col>Part_Time_Work</th><th scope=col>No_Work</th><th scope=col>Avg_ACRES</th><th scope=col>Wildfire_Hazard_Potential_Mean</th><th scope=col>Wildfire_Hazard_Potential_Quintile_Number</th><th scope=col>Wildfire_Hazard_Potential_Quintile_Percentage</th></tr>\n",
       "\t<tr><th></th><th scope=col>&lt;chr&gt;</th><th scope=col>&lt;dbl&gt;</th><th scope=col>&lt;chr&gt;</th><th scope=col>&lt;dbl&gt;</th><th scope=col>&lt;dbl&gt;</th><th scope=col>&lt;dbl&gt;</th><th scope=col>&lt;dbl&gt;</th><th scope=col>&lt;dbl&gt;</th><th scope=col>&lt;dbl&gt;</th><th scope=col>&lt;dbl&gt;</th><th scope=col>⋯</th><th scope=col>&lt;dbl&gt;</th><th scope=col>&lt;dbl&gt;</th><th scope=col>&lt;dbl&gt;</th><th scope=col>&lt;dbl&gt;</th><th scope=col>&lt;dbl&gt;</th><th scope=col>&lt;dbl&gt;</th><th scope=col>&lt;dbl&gt;</th><th scope=col>&lt;dbl&gt;</th><th scope=col>&lt;dbl&gt;</th><th scope=col>&lt;chr&gt;</th></tr>\n",
       "</thead>\n",
       "<tbody>\n",
       "\t<tr><th scope=row>1</th><td>14000US37001020100</td><td>201.00</td><td>Alamance</td><td>87.2</td><td>37.3</td><td>21.9</td><td>78.1</td><td>15.1</td><td>61.0</td><td>28.5</td><td>⋯</td><td>13.9</td><td> 9.9</td><td>17.7</td><td> 5.4</td><td>32.1</td><td>28.1</td><td>278233.8</td><td>92.23704</td><td>1</td><td>81-100</td></tr>\n",
       "\t<tr><th scope=row>2</th><td>14000US37001020200</td><td>202.00</td><td>Alamance</td><td>78.3</td><td>31.0</td><td>29.1</td><td>70.9</td><td>11.2</td><td>51.9</td><td>29.2</td><td>⋯</td><td>22.5</td><td>20.5</td><td>24.3</td><td>10.6</td><td>43.1</td><td>43.0</td><td>278233.8</td><td>92.23704</td><td>1</td><td>81-100</td></tr>\n",
       "\t<tr><th scope=row>3</th><td>14000US37001020300</td><td>203.00</td><td>Alamance</td><td>77.8</td><td>40.7</td><td>27.1</td><td>72.9</td><td>18.9</td><td>45.2</td><td>28.9</td><td>⋯</td><td>10.3</td><td> 6.0</td><td>14.4</td><td> 3.9</td><td>27.5</td><td>32.7</td><td>278233.8</td><td>92.23704</td><td>1</td><td>81-100</td></tr>\n",
       "\t<tr><th scope=row>4</th><td>14000US37001020400</td><td>204.00</td><td>Alamance</td><td>78.1</td><td>30.5</td><td>31.4</td><td>68.6</td><td>10.1</td><td>19.6</td><td>59.0</td><td>⋯</td><td>18.9</td><td>16.7</td><td>20.4</td><td>10.9</td><td>35.1</td><td>38.3</td><td>278233.8</td><td>92.23704</td><td>1</td><td>81-100</td></tr>\n",
       "\t<tr><th scope=row>5</th><td>14000US37001020501</td><td>205.01</td><td>Alamance</td><td>92.7</td><td>35.1</td><td>23.3</td><td>76.7</td><td>15.6</td><td>76.1</td><td>13.3</td><td>⋯</td><td> 5.4</td><td> 1.3</td><td> 9.7</td><td> 1.5</td><td>24.0</td><td>14.5</td><td>278233.8</td><td>92.23704</td><td>1</td><td>81-100</td></tr>\n",
       "\t<tr><th scope=row>6</th><td>14000US37001020502</td><td>205.02</td><td>Alamance</td><td>99.0</td><td>32.1</td><td>30.0</td><td>70.0</td><td> 8.9</td><td>40.7</td><td>35.7</td><td>⋯</td><td>10.0</td><td> 5.9</td><td>15.9</td><td> 2.2</td><td>33.5</td><td>41.4</td><td>278233.8</td><td>92.23704</td><td>1</td><td>81-100</td></tr>\n",
       "</tbody>\n",
       "</table>\n"
      ],
      "text/latex": [
       "A data.frame: 6 × 45\n",
       "\\begin{tabular}{r|lllllllllllllllllllll}\n",
       "  & GEO\\_ID & Census\\_Tract & County & Sex\\_Ratio & Median\\_Age & Population\\_Under\\_18 & Population\\_Over\\_18 & Population\\_Over\\_65 & Race\\_White & Race\\_Black & ⋯ & Employed & Employed\\_Male & Employed\\_Female & Full\\_Time\\_Work & Part\\_Time\\_Work & No\\_Work & Avg\\_ACRES & Wildfire\\_Hazard\\_Potential\\_Mean & Wildfire\\_Hazard\\_Potential\\_Quintile\\_Number & Wildfire\\_Hazard\\_Potential\\_Quintile\\_Percentage\\\\\n",
       "  & <chr> & <dbl> & <chr> & <dbl> & <dbl> & <dbl> & <dbl> & <dbl> & <dbl> & <dbl> & ⋯ & <dbl> & <dbl> & <dbl> & <dbl> & <dbl> & <dbl> & <dbl> & <dbl> & <dbl> & <chr>\\\\\n",
       "\\hline\n",
       "\t1 & 14000US37001020100 & 201.00 & Alamance & 87.2 & 37.3 & 21.9 & 78.1 & 15.1 & 61.0 & 28.5 & ⋯ & 13.9 &  9.9 & 17.7 &  5.4 & 32.1 & 28.1 & 278233.8 & 92.23704 & 1 & 81-100\\\\\n",
       "\t2 & 14000US37001020200 & 202.00 & Alamance & 78.3 & 31.0 & 29.1 & 70.9 & 11.2 & 51.9 & 29.2 & ⋯ & 22.5 & 20.5 & 24.3 & 10.6 & 43.1 & 43.0 & 278233.8 & 92.23704 & 1 & 81-100\\\\\n",
       "\t3 & 14000US37001020300 & 203.00 & Alamance & 77.8 & 40.7 & 27.1 & 72.9 & 18.9 & 45.2 & 28.9 & ⋯ & 10.3 &  6.0 & 14.4 &  3.9 & 27.5 & 32.7 & 278233.8 & 92.23704 & 1 & 81-100\\\\\n",
       "\t4 & 14000US37001020400 & 204.00 & Alamance & 78.1 & 30.5 & 31.4 & 68.6 & 10.1 & 19.6 & 59.0 & ⋯ & 18.9 & 16.7 & 20.4 & 10.9 & 35.1 & 38.3 & 278233.8 & 92.23704 & 1 & 81-100\\\\\n",
       "\t5 & 14000US37001020501 & 205.01 & Alamance & 92.7 & 35.1 & 23.3 & 76.7 & 15.6 & 76.1 & 13.3 & ⋯ &  5.4 &  1.3 &  9.7 &  1.5 & 24.0 & 14.5 & 278233.8 & 92.23704 & 1 & 81-100\\\\\n",
       "\t6 & 14000US37001020502 & 205.02 & Alamance & 99.0 & 32.1 & 30.0 & 70.0 &  8.9 & 40.7 & 35.7 & ⋯ & 10.0 &  5.9 & 15.9 &  2.2 & 33.5 & 41.4 & 278233.8 & 92.23704 & 1 & 81-100\\\\\n",
       "\\end{tabular}\n"
      ],
      "text/markdown": [
       "\n",
       "A data.frame: 6 × 45\n",
       "\n",
       "| <!--/--> | GEO_ID &lt;chr&gt; | Census_Tract &lt;dbl&gt; | County &lt;chr&gt; | Sex_Ratio &lt;dbl&gt; | Median_Age &lt;dbl&gt; | Population_Under_18 &lt;dbl&gt; | Population_Over_18 &lt;dbl&gt; | Population_Over_65 &lt;dbl&gt; | Race_White &lt;dbl&gt; | Race_Black &lt;dbl&gt; | ⋯ ⋯ | Employed &lt;dbl&gt; | Employed_Male &lt;dbl&gt; | Employed_Female &lt;dbl&gt; | Full_Time_Work &lt;dbl&gt; | Part_Time_Work &lt;dbl&gt; | No_Work &lt;dbl&gt; | Avg_ACRES &lt;dbl&gt; | Wildfire_Hazard_Potential_Mean &lt;dbl&gt; | Wildfire_Hazard_Potential_Quintile_Number &lt;dbl&gt; | Wildfire_Hazard_Potential_Quintile_Percentage &lt;chr&gt; |\n",
       "|---|---|---|---|---|---|---|---|---|---|---|---|---|---|---|---|---|---|---|---|---|---|\n",
       "| 1 | 14000US37001020100 | 201.00 | Alamance | 87.2 | 37.3 | 21.9 | 78.1 | 15.1 | 61.0 | 28.5 | ⋯ | 13.9 |  9.9 | 17.7 |  5.4 | 32.1 | 28.1 | 278233.8 | 92.23704 | 1 | 81-100 |\n",
       "| 2 | 14000US37001020200 | 202.00 | Alamance | 78.3 | 31.0 | 29.1 | 70.9 | 11.2 | 51.9 | 29.2 | ⋯ | 22.5 | 20.5 | 24.3 | 10.6 | 43.1 | 43.0 | 278233.8 | 92.23704 | 1 | 81-100 |\n",
       "| 3 | 14000US37001020300 | 203.00 | Alamance | 77.8 | 40.7 | 27.1 | 72.9 | 18.9 | 45.2 | 28.9 | ⋯ | 10.3 |  6.0 | 14.4 |  3.9 | 27.5 | 32.7 | 278233.8 | 92.23704 | 1 | 81-100 |\n",
       "| 4 | 14000US37001020400 | 204.00 | Alamance | 78.1 | 30.5 | 31.4 | 68.6 | 10.1 | 19.6 | 59.0 | ⋯ | 18.9 | 16.7 | 20.4 | 10.9 | 35.1 | 38.3 | 278233.8 | 92.23704 | 1 | 81-100 |\n",
       "| 5 | 14000US37001020501 | 205.01 | Alamance | 92.7 | 35.1 | 23.3 | 76.7 | 15.6 | 76.1 | 13.3 | ⋯ |  5.4 |  1.3 |  9.7 |  1.5 | 24.0 | 14.5 | 278233.8 | 92.23704 | 1 | 81-100 |\n",
       "| 6 | 14000US37001020502 | 205.02 | Alamance | 99.0 | 32.1 | 30.0 | 70.0 |  8.9 | 40.7 | 35.7 | ⋯ | 10.0 |  5.9 | 15.9 |  2.2 | 33.5 | 41.4 | 278233.8 | 92.23704 | 1 | 81-100 |\n",
       "\n"
      ],
      "text/plain": [
       "  GEO_ID             Census_Tract County   Sex_Ratio Median_Age\n",
       "1 14000US37001020100 201.00       Alamance 87.2      37.3      \n",
       "2 14000US37001020200 202.00       Alamance 78.3      31.0      \n",
       "3 14000US37001020300 203.00       Alamance 77.8      40.7      \n",
       "4 14000US37001020400 204.00       Alamance 78.1      30.5      \n",
       "5 14000US37001020501 205.01       Alamance 92.7      35.1      \n",
       "6 14000US37001020502 205.02       Alamance 99.0      32.1      \n",
       "  Population_Under_18 Population_Over_18 Population_Over_65 Race_White\n",
       "1 21.9                78.1               15.1               61.0      \n",
       "2 29.1                70.9               11.2               51.9      \n",
       "3 27.1                72.9               18.9               45.2      \n",
       "4 31.4                68.6               10.1               19.6      \n",
       "5 23.3                76.7               15.6               76.1      \n",
       "6 30.0                70.0                8.9               40.7      \n",
       "  Race_Black ⋯ Employed Employed_Male Employed_Female Full_Time_Work\n",
       "1 28.5       ⋯ 13.9      9.9          17.7             5.4          \n",
       "2 29.2       ⋯ 22.5     20.5          24.3            10.6          \n",
       "3 28.9       ⋯ 10.3      6.0          14.4             3.9          \n",
       "4 59.0       ⋯ 18.9     16.7          20.4            10.9          \n",
       "5 13.3       ⋯  5.4      1.3           9.7             1.5          \n",
       "6 35.7       ⋯ 10.0      5.9          15.9             2.2          \n",
       "  Part_Time_Work No_Work Avg_ACRES Wildfire_Hazard_Potential_Mean\n",
       "1 32.1           28.1    278233.8  92.23704                      \n",
       "2 43.1           43.0    278233.8  92.23704                      \n",
       "3 27.5           32.7    278233.8  92.23704                      \n",
       "4 35.1           38.3    278233.8  92.23704                      \n",
       "5 24.0           14.5    278233.8  92.23704                      \n",
       "6 33.5           41.4    278233.8  92.23704                      \n",
       "  Wildfire_Hazard_Potential_Quintile_Number\n",
       "1 1                                        \n",
       "2 1                                        \n",
       "3 1                                        \n",
       "4 1                                        \n",
       "5 1                                        \n",
       "6 1                                        \n",
       "  Wildfire_Hazard_Potential_Quintile_Percentage\n",
       "1 81-100                                       \n",
       "2 81-100                                       \n",
       "3 81-100                                       \n",
       "4 81-100                                       \n",
       "5 81-100                                       \n",
       "6 81-100                                       "
      ]
     },
     "metadata": {},
     "output_type": "display_data"
    }
   ],
   "source": [
    "acs_whp_df = inner_join(acs_df, wildfire_hazard_df)\n",
    "\n",
    "head(acs_whp_df)"
   ]
  },
  {
   "cell_type": "markdown",
   "id": "3bb624cd",
   "metadata": {},
   "source": [
    "# Variable & GEO Id Filtering\n",
    "\n",
    "Removing variables and GEO ids that have less than 25% of data prior to imputation"
   ]
  },
  {
   "cell_type": "code",
   "execution_count": 7,
   "id": "37d9386a",
   "metadata": {},
   "outputs": [
    {
     "data": {
      "text/html": [
       "<table class=\"dataframe\">\n",
       "<caption>A tibble: 6 × 2</caption>\n",
       "<thead>\n",
       "\t<tr><th scope=col>Variable</th><th scope=col>Variable_Presence_Percent</th></tr>\n",
       "\t<tr><th scope=col>&lt;chr&gt;</th><th scope=col>&lt;dbl&gt;</th></tr>\n",
       "</thead>\n",
       "<tbody>\n",
       "\t<tr><td>Poverty_Asian          </td><td>71.90498</td></tr>\n",
       "\t<tr><td>Poverty_Other_Race     </td><td>79.85381</td></tr>\n",
       "\t<tr><td>Poverty_Mixed_Race     </td><td>92.91914</td></tr>\n",
       "\t<tr><td>Poverty_Black          </td><td>94.79214</td></tr>\n",
       "\t<tr><td>Poverty_Hispanic_Latino</td><td>96.80219</td></tr>\n",
       "\t<tr><td>Poverty_Elderly        </td><td>98.35541</td></tr>\n",
       "</tbody>\n",
       "</table>\n"
      ],
      "text/latex": [
       "A tibble: 6 × 2\n",
       "\\begin{tabular}{ll}\n",
       " Variable & Variable\\_Presence\\_Percent\\\\\n",
       " <chr> & <dbl>\\\\\n",
       "\\hline\n",
       "\t Poverty\\_Asian           & 71.90498\\\\\n",
       "\t Poverty\\_Other\\_Race      & 79.85381\\\\\n",
       "\t Poverty\\_Mixed\\_Race      & 92.91914\\\\\n",
       "\t Poverty\\_Black           & 94.79214\\\\\n",
       "\t Poverty\\_Hispanic\\_Latino & 96.80219\\\\\n",
       "\t Poverty\\_Elderly         & 98.35541\\\\\n",
       "\\end{tabular}\n"
      ],
      "text/markdown": [
       "\n",
       "A tibble: 6 × 2\n",
       "\n",
       "| Variable &lt;chr&gt; | Variable_Presence_Percent &lt;dbl&gt; |\n",
       "|---|---|\n",
       "| Poverty_Asian           | 71.90498 |\n",
       "| Poverty_Other_Race      | 79.85381 |\n",
       "| Poverty_Mixed_Race      | 92.91914 |\n",
       "| Poverty_Black           | 94.79214 |\n",
       "| Poverty_Hispanic_Latino | 96.80219 |\n",
       "| Poverty_Elderly         | 98.35541 |\n",
       "\n"
      ],
      "text/plain": [
       "  Variable                Variable_Presence_Percent\n",
       "1 Poverty_Asian           71.90498                 \n",
       "2 Poverty_Other_Race      79.85381                 \n",
       "3 Poverty_Mixed_Race      92.91914                 \n",
       "4 Poverty_Black           94.79214                 \n",
       "5 Poverty_Hispanic_Latino 96.80219                 \n",
       "6 Poverty_Elderly         98.35541                 "
      ]
     },
     "metadata": {},
     "output_type": "display_data"
    }
   ],
   "source": [
    "# only keeping variables with at least 25% of data \n",
    "variable_presence_df = acs_whp_df[,1:31] %>% \n",
    "    pivot_longer(cols = 4:31, names_to = \"Variable\", values_to = \"Value\") %>%\n",
    "    # creating 2 count cols: 1st for non-missing data, 2nd for all data\n",
    "    mutate(data_count = ifelse(is.na(Value), 0, 1), all_count = 1) %>%\n",
    "    group_by(Variable) %>%\n",
    "    summarize(Variable_Presence_Percent = sum(data_count)/ sum(all_count) * 100) %>%\n",
    "    arrange(Variable_Presence_Percent)\n",
    "\n",
    "head(variable_presence_df)"
   ]
  },
  {
   "cell_type": "code",
   "execution_count": 8,
   "id": "3ac08716",
   "metadata": {},
   "outputs": [
    {
     "data": {
      "text/html": [
       "<table class=\"dataframe\">\n",
       "<caption>A data.frame: 6 × 2</caption>\n",
       "<thead>\n",
       "\t<tr><th></th><th scope=col>GEO_ID</th><th scope=col>GEO_ID_Presence_Percentage</th></tr>\n",
       "\t<tr><th></th><th scope=col>&lt;chr&gt;</th><th scope=col>&lt;dbl&gt;</th></tr>\n",
       "</thead>\n",
       "<tbody>\n",
       "\t<tr><th scope=row>1</th><td>14000US37019990100</td><td>2.631579</td></tr>\n",
       "\t<tr><th scope=row>2</th><td>14000US37031980100</td><td>2.631579</td></tr>\n",
       "\t<tr><th scope=row>3</th><td>14000US37031990100</td><td>2.631579</td></tr>\n",
       "\t<tr><th scope=row>4</th><td>14000US37051980100</td><td>2.631579</td></tr>\n",
       "\t<tr><th scope=row>5</th><td>14000US37053990100</td><td>2.631579</td></tr>\n",
       "\t<tr><th scope=row>6</th><td>14000US37055990100</td><td>2.631579</td></tr>\n",
       "</tbody>\n",
       "</table>\n"
      ],
      "text/latex": [
       "A data.frame: 6 × 2\n",
       "\\begin{tabular}{r|ll}\n",
       "  & GEO\\_ID & GEO\\_ID\\_Presence\\_Percentage\\\\\n",
       "  & <chr> & <dbl>\\\\\n",
       "\\hline\n",
       "\t1 & 14000US37019990100 & 2.631579\\\\\n",
       "\t2 & 14000US37031980100 & 2.631579\\\\\n",
       "\t3 & 14000US37031990100 & 2.631579\\\\\n",
       "\t4 & 14000US37051980100 & 2.631579\\\\\n",
       "\t5 & 14000US37053990100 & 2.631579\\\\\n",
       "\t6 & 14000US37055990100 & 2.631579\\\\\n",
       "\\end{tabular}\n"
      ],
      "text/markdown": [
       "\n",
       "A data.frame: 6 × 2\n",
       "\n",
       "| <!--/--> | GEO_ID &lt;chr&gt; | GEO_ID_Presence_Percentage &lt;dbl&gt; |\n",
       "|---|---|---|\n",
       "| 1 | 14000US37019990100 | 2.631579 |\n",
       "| 2 | 14000US37031980100 | 2.631579 |\n",
       "| 3 | 14000US37031990100 | 2.631579 |\n",
       "| 4 | 14000US37051980100 | 2.631579 |\n",
       "| 5 | 14000US37053990100 | 2.631579 |\n",
       "| 6 | 14000US37055990100 | 2.631579 |\n",
       "\n"
      ],
      "text/plain": [
       "  GEO_ID             GEO_ID_Presence_Percentage\n",
       "1 14000US37019990100 2.631579                  \n",
       "2 14000US37031980100 2.631579                  \n",
       "3 14000US37031990100 2.631579                  \n",
       "4 14000US37051980100 2.631579                  \n",
       "5 14000US37053990100 2.631579                  \n",
       "6 14000US37055990100 2.631579                  "
      ]
     },
     "metadata": {},
     "output_type": "display_data"
    }
   ],
   "source": [
    "# geo id percentages\n",
    "geo_id_percent_occurence = apply(acs_whp_df[4:41], 1, function(x) (length(na.omit(x))/length(x)) * 100)\n",
    "\n",
    "# creating a df and adding back in geo ids\n",
    "id_presence_df = data.frame(matrix(ncol = 2, nrow = length(geo_id_percent_occurence)))\n",
    "colnames(id_presence_df) = c(\"GEO_ID\", \"GEO_ID_Presence_Percentage\")\n",
    "id_presence_df$GEO_ID = acs_whp_df$GEO_ID\n",
    "id_presence_df$GEO_ID_Presence_Percentage = geo_id_percent_occurence\n",
    "                                 \n",
    "id_presence_df = id_presence_df %>%\n",
    "    filter(GEO_ID_Presence_Percentage < 25) %>%\n",
    "    arrange(GEO_ID_Presence_Percentage)\n",
    "                                 \n",
    "head(id_presence_df)"
   ]
  },
  {
   "cell_type": "code",
   "execution_count": 9,
   "id": "70ec2a7e",
   "metadata": {},
   "outputs": [
    {
     "data": {
      "text/html": [
       "<table class=\"dataframe\">\n",
       "<caption>A data.frame: 6 × 45</caption>\n",
       "<thead>\n",
       "\t<tr><th></th><th scope=col>GEO_ID</th><th scope=col>Census_Tract</th><th scope=col>County</th><th scope=col>Sex_Ratio</th><th scope=col>Median_Age</th><th scope=col>Population_Under_18</th><th scope=col>Population_Over_18</th><th scope=col>Population_Over_65</th><th scope=col>Race_White</th><th scope=col>Race_Black</th><th scope=col>⋯</th><th scope=col>Employed</th><th scope=col>Employed_Male</th><th scope=col>Employed_Female</th><th scope=col>Full_Time_Work</th><th scope=col>Part_Time_Work</th><th scope=col>No_Work</th><th scope=col>Avg_ACRES</th><th scope=col>Wildfire_Hazard_Potential_Mean</th><th scope=col>Wildfire_Hazard_Potential_Quintile_Number</th><th scope=col>Wildfire_Hazard_Potential_Quintile_Percentage</th></tr>\n",
       "\t<tr><th></th><th scope=col>&lt;chr&gt;</th><th scope=col>&lt;dbl&gt;</th><th scope=col>&lt;chr&gt;</th><th scope=col>&lt;dbl&gt;</th><th scope=col>&lt;dbl&gt;</th><th scope=col>&lt;dbl&gt;</th><th scope=col>&lt;dbl&gt;</th><th scope=col>&lt;dbl&gt;</th><th scope=col>&lt;dbl&gt;</th><th scope=col>&lt;dbl&gt;</th><th scope=col>⋯</th><th scope=col>&lt;dbl&gt;</th><th scope=col>&lt;dbl&gt;</th><th scope=col>&lt;dbl&gt;</th><th scope=col>&lt;dbl&gt;</th><th scope=col>&lt;dbl&gt;</th><th scope=col>&lt;dbl&gt;</th><th scope=col>&lt;dbl&gt;</th><th scope=col>&lt;dbl&gt;</th><th scope=col>&lt;dbl&gt;</th><th scope=col>&lt;chr&gt;</th></tr>\n",
       "</thead>\n",
       "<tbody>\n",
       "\t<tr><th scope=row>1</th><td>14000US37001020100</td><td>201.00</td><td>Alamance</td><td>87.2</td><td>37.3</td><td>21.9</td><td>78.1</td><td>15.1</td><td>61.0</td><td>28.5</td><td>⋯</td><td>13.9</td><td> 9.9</td><td>17.7</td><td> 5.4</td><td>32.1</td><td>28.1</td><td>278233.8</td><td>92.23704</td><td>1</td><td>81-100</td></tr>\n",
       "\t<tr><th scope=row>2</th><td>14000US37001020200</td><td>202.00</td><td>Alamance</td><td>78.3</td><td>31.0</td><td>29.1</td><td>70.9</td><td>11.2</td><td>51.9</td><td>29.2</td><td>⋯</td><td>22.5</td><td>20.5</td><td>24.3</td><td>10.6</td><td>43.1</td><td>43.0</td><td>278233.8</td><td>92.23704</td><td>1</td><td>81-100</td></tr>\n",
       "\t<tr><th scope=row>3</th><td>14000US37001020300</td><td>203.00</td><td>Alamance</td><td>77.8</td><td>40.7</td><td>27.1</td><td>72.9</td><td>18.9</td><td>45.2</td><td>28.9</td><td>⋯</td><td>10.3</td><td> 6.0</td><td>14.4</td><td> 3.9</td><td>27.5</td><td>32.7</td><td>278233.8</td><td>92.23704</td><td>1</td><td>81-100</td></tr>\n",
       "\t<tr><th scope=row>4</th><td>14000US37001020400</td><td>204.00</td><td>Alamance</td><td>78.1</td><td>30.5</td><td>31.4</td><td>68.6</td><td>10.1</td><td>19.6</td><td>59.0</td><td>⋯</td><td>18.9</td><td>16.7</td><td>20.4</td><td>10.9</td><td>35.1</td><td>38.3</td><td>278233.8</td><td>92.23704</td><td>1</td><td>81-100</td></tr>\n",
       "\t<tr><th scope=row>5</th><td>14000US37001020501</td><td>205.01</td><td>Alamance</td><td>92.7</td><td>35.1</td><td>23.3</td><td>76.7</td><td>15.6</td><td>76.1</td><td>13.3</td><td>⋯</td><td> 5.4</td><td> 1.3</td><td> 9.7</td><td> 1.5</td><td>24.0</td><td>14.5</td><td>278233.8</td><td>92.23704</td><td>1</td><td>81-100</td></tr>\n",
       "\t<tr><th scope=row>6</th><td>14000US37001020502</td><td>205.02</td><td>Alamance</td><td>99.0</td><td>32.1</td><td>30.0</td><td>70.0</td><td> 8.9</td><td>40.7</td><td>35.7</td><td>⋯</td><td>10.0</td><td> 5.9</td><td>15.9</td><td> 2.2</td><td>33.5</td><td>41.4</td><td>278233.8</td><td>92.23704</td><td>1</td><td>81-100</td></tr>\n",
       "</tbody>\n",
       "</table>\n"
      ],
      "text/latex": [
       "A data.frame: 6 × 45\n",
       "\\begin{tabular}{r|lllllllllllllllllllll}\n",
       "  & GEO\\_ID & Census\\_Tract & County & Sex\\_Ratio & Median\\_Age & Population\\_Under\\_18 & Population\\_Over\\_18 & Population\\_Over\\_65 & Race\\_White & Race\\_Black & ⋯ & Employed & Employed\\_Male & Employed\\_Female & Full\\_Time\\_Work & Part\\_Time\\_Work & No\\_Work & Avg\\_ACRES & Wildfire\\_Hazard\\_Potential\\_Mean & Wildfire\\_Hazard\\_Potential\\_Quintile\\_Number & Wildfire\\_Hazard\\_Potential\\_Quintile\\_Percentage\\\\\n",
       "  & <chr> & <dbl> & <chr> & <dbl> & <dbl> & <dbl> & <dbl> & <dbl> & <dbl> & <dbl> & ⋯ & <dbl> & <dbl> & <dbl> & <dbl> & <dbl> & <dbl> & <dbl> & <dbl> & <dbl> & <chr>\\\\\n",
       "\\hline\n",
       "\t1 & 14000US37001020100 & 201.00 & Alamance & 87.2 & 37.3 & 21.9 & 78.1 & 15.1 & 61.0 & 28.5 & ⋯ & 13.9 &  9.9 & 17.7 &  5.4 & 32.1 & 28.1 & 278233.8 & 92.23704 & 1 & 81-100\\\\\n",
       "\t2 & 14000US37001020200 & 202.00 & Alamance & 78.3 & 31.0 & 29.1 & 70.9 & 11.2 & 51.9 & 29.2 & ⋯ & 22.5 & 20.5 & 24.3 & 10.6 & 43.1 & 43.0 & 278233.8 & 92.23704 & 1 & 81-100\\\\\n",
       "\t3 & 14000US37001020300 & 203.00 & Alamance & 77.8 & 40.7 & 27.1 & 72.9 & 18.9 & 45.2 & 28.9 & ⋯ & 10.3 &  6.0 & 14.4 &  3.9 & 27.5 & 32.7 & 278233.8 & 92.23704 & 1 & 81-100\\\\\n",
       "\t4 & 14000US37001020400 & 204.00 & Alamance & 78.1 & 30.5 & 31.4 & 68.6 & 10.1 & 19.6 & 59.0 & ⋯ & 18.9 & 16.7 & 20.4 & 10.9 & 35.1 & 38.3 & 278233.8 & 92.23704 & 1 & 81-100\\\\\n",
       "\t5 & 14000US37001020501 & 205.01 & Alamance & 92.7 & 35.1 & 23.3 & 76.7 & 15.6 & 76.1 & 13.3 & ⋯ &  5.4 &  1.3 &  9.7 &  1.5 & 24.0 & 14.5 & 278233.8 & 92.23704 & 1 & 81-100\\\\\n",
       "\t6 & 14000US37001020502 & 205.02 & Alamance & 99.0 & 32.1 & 30.0 & 70.0 &  8.9 & 40.7 & 35.7 & ⋯ & 10.0 &  5.9 & 15.9 &  2.2 & 33.5 & 41.4 & 278233.8 & 92.23704 & 1 & 81-100\\\\\n",
       "\\end{tabular}\n"
      ],
      "text/markdown": [
       "\n",
       "A data.frame: 6 × 45\n",
       "\n",
       "| <!--/--> | GEO_ID &lt;chr&gt; | Census_Tract &lt;dbl&gt; | County &lt;chr&gt; | Sex_Ratio &lt;dbl&gt; | Median_Age &lt;dbl&gt; | Population_Under_18 &lt;dbl&gt; | Population_Over_18 &lt;dbl&gt; | Population_Over_65 &lt;dbl&gt; | Race_White &lt;dbl&gt; | Race_Black &lt;dbl&gt; | ⋯ ⋯ | Employed &lt;dbl&gt; | Employed_Male &lt;dbl&gt; | Employed_Female &lt;dbl&gt; | Full_Time_Work &lt;dbl&gt; | Part_Time_Work &lt;dbl&gt; | No_Work &lt;dbl&gt; | Avg_ACRES &lt;dbl&gt; | Wildfire_Hazard_Potential_Mean &lt;dbl&gt; | Wildfire_Hazard_Potential_Quintile_Number &lt;dbl&gt; | Wildfire_Hazard_Potential_Quintile_Percentage &lt;chr&gt; |\n",
       "|---|---|---|---|---|---|---|---|---|---|---|---|---|---|---|---|---|---|---|---|---|---|\n",
       "| 1 | 14000US37001020100 | 201.00 | Alamance | 87.2 | 37.3 | 21.9 | 78.1 | 15.1 | 61.0 | 28.5 | ⋯ | 13.9 |  9.9 | 17.7 |  5.4 | 32.1 | 28.1 | 278233.8 | 92.23704 | 1 | 81-100 |\n",
       "| 2 | 14000US37001020200 | 202.00 | Alamance | 78.3 | 31.0 | 29.1 | 70.9 | 11.2 | 51.9 | 29.2 | ⋯ | 22.5 | 20.5 | 24.3 | 10.6 | 43.1 | 43.0 | 278233.8 | 92.23704 | 1 | 81-100 |\n",
       "| 3 | 14000US37001020300 | 203.00 | Alamance | 77.8 | 40.7 | 27.1 | 72.9 | 18.9 | 45.2 | 28.9 | ⋯ | 10.3 |  6.0 | 14.4 |  3.9 | 27.5 | 32.7 | 278233.8 | 92.23704 | 1 | 81-100 |\n",
       "| 4 | 14000US37001020400 | 204.00 | Alamance | 78.1 | 30.5 | 31.4 | 68.6 | 10.1 | 19.6 | 59.0 | ⋯ | 18.9 | 16.7 | 20.4 | 10.9 | 35.1 | 38.3 | 278233.8 | 92.23704 | 1 | 81-100 |\n",
       "| 5 | 14000US37001020501 | 205.01 | Alamance | 92.7 | 35.1 | 23.3 | 76.7 | 15.6 | 76.1 | 13.3 | ⋯ |  5.4 |  1.3 |  9.7 |  1.5 | 24.0 | 14.5 | 278233.8 | 92.23704 | 1 | 81-100 |\n",
       "| 6 | 14000US37001020502 | 205.02 | Alamance | 99.0 | 32.1 | 30.0 | 70.0 |  8.9 | 40.7 | 35.7 | ⋯ | 10.0 |  5.9 | 15.9 |  2.2 | 33.5 | 41.4 | 278233.8 | 92.23704 | 1 | 81-100 |\n",
       "\n"
      ],
      "text/plain": [
       "  GEO_ID             Census_Tract County   Sex_Ratio Median_Age\n",
       "1 14000US37001020100 201.00       Alamance 87.2      37.3      \n",
       "2 14000US37001020200 202.00       Alamance 78.3      31.0      \n",
       "3 14000US37001020300 203.00       Alamance 77.8      40.7      \n",
       "4 14000US37001020400 204.00       Alamance 78.1      30.5      \n",
       "5 14000US37001020501 205.01       Alamance 92.7      35.1      \n",
       "6 14000US37001020502 205.02       Alamance 99.0      32.1      \n",
       "  Population_Under_18 Population_Over_18 Population_Over_65 Race_White\n",
       "1 21.9                78.1               15.1               61.0      \n",
       "2 29.1                70.9               11.2               51.9      \n",
       "3 27.1                72.9               18.9               45.2      \n",
       "4 31.4                68.6               10.1               19.6      \n",
       "5 23.3                76.7               15.6               76.1      \n",
       "6 30.0                70.0                8.9               40.7      \n",
       "  Race_Black ⋯ Employed Employed_Male Employed_Female Full_Time_Work\n",
       "1 28.5       ⋯ 13.9      9.9          17.7             5.4          \n",
       "2 29.2       ⋯ 22.5     20.5          24.3            10.6          \n",
       "3 28.9       ⋯ 10.3      6.0          14.4             3.9          \n",
       "4 59.0       ⋯ 18.9     16.7          20.4            10.9          \n",
       "5 13.3       ⋯  5.4      1.3           9.7             1.5          \n",
       "6 35.7       ⋯ 10.0      5.9          15.9             2.2          \n",
       "  Part_Time_Work No_Work Avg_ACRES Wildfire_Hazard_Potential_Mean\n",
       "1 32.1           28.1    278233.8  92.23704                      \n",
       "2 43.1           43.0    278233.8  92.23704                      \n",
       "3 27.5           32.7    278233.8  92.23704                      \n",
       "4 35.1           38.3    278233.8  92.23704                      \n",
       "5 24.0           14.5    278233.8  92.23704                      \n",
       "6 33.5           41.4    278233.8  92.23704                      \n",
       "  Wildfire_Hazard_Potential_Quintile_Number\n",
       "1 1                                        \n",
       "2 1                                        \n",
       "3 1                                        \n",
       "4 1                                        \n",
       "5 1                                        \n",
       "6 1                                        \n",
       "  Wildfire_Hazard_Potential_Quintile_Percentage\n",
       "1 81-100                                       \n",
       "2 81-100                                       \n",
       "3 81-100                                       \n",
       "4 81-100                                       \n",
       "5 81-100                                       \n",
       "6 81-100                                       "
      ]
     },
     "metadata": {},
     "output_type": "display_data"
    },
    {
     "data": {
      "text/html": [
       "<style>\n",
       ".list-inline {list-style: none; margin:0; padding: 0}\n",
       ".list-inline>li {display: inline-block}\n",
       ".list-inline>li:not(:last-child)::after {content: \"\\00b7\"; padding: 0 .5ex}\n",
       "</style>\n",
       "<ol class=list-inline><li>2169</li><li>45</li></ol>\n"
      ],
      "text/latex": [
       "\\begin{enumerate*}\n",
       "\\item 2169\n",
       "\\item 45\n",
       "\\end{enumerate*}\n"
      ],
      "text/markdown": [
       "1. 2169\n",
       "2. 45\n",
       "\n",
       "\n"
      ],
      "text/plain": [
       "[1] 2169   45"
      ]
     },
     "metadata": {},
     "output_type": "display_data"
    }
   ],
   "source": [
    "# getting 20 geo ids to be removed\n",
    "removed_geo_ids = id_presence_df$GEO_ID\n",
    "\n",
    "\n",
    "filtered_acs_whp_df = acs_whp_df %>%\n",
    "    filter(GEO_ID %notin% removed_geo_ids)\n",
    "\n",
    "head(filtered_acs_whp_df)\n",
    "dim(filtered_acs_whp_df)"
   ]
  },
  {
   "cell_type": "markdown",
   "id": "80c5577a",
   "metadata": {},
   "source": [
    "All variables will be kept, but now we're left with 2,169 geo ids. \n",
    "\n",
    "# Random Forest Imputation\n",
    "Generating missing values using random forest (RF)."
   ]
  },
  {
   "cell_type": "code",
   "execution_count": 10,
   "id": "e0f6c487",
   "metadata": {},
   "outputs": [
    {
     "data": {
      "text/html": [
       "<table class=\"dataframe\">\n",
       "<caption>A data.frame: 6 × 45</caption>\n",
       "<thead>\n",
       "\t<tr><th></th><th scope=col>GEO_ID</th><th scope=col>Census_Tract</th><th scope=col>County</th><th scope=col>Avg_ACRES</th><th scope=col>Wildfire_Hazard_Potential_Mean</th><th scope=col>Wildfire_Hazard_Potential_Quintile_Number</th><th scope=col>Wildfire_Hazard_Potential_Quintile_Percentage</th><th scope=col>Sex_Ratio</th><th scope=col>Median_Age</th><th scope=col>Population_Under_18</th><th scope=col>⋯</th><th scope=col>Less_than_High_School</th><th scope=col>High_School_Education</th><th scope=col>Some_College</th><th scope=col>College_Education</th><th scope=col>Employed</th><th scope=col>Employed_Male</th><th scope=col>Employed_Female</th><th scope=col>Full_Time_Work</th><th scope=col>Part_Time_Work</th><th scope=col>No_Work</th></tr>\n",
       "\t<tr><th></th><th scope=col>&lt;chr&gt;</th><th scope=col>&lt;dbl&gt;</th><th scope=col>&lt;chr&gt;</th><th scope=col>&lt;dbl&gt;</th><th scope=col>&lt;dbl&gt;</th><th scope=col>&lt;dbl&gt;</th><th scope=col>&lt;chr&gt;</th><th scope=col>&lt;dbl&gt;</th><th scope=col>&lt;dbl&gt;</th><th scope=col>&lt;dbl&gt;</th><th scope=col>⋯</th><th scope=col>&lt;dbl&gt;</th><th scope=col>&lt;dbl&gt;</th><th scope=col>&lt;dbl&gt;</th><th scope=col>&lt;dbl&gt;</th><th scope=col>&lt;dbl&gt;</th><th scope=col>&lt;dbl&gt;</th><th scope=col>&lt;dbl&gt;</th><th scope=col>&lt;dbl&gt;</th><th scope=col>&lt;dbl&gt;</th><th scope=col>&lt;dbl&gt;</th></tr>\n",
       "</thead>\n",
       "<tbody>\n",
       "\t<tr><th scope=row>1</th><td>14000US37001020100</td><td>201.00</td><td>Alamance</td><td>278233.8</td><td>92.23704</td><td>1</td><td>81-100</td><td>87.2</td><td>37.3</td><td>21.9</td><td>⋯</td><td>40.7</td><td>30.1</td><td>21.1</td><td> 0.9</td><td>13.9</td><td> 9.9</td><td>17.7</td><td> 5.4</td><td>32.1</td><td>28.1</td></tr>\n",
       "\t<tr><th scope=row>2</th><td>14000US37001020200</td><td>202.00</td><td>Alamance</td><td>278233.8</td><td>92.23704</td><td>1</td><td>81-100</td><td>78.3</td><td>31.0</td><td>29.1</td><td>⋯</td><td>32.6</td><td>40.0</td><td>18.9</td><td>12.4</td><td>22.5</td><td>20.5</td><td>24.3</td><td>10.6</td><td>43.1</td><td>43.0</td></tr>\n",
       "\t<tr><th scope=row>3</th><td>14000US37001020300</td><td>203.00</td><td>Alamance</td><td>278233.8</td><td>92.23704</td><td>1</td><td>81-100</td><td>77.8</td><td>40.7</td><td>27.1</td><td>⋯</td><td>37.3</td><td> 5.9</td><td>22.6</td><td> 4.6</td><td>10.3</td><td> 6.0</td><td>14.4</td><td> 3.9</td><td>27.5</td><td>32.7</td></tr>\n",
       "\t<tr><th scope=row>4</th><td>14000US37001020400</td><td>204.00</td><td>Alamance</td><td>278233.8</td><td>92.23704</td><td>1</td><td>81-100</td><td>78.1</td><td>30.5</td><td>31.4</td><td>⋯</td><td>39.3</td><td>25.3</td><td>16.3</td><td> 5.4</td><td>18.9</td><td>16.7</td><td>20.4</td><td>10.9</td><td>35.1</td><td>38.3</td></tr>\n",
       "\t<tr><th scope=row>5</th><td>14000US37001020501</td><td>205.01</td><td>Alamance</td><td>278233.8</td><td>92.23704</td><td>1</td><td>81-100</td><td>92.7</td><td>35.1</td><td>23.3</td><td>⋯</td><td> 6.1</td><td>14.9</td><td> 3.5</td><td> 1.5</td><td> 5.4</td><td> 1.3</td><td> 9.7</td><td> 1.5</td><td>24.0</td><td>14.5</td></tr>\n",
       "\t<tr><th scope=row>6</th><td>14000US37001020502</td><td>205.02</td><td>Alamance</td><td>278233.8</td><td>92.23704</td><td>1</td><td>81-100</td><td>99.0</td><td>32.1</td><td>30.0</td><td>⋯</td><td>26.6</td><td>29.9</td><td>10.8</td><td> 5.2</td><td>10.0</td><td> 5.9</td><td>15.9</td><td> 2.2</td><td>33.5</td><td>41.4</td></tr>\n",
       "</tbody>\n",
       "</table>\n"
      ],
      "text/latex": [
       "A data.frame: 6 × 45\n",
       "\\begin{tabular}{r|lllllllllllllllllllll}\n",
       "  & GEO\\_ID & Census\\_Tract & County & Avg\\_ACRES & Wildfire\\_Hazard\\_Potential\\_Mean & Wildfire\\_Hazard\\_Potential\\_Quintile\\_Number & Wildfire\\_Hazard\\_Potential\\_Quintile\\_Percentage & Sex\\_Ratio & Median\\_Age & Population\\_Under\\_18 & ⋯ & Less\\_than\\_High\\_School & High\\_School\\_Education & Some\\_College & College\\_Education & Employed & Employed\\_Male & Employed\\_Female & Full\\_Time\\_Work & Part\\_Time\\_Work & No\\_Work\\\\\n",
       "  & <chr> & <dbl> & <chr> & <dbl> & <dbl> & <dbl> & <chr> & <dbl> & <dbl> & <dbl> & ⋯ & <dbl> & <dbl> & <dbl> & <dbl> & <dbl> & <dbl> & <dbl> & <dbl> & <dbl> & <dbl>\\\\\n",
       "\\hline\n",
       "\t1 & 14000US37001020100 & 201.00 & Alamance & 278233.8 & 92.23704 & 1 & 81-100 & 87.2 & 37.3 & 21.9 & ⋯ & 40.7 & 30.1 & 21.1 &  0.9 & 13.9 &  9.9 & 17.7 &  5.4 & 32.1 & 28.1\\\\\n",
       "\t2 & 14000US37001020200 & 202.00 & Alamance & 278233.8 & 92.23704 & 1 & 81-100 & 78.3 & 31.0 & 29.1 & ⋯ & 32.6 & 40.0 & 18.9 & 12.4 & 22.5 & 20.5 & 24.3 & 10.6 & 43.1 & 43.0\\\\\n",
       "\t3 & 14000US37001020300 & 203.00 & Alamance & 278233.8 & 92.23704 & 1 & 81-100 & 77.8 & 40.7 & 27.1 & ⋯ & 37.3 &  5.9 & 22.6 &  4.6 & 10.3 &  6.0 & 14.4 &  3.9 & 27.5 & 32.7\\\\\n",
       "\t4 & 14000US37001020400 & 204.00 & Alamance & 278233.8 & 92.23704 & 1 & 81-100 & 78.1 & 30.5 & 31.4 & ⋯ & 39.3 & 25.3 & 16.3 &  5.4 & 18.9 & 16.7 & 20.4 & 10.9 & 35.1 & 38.3\\\\\n",
       "\t5 & 14000US37001020501 & 205.01 & Alamance & 278233.8 & 92.23704 & 1 & 81-100 & 92.7 & 35.1 & 23.3 & ⋯ &  6.1 & 14.9 &  3.5 &  1.5 &  5.4 &  1.3 &  9.7 &  1.5 & 24.0 & 14.5\\\\\n",
       "\t6 & 14000US37001020502 & 205.02 & Alamance & 278233.8 & 92.23704 & 1 & 81-100 & 99.0 & 32.1 & 30.0 & ⋯ & 26.6 & 29.9 & 10.8 &  5.2 & 10.0 &  5.9 & 15.9 &  2.2 & 33.5 & 41.4\\\\\n",
       "\\end{tabular}\n"
      ],
      "text/markdown": [
       "\n",
       "A data.frame: 6 × 45\n",
       "\n",
       "| <!--/--> | GEO_ID &lt;chr&gt; | Census_Tract &lt;dbl&gt; | County &lt;chr&gt; | Avg_ACRES &lt;dbl&gt; | Wildfire_Hazard_Potential_Mean &lt;dbl&gt; | Wildfire_Hazard_Potential_Quintile_Number &lt;dbl&gt; | Wildfire_Hazard_Potential_Quintile_Percentage &lt;chr&gt; | Sex_Ratio &lt;dbl&gt; | Median_Age &lt;dbl&gt; | Population_Under_18 &lt;dbl&gt; | ⋯ ⋯ | Less_than_High_School &lt;dbl&gt; | High_School_Education &lt;dbl&gt; | Some_College &lt;dbl&gt; | College_Education &lt;dbl&gt; | Employed &lt;dbl&gt; | Employed_Male &lt;dbl&gt; | Employed_Female &lt;dbl&gt; | Full_Time_Work &lt;dbl&gt; | Part_Time_Work &lt;dbl&gt; | No_Work &lt;dbl&gt; |\n",
       "|---|---|---|---|---|---|---|---|---|---|---|---|---|---|---|---|---|---|---|---|---|---|\n",
       "| 1 | 14000US37001020100 | 201.00 | Alamance | 278233.8 | 92.23704 | 1 | 81-100 | 87.2 | 37.3 | 21.9 | ⋯ | 40.7 | 30.1 | 21.1 |  0.9 | 13.9 |  9.9 | 17.7 |  5.4 | 32.1 | 28.1 |\n",
       "| 2 | 14000US37001020200 | 202.00 | Alamance | 278233.8 | 92.23704 | 1 | 81-100 | 78.3 | 31.0 | 29.1 | ⋯ | 32.6 | 40.0 | 18.9 | 12.4 | 22.5 | 20.5 | 24.3 | 10.6 | 43.1 | 43.0 |\n",
       "| 3 | 14000US37001020300 | 203.00 | Alamance | 278233.8 | 92.23704 | 1 | 81-100 | 77.8 | 40.7 | 27.1 | ⋯ | 37.3 |  5.9 | 22.6 |  4.6 | 10.3 |  6.0 | 14.4 |  3.9 | 27.5 | 32.7 |\n",
       "| 4 | 14000US37001020400 | 204.00 | Alamance | 278233.8 | 92.23704 | 1 | 81-100 | 78.1 | 30.5 | 31.4 | ⋯ | 39.3 | 25.3 | 16.3 |  5.4 | 18.9 | 16.7 | 20.4 | 10.9 | 35.1 | 38.3 |\n",
       "| 5 | 14000US37001020501 | 205.01 | Alamance | 278233.8 | 92.23704 | 1 | 81-100 | 92.7 | 35.1 | 23.3 | ⋯ |  6.1 | 14.9 |  3.5 |  1.5 |  5.4 |  1.3 |  9.7 |  1.5 | 24.0 | 14.5 |\n",
       "| 6 | 14000US37001020502 | 205.02 | Alamance | 278233.8 | 92.23704 | 1 | 81-100 | 99.0 | 32.1 | 30.0 | ⋯ | 26.6 | 29.9 | 10.8 |  5.2 | 10.0 |  5.9 | 15.9 |  2.2 | 33.5 | 41.4 |\n",
       "\n"
      ],
      "text/plain": [
       "  GEO_ID             Census_Tract County   Avg_ACRES\n",
       "1 14000US37001020100 201.00       Alamance 278233.8 \n",
       "2 14000US37001020200 202.00       Alamance 278233.8 \n",
       "3 14000US37001020300 203.00       Alamance 278233.8 \n",
       "4 14000US37001020400 204.00       Alamance 278233.8 \n",
       "5 14000US37001020501 205.01       Alamance 278233.8 \n",
       "6 14000US37001020502 205.02       Alamance 278233.8 \n",
       "  Wildfire_Hazard_Potential_Mean Wildfire_Hazard_Potential_Quintile_Number\n",
       "1 92.23704                       1                                        \n",
       "2 92.23704                       1                                        \n",
       "3 92.23704                       1                                        \n",
       "4 92.23704                       1                                        \n",
       "5 92.23704                       1                                        \n",
       "6 92.23704                       1                                        \n",
       "  Wildfire_Hazard_Potential_Quintile_Percentage Sex_Ratio Median_Age\n",
       "1 81-100                                        87.2      37.3      \n",
       "2 81-100                                        78.3      31.0      \n",
       "3 81-100                                        77.8      40.7      \n",
       "4 81-100                                        78.1      30.5      \n",
       "5 81-100                                        92.7      35.1      \n",
       "6 81-100                                        99.0      32.1      \n",
       "  Population_Under_18 ⋯ Less_than_High_School High_School_Education\n",
       "1 21.9                ⋯ 40.7                  30.1                 \n",
       "2 29.1                ⋯ 32.6                  40.0                 \n",
       "3 27.1                ⋯ 37.3                   5.9                 \n",
       "4 31.4                ⋯ 39.3                  25.3                 \n",
       "5 23.3                ⋯  6.1                  14.9                 \n",
       "6 30.0                ⋯ 26.6                  29.9                 \n",
       "  Some_College College_Education Employed Employed_Male Employed_Female\n",
       "1 21.1          0.9              13.9      9.9          17.7           \n",
       "2 18.9         12.4              22.5     20.5          24.3           \n",
       "3 22.6          4.6              10.3      6.0          14.4           \n",
       "4 16.3          5.4              18.9     16.7          20.4           \n",
       "5  3.5          1.5               5.4      1.3           9.7           \n",
       "6 10.8          5.2              10.0      5.9          15.9           \n",
       "  Full_Time_Work Part_Time_Work No_Work\n",
       "1  5.4           32.1           28.1   \n",
       "2 10.6           43.1           43.0   \n",
       "3  3.9           27.5           32.7   \n",
       "4 10.9           35.1           38.3   \n",
       "5  1.5           24.0           14.5   \n",
       "6  2.2           33.5           41.4   "
      ]
     },
     "metadata": {},
     "output_type": "display_data"
    }
   ],
   "source": [
    "# imputing sociodemographic data using RF\n",
    "random_forest_imputation = function(preimputed_df){\n",
    "\n",
    "    imputed_RF_object = missForest(as.matrix(preimputed_df[,4:41]))\n",
    "    imputed_RF_df = imputed_RF_object$ximp\n",
    "    imputed_values_df = data.frame(cbind(preimputed_df[,c(1:3,42:45)], imputed_RF_df)) \n",
    "\n",
    "    \n",
    "    return(imputed_values_df)\n",
    "}\n",
    "\n",
    "# calling function\n",
    "imputed_df = random_forest_imputation(acs_whp_df)\n",
    "head(imputed_df)"
   ]
  },
  {
   "cell_type": "code",
   "execution_count": 11,
   "id": "1b8ca860",
   "metadata": {},
   "outputs": [],
   "source": [
    "# exporting data\n",
    "write.csv(imputed_df, paste0(Output,\"/\", cur_date, \"_Imputed_ACS_WHP_Data.csv\"), row.names = FALSE)"
   ]
  },
  {
   "cell_type": "code",
   "execution_count": null,
   "id": "16b8d1bf",
   "metadata": {},
   "outputs": [],
   "source": []
  }
 ],
 "metadata": {
  "kernelspec": {
   "display_name": "R",
   "language": "R",
   "name": "ir"
  },
  "language_info": {
   "codemirror_mode": "r",
   "file_extension": ".r",
   "mimetype": "text/x-r-source",
   "name": "R",
   "pygments_lexer": "r",
   "version": "4.1.3"
  }
 },
 "nbformat": 4,
 "nbformat_minor": 5
}
