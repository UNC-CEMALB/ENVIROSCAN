{
 "cells": [
  {
   "cell_type": "code",
   "execution_count": 2,
   "id": "acdf617c",
   "metadata": {},
   "outputs": [
    {
     "ename": "ERROR",
     "evalue": "Error in install.version(\"tidycensus\", version = \"1.0\"): could not find function \"install.version\"\n",
     "output_type": "error",
     "traceback": [
      "Error in install.version(\"tidycensus\", version = \"1.0\"): could not find function \"install.version\"\nTraceback:\n"
     ]
    }
   ],
   "source": [
    "install.version(\"tidycensus\", version = \"1.0\")"
   ]
  },
  {
   "cell_type": "code",
   "execution_count": 5,
   "id": "96ed5bcd",
   "metadata": {},
   "outputs": [
    {
     "name": "stderr",
     "output_type": "stream",
     "text": [
      "Warning message:\n",
      "“package ‘tidycensus’ was built under R version 4.1.3”\n"
     ]
    },
    {
     "ename": "ERROR",
     "evalue": "Error: package or namespace load failed for ‘tidycensus’ in dyn.load(file, DLLpath = DLLpath, ...):\n unable to load shared object '/Users/alexis/opt/anaconda3/envs/R/lib/R/library/sf/libs/sf.dylib':\n  dlopen(/Users/alexis/opt/anaconda3/envs/R/lib/R/library/sf/libs/sf.dylib, 0x0006): Symbol not found: (_ZSTD_compressBound)\n  Referenced from: '/Users/alexis/opt/anaconda3/envs/R/lib/libgdal.30.dylib'\n  Expected in: '/Users/alexis/opt/anaconda3/envs/R/lib/libblosc.1.21.1.dylib'\n",
     "output_type": "error",
     "traceback": [
      "Error: package or namespace load failed for ‘tidycensus’ in dyn.load(file, DLLpath = DLLpath, ...):\n unable to load shared object '/Users/alexis/opt/anaconda3/envs/R/lib/R/library/sf/libs/sf.dylib':\n  dlopen(/Users/alexis/opt/anaconda3/envs/R/lib/R/library/sf/libs/sf.dylib, 0x0006): Symbol not found: (_ZSTD_compressBound)\n  Referenced from: '/Users/alexis/opt/anaconda3/envs/R/lib/libgdal.30.dylib'\n  Expected in: '/Users/alexis/opt/anaconda3/envs/R/lib/libblosc.1.21.1.dylib'\nTraceback:\n",
      "1. library(tidycensus)",
      "2. tryCatch({\n .     attr(package, \"LibPath\") <- which.lib.loc\n .     ns <- loadNamespace(package, lib.loc)\n .     env <- attachNamespace(ns, pos = pos, deps, exclude, include.only)\n . }, error = function(e) {\n .     P <- if (!is.null(cc <- conditionCall(e))) \n .         paste(\" in\", deparse(cc)[1L])\n .     else \"\"\n .     msg <- gettextf(\"package or namespace load failed for %s%s:\\n %s\", \n .         sQuote(package), P, conditionMessage(e))\n .     if (logical.return && !quietly) \n .         message(paste(\"Error:\", msg), domain = NA)\n .     else stop(msg, call. = FALSE, domain = NA)\n . })",
      "3. tryCatchList(expr, classes, parentenv, handlers)",
      "4. tryCatchOne(expr, names, parentenv, handlers[[1L]])",
      "5. value[[3L]](cond)",
      "6. stop(msg, call. = FALSE, domain = NA)"
     ]
    }
   ],
   "source": [
    "#Output = ('/Users/alexis/Library/CloudStorage/OneDrive-UniversityofNorthCarolinaatChapelHill/CEMALB_DataAnalysisPM/Projects/P1003. Ozone Sterols Healthy Asthma/P1003.3. Analyses/P1003.3.4. ML Visualizations/P1003.3.4.2. Decision Boundary Plot/Output')\n",
    "cur_date = \"091422\"\n",
    "\n",
    "library(readxl)\n",
    "library(tidyverse)\n",
    "library(tidycensus)\n",
    "\n",
    "# reading in files\n",
    "acs_data = data.frame(read_excel(\"Input/ACS_Data_091422.xlsx\", sheet = 2)) \n",
    "#wildfire_acs_data = data.frame(read_excel(\"Input/SubjectInfo_011822.xlsx\", sheet = 2))"
   ]
  },
  {
   "cell_type": "markdown",
   "id": "c54e3c8d",
   "metadata": {},
   "source": [
    "# Insert research question: "
   ]
  },
  {
   "cell_type": "code",
   "execution_count": 1,
   "id": "c38e43dc",
   "metadata": {},
   "outputs": [
    {
     "ename": "ERROR",
     "evalue": "Error in census_api_key(\"26887b197b0785a54a045f3be1cd67622a569fb1.\", install = TRUE, : could not find function \"census_api_key\"\n",
     "output_type": "error",
     "traceback": [
      "Error in census_api_key(\"26887b197b0785a54a045f3be1cd67622a569fb1.\", install = TRUE, : could not find function \"census_api_key\"\nTraceback:\n"
     ]
    }
   ],
   "source": [
    "# pulling data from the census using an API key\n",
    "# request your own API key at http://api.census.gov/data/key_signup.html \n",
    "census_api_key(\"26887b197b0785a54a045f3be1cd67622a569fb1.\", install = TRUE, overwrite = TRUE) \n",
    "#readRenviron(\"~/.Renviron\")\n",
    "\n",
    "# obtaining data and feature geometry for the ACS\n",
    "NC_income <- get_acs(\n",
    "  geography = \"tract\", \n",
    "  variables = \"B19013_001\",\n",
    "  state = \"NC\", \n",
    "  year = 2020,\n",
    "  geometry = TRUE\n",
    ")\n",
    "\n",
    "head(NC_income)"
   ]
  },
  {
   "cell_type": "code",
   "execution_count": null,
   "id": "484137fc",
   "metadata": {},
   "outputs": [],
   "source": [
    "# creating a df that only contains feature geometry\n",
    "NC_feature_geometry_df = NC_income %>%\n",
    "    select(GEOID, geometry)\n",
    "\n",
    "# merging geometry with the wildfire hazard and census data\n",
    "wildfire_hazard_acs_geometry = merge(NC_feature_geometry_df, wildfire_hazard_acs_df, by = \"GEOID\")\n",
    "\n",
    "head(wildfire_hazard_acs_geometry)"
   ]
  }
 ],
 "metadata": {
  "kernelspec": {
   "display_name": "R",
   "language": "R",
   "name": "ir"
  },
  "language_info": {
   "codemirror_mode": "r",
   "file_extension": ".r",
   "mimetype": "text/x-r-source",
   "name": "R",
   "pygments_lexer": "r",
   "version": "4.1.2"
  }
 },
 "nbformat": 4,
 "nbformat_minor": 5
}
