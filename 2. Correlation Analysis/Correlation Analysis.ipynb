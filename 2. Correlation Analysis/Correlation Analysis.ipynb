{
 "cells": [
  {
   "cell_type": "code",
   "execution_count": 1,
   "id": "35ae2c20",
   "metadata": {},
   "outputs": [
    {
     "name": "stderr",
     "output_type": "stream",
     "text": [
      "── \u001b[1mAttaching packages\u001b[22m ─────────────────────────────────────── tidyverse 1.3.2 ──\n",
      "\u001b[32m✔\u001b[39m \u001b[34mggplot2\u001b[39m 3.3.6      \u001b[32m✔\u001b[39m \u001b[34mpurrr  \u001b[39m 0.3.4 \n",
      "\u001b[32m✔\u001b[39m \u001b[34mtibble \u001b[39m 3.1.8      \u001b[32m✔\u001b[39m \u001b[34mdplyr  \u001b[39m 1.0.10\n",
      "\u001b[32m✔\u001b[39m \u001b[34mtidyr  \u001b[39m 1.2.1      \u001b[32m✔\u001b[39m \u001b[34mstringr\u001b[39m 1.4.1 \n",
      "\u001b[32m✔\u001b[39m \u001b[34mreadr  \u001b[39m 2.1.2      \u001b[32m✔\u001b[39m \u001b[34mforcats\u001b[39m 0.5.2 \n",
      "── \u001b[1mConflicts\u001b[22m ────────────────────────────────────────── tidyverse_conflicts() ──\n",
      "\u001b[31m✖\u001b[39m \u001b[34mdplyr\u001b[39m::\u001b[32mfilter()\u001b[39m masks \u001b[34mstats\u001b[39m::filter()\n",
      "\u001b[31m✖\u001b[39m \u001b[34mdplyr\u001b[39m::\u001b[32mlag()\u001b[39m    masks \u001b[34mstats\u001b[39m::lag()\n",
      "\n",
      "Attaching package: ‘reshape2’\n",
      "\n",
      "\n",
      "The following object is masked from ‘package:tidyr’:\n",
      "\n",
      "    smiths\n",
      "\n",
      "\n"
     ]
    }
   ],
   "source": [
    "setwd('/Users/alexis/Library/CloudStorage/OneDrive-UniversityofNorthCarolinaatChapelHill/CEMALB_DataAnalysisPM/Projects/P1009. NC ENVRIOSCAN/P1009.3. Analyses/P1009.3.2. Correlation Analysis/Input')\n",
    "Output = ('/Users/alexis/Library/CloudStorage/OneDrive-UniversityofNorthCarolinaatChapelHill/CEMALB_DataAnalysisPM/Projects/P1009. NC ENVRIOSCAN/P1009.3. Analyses/P1009.3.2. Correlation Analysis/Output')\n",
    "cur_date = \"121022\"\n",
    "\n",
    "library(readxl)\n",
    "library(tidyverse)\n",
    "library(reshape2)\n",
    "library(missForest)\n",
    "\n",
    "# reading in files\n",
    "acs_df = data.frame(read_excel(\"ACS_Data_120722.xlsx\", sheet = 2))\n",
    "#acs_metadata = data.frame(read_excel(\"ACS_Data_120722.xlsx\"))\n",
    "wildfire_hazard_df = data.frame(read_excel(\"Wildfire_Hazard_120722.xlsx\", sheet = 2))"
   ]
  },
  {
   "cell_type": "code",
   "execution_count": 2,
   "id": "188d69c5",
   "metadata": {},
   "outputs": [
    {
     "data": {
      "text/html": [
       "<table class=\"dataframe\">\n",
       "<caption>A data.frame: 6 × 34</caption>\n",
       "<thead>\n",
       "\t<tr><th></th><th scope=col>GEO_ID</th><th scope=col>Census_Tract</th><th scope=col>County</th><th scope=col>Male_Population</th><th scope=col>Female_Population</th><th scope=col>Sex_Ratio</th><th scope=col>Median_Age</th><th scope=col>Population_Under_18</th><th scope=col>Population_Over_18</th><th scope=col>Population_Over_65</th><th scope=col>⋯</th><th scope=col>Poverty_Adult</th><th scope=col>Poverty_Elderly</th><th scope=col>Poverty_Male</th><th scope=col>Poverty_Female</th><th scope=col>Poverty_Black</th><th scope=col>Poverty_Asian</th><th scope=col>Poverty_Other_Race</th><th scope=col>Poverty_Mixed_Race</th><th scope=col>Poverty_Hispanic_Latino</th><th scope=col>Poverty_White</th></tr>\n",
       "\t<tr><th></th><th scope=col>&lt;chr&gt;</th><th scope=col>&lt;chr&gt;</th><th scope=col>&lt;chr&gt;</th><th scope=col>&lt;chr&gt;</th><th scope=col>&lt;chr&gt;</th><th scope=col>&lt;chr&gt;</th><th scope=col>&lt;chr&gt;</th><th scope=col>&lt;chr&gt;</th><th scope=col>&lt;chr&gt;</th><th scope=col>&lt;chr&gt;</th><th scope=col>⋯</th><th scope=col>&lt;chr&gt;</th><th scope=col>&lt;chr&gt;</th><th scope=col>&lt;chr&gt;</th><th scope=col>&lt;chr&gt;</th><th scope=col>&lt;chr&gt;</th><th scope=col>&lt;chr&gt;</th><th scope=col>&lt;chr&gt;</th><th scope=col>&lt;chr&gt;</th><th scope=col>&lt;chr&gt;</th><th scope=col>&lt;chr&gt;</th></tr>\n",
       "</thead>\n",
       "<tbody>\n",
       "\t<tr><th scope=row>1</th><td>14000US37001020100</td><td>Census Tract 201   </td><td>Alamance</td><td>46.6</td><td>53.4</td><td>87.2              </td><td>37.299999999999997</td><td>21.9</td><td>78.099999999999994</td><td>15.1              </td><td>⋯</td><td>20.8</td><td>14.6</td><td>26.4</td><td>28                </td><td>54.8              </td><td>0  </td><td>45.3</td><td>0   </td><td>31.3</td><td>13.9              </td></tr>\n",
       "\t<tr><th scope=row>2</th><td>14000US37001020200</td><td>Census Tract 202   </td><td>Alamance</td><td>43.9</td><td>56.1</td><td>78.3              </td><td>31                </td><td>29.1</td><td>70.900000000000006</td><td>11.2              </td><td>⋯</td><td>33  </td><td>19.2</td><td>27.3</td><td>37.799999999999997</td><td>44.6              </td><td>0  </td><td>0   </td><td>82.7</td><td>16.2</td><td>39                </td></tr>\n",
       "\t<tr><th scope=row>3</th><td>14000US37001020300</td><td>Census Tract 203   </td><td>Alamance</td><td>43.8</td><td>56.2</td><td>77.8              </td><td>40.700000000000003</td><td>27.1</td><td>72.900000000000006</td><td>18.899999999999999</td><td>⋯</td><td>17.3</td><td>22  </td><td>18  </td><td>28.3              </td><td>21                </td><td>NA </td><td>10.9</td><td>36.4</td><td>26.7</td><td>20.100000000000001</td></tr>\n",
       "\t<tr><th scope=row>4</th><td>14000US37001020400</td><td>Census Tract 204   </td><td>Alamance</td><td>43.8</td><td>56.2</td><td>78.099999999999994</td><td>30.5              </td><td>31.4</td><td>68.599999999999994</td><td>10.1              </td><td>⋯</td><td>26.8</td><td>14  </td><td>30  </td><td>33.299999999999997</td><td>19.899999999999999</td><td>NA </td><td>69  </td><td>100 </td><td>67.2</td><td>26.6              </td></tr>\n",
       "\t<tr><th scope=row>5</th><td>14000US37001020501</td><td>Census Tract 205.01</td><td>Alamance</td><td>48.1</td><td>51.9</td><td>92.7              </td><td>35.1              </td><td>23.3</td><td>76.7              </td><td>15.6              </td><td>⋯</td><td>12.2</td><td>7.1 </td><td>12.3</td><td>14.8              </td><td>18.899999999999999</td><td>0  </td><td>0   </td><td>53.1</td><td>25.7</td><td>10                </td></tr>\n",
       "\t<tr><th scope=row>6</th><td>14000US37001020502</td><td>Census Tract 205.02</td><td>Alamance</td><td>49.8</td><td>50.2</td><td>99                </td><td>32.1              </td><td>30  </td><td>70                </td><td>8.9               </td><td>⋯</td><td>22.3</td><td>19.2</td><td>17.7</td><td>31                </td><td>27.8              </td><td>100</td><td>14.2</td><td>19.5</td><td>14.7</td><td>25                </td></tr>\n",
       "</tbody>\n",
       "</table>\n"
      ],
      "text/latex": [
       "A data.frame: 6 × 34\n",
       "\\begin{tabular}{r|lllllllllllllllllllll}\n",
       "  & GEO\\_ID & Census\\_Tract & County & Male\\_Population & Female\\_Population & Sex\\_Ratio & Median\\_Age & Population\\_Under\\_18 & Population\\_Over\\_18 & Population\\_Over\\_65 & ⋯ & Poverty\\_Adult & Poverty\\_Elderly & Poverty\\_Male & Poverty\\_Female & Poverty\\_Black & Poverty\\_Asian & Poverty\\_Other\\_Race & Poverty\\_Mixed\\_Race & Poverty\\_Hispanic\\_Latino & Poverty\\_White\\\\\n",
       "  & <chr> & <chr> & <chr> & <chr> & <chr> & <chr> & <chr> & <chr> & <chr> & <chr> & ⋯ & <chr> & <chr> & <chr> & <chr> & <chr> & <chr> & <chr> & <chr> & <chr> & <chr>\\\\\n",
       "\\hline\n",
       "\t1 & 14000US37001020100 & Census Tract 201    & Alamance & 46.6 & 53.4 & 87.2               & 37.299999999999997 & 21.9 & 78.099999999999994 & 15.1               & ⋯ & 20.8 & 14.6 & 26.4 & 28                 & 54.8               & 0   & 45.3 & 0    & 31.3 & 13.9              \\\\\n",
       "\t2 & 14000US37001020200 & Census Tract 202    & Alamance & 43.9 & 56.1 & 78.3               & 31                 & 29.1 & 70.900000000000006 & 11.2               & ⋯ & 33   & 19.2 & 27.3 & 37.799999999999997 & 44.6               & 0   & 0    & 82.7 & 16.2 & 39                \\\\\n",
       "\t3 & 14000US37001020300 & Census Tract 203    & Alamance & 43.8 & 56.2 & 77.8               & 40.700000000000003 & 27.1 & 72.900000000000006 & 18.899999999999999 & ⋯ & 17.3 & 22   & 18   & 28.3               & 21                 & NA  & 10.9 & 36.4 & 26.7 & 20.100000000000001\\\\\n",
       "\t4 & 14000US37001020400 & Census Tract 204    & Alamance & 43.8 & 56.2 & 78.099999999999994 & 30.5               & 31.4 & 68.599999999999994 & 10.1               & ⋯ & 26.8 & 14   & 30   & 33.299999999999997 & 19.899999999999999 & NA  & 69   & 100  & 67.2 & 26.6              \\\\\n",
       "\t5 & 14000US37001020501 & Census Tract 205.01 & Alamance & 48.1 & 51.9 & 92.7               & 35.1               & 23.3 & 76.7               & 15.6               & ⋯ & 12.2 & 7.1  & 12.3 & 14.8               & 18.899999999999999 & 0   & 0    & 53.1 & 25.7 & 10                \\\\\n",
       "\t6 & 14000US37001020502 & Census Tract 205.02 & Alamance & 49.8 & 50.2 & 99                 & 32.1               & 30   & 70                 & 8.9                & ⋯ & 22.3 & 19.2 & 17.7 & 31                 & 27.8               & 100 & 14.2 & 19.5 & 14.7 & 25                \\\\\n",
       "\\end{tabular}\n"
      ],
      "text/markdown": [
       "\n",
       "A data.frame: 6 × 34\n",
       "\n",
       "| <!--/--> | GEO_ID &lt;chr&gt; | Census_Tract &lt;chr&gt; | County &lt;chr&gt; | Male_Population &lt;chr&gt; | Female_Population &lt;chr&gt; | Sex_Ratio &lt;chr&gt; | Median_Age &lt;chr&gt; | Population_Under_18 &lt;chr&gt; | Population_Over_18 &lt;chr&gt; | Population_Over_65 &lt;chr&gt; | ⋯ ⋯ | Poverty_Adult &lt;chr&gt; | Poverty_Elderly &lt;chr&gt; | Poverty_Male &lt;chr&gt; | Poverty_Female &lt;chr&gt; | Poverty_Black &lt;chr&gt; | Poverty_Asian &lt;chr&gt; | Poverty_Other_Race &lt;chr&gt; | Poverty_Mixed_Race &lt;chr&gt; | Poverty_Hispanic_Latino &lt;chr&gt; | Poverty_White &lt;chr&gt; |\n",
       "|---|---|---|---|---|---|---|---|---|---|---|---|---|---|---|---|---|---|---|---|---|---|\n",
       "| 1 | 14000US37001020100 | Census Tract 201    | Alamance | 46.6 | 53.4 | 87.2               | 37.299999999999997 | 21.9 | 78.099999999999994 | 15.1               | ⋯ | 20.8 | 14.6 | 26.4 | 28                 | 54.8               | 0   | 45.3 | 0    | 31.3 | 13.9               |\n",
       "| 2 | 14000US37001020200 | Census Tract 202    | Alamance | 43.9 | 56.1 | 78.3               | 31                 | 29.1 | 70.900000000000006 | 11.2               | ⋯ | 33   | 19.2 | 27.3 | 37.799999999999997 | 44.6               | 0   | 0    | 82.7 | 16.2 | 39                 |\n",
       "| 3 | 14000US37001020300 | Census Tract 203    | Alamance | 43.8 | 56.2 | 77.8               | 40.700000000000003 | 27.1 | 72.900000000000006 | 18.899999999999999 | ⋯ | 17.3 | 22   | 18   | 28.3               | 21                 | NA  | 10.9 | 36.4 | 26.7 | 20.100000000000001 |\n",
       "| 4 | 14000US37001020400 | Census Tract 204    | Alamance | 43.8 | 56.2 | 78.099999999999994 | 30.5               | 31.4 | 68.599999999999994 | 10.1               | ⋯ | 26.8 | 14   | 30   | 33.299999999999997 | 19.899999999999999 | NA  | 69   | 100  | 67.2 | 26.6               |\n",
       "| 5 | 14000US37001020501 | Census Tract 205.01 | Alamance | 48.1 | 51.9 | 92.7               | 35.1               | 23.3 | 76.7               | 15.6               | ⋯ | 12.2 | 7.1  | 12.3 | 14.8               | 18.899999999999999 | 0   | 0    | 53.1 | 25.7 | 10                 |\n",
       "| 6 | 14000US37001020502 | Census Tract 205.02 | Alamance | 49.8 | 50.2 | 99                 | 32.1               | 30   | 70                 | 8.9                | ⋯ | 22.3 | 19.2 | 17.7 | 31                 | 27.8               | 100 | 14.2 | 19.5 | 14.7 | 25                 |\n",
       "\n"
      ],
      "text/plain": [
       "  GEO_ID             Census_Tract        County   Male_Population\n",
       "1 14000US37001020100 Census Tract 201    Alamance 46.6           \n",
       "2 14000US37001020200 Census Tract 202    Alamance 43.9           \n",
       "3 14000US37001020300 Census Tract 203    Alamance 43.8           \n",
       "4 14000US37001020400 Census Tract 204    Alamance 43.8           \n",
       "5 14000US37001020501 Census Tract 205.01 Alamance 48.1           \n",
       "6 14000US37001020502 Census Tract 205.02 Alamance 49.8           \n",
       "  Female_Population Sex_Ratio          Median_Age         Population_Under_18\n",
       "1 53.4              87.2               37.299999999999997 21.9               \n",
       "2 56.1              78.3               31                 29.1               \n",
       "3 56.2              77.8               40.700000000000003 27.1               \n",
       "4 56.2              78.099999999999994 30.5               31.4               \n",
       "5 51.9              92.7               35.1               23.3               \n",
       "6 50.2              99                 32.1               30                 \n",
       "  Population_Over_18 Population_Over_65 ⋯ Poverty_Adult Poverty_Elderly\n",
       "1 78.099999999999994 15.1               ⋯ 20.8          14.6           \n",
       "2 70.900000000000006 11.2               ⋯ 33            19.2           \n",
       "3 72.900000000000006 18.899999999999999 ⋯ 17.3          22             \n",
       "4 68.599999999999994 10.1               ⋯ 26.8          14             \n",
       "5 76.7               15.6               ⋯ 12.2          7.1            \n",
       "6 70                 8.9                ⋯ 22.3          19.2           \n",
       "  Poverty_Male Poverty_Female     Poverty_Black      Poverty_Asian\n",
       "1 26.4         28                 54.8               0            \n",
       "2 27.3         37.799999999999997 44.6               0            \n",
       "3 18           28.3               21                 NA           \n",
       "4 30           33.299999999999997 19.899999999999999 NA           \n",
       "5 12.3         14.8               18.899999999999999 0            \n",
       "6 17.7         31                 27.8               100          \n",
       "  Poverty_Other_Race Poverty_Mixed_Race Poverty_Hispanic_Latino\n",
       "1 45.3               0                  31.3                   \n",
       "2 0                  82.7               16.2                   \n",
       "3 10.9               36.4               26.7                   \n",
       "4 69                 100                67.2                   \n",
       "5 0                  53.1               25.7                   \n",
       "6 14.2               19.5               14.7                   \n",
       "  Poverty_White     \n",
       "1 13.9              \n",
       "2 39                \n",
       "3 20.100000000000001\n",
       "4 26.6              \n",
       "5 10                \n",
       "6 25                "
      ]
     },
     "metadata": {},
     "output_type": "display_data"
    },
    {
     "data": {
      "text/html": [
       "<table class=\"dataframe\">\n",
       "<caption>A data.frame: 6 × 7</caption>\n",
       "<thead>\n",
       "\t<tr><th></th><th scope=col>GEO_ID</th><th scope=col>Census_Tract</th><th scope=col>County</th><th scope=col>Avg_ACRES</th><th scope=col>Wildfire_Hazard_Potential_Mean</th><th scope=col>Wildfire_Hazard_Potential_Quintile_Number</th><th scope=col>Wildfire_Hazard_Potential_Quintile_Percentage</th></tr>\n",
       "\t<tr><th></th><th scope=col>&lt;chr&gt;</th><th scope=col>&lt;chr&gt;</th><th scope=col>&lt;chr&gt;</th><th scope=col>&lt;chr&gt;</th><th scope=col>&lt;chr&gt;</th><th scope=col>&lt;chr&gt;</th><th scope=col>&lt;chr&gt;</th></tr>\n",
       "</thead>\n",
       "<tbody>\n",
       "\t<tr><th scope=row>1</th><td>14000US37001020100</td><td>Census Tract 201   </td><td>Alamance</td><td>278233.79700000002</td><td>92.237034639041696</td><td>1</td><td>0-20%</td></tr>\n",
       "\t<tr><th scope=row>2</th><td>14000US37001020200</td><td>Census Tract 202   </td><td>Alamance</td><td>278233.79700000002</td><td>92.237034639041696</td><td>1</td><td>0-20%</td></tr>\n",
       "\t<tr><th scope=row>3</th><td>14000US37001020301</td><td>Census Tract 203.01</td><td>Alamance</td><td>278233.79700000002</td><td>92.237034639041696</td><td>1</td><td>0-20%</td></tr>\n",
       "\t<tr><th scope=row>4</th><td>14000US37001020302</td><td>Census Tract 203.02</td><td>Alamance</td><td>278233.79700000002</td><td>92.237034639041696</td><td>1</td><td>0-20%</td></tr>\n",
       "\t<tr><th scope=row>5</th><td>14000US37001020400</td><td>Census Tract 204   </td><td>Alamance</td><td>278233.79700000002</td><td>92.237034639041696</td><td>1</td><td>0-20%</td></tr>\n",
       "\t<tr><th scope=row>6</th><td>14000US37001020501</td><td>Census Tract 205.01</td><td>Alamance</td><td>278233.79700000002</td><td>92.237034639041696</td><td>1</td><td>0-20%</td></tr>\n",
       "</tbody>\n",
       "</table>\n"
      ],
      "text/latex": [
       "A data.frame: 6 × 7\n",
       "\\begin{tabular}{r|lllllll}\n",
       "  & GEO\\_ID & Census\\_Tract & County & Avg\\_ACRES & Wildfire\\_Hazard\\_Potential\\_Mean & Wildfire\\_Hazard\\_Potential\\_Quintile\\_Number & Wildfire\\_Hazard\\_Potential\\_Quintile\\_Percentage\\\\\n",
       "  & <chr> & <chr> & <chr> & <chr> & <chr> & <chr> & <chr>\\\\\n",
       "\\hline\n",
       "\t1 & 14000US37001020100 & Census Tract 201    & Alamance & 278233.79700000002 & 92.237034639041696 & 1 & 0-20\\%\\\\\n",
       "\t2 & 14000US37001020200 & Census Tract 202    & Alamance & 278233.79700000002 & 92.237034639041696 & 1 & 0-20\\%\\\\\n",
       "\t3 & 14000US37001020301 & Census Tract 203.01 & Alamance & 278233.79700000002 & 92.237034639041696 & 1 & 0-20\\%\\\\\n",
       "\t4 & 14000US37001020302 & Census Tract 203.02 & Alamance & 278233.79700000002 & 92.237034639041696 & 1 & 0-20\\%\\\\\n",
       "\t5 & 14000US37001020400 & Census Tract 204    & Alamance & 278233.79700000002 & 92.237034639041696 & 1 & 0-20\\%\\\\\n",
       "\t6 & 14000US37001020501 & Census Tract 205.01 & Alamance & 278233.79700000002 & 92.237034639041696 & 1 & 0-20\\%\\\\\n",
       "\\end{tabular}\n"
      ],
      "text/markdown": [
       "\n",
       "A data.frame: 6 × 7\n",
       "\n",
       "| <!--/--> | GEO_ID &lt;chr&gt; | Census_Tract &lt;chr&gt; | County &lt;chr&gt; | Avg_ACRES &lt;chr&gt; | Wildfire_Hazard_Potential_Mean &lt;chr&gt; | Wildfire_Hazard_Potential_Quintile_Number &lt;chr&gt; | Wildfire_Hazard_Potential_Quintile_Percentage &lt;chr&gt; |\n",
       "|---|---|---|---|---|---|---|---|\n",
       "| 1 | 14000US37001020100 | Census Tract 201    | Alamance | 278233.79700000002 | 92.237034639041696 | 1 | 0-20% |\n",
       "| 2 | 14000US37001020200 | Census Tract 202    | Alamance | 278233.79700000002 | 92.237034639041696 | 1 | 0-20% |\n",
       "| 3 | 14000US37001020301 | Census Tract 203.01 | Alamance | 278233.79700000002 | 92.237034639041696 | 1 | 0-20% |\n",
       "| 4 | 14000US37001020302 | Census Tract 203.02 | Alamance | 278233.79700000002 | 92.237034639041696 | 1 | 0-20% |\n",
       "| 5 | 14000US37001020400 | Census Tract 204    | Alamance | 278233.79700000002 | 92.237034639041696 | 1 | 0-20% |\n",
       "| 6 | 14000US37001020501 | Census Tract 205.01 | Alamance | 278233.79700000002 | 92.237034639041696 | 1 | 0-20% |\n",
       "\n"
      ],
      "text/plain": [
       "  GEO_ID             Census_Tract        County   Avg_ACRES         \n",
       "1 14000US37001020100 Census Tract 201    Alamance 278233.79700000002\n",
       "2 14000US37001020200 Census Tract 202    Alamance 278233.79700000002\n",
       "3 14000US37001020301 Census Tract 203.01 Alamance 278233.79700000002\n",
       "4 14000US37001020302 Census Tract 203.02 Alamance 278233.79700000002\n",
       "5 14000US37001020400 Census Tract 204    Alamance 278233.79700000002\n",
       "6 14000US37001020501 Census Tract 205.01 Alamance 278233.79700000002\n",
       "  Wildfire_Hazard_Potential_Mean Wildfire_Hazard_Potential_Quintile_Number\n",
       "1 92.237034639041696             1                                        \n",
       "2 92.237034639041696             1                                        \n",
       "3 92.237034639041696             1                                        \n",
       "4 92.237034639041696             1                                        \n",
       "5 92.237034639041696             1                                        \n",
       "6 92.237034639041696             1                                        \n",
       "  Wildfire_Hazard_Potential_Quintile_Percentage\n",
       "1 0-20%                                        \n",
       "2 0-20%                                        \n",
       "3 0-20%                                        \n",
       "4 0-20%                                        \n",
       "5 0-20%                                        \n",
       "6 0-20%                                        "
      ]
     },
     "metadata": {},
     "output_type": "display_data"
    }
   ],
   "source": [
    "head(acs_df)\n",
    "#head(acs_metadata)\n",
    "head(wildfire_hazard_df)"
   ]
  },
  {
   "cell_type": "markdown",
   "id": "3c3ac430",
   "metadata": {},
   "source": [
    "# What sociodemographic variables are associated with wildfire hazard potential?\n",
    "\n",
    "Wildfire hazard potential (WHP) is an index that quantifies the relative potential for wildfire that may be difficult to control, used as a measure to help prioritize where fuel treatments may be needed [ref](https://www.fs.usda.gov/rmrs/datasets/wildfire-hazard-potential-united-states-270-m-version-2020-3rd-edition). Pearson's correlation coefficients will be calculated to see if there are associations between each variable and WHP."
   ]
  },
  {
   "cell_type": "code",
   "execution_count": 3,
   "id": "c075f74e",
   "metadata": {},
   "outputs": [
    {
     "name": "stderr",
     "output_type": "stream",
     "text": [
      "\u001b[1m\u001b[22mJoining, by = c(\"GEO_ID\", \"Census_Tract\", \"County\")\n"
     ]
    },
    {
     "data": {
      "text/html": [
       "<style>\n",
       ".list-inline {list-style: none; margin:0; padding: 0}\n",
       ".list-inline>li {display: inline-block}\n",
       ".list-inline>li:not(:last-child)::after {content: \"\\00b7\"; padding: 0 .5ex}\n",
       "</style>\n",
       "<ol class=list-inline><li>3137</li><li>38</li></ol>\n"
      ],
      "text/latex": [
       "\\begin{enumerate*}\n",
       "\\item 3137\n",
       "\\item 38\n",
       "\\end{enumerate*}\n"
      ],
      "text/markdown": [
       "1. 3137\n",
       "2. 38\n",
       "\n",
       "\n"
      ],
      "text/plain": [
       "[1] 3137   38"
      ]
     },
     "metadata": {},
     "output_type": "display_data"
    },
    {
     "name": "stderr",
     "output_type": "stream",
     "text": [
      "\u001b[1m\u001b[22mJoining, by = c(\"GEO_ID\", \"Census_Tract\", \"County\")\n"
     ]
    },
    {
     "data": {
      "text/html": [
       "<style>\n",
       ".list-inline {list-style: none; margin:0; padding: 0}\n",
       ".list-inline>li {display: inline-block}\n",
       ".list-inline>li:not(:last-child)::after {content: \"\\00b7\"; padding: 0 .5ex}\n",
       "</style>\n",
       "<ol class=list-inline><li>1730</li><li>38</li></ol>\n"
      ],
      "text/latex": [
       "\\begin{enumerate*}\n",
       "\\item 1730\n",
       "\\item 38\n",
       "\\end{enumerate*}\n"
      ],
      "text/markdown": [
       "1. 1730\n",
       "2. 38\n",
       "\n",
       "\n"
      ],
      "text/plain": [
       "[1] 1730   38"
      ]
     },
     "metadata": {},
     "output_type": "display_data"
    }
   ],
   "source": [
    "# lot's of missing data\n",
    "dim(full_join(acs_df, wildfire_hazard_df))\n",
    "dim(inner_join(acs_df, wildfire_hazard_df))"
   ]
  },
  {
   "cell_type": "code",
   "execution_count": 4,
   "id": "dd5c6854",
   "metadata": {},
   "outputs": [
    {
     "name": "stderr",
     "output_type": "stream",
     "text": [
      "\u001b[1m\u001b[22mJoining, by = c(\"GEO_ID\", \"Census_Tract\", \"County\")\n",
      "Warning message in apply(acs_whp_df[, 4:36], 2, as.numeric):\n",
      "“NAs introduced by coercion”\n",
      "Warning message in apply(acs_whp_df[, 4:36], 2, as.numeric):\n",
      "“NAs introduced by coercion”\n",
      "Warning message in apply(acs_whp_df[, 4:36], 2, as.numeric):\n",
      "“NAs introduced by coercion”\n",
      "Warning message in apply(acs_whp_df[, 4:36], 2, as.numeric):\n",
      "“NAs introduced by coercion”\n",
      "Warning message in apply(acs_whp_df[, 4:36], 2, as.numeric):\n",
      "“NAs introduced by coercion”\n",
      "Warning message in apply(acs_whp_df[, 4:36], 2, as.numeric):\n",
      "“NAs introduced by coercion”\n",
      "Warning message in apply(acs_whp_df[, 4:36], 2, as.numeric):\n",
      "“NAs introduced by coercion”\n",
      "Warning message in apply(acs_whp_df[, 4:36], 2, as.numeric):\n",
      "“NAs introduced by coercion”\n",
      "Warning message in apply(acs_whp_df[, 4:36], 2, as.numeric):\n",
      "“NAs introduced by coercion”\n",
      "Warning message in apply(acs_whp_df[, 4:36], 2, as.numeric):\n",
      "“NAs introduced by coercion”\n",
      "Warning message in apply(acs_whp_df[, 4:36], 2, as.numeric):\n",
      "“NAs introduced by coercion”\n",
      "Warning message in apply(acs_whp_df[, 4:36], 2, as.numeric):\n",
      "“NAs introduced by coercion”\n",
      "Warning message in apply(acs_whp_df[, 4:36], 2, as.numeric):\n",
      "“NAs introduced by coercion”\n",
      "Warning message in apply(acs_whp_df[, 4:36], 2, as.numeric):\n",
      "“NAs introduced by coercion”\n",
      "Warning message in apply(acs_whp_df[, 4:36], 2, as.numeric):\n",
      "“NAs introduced by coercion”\n",
      "Warning message in apply(acs_whp_df[, 4:36], 2, as.numeric):\n",
      "“NAs introduced by coercion”\n",
      "Warning message in apply(acs_whp_df[, 4:36], 2, as.numeric):\n",
      "“NAs introduced by coercion”\n",
      "Warning message in apply(acs_whp_df[, 4:36], 2, as.numeric):\n",
      "“NAs introduced by coercion”\n",
      "Warning message in apply(acs_whp_df[, 4:36], 2, as.numeric):\n",
      "“NAs introduced by coercion”\n",
      "Warning message in apply(acs_whp_df[, 4:36], 2, as.numeric):\n",
      "“NAs introduced by coercion”\n",
      "Warning message in apply(acs_whp_df[, 4:36], 2, as.numeric):\n",
      "“NAs introduced by coercion”\n",
      "Warning message in apply(acs_whp_df[, 4:36], 2, as.numeric):\n",
      "“NAs introduced by coercion”\n",
      "Warning message in apply(acs_whp_df[, 4:36], 2, as.numeric):\n",
      "“NAs introduced by coercion”\n",
      "Warning message in apply(acs_whp_df[, 4:36], 2, as.numeric):\n",
      "“NAs introduced by coercion”\n",
      "Warning message in apply(acs_whp_df[, 4:36], 2, as.numeric):\n",
      "“NAs introduced by coercion”\n",
      "Warning message in apply(acs_whp_df[, 4:36], 2, as.numeric):\n",
      "“NAs introduced by coercion”\n",
      "Warning message in apply(acs_whp_df[, 4:36], 2, as.numeric):\n",
      "“NAs introduced by coercion”\n",
      "Warning message in apply(acs_whp_df[, 4:36], 2, as.numeric):\n",
      "“NAs introduced by coercion”\n",
      "Warning message in apply(acs_whp_df[, 4:36], 2, as.numeric):\n",
      "“NAs introduced by coercion”\n",
      "Warning message in apply(acs_whp_df[, 4:36], 2, as.numeric):\n",
      "“NAs introduced by coercion”\n",
      "Warning message in apply(acs_whp_df[, 4:36], 2, as.numeric):\n",
      "“NAs introduced by coercion”\n",
      "Warning message in apply(acs_whp_df[, 4:36], 2, as.numeric):\n",
      "“NAs introduced by coercion”\n",
      "Warning message in apply(acs_whp_df[, 4:36], 2, as.numeric):\n",
      "“NAs introduced by coercion”\n"
     ]
    },
    {
     "data": {
      "text/html": [
       "<table class=\"dataframe\">\n",
       "<caption>A data.frame: 6 × 38</caption>\n",
       "<thead>\n",
       "\t<tr><th></th><th scope=col>GEO_ID</th><th scope=col>Census_Tract</th><th scope=col>County</th><th scope=col>Male_Population</th><th scope=col>Female_Population</th><th scope=col>Sex_Ratio</th><th scope=col>Median_Age</th><th scope=col>Population_Under_18</th><th scope=col>Population_Over_18</th><th scope=col>Population_Over_65</th><th scope=col>⋯</th><th scope=col>Poverty_Black</th><th scope=col>Poverty_Asian</th><th scope=col>Poverty_Other_Race</th><th scope=col>Poverty_Mixed_Race</th><th scope=col>Poverty_Hispanic_Latino</th><th scope=col>Poverty_White</th><th scope=col>Avg_ACRES</th><th scope=col>Wildfire_Hazard_Potential_Mean</th><th scope=col>Wildfire_Hazard_Potential_Quintile_Number</th><th scope=col>Wildfire_Hazard_Potential_Quintile_Percentage</th></tr>\n",
       "\t<tr><th></th><th scope=col>&lt;chr&gt;</th><th scope=col>&lt;chr&gt;</th><th scope=col>&lt;chr&gt;</th><th scope=col>&lt;dbl&gt;</th><th scope=col>&lt;dbl&gt;</th><th scope=col>&lt;dbl&gt;</th><th scope=col>&lt;dbl&gt;</th><th scope=col>&lt;dbl&gt;</th><th scope=col>&lt;dbl&gt;</th><th scope=col>&lt;dbl&gt;</th><th scope=col>⋯</th><th scope=col>&lt;dbl&gt;</th><th scope=col>&lt;dbl&gt;</th><th scope=col>&lt;dbl&gt;</th><th scope=col>&lt;dbl&gt;</th><th scope=col>&lt;dbl&gt;</th><th scope=col>&lt;dbl&gt;</th><th scope=col>&lt;dbl&gt;</th><th scope=col>&lt;dbl&gt;</th><th scope=col>&lt;chr&gt;</th><th scope=col>&lt;chr&gt;</th></tr>\n",
       "</thead>\n",
       "<tbody>\n",
       "\t<tr><th scope=row>1</th><td>14000US37001020100</td><td>Census Tract 201   </td><td>Alamance</td><td>46.6</td><td>53.4</td><td>87.2</td><td>37.3</td><td>21.9</td><td>78.1</td><td>15.1</td><td>⋯</td><td>54.8</td><td>  0</td><td> 45.3</td><td>  0.0</td><td>31.3</td><td>13.9</td><td>278233.8</td><td>92.23703</td><td>1</td><td>0-20%</td></tr>\n",
       "\t<tr><th scope=row>2</th><td>14000US37001020200</td><td>Census Tract 202   </td><td>Alamance</td><td>43.9</td><td>56.1</td><td>78.3</td><td>31.0</td><td>29.1</td><td>70.9</td><td>11.2</td><td>⋯</td><td>44.6</td><td>  0</td><td>  0.0</td><td> 82.7</td><td>16.2</td><td>39.0</td><td>278233.8</td><td>92.23703</td><td>1</td><td>0-20%</td></tr>\n",
       "\t<tr><th scope=row>3</th><td>14000US37001020400</td><td>Census Tract 204   </td><td>Alamance</td><td>43.8</td><td>56.2</td><td>78.1</td><td>30.5</td><td>31.4</td><td>68.6</td><td>10.1</td><td>⋯</td><td>19.9</td><td> NA</td><td> 69.0</td><td>100.0</td><td>67.2</td><td>26.6</td><td>278233.8</td><td>92.23703</td><td>1</td><td>0-20%</td></tr>\n",
       "\t<tr><th scope=row>4</th><td>14000US37001020501</td><td>Census Tract 205.01</td><td>Alamance</td><td>48.1</td><td>51.9</td><td>92.7</td><td>35.1</td><td>23.3</td><td>76.7</td><td>15.6</td><td>⋯</td><td>18.9</td><td>  0</td><td>  0.0</td><td> 53.1</td><td>25.7</td><td>10.0</td><td>278233.8</td><td>92.23703</td><td>1</td><td>0-20%</td></tr>\n",
       "\t<tr><th scope=row>5</th><td>14000US37001020502</td><td>Census Tract 205.02</td><td>Alamance</td><td>49.8</td><td>50.2</td><td>99.0</td><td>32.1</td><td>30.0</td><td>70.0</td><td> 8.9</td><td>⋯</td><td>27.8</td><td>100</td><td> 14.2</td><td> 19.5</td><td>14.7</td><td>25.0</td><td>278233.8</td><td>92.23703</td><td>1</td><td>0-20%</td></tr>\n",
       "\t<tr><th scope=row>6</th><td>14000US37001020601</td><td>Census Tract 206.01</td><td>Alamance</td><td>49.3</td><td>50.7</td><td>97.3</td><td>51.7</td><td>17.5</td><td>82.5</td><td>27.8</td><td>⋯</td><td> 0.0</td><td>  0</td><td>100.0</td><td>  0.0</td><td> 6.7</td><td> 3.6</td><td>278233.8</td><td>92.23703</td><td>1</td><td>0-20%</td></tr>\n",
       "</tbody>\n",
       "</table>\n"
      ],
      "text/latex": [
       "A data.frame: 6 × 38\n",
       "\\begin{tabular}{r|lllllllllllllllllllll}\n",
       "  & GEO\\_ID & Census\\_Tract & County & Male\\_Population & Female\\_Population & Sex\\_Ratio & Median\\_Age & Population\\_Under\\_18 & Population\\_Over\\_18 & Population\\_Over\\_65 & ⋯ & Poverty\\_Black & Poverty\\_Asian & Poverty\\_Other\\_Race & Poverty\\_Mixed\\_Race & Poverty\\_Hispanic\\_Latino & Poverty\\_White & Avg\\_ACRES & Wildfire\\_Hazard\\_Potential\\_Mean & Wildfire\\_Hazard\\_Potential\\_Quintile\\_Number & Wildfire\\_Hazard\\_Potential\\_Quintile\\_Percentage\\\\\n",
       "  & <chr> & <chr> & <chr> & <dbl> & <dbl> & <dbl> & <dbl> & <dbl> & <dbl> & <dbl> & ⋯ & <dbl> & <dbl> & <dbl> & <dbl> & <dbl> & <dbl> & <dbl> & <dbl> & <chr> & <chr>\\\\\n",
       "\\hline\n",
       "\t1 & 14000US37001020100 & Census Tract 201    & Alamance & 46.6 & 53.4 & 87.2 & 37.3 & 21.9 & 78.1 & 15.1 & ⋯ & 54.8 &   0 &  45.3 &   0.0 & 31.3 & 13.9 & 278233.8 & 92.23703 & 1 & 0-20\\%\\\\\n",
       "\t2 & 14000US37001020200 & Census Tract 202    & Alamance & 43.9 & 56.1 & 78.3 & 31.0 & 29.1 & 70.9 & 11.2 & ⋯ & 44.6 &   0 &   0.0 &  82.7 & 16.2 & 39.0 & 278233.8 & 92.23703 & 1 & 0-20\\%\\\\\n",
       "\t3 & 14000US37001020400 & Census Tract 204    & Alamance & 43.8 & 56.2 & 78.1 & 30.5 & 31.4 & 68.6 & 10.1 & ⋯ & 19.9 &  NA &  69.0 & 100.0 & 67.2 & 26.6 & 278233.8 & 92.23703 & 1 & 0-20\\%\\\\\n",
       "\t4 & 14000US37001020501 & Census Tract 205.01 & Alamance & 48.1 & 51.9 & 92.7 & 35.1 & 23.3 & 76.7 & 15.6 & ⋯ & 18.9 &   0 &   0.0 &  53.1 & 25.7 & 10.0 & 278233.8 & 92.23703 & 1 & 0-20\\%\\\\\n",
       "\t5 & 14000US37001020502 & Census Tract 205.02 & Alamance & 49.8 & 50.2 & 99.0 & 32.1 & 30.0 & 70.0 &  8.9 & ⋯ & 27.8 & 100 &  14.2 &  19.5 & 14.7 & 25.0 & 278233.8 & 92.23703 & 1 & 0-20\\%\\\\\n",
       "\t6 & 14000US37001020601 & Census Tract 206.01 & Alamance & 49.3 & 50.7 & 97.3 & 51.7 & 17.5 & 82.5 & 27.8 & ⋯ &  0.0 &   0 & 100.0 &   0.0 &  6.7 &  3.6 & 278233.8 & 92.23703 & 1 & 0-20\\%\\\\\n",
       "\\end{tabular}\n"
      ],
      "text/markdown": [
       "\n",
       "A data.frame: 6 × 38\n",
       "\n",
       "| <!--/--> | GEO_ID &lt;chr&gt; | Census_Tract &lt;chr&gt; | County &lt;chr&gt; | Male_Population &lt;dbl&gt; | Female_Population &lt;dbl&gt; | Sex_Ratio &lt;dbl&gt; | Median_Age &lt;dbl&gt; | Population_Under_18 &lt;dbl&gt; | Population_Over_18 &lt;dbl&gt; | Population_Over_65 &lt;dbl&gt; | ⋯ ⋯ | Poverty_Black &lt;dbl&gt; | Poverty_Asian &lt;dbl&gt; | Poverty_Other_Race &lt;dbl&gt; | Poverty_Mixed_Race &lt;dbl&gt; | Poverty_Hispanic_Latino &lt;dbl&gt; | Poverty_White &lt;dbl&gt; | Avg_ACRES &lt;dbl&gt; | Wildfire_Hazard_Potential_Mean &lt;dbl&gt; | Wildfire_Hazard_Potential_Quintile_Number &lt;chr&gt; | Wildfire_Hazard_Potential_Quintile_Percentage &lt;chr&gt; |\n",
       "|---|---|---|---|---|---|---|---|---|---|---|---|---|---|---|---|---|---|---|---|---|---|\n",
       "| 1 | 14000US37001020100 | Census Tract 201    | Alamance | 46.6 | 53.4 | 87.2 | 37.3 | 21.9 | 78.1 | 15.1 | ⋯ | 54.8 |   0 |  45.3 |   0.0 | 31.3 | 13.9 | 278233.8 | 92.23703 | 1 | 0-20% |\n",
       "| 2 | 14000US37001020200 | Census Tract 202    | Alamance | 43.9 | 56.1 | 78.3 | 31.0 | 29.1 | 70.9 | 11.2 | ⋯ | 44.6 |   0 |   0.0 |  82.7 | 16.2 | 39.0 | 278233.8 | 92.23703 | 1 | 0-20% |\n",
       "| 3 | 14000US37001020400 | Census Tract 204    | Alamance | 43.8 | 56.2 | 78.1 | 30.5 | 31.4 | 68.6 | 10.1 | ⋯ | 19.9 |  NA |  69.0 | 100.0 | 67.2 | 26.6 | 278233.8 | 92.23703 | 1 | 0-20% |\n",
       "| 4 | 14000US37001020501 | Census Tract 205.01 | Alamance | 48.1 | 51.9 | 92.7 | 35.1 | 23.3 | 76.7 | 15.6 | ⋯ | 18.9 |   0 |   0.0 |  53.1 | 25.7 | 10.0 | 278233.8 | 92.23703 | 1 | 0-20% |\n",
       "| 5 | 14000US37001020502 | Census Tract 205.02 | Alamance | 49.8 | 50.2 | 99.0 | 32.1 | 30.0 | 70.0 |  8.9 | ⋯ | 27.8 | 100 |  14.2 |  19.5 | 14.7 | 25.0 | 278233.8 | 92.23703 | 1 | 0-20% |\n",
       "| 6 | 14000US37001020601 | Census Tract 206.01 | Alamance | 49.3 | 50.7 | 97.3 | 51.7 | 17.5 | 82.5 | 27.8 | ⋯ |  0.0 |   0 | 100.0 |   0.0 |  6.7 |  3.6 | 278233.8 | 92.23703 | 1 | 0-20% |\n",
       "\n"
      ],
      "text/plain": [
       "  GEO_ID             Census_Tract        County   Male_Population\n",
       "1 14000US37001020100 Census Tract 201    Alamance 46.6           \n",
       "2 14000US37001020200 Census Tract 202    Alamance 43.9           \n",
       "3 14000US37001020400 Census Tract 204    Alamance 43.8           \n",
       "4 14000US37001020501 Census Tract 205.01 Alamance 48.1           \n",
       "5 14000US37001020502 Census Tract 205.02 Alamance 49.8           \n",
       "6 14000US37001020601 Census Tract 206.01 Alamance 49.3           \n",
       "  Female_Population Sex_Ratio Median_Age Population_Under_18 Population_Over_18\n",
       "1 53.4              87.2      37.3       21.9                78.1              \n",
       "2 56.1              78.3      31.0       29.1                70.9              \n",
       "3 56.2              78.1      30.5       31.4                68.6              \n",
       "4 51.9              92.7      35.1       23.3                76.7              \n",
       "5 50.2              99.0      32.1       30.0                70.0              \n",
       "6 50.7              97.3      51.7       17.5                82.5              \n",
       "  Population_Over_65 ⋯ Poverty_Black Poverty_Asian Poverty_Other_Race\n",
       "1 15.1               ⋯ 54.8            0            45.3             \n",
       "2 11.2               ⋯ 44.6            0             0.0             \n",
       "3 10.1               ⋯ 19.9           NA            69.0             \n",
       "4 15.6               ⋯ 18.9            0             0.0             \n",
       "5  8.9               ⋯ 27.8          100            14.2             \n",
       "6 27.8               ⋯  0.0            0           100.0             \n",
       "  Poverty_Mixed_Race Poverty_Hispanic_Latino Poverty_White Avg_ACRES\n",
       "1   0.0              31.3                    13.9          278233.8 \n",
       "2  82.7              16.2                    39.0          278233.8 \n",
       "3 100.0              67.2                    26.6          278233.8 \n",
       "4  53.1              25.7                    10.0          278233.8 \n",
       "5  19.5              14.7                    25.0          278233.8 \n",
       "6   0.0               6.7                     3.6          278233.8 \n",
       "  Wildfire_Hazard_Potential_Mean Wildfire_Hazard_Potential_Quintile_Number\n",
       "1 92.23703                       1                                        \n",
       "2 92.23703                       1                                        \n",
       "3 92.23703                       1                                        \n",
       "4 92.23703                       1                                        \n",
       "5 92.23703                       1                                        \n",
       "6 92.23703                       1                                        \n",
       "  Wildfire_Hazard_Potential_Quintile_Percentage\n",
       "1 0-20%                                        \n",
       "2 0-20%                                        \n",
       "3 0-20%                                        \n",
       "4 0-20%                                        \n",
       "5 0-20%                                        \n",
       "6 0-20%                                        "
      ]
     },
     "metadata": {},
     "output_type": "display_data"
    }
   ],
   "source": [
    "acs_whp_df = inner_join(acs_df, wildfire_hazard_df)\n",
    "\n",
    "# need to make some of the cols numeric\n",
    "acs_whp_df[,4:36] = apply(acs_whp_df[,4:36], 2, as.numeric)\n",
    "head(acs_whp_df)"
   ]
  },
  {
   "cell_type": "markdown",
   "id": "80c5577a",
   "metadata": {},
   "source": [
    "# Random Forest Imputation\n",
    "Generating missing values using random forest (RF)."
   ]
  },
  {
   "cell_type": "code",
   "execution_count": 6,
   "id": "e0f6c487",
   "metadata": {},
   "outputs": [
    {
     "data": {
      "text/html": [
       "<table class=\"dataframe\">\n",
       "<caption>A data.frame: 6 × 38</caption>\n",
       "<thead>\n",
       "\t<tr><th></th><th scope=col>GEO_ID</th><th scope=col>Census_Tract</th><th scope=col>County</th><th scope=col>Male_Population</th><th scope=col>Female_Population</th><th scope=col>Sex_Ratio</th><th scope=col>Median_Age</th><th scope=col>Population_Under_18</th><th scope=col>Population_Over_18</th><th scope=col>Population_Over_65</th><th scope=col>⋯</th><th scope=col>Poverty_Black</th><th scope=col>Poverty_Asian</th><th scope=col>Poverty_Other_Race</th><th scope=col>Poverty_Mixed_Race</th><th scope=col>Poverty_Hispanic_Latino</th><th scope=col>Poverty_White</th><th scope=col>Avg_ACRES</th><th scope=col>Wildfire_Hazard_Potential_Mean</th><th scope=col>Wildfire_Hazard_Potential_Quintile_Number</th><th scope=col>Wildfire_Hazard_Potential_Quintile_Percentage</th></tr>\n",
       "\t<tr><th></th><th scope=col>&lt;chr&gt;</th><th scope=col>&lt;chr&gt;</th><th scope=col>&lt;chr&gt;</th><th scope=col>&lt;dbl&gt;</th><th scope=col>&lt;dbl&gt;</th><th scope=col>&lt;dbl&gt;</th><th scope=col>&lt;dbl&gt;</th><th scope=col>&lt;dbl&gt;</th><th scope=col>&lt;dbl&gt;</th><th scope=col>&lt;dbl&gt;</th><th scope=col>⋯</th><th scope=col>&lt;dbl&gt;</th><th scope=col>&lt;dbl&gt;</th><th scope=col>&lt;dbl&gt;</th><th scope=col>&lt;dbl&gt;</th><th scope=col>&lt;dbl&gt;</th><th scope=col>&lt;dbl&gt;</th><th scope=col>&lt;dbl&gt;</th><th scope=col>&lt;dbl&gt;</th><th scope=col>&lt;chr&gt;</th><th scope=col>&lt;chr&gt;</th></tr>\n",
       "</thead>\n",
       "<tbody>\n",
       "\t<tr><th scope=row>1</th><td>14000US37001020100</td><td>Census Tract 201   </td><td>Alamance</td><td>46.6</td><td>53.4</td><td>87.2</td><td>37.3</td><td>21.9</td><td>78.1</td><td>15.1</td><td>⋯</td><td>54.8</td><td>  0.000</td><td> 45.3</td><td>  0.0</td><td>31.3</td><td>13.9</td><td>278233.8</td><td>92.23703</td><td>1</td><td>0-20%</td></tr>\n",
       "\t<tr><th scope=row>2</th><td>14000US37001020200</td><td>Census Tract 202   </td><td>Alamance</td><td>43.9</td><td>56.1</td><td>78.3</td><td>31.0</td><td>29.1</td><td>70.9</td><td>11.2</td><td>⋯</td><td>44.6</td><td>  0.000</td><td>  0.0</td><td> 82.7</td><td>16.2</td><td>39.0</td><td>278233.8</td><td>92.23703</td><td>1</td><td>0-20%</td></tr>\n",
       "\t<tr><th scope=row>3</th><td>14000US37001020400</td><td>Census Tract 204   </td><td>Alamance</td><td>43.8</td><td>56.2</td><td>78.1</td><td>30.5</td><td>31.4</td><td>68.6</td><td>10.1</td><td>⋯</td><td>19.9</td><td> 29.673</td><td> 69.0</td><td>100.0</td><td>67.2</td><td>26.6</td><td>278233.8</td><td>92.23703</td><td>1</td><td>0-20%</td></tr>\n",
       "\t<tr><th scope=row>4</th><td>14000US37001020501</td><td>Census Tract 205.01</td><td>Alamance</td><td>48.1</td><td>51.9</td><td>92.7</td><td>35.1</td><td>23.3</td><td>76.7</td><td>15.6</td><td>⋯</td><td>18.9</td><td>  0.000</td><td>  0.0</td><td> 53.1</td><td>25.7</td><td>10.0</td><td>278233.8</td><td>92.23703</td><td>1</td><td>0-20%</td></tr>\n",
       "\t<tr><th scope=row>5</th><td>14000US37001020502</td><td>Census Tract 205.02</td><td>Alamance</td><td>49.8</td><td>50.2</td><td>99.0</td><td>32.1</td><td>30.0</td><td>70.0</td><td> 8.9</td><td>⋯</td><td>27.8</td><td>100.000</td><td> 14.2</td><td> 19.5</td><td>14.7</td><td>25.0</td><td>278233.8</td><td>92.23703</td><td>1</td><td>0-20%</td></tr>\n",
       "\t<tr><th scope=row>6</th><td>14000US37001020601</td><td>Census Tract 206.01</td><td>Alamance</td><td>49.3</td><td>50.7</td><td>97.3</td><td>51.7</td><td>17.5</td><td>82.5</td><td>27.8</td><td>⋯</td><td> 0.0</td><td>  0.000</td><td>100.0</td><td>  0.0</td><td> 6.7</td><td> 3.6</td><td>278233.8</td><td>92.23703</td><td>1</td><td>0-20%</td></tr>\n",
       "</tbody>\n",
       "</table>\n"
      ],
      "text/latex": [
       "A data.frame: 6 × 38\n",
       "\\begin{tabular}{r|lllllllllllllllllllll}\n",
       "  & GEO\\_ID & Census\\_Tract & County & Male\\_Population & Female\\_Population & Sex\\_Ratio & Median\\_Age & Population\\_Under\\_18 & Population\\_Over\\_18 & Population\\_Over\\_65 & ⋯ & Poverty\\_Black & Poverty\\_Asian & Poverty\\_Other\\_Race & Poverty\\_Mixed\\_Race & Poverty\\_Hispanic\\_Latino & Poverty\\_White & Avg\\_ACRES & Wildfire\\_Hazard\\_Potential\\_Mean & Wildfire\\_Hazard\\_Potential\\_Quintile\\_Number & Wildfire\\_Hazard\\_Potential\\_Quintile\\_Percentage\\\\\n",
       "  & <chr> & <chr> & <chr> & <dbl> & <dbl> & <dbl> & <dbl> & <dbl> & <dbl> & <dbl> & ⋯ & <dbl> & <dbl> & <dbl> & <dbl> & <dbl> & <dbl> & <dbl> & <dbl> & <chr> & <chr>\\\\\n",
       "\\hline\n",
       "\t1 & 14000US37001020100 & Census Tract 201    & Alamance & 46.6 & 53.4 & 87.2 & 37.3 & 21.9 & 78.1 & 15.1 & ⋯ & 54.8 &   0.000 &  45.3 &   0.0 & 31.3 & 13.9 & 278233.8 & 92.23703 & 1 & 0-20\\%\\\\\n",
       "\t2 & 14000US37001020200 & Census Tract 202    & Alamance & 43.9 & 56.1 & 78.3 & 31.0 & 29.1 & 70.9 & 11.2 & ⋯ & 44.6 &   0.000 &   0.0 &  82.7 & 16.2 & 39.0 & 278233.8 & 92.23703 & 1 & 0-20\\%\\\\\n",
       "\t3 & 14000US37001020400 & Census Tract 204    & Alamance & 43.8 & 56.2 & 78.1 & 30.5 & 31.4 & 68.6 & 10.1 & ⋯ & 19.9 &  29.673 &  69.0 & 100.0 & 67.2 & 26.6 & 278233.8 & 92.23703 & 1 & 0-20\\%\\\\\n",
       "\t4 & 14000US37001020501 & Census Tract 205.01 & Alamance & 48.1 & 51.9 & 92.7 & 35.1 & 23.3 & 76.7 & 15.6 & ⋯ & 18.9 &   0.000 &   0.0 &  53.1 & 25.7 & 10.0 & 278233.8 & 92.23703 & 1 & 0-20\\%\\\\\n",
       "\t5 & 14000US37001020502 & Census Tract 205.02 & Alamance & 49.8 & 50.2 & 99.0 & 32.1 & 30.0 & 70.0 &  8.9 & ⋯ & 27.8 & 100.000 &  14.2 &  19.5 & 14.7 & 25.0 & 278233.8 & 92.23703 & 1 & 0-20\\%\\\\\n",
       "\t6 & 14000US37001020601 & Census Tract 206.01 & Alamance & 49.3 & 50.7 & 97.3 & 51.7 & 17.5 & 82.5 & 27.8 & ⋯ &  0.0 &   0.000 & 100.0 &   0.0 &  6.7 &  3.6 & 278233.8 & 92.23703 & 1 & 0-20\\%\\\\\n",
       "\\end{tabular}\n"
      ],
      "text/markdown": [
       "\n",
       "A data.frame: 6 × 38\n",
       "\n",
       "| <!--/--> | GEO_ID &lt;chr&gt; | Census_Tract &lt;chr&gt; | County &lt;chr&gt; | Male_Population &lt;dbl&gt; | Female_Population &lt;dbl&gt; | Sex_Ratio &lt;dbl&gt; | Median_Age &lt;dbl&gt; | Population_Under_18 &lt;dbl&gt; | Population_Over_18 &lt;dbl&gt; | Population_Over_65 &lt;dbl&gt; | ⋯ ⋯ | Poverty_Black &lt;dbl&gt; | Poverty_Asian &lt;dbl&gt; | Poverty_Other_Race &lt;dbl&gt; | Poverty_Mixed_Race &lt;dbl&gt; | Poverty_Hispanic_Latino &lt;dbl&gt; | Poverty_White &lt;dbl&gt; | Avg_ACRES &lt;dbl&gt; | Wildfire_Hazard_Potential_Mean &lt;dbl&gt; | Wildfire_Hazard_Potential_Quintile_Number &lt;chr&gt; | Wildfire_Hazard_Potential_Quintile_Percentage &lt;chr&gt; |\n",
       "|---|---|---|---|---|---|---|---|---|---|---|---|---|---|---|---|---|---|---|---|---|---|\n",
       "| 1 | 14000US37001020100 | Census Tract 201    | Alamance | 46.6 | 53.4 | 87.2 | 37.3 | 21.9 | 78.1 | 15.1 | ⋯ | 54.8 |   0.000 |  45.3 |   0.0 | 31.3 | 13.9 | 278233.8 | 92.23703 | 1 | 0-20% |\n",
       "| 2 | 14000US37001020200 | Census Tract 202    | Alamance | 43.9 | 56.1 | 78.3 | 31.0 | 29.1 | 70.9 | 11.2 | ⋯ | 44.6 |   0.000 |   0.0 |  82.7 | 16.2 | 39.0 | 278233.8 | 92.23703 | 1 | 0-20% |\n",
       "| 3 | 14000US37001020400 | Census Tract 204    | Alamance | 43.8 | 56.2 | 78.1 | 30.5 | 31.4 | 68.6 | 10.1 | ⋯ | 19.9 |  29.673 |  69.0 | 100.0 | 67.2 | 26.6 | 278233.8 | 92.23703 | 1 | 0-20% |\n",
       "| 4 | 14000US37001020501 | Census Tract 205.01 | Alamance | 48.1 | 51.9 | 92.7 | 35.1 | 23.3 | 76.7 | 15.6 | ⋯ | 18.9 |   0.000 |   0.0 |  53.1 | 25.7 | 10.0 | 278233.8 | 92.23703 | 1 | 0-20% |\n",
       "| 5 | 14000US37001020502 | Census Tract 205.02 | Alamance | 49.8 | 50.2 | 99.0 | 32.1 | 30.0 | 70.0 |  8.9 | ⋯ | 27.8 | 100.000 |  14.2 |  19.5 | 14.7 | 25.0 | 278233.8 | 92.23703 | 1 | 0-20% |\n",
       "| 6 | 14000US37001020601 | Census Tract 206.01 | Alamance | 49.3 | 50.7 | 97.3 | 51.7 | 17.5 | 82.5 | 27.8 | ⋯ |  0.0 |   0.000 | 100.0 |   0.0 |  6.7 |  3.6 | 278233.8 | 92.23703 | 1 | 0-20% |\n",
       "\n"
      ],
      "text/plain": [
       "  GEO_ID             Census_Tract        County   Male_Population\n",
       "1 14000US37001020100 Census Tract 201    Alamance 46.6           \n",
       "2 14000US37001020200 Census Tract 202    Alamance 43.9           \n",
       "3 14000US37001020400 Census Tract 204    Alamance 43.8           \n",
       "4 14000US37001020501 Census Tract 205.01 Alamance 48.1           \n",
       "5 14000US37001020502 Census Tract 205.02 Alamance 49.8           \n",
       "6 14000US37001020601 Census Tract 206.01 Alamance 49.3           \n",
       "  Female_Population Sex_Ratio Median_Age Population_Under_18 Population_Over_18\n",
       "1 53.4              87.2      37.3       21.9                78.1              \n",
       "2 56.1              78.3      31.0       29.1                70.9              \n",
       "3 56.2              78.1      30.5       31.4                68.6              \n",
       "4 51.9              92.7      35.1       23.3                76.7              \n",
       "5 50.2              99.0      32.1       30.0                70.0              \n",
       "6 50.7              97.3      51.7       17.5                82.5              \n",
       "  Population_Over_65 ⋯ Poverty_Black Poverty_Asian Poverty_Other_Race\n",
       "1 15.1               ⋯ 54.8            0.000        45.3             \n",
       "2 11.2               ⋯ 44.6            0.000         0.0             \n",
       "3 10.1               ⋯ 19.9           29.673        69.0             \n",
       "4 15.6               ⋯ 18.9            0.000         0.0             \n",
       "5  8.9               ⋯ 27.8          100.000        14.2             \n",
       "6 27.8               ⋯  0.0            0.000       100.0             \n",
       "  Poverty_Mixed_Race Poverty_Hispanic_Latino Poverty_White Avg_ACRES\n",
       "1   0.0              31.3                    13.9          278233.8 \n",
       "2  82.7              16.2                    39.0          278233.8 \n",
       "3 100.0              67.2                    26.6          278233.8 \n",
       "4  53.1              25.7                    10.0          278233.8 \n",
       "5  19.5              14.7                    25.0          278233.8 \n",
       "6   0.0               6.7                     3.6          278233.8 \n",
       "  Wildfire_Hazard_Potential_Mean Wildfire_Hazard_Potential_Quintile_Number\n",
       "1 92.23703                       1                                        \n",
       "2 92.23703                       1                                        \n",
       "3 92.23703                       1                                        \n",
       "4 92.23703                       1                                        \n",
       "5 92.23703                       1                                        \n",
       "6 92.23703                       1                                        \n",
       "  Wildfire_Hazard_Potential_Quintile_Percentage\n",
       "1 0-20%                                        \n",
       "2 0-20%                                        \n",
       "3 0-20%                                        \n",
       "4 0-20%                                        \n",
       "5 0-20%                                        \n",
       "6 0-20%                                        "
      ]
     },
     "metadata": {},
     "output_type": "display_data"
    }
   ],
   "source": [
    "# imputing sociodemographic data using RF\n",
    "random_forest_imputation = function(dataset){\n",
    "#     sociodeomgraphic_df = dataset %>%\n",
    "#         pivot_wider(names_from = Variable, values_from = Value)\n",
    "    imputed_RF_object = missForest(as.matrix(dataset[,4:34]))\n",
    "    imputed_RF_df = imputed_RF_object$ximp\n",
    "    imputed_final_df = data.frame(cbind(dataset[,1:3], imputed_RF_df, dataset[,35:38])) #%>%\n",
    "        #pivot_longer(cols = 10:14, names_to = \"Variable\", values_to = \"Value\")\n",
    "    \n",
    "    return(imputed_final_df)\n",
    "}\n",
    "\n",
    "# calling function\n",
    "imputed_df = random_forest_imputation(acs_whp_df)\n",
    "head(imputed_df)"
   ]
  },
  {
   "cell_type": "code",
   "execution_count": 17,
   "id": "a614db74",
   "metadata": {},
   "outputs": [
    {
     "name": "stdout",
     "output_type": "stream",
     "text": [
      "              GEO_ID        Census_Tract   County Male_Population\n",
      "1 14000US37001020100    Census Tract 201 Alamance            46.6\n",
      "2 14000US37001020200    Census Tract 202 Alamance            43.9\n",
      "3 14000US37001020400    Census Tract 204 Alamance            43.8\n",
      "4 14000US37001020501 Census Tract 205.01 Alamance            48.1\n",
      "5 14000US37001020502 Census Tract 205.02 Alamance            49.8\n",
      "6 14000US37001020601 Census Tract 206.01 Alamance            49.3\n",
      "  Wildfire_Hazard_Potential_Mean\n",
      "1                       92.23703\n",
      "2                       92.23703\n",
      "3                       92.23703\n",
      "4                       92.23703\n",
      "5                       92.23703\n",
      "6                       92.23703\n"
     ]
    }
   ],
   "source": [
    "number_of_variables = 34 # number of sociodemographic variables\n",
    "for (i in 1:number_of_variables){\n",
    "    if( i == 1){\n",
    "        # subsetting the df \n",
    "        subsetted_df = imputed_df[,c(1:3, i + 3, 36)]\n",
    "        print(head(subsetted_df))\n",
    "        \n",
    "        # pearson's test\n",
    "        pearson_test = cor.test(subsetted_df[,4], subsetted_df[,5], method = c('pearson'))\n",
    "    }\n",
    "}"
   ]
  },
  {
   "cell_type": "code",
   "execution_count": 27,
   "id": "325e8fa1",
   "metadata": {},
   "outputs": [
    {
     "data": {
      "text/html": [
       "2.57950181398564e-08"
      ],
      "text/latex": [
       "2.57950181398564e-08"
      ],
      "text/markdown": [
       "2.57950181398564e-08"
      ],
      "text/plain": [
       "[1] 2.579502e-08"
      ]
     },
     "metadata": {},
     "output_type": "display_data"
    }
   ],
   "source": [
    "pearson_test$p.value[1]"
   ]
  },
  {
   "cell_type": "code",
   "execution_count": 36,
   "id": "f09957ae",
   "metadata": {},
   "outputs": [
    {
     "data": {
      "text/html": [
       "<table class=\"dataframe\">\n",
       "<caption>A data.frame: 6 × 4</caption>\n",
       "<thead>\n",
       "\t<tr><th></th><th scope=col>Variable</th><th scope=col>Estimate</th><th scope=col>P Value</th><th scope=col>P Adjust</th></tr>\n",
       "\t<tr><th></th><th scope=col>&lt;chr&gt;</th><th scope=col>&lt;dbl&gt;</th><th scope=col>&lt;dbl&gt;</th><th scope=col>&lt;dbl&gt;</th></tr>\n",
       "</thead>\n",
       "<tbody>\n",
       "\t<tr><th scope=row>1</th><td>Male_Population  </td><td> 0.13343804</td><td>2.579502e-08</td><td>3.534697e-07</td></tr>\n",
       "\t<tr><th scope=row>2</th><td>Female_Population</td><td>-0.13339491</td><td>2.606511e-08</td><td>3.534697e-07</td></tr>\n",
       "\t<tr><th scope=row>3</th><td>Race_Indigenous  </td><td> 0.13226457</td><td>3.420675e-08</td><td>3.534697e-07</td></tr>\n",
       "\t<tr><th scope=row>4</th><td>Race_Mixed       </td><td> 0.11097225</td><td>3.764464e-06</td><td>2.917460e-05</td></tr>\n",
       "\t<tr><th scope=row>5</th><td>Sex_Ratio        </td><td> 0.09046297</td><td>1.662318e-04</td><td>1.030637e-03</td></tr>\n",
       "\t<tr><th scope=row>6</th><td>Race_Asian       </td><td>-0.08887771</td><td>2.162579e-04</td><td>1.117332e-03</td></tr>\n",
       "</tbody>\n",
       "</table>\n"
      ],
      "text/latex": [
       "A data.frame: 6 × 4\n",
       "\\begin{tabular}{r|llll}\n",
       "  & Variable & Estimate & P Value & P Adjust\\\\\n",
       "  & <chr> & <dbl> & <dbl> & <dbl>\\\\\n",
       "\\hline\n",
       "\t1 & Male\\_Population   &  0.13343804 & 2.579502e-08 & 3.534697e-07\\\\\n",
       "\t2 & Female\\_Population & -0.13339491 & 2.606511e-08 & 3.534697e-07\\\\\n",
       "\t3 & Race\\_Indigenous   &  0.13226457 & 3.420675e-08 & 3.534697e-07\\\\\n",
       "\t4 & Race\\_Mixed        &  0.11097225 & 3.764464e-06 & 2.917460e-05\\\\\n",
       "\t5 & Sex\\_Ratio         &  0.09046297 & 1.662318e-04 & 1.030637e-03\\\\\n",
       "\t6 & Race\\_Asian        & -0.08887771 & 2.162579e-04 & 1.117332e-03\\\\\n",
       "\\end{tabular}\n"
      ],
      "text/markdown": [
       "\n",
       "A data.frame: 6 × 4\n",
       "\n",
       "| <!--/--> | Variable &lt;chr&gt; | Estimate &lt;dbl&gt; | P Value &lt;dbl&gt; | P Adjust &lt;dbl&gt; |\n",
       "|---|---|---|---|---|\n",
       "| 1 | Male_Population   |  0.13343804 | 2.579502e-08 | 3.534697e-07 |\n",
       "| 2 | Female_Population | -0.13339491 | 2.606511e-08 | 3.534697e-07 |\n",
       "| 3 | Race_Indigenous   |  0.13226457 | 3.420675e-08 | 3.534697e-07 |\n",
       "| 4 | Race_Mixed        |  0.11097225 | 3.764464e-06 | 2.917460e-05 |\n",
       "| 5 | Sex_Ratio         |  0.09046297 | 1.662318e-04 | 1.030637e-03 |\n",
       "| 6 | Race_Asian        | -0.08887771 | 2.162579e-04 | 1.117332e-03 |\n",
       "\n"
      ],
      "text/plain": [
       "  Variable          Estimate    P Value      P Adjust    \n",
       "1 Male_Population    0.13343804 2.579502e-08 3.534697e-07\n",
       "2 Female_Population -0.13339491 2.606511e-08 3.534697e-07\n",
       "3 Race_Indigenous    0.13226457 3.420675e-08 3.534697e-07\n",
       "4 Race_Mixed         0.11097225 3.764464e-06 2.917460e-05\n",
       "5 Sex_Ratio          0.09046297 1.662318e-04 1.030637e-03\n",
       "6 Race_Asian        -0.08887771 2.162579e-04 1.117332e-03"
      ]
     },
     "metadata": {},
     "output_type": "display_data"
    }
   ],
   "source": [
    "# creating a function to run pearson tests\n",
    "get_pearson_correlations = function(df, number_of_socio_variables){\n",
    "    \n",
    "    # creating an empty df\n",
    "    corr_df = data.frame()\n",
    "    for (i in 1:number_of_socio_variables){\n",
    "        if (i <= number_of_socio_variables - 3){\n",
    "             # pearson's test\n",
    "            pearson_test = cor.test(df[,i + 3], df$Wildfire_Hazard_Potential_Mean, method = c('pearson'))\n",
    "\n",
    "            # remembering values of interest\n",
    "            values_df = data.frame(colnames(df[i + 3]), pearson_test$estimate[[1]], pearson_test$p.value[[1]])\n",
    "            corr_df = rbind(corr_df, values_df)\n",
    "        }\n",
    "    }\n",
    "\n",
    "    # dropping duplicate rows\n",
    "#     corr_df = corr_df %>% \n",
    "#         unique()\n",
    "\n",
    "    # adding col names\n",
    "    colnames(corr_df) = c(\"Variable\", \"Estimate\", \"P Value\")\n",
    "\n",
    "    # calculating padj values\n",
    "    corr_df$`P Adjust` = p.adjust(as.numeric(as.character(corr_df$`P Value`)), method = \"fdr\")\n",
    "    \n",
    "    # arranging from most to least significant\n",
    "    corr_df = corr_df %>%\n",
    "        arrange(`P Adjust`)\n",
    "    \n",
    "    return(corr_df)\n",
    "}\n",
    "\n",
    "# calling function\n",
    "pearson_df = get_pearson_correlations(imputed_df, 34)\n",
    "head(pearson_df)"
   ]
  },
  {
   "cell_type": "code",
   "execution_count": null,
   "id": "0fcbe541",
   "metadata": {},
   "outputs": [],
   "source": []
  }
 ],
 "metadata": {
  "kernelspec": {
   "display_name": "R",
   "language": "R",
   "name": "ir"
  },
  "language_info": {
   "codemirror_mode": "r",
   "file_extension": ".r",
   "mimetype": "text/x-r-source",
   "name": "R",
   "pygments_lexer": "r",
   "version": "4.1.3"
  }
 },
 "nbformat": 4,
 "nbformat_minor": 5
}
